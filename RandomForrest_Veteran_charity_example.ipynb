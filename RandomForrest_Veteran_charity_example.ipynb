{
 "cells": [
  {
   "cell_type": "markdown",
   "metadata": {},
   "source": [
    "# Background\n",
    "\n",
    "__The veteran dataset contains 44 variables that describes the features for givers and non-givers for a charity campaign. The label that defines a donation is Target_B.__ \n",
    "\n",
    "\n",
    "- Target_B = 1: donation\n",
    "- Target_B = 0: No donation \n",
    "\n",
    "__Below is an example how to apply a random forrest model on the data in order to predict the likelihood for donation. The model is evaulated with a so called ROC curve__"
   ]
  },
  {
   "cell_type": "code",
   "execution_count": 1,
   "metadata": {},
   "outputs": [
    {
     "name": "stderr",
     "output_type": "stream",
     "text": [
      "/anaconda3/lib/python3.7/site-packages/sklearn/ensemble/weight_boosting.py:29: DeprecationWarning: numpy.core.umath_tests is an internal NumPy module and should not be imported. It will be removed in a future NumPy release.\n",
      "  from numpy.core.umath_tests import inner1d\n"
     ]
    }
   ],
   "source": [
    "import numpy as np\n",
    "import pandas as pd \n",
    "from pandas import Series, DataFrame\n",
    "import matplotlib.pylab as plt \n",
    "\n",
    "# Necessary Sklearn objects used in the analysis\n",
    "from sklearn.metrics import roc_curve, auc\n",
    "from sklearn.ensemble import RandomForestClassifier \n",
    "from sklearn.metrics import confusion_matrix\n",
    "from sklearn import metrics\n",
    "from sklearn import preprocessing\n",
    "\n",
    "from sklearn.pipeline import Pipeline\n",
    "from sklearn.preprocessing import StandardScaler\n",
    "from sklearn.preprocessing import Imputer\n",
    "from sklearn.base import BaseEstimator, TransformerMixin\n",
    "from sklearn.pipeline import FeatureUnion\n",
    "\n",
    "\n"
   ]
  },
  {
   "cell_type": "markdown",
   "metadata": {},
   "source": [
    "__Import data into a dataframe. Look at the 10 first observations__"
   ]
  },
  {
   "cell_type": "code",
   "execution_count": 2,
   "metadata": {},
   "outputs": [
    {
     "data": {
      "text/html": [
       "<div>\n",
       "<style scoped>\n",
       "    .dataframe tbody tr th:only-of-type {\n",
       "        vertical-align: middle;\n",
       "    }\n",
       "\n",
       "    .dataframe tbody tr th {\n",
       "        vertical-align: top;\n",
       "    }\n",
       "\n",
       "    .dataframe thead th {\n",
       "        text-align: right;\n",
       "    }\n",
       "</style>\n",
       "<table border=\"1\" class=\"dataframe\">\n",
       "  <thead>\n",
       "    <tr style=\"text-align: right;\">\n",
       "      <th></th>\n",
       "      <th>TARGET_B</th>\n",
       "      <th>MONTHS_SINCE_ORIGIN</th>\n",
       "      <th>DONOR_AGE</th>\n",
       "      <th>IN_HOUSE</th>\n",
       "      <th>URBANICITY</th>\n",
       "      <th>SES</th>\n",
       "      <th>CLUSTER_CODE</th>\n",
       "      <th>HOME_OWNER</th>\n",
       "      <th>DONOR_GENDER</th>\n",
       "      <th>INCOME_GROUP</th>\n",
       "      <th>...</th>\n",
       "      <th>LIFETIME_AVG_GIFT_AMT</th>\n",
       "      <th>LIFETIME_GIFT_RANGE</th>\n",
       "      <th>LIFETIME_MAX_GIFT_AMT</th>\n",
       "      <th>LIFETIME_MIN_GIFT_AMT</th>\n",
       "      <th>LAST_GIFT_AMT</th>\n",
       "      <th>CARD_PROM_12</th>\n",
       "      <th>NUMBER_PROM_12</th>\n",
       "      <th>MONTHS_SINCE_LAST_GIFT</th>\n",
       "      <th>MONTHS_SINCE_FIRST_GIFT</th>\n",
       "      <th>PER_CAPITA_INCOME</th>\n",
       "    </tr>\n",
       "  </thead>\n",
       "  <tbody>\n",
       "    <tr>\n",
       "      <th>0</th>\n",
       "      <td>0</td>\n",
       "      <td>101</td>\n",
       "      <td>87.0</td>\n",
       "      <td>0</td>\n",
       "      <td>?</td>\n",
       "      <td>?</td>\n",
       "      <td>.</td>\n",
       "      <td>H</td>\n",
       "      <td>M</td>\n",
       "      <td>2.0</td>\n",
       "      <td>...</td>\n",
       "      <td>8.49</td>\n",
       "      <td>15.0</td>\n",
       "      <td>20.0</td>\n",
       "      <td>5.0</td>\n",
       "      <td>15.0</td>\n",
       "      <td>5</td>\n",
       "      <td>12</td>\n",
       "      <td>26</td>\n",
       "      <td>92</td>\n",
       "      <td>11855</td>\n",
       "    </tr>\n",
       "    <tr>\n",
       "      <th>1</th>\n",
       "      <td>1</td>\n",
       "      <td>137</td>\n",
       "      <td>79.0</td>\n",
       "      <td>0</td>\n",
       "      <td>R</td>\n",
       "      <td>2</td>\n",
       "      <td>45</td>\n",
       "      <td>H</td>\n",
       "      <td>M</td>\n",
       "      <td>7.0</td>\n",
       "      <td>...</td>\n",
       "      <td>14.72</td>\n",
       "      <td>20.0</td>\n",
       "      <td>25.0</td>\n",
       "      <td>5.0</td>\n",
       "      <td>17.0</td>\n",
       "      <td>7</td>\n",
       "      <td>21</td>\n",
       "      <td>7</td>\n",
       "      <td>122</td>\n",
       "      <td>10385</td>\n",
       "    </tr>\n",
       "    <tr>\n",
       "      <th>2</th>\n",
       "      <td>0</td>\n",
       "      <td>113</td>\n",
       "      <td>75.0</td>\n",
       "      <td>0</td>\n",
       "      <td>S</td>\n",
       "      <td>1</td>\n",
       "      <td>11</td>\n",
       "      <td>H</td>\n",
       "      <td>F</td>\n",
       "      <td>5.0</td>\n",
       "      <td>...</td>\n",
       "      <td>16.75</td>\n",
       "      <td>23.0</td>\n",
       "      <td>28.0</td>\n",
       "      <td>5.0</td>\n",
       "      <td>19.0</td>\n",
       "      <td>11</td>\n",
       "      <td>32</td>\n",
       "      <td>6</td>\n",
       "      <td>105</td>\n",
       "      <td>30855</td>\n",
       "    </tr>\n",
       "    <tr>\n",
       "      <th>3</th>\n",
       "      <td>0</td>\n",
       "      <td>92</td>\n",
       "      <td>NaN</td>\n",
       "      <td>0</td>\n",
       "      <td>U</td>\n",
       "      <td>2</td>\n",
       "      <td>04</td>\n",
       "      <td>H</td>\n",
       "      <td>F</td>\n",
       "      <td>6.0</td>\n",
       "      <td>...</td>\n",
       "      <td>11.76</td>\n",
       "      <td>14.0</td>\n",
       "      <td>17.0</td>\n",
       "      <td>3.0</td>\n",
       "      <td>15.0</td>\n",
       "      <td>11</td>\n",
       "      <td>33</td>\n",
       "      <td>6</td>\n",
       "      <td>92</td>\n",
       "      <td>16342</td>\n",
       "    </tr>\n",
       "    <tr>\n",
       "      <th>4</th>\n",
       "      <td>0</td>\n",
       "      <td>101</td>\n",
       "      <td>74.0</td>\n",
       "      <td>0</td>\n",
       "      <td>R</td>\n",
       "      <td>2</td>\n",
       "      <td>49</td>\n",
       "      <td>U</td>\n",
       "      <td>F</td>\n",
       "      <td>2.0</td>\n",
       "      <td>...</td>\n",
       "      <td>8.83</td>\n",
       "      <td>20.0</td>\n",
       "      <td>25.0</td>\n",
       "      <td>5.0</td>\n",
       "      <td>25.0</td>\n",
       "      <td>6</td>\n",
       "      <td>19</td>\n",
       "      <td>18</td>\n",
       "      <td>92</td>\n",
       "      <td>12107</td>\n",
       "    </tr>\n",
       "    <tr>\n",
       "      <th>5</th>\n",
       "      <td>0</td>\n",
       "      <td>101</td>\n",
       "      <td>63.0</td>\n",
       "      <td>0</td>\n",
       "      <td>U</td>\n",
       "      <td>3</td>\n",
       "      <td>08</td>\n",
       "      <td>U</td>\n",
       "      <td>M</td>\n",
       "      <td>3.0</td>\n",
       "      <td>...</td>\n",
       "      <td>5.82</td>\n",
       "      <td>7.0</td>\n",
       "      <td>10.0</td>\n",
       "      <td>3.0</td>\n",
       "      <td>10.0</td>\n",
       "      <td>9</td>\n",
       "      <td>20</td>\n",
       "      <td>19</td>\n",
       "      <td>91</td>\n",
       "      <td>6851</td>\n",
       "    </tr>\n",
       "    <tr>\n",
       "      <th>6</th>\n",
       "      <td>0</td>\n",
       "      <td>89</td>\n",
       "      <td>71.0</td>\n",
       "      <td>0</td>\n",
       "      <td>R</td>\n",
       "      <td>3</td>\n",
       "      <td>50</td>\n",
       "      <td>H</td>\n",
       "      <td>M</td>\n",
       "      <td>5.0</td>\n",
       "      <td>...</td>\n",
       "      <td>11.00</td>\n",
       "      <td>15.0</td>\n",
       "      <td>20.0</td>\n",
       "      <td>5.0</td>\n",
       "      <td>20.0</td>\n",
       "      <td>7</td>\n",
       "      <td>18</td>\n",
       "      <td>21</td>\n",
       "      <td>91</td>\n",
       "      <td>5900</td>\n",
       "    </tr>\n",
       "    <tr>\n",
       "      <th>7</th>\n",
       "      <td>1</td>\n",
       "      <td>89</td>\n",
       "      <td>79.0</td>\n",
       "      <td>0</td>\n",
       "      <td>C</td>\n",
       "      <td>2</td>\n",
       "      <td>28</td>\n",
       "      <td>H</td>\n",
       "      <td>F</td>\n",
       "      <td>1.0</td>\n",
       "      <td>...</td>\n",
       "      <td>5.05</td>\n",
       "      <td>4.0</td>\n",
       "      <td>7.0</td>\n",
       "      <td>3.0</td>\n",
       "      <td>5.0</td>\n",
       "      <td>9</td>\n",
       "      <td>24</td>\n",
       "      <td>9</td>\n",
       "      <td>91</td>\n",
       "      <td>12667</td>\n",
       "    </tr>\n",
       "    <tr>\n",
       "      <th>8</th>\n",
       "      <td>0</td>\n",
       "      <td>89</td>\n",
       "      <td>41.0</td>\n",
       "      <td>0</td>\n",
       "      <td>C</td>\n",
       "      <td>3</td>\n",
       "      <td>30</td>\n",
       "      <td>H</td>\n",
       "      <td>F</td>\n",
       "      <td>4.0</td>\n",
       "      <td>...</td>\n",
       "      <td>5.03</td>\n",
       "      <td>4.0</td>\n",
       "      <td>7.0</td>\n",
       "      <td>3.0</td>\n",
       "      <td>5.0</td>\n",
       "      <td>11</td>\n",
       "      <td>25</td>\n",
       "      <td>17</td>\n",
       "      <td>91</td>\n",
       "      <td>8132</td>\n",
       "    </tr>\n",
       "    <tr>\n",
       "      <th>9</th>\n",
       "      <td>1</td>\n",
       "      <td>101</td>\n",
       "      <td>63.0</td>\n",
       "      <td>0</td>\n",
       "      <td>R</td>\n",
       "      <td>2</td>\n",
       "      <td>43</td>\n",
       "      <td>H</td>\n",
       "      <td>F</td>\n",
       "      <td>4.0</td>\n",
       "      <td>...</td>\n",
       "      <td>6.82</td>\n",
       "      <td>8.0</td>\n",
       "      <td>11.0</td>\n",
       "      <td>3.0</td>\n",
       "      <td>8.0</td>\n",
       "      <td>11</td>\n",
       "      <td>27</td>\n",
       "      <td>9</td>\n",
       "      <td>91</td>\n",
       "      <td>11428</td>\n",
       "    </tr>\n",
       "  </tbody>\n",
       "</table>\n",
       "<p>10 rows × 45 columns</p>\n",
       "</div>"
      ],
      "text/plain": [
       "   TARGET_B  MONTHS_SINCE_ORIGIN  DONOR_AGE  IN_HOUSE URBANICITY SES  \\\n",
       "0         0                  101       87.0         0          ?   ?   \n",
       "1         1                  137       79.0         0          R   2   \n",
       "2         0                  113       75.0         0          S   1   \n",
       "3         0                   92        NaN         0          U   2   \n",
       "4         0                  101       74.0         0          R   2   \n",
       "5         0                  101       63.0         0          U   3   \n",
       "6         0                   89       71.0         0          R   3   \n",
       "7         1                   89       79.0         0          C   2   \n",
       "8         0                   89       41.0         0          C   3   \n",
       "9         1                  101       63.0         0          R   2   \n",
       "\n",
       "  CLUSTER_CODE HOME_OWNER DONOR_GENDER  INCOME_GROUP        ...          \\\n",
       "0            .          H            M           2.0        ...           \n",
       "1           45          H            M           7.0        ...           \n",
       "2           11          H            F           5.0        ...           \n",
       "3           04          H            F           6.0        ...           \n",
       "4           49          U            F           2.0        ...           \n",
       "5           08          U            M           3.0        ...           \n",
       "6           50          H            M           5.0        ...           \n",
       "7           28          H            F           1.0        ...           \n",
       "8           30          H            F           4.0        ...           \n",
       "9           43          H            F           4.0        ...           \n",
       "\n",
       "   LIFETIME_AVG_GIFT_AMT LIFETIME_GIFT_RANGE  LIFETIME_MAX_GIFT_AMT  \\\n",
       "0                   8.49                15.0                   20.0   \n",
       "1                  14.72                20.0                   25.0   \n",
       "2                  16.75                23.0                   28.0   \n",
       "3                  11.76                14.0                   17.0   \n",
       "4                   8.83                20.0                   25.0   \n",
       "5                   5.82                 7.0                   10.0   \n",
       "6                  11.00                15.0                   20.0   \n",
       "7                   5.05                 4.0                    7.0   \n",
       "8                   5.03                 4.0                    7.0   \n",
       "9                   6.82                 8.0                   11.0   \n",
       "\n",
       "   LIFETIME_MIN_GIFT_AMT  LAST_GIFT_AMT  CARD_PROM_12  NUMBER_PROM_12  \\\n",
       "0                    5.0           15.0             5              12   \n",
       "1                    5.0           17.0             7              21   \n",
       "2                    5.0           19.0            11              32   \n",
       "3                    3.0           15.0            11              33   \n",
       "4                    5.0           25.0             6              19   \n",
       "5                    3.0           10.0             9              20   \n",
       "6                    5.0           20.0             7              18   \n",
       "7                    3.0            5.0             9              24   \n",
       "8                    3.0            5.0            11              25   \n",
       "9                    3.0            8.0            11              27   \n",
       "\n",
       "   MONTHS_SINCE_LAST_GIFT  MONTHS_SINCE_FIRST_GIFT  PER_CAPITA_INCOME  \n",
       "0                      26                       92              11855  \n",
       "1                       7                      122              10385  \n",
       "2                       6                      105              30855  \n",
       "3                       6                       92              16342  \n",
       "4                      18                       92              12107  \n",
       "5                      19                       91               6851  \n",
       "6                      21                       91               5900  \n",
       "7                       9                       91              12667  \n",
       "8                      17                       91               8132  \n",
       "9                       9                       91              11428  \n",
       "\n",
       "[10 rows x 45 columns]"
      ]
     },
     "execution_count": 2,
     "metadata": {},
     "output_type": "execute_result"
    }
   ],
   "source": [
    "df = pd.read_csv(\"veteran_brutto.csv\" )\n",
    "\n",
    "df.head(10)"
   ]
  },
  {
   "cell_type": "code",
   "execution_count": 3,
   "metadata": {},
   "outputs": [
    {
     "name": "stdout",
     "output_type": "stream",
     "text": [
      "TARGET_B                        int64\n",
      "MONTHS_SINCE_ORIGIN             int64\n",
      "DONOR_AGE                     float64\n",
      "IN_HOUSE                        int64\n",
      "URBANICITY                     object\n",
      "SES                            object\n",
      "CLUSTER_CODE                   object\n",
      "HOME_OWNER                     object\n",
      "DONOR_GENDER                   object\n",
      "INCOME_GROUP                  float64\n",
      "PUBLISHED_PHONE                 int64\n",
      "OVERLAY_SOURCE                 object\n",
      "MOR_HIT_RATE                    int64\n",
      "WEALTH_RATING                 float64\n",
      "MEDIAN_HOME_VALUE               int64\n",
      "MEDIAN_HOUSEHOLD_INCOME         int64\n",
      "PCT_OWNER_OCCUPIED              int64\n",
      "PCT_MALE_MILITARY               int64\n",
      "PCT_MALE_VETERANS               int64\n",
      "PCT_VIETNAM_VETERANS            int64\n",
      "PCT_WWII_VETERANS               int64\n",
      "PEP_STAR                        int64\n",
      "RECENT_STAR_STATUS              int64\n",
      "RECENCY_STATUS_96NK            object\n",
      "FREQUENCY_STATUS_97NK           int64\n",
      "RECENT_RESPONSE_PROP          float64\n",
      "RECENT_AVG_GIFT_AMT           float64\n",
      "RECENT_CARD_RESPONSE_PROP     float64\n",
      "RECENT_AVG_CARD_GIFT_AMT      float64\n",
      "RECENT_RESPONSE_COUNT           int64\n",
      "RECENT_CARD_RESPONSE_COUNT      int64\n",
      "LIFETIME_CARD_PROM              int64\n",
      "LIFETIME_PROM                   int64\n",
      "LIFETIME_GIFT_AMOUNT          float64\n",
      "LIFETIME_GIFT_COUNT             int64\n",
      "LIFETIME_AVG_GIFT_AMT         float64\n",
      "LIFETIME_GIFT_RANGE           float64\n",
      "LIFETIME_MAX_GIFT_AMT         float64\n",
      "LIFETIME_MIN_GIFT_AMT         float64\n",
      "LAST_GIFT_AMT                 float64\n",
      "CARD_PROM_12                    int64\n",
      "NUMBER_PROM_12                  int64\n",
      "MONTHS_SINCE_LAST_GIFT          int64\n",
      "MONTHS_SINCE_FIRST_GIFT         int64\n",
      "PER_CAPITA_INCOME               int64\n",
      "dtype: object\n"
     ]
    }
   ],
   "source": [
    "# Vilka variabler och datatyper har vi?\n",
    "print(df.dtypes)"
   ]
  },
  {
   "cell_type": "markdown",
   "metadata": {},
   "source": [
    "### Nu vill vi göra en klassificeringsmodell för att prediktera sannolikhet för donation. Vill skapa ett dynamiskt flöde för att hantera alla olika datatyper"
   ]
  },
  {
   "cell_type": "markdown",
   "metadata": {},
   "source": [
    "### Först måste vi separera kategori variabler från numeriska - dessa ska hanteras på olika sätt\n",
    "* Kategorivariabler - skapa dummy variabler\n",
    "* Numeriska variabler - standardisera"
   ]
  },
  {
   "cell_type": "code",
   "execution_count": 4,
   "metadata": {},
   "outputs": [
    {
     "name": "stdout",
     "output_type": "stream",
     "text": [
      "TARGET_B\n",
      "MONTHS_SINCE_ORIGIN\n",
      "DONOR_AGE\n",
      "IN_HOUSE\n",
      "URBANICITY\n",
      "SES\n",
      "CLUSTER_CODE\n",
      "HOME_OWNER\n",
      "DONOR_GENDER\n",
      "INCOME_GROUP\n",
      "PUBLISHED_PHONE\n",
      "OVERLAY_SOURCE\n",
      "MOR_HIT_RATE\n",
      "WEALTH_RATING\n",
      "MEDIAN_HOME_VALUE\n",
      "MEDIAN_HOUSEHOLD_INCOME\n",
      "PCT_OWNER_OCCUPIED\n",
      "PCT_MALE_MILITARY\n",
      "PCT_MALE_VETERANS\n",
      "PCT_VIETNAM_VETERANS\n",
      "PCT_WWII_VETERANS\n",
      "PEP_STAR\n",
      "RECENT_STAR_STATUS\n",
      "RECENCY_STATUS_96NK\n",
      "FREQUENCY_STATUS_97NK\n",
      "RECENT_RESPONSE_PROP\n",
      "RECENT_AVG_GIFT_AMT\n",
      "RECENT_CARD_RESPONSE_PROP\n",
      "RECENT_AVG_CARD_GIFT_AMT\n",
      "RECENT_RESPONSE_COUNT\n",
      "RECENT_CARD_RESPONSE_COUNT\n",
      "LIFETIME_CARD_PROM\n",
      "LIFETIME_PROM\n",
      "LIFETIME_GIFT_AMOUNT\n",
      "LIFETIME_GIFT_COUNT\n",
      "LIFETIME_AVG_GIFT_AMT\n",
      "LIFETIME_GIFT_RANGE\n",
      "LIFETIME_MAX_GIFT_AMT\n",
      "LIFETIME_MIN_GIFT_AMT\n",
      "LAST_GIFT_AMT\n",
      "CARD_PROM_12\n",
      "NUMBER_PROM_12\n",
      "MONTHS_SINCE_LAST_GIFT\n",
      "MONTHS_SINCE_FIRST_GIFT\n",
      "PER_CAPITA_INCOME\n"
     ]
    }
   ],
   "source": [
    "for i in df.columns:\n",
    "    print(i)"
   ]
  },
  {
   "cell_type": "code",
   "execution_count": 5,
   "metadata": {},
   "outputs": [
    {
     "name": "stdout",
     "output_type": "stream",
     "text": [
      "int64\n",
      "int64\n",
      "float64\n",
      "int64\n",
      "object\n",
      "object\n",
      "object\n",
      "object\n",
      "object\n",
      "float64\n",
      "int64\n",
      "object\n",
      "int64\n",
      "float64\n",
      "int64\n",
      "int64\n",
      "int64\n",
      "int64\n",
      "int64\n",
      "int64\n",
      "int64\n",
      "int64\n",
      "int64\n",
      "object\n",
      "int64\n",
      "float64\n",
      "float64\n",
      "float64\n",
      "float64\n",
      "int64\n",
      "int64\n",
      "int64\n",
      "int64\n",
      "float64\n",
      "int64\n",
      "float64\n",
      "float64\n",
      "float64\n",
      "float64\n",
      "float64\n",
      "int64\n",
      "int64\n",
      "int64\n",
      "int64\n",
      "int64\n"
     ]
    }
   ],
   "source": [
    "for i in df.dtypes:\n",
    "    print(i)"
   ]
  },
  {
   "cell_type": "code",
   "execution_count": 6,
   "metadata": {},
   "outputs": [],
   "source": [
    "num_attribs = []\n",
    "cat_attribs = []\n",
    "for var, typ in zip(df.columns[1:], df.dtypes[1:]):\n",
    "    if typ == 'object':\n",
    "        cat_attribs.append(var)\n",
    "    else:\n",
    "        num_attribs.append(var)       "
   ]
  },
  {
   "cell_type": "code",
   "execution_count": 7,
   "metadata": {},
   "outputs": [
    {
     "data": {
      "text/plain": [
       "['MONTHS_SINCE_ORIGIN',\n",
       " 'DONOR_AGE',\n",
       " 'IN_HOUSE',\n",
       " 'INCOME_GROUP',\n",
       " 'PUBLISHED_PHONE',\n",
       " 'MOR_HIT_RATE',\n",
       " 'WEALTH_RATING',\n",
       " 'MEDIAN_HOME_VALUE',\n",
       " 'MEDIAN_HOUSEHOLD_INCOME',\n",
       " 'PCT_OWNER_OCCUPIED',\n",
       " 'PCT_MALE_MILITARY',\n",
       " 'PCT_MALE_VETERANS',\n",
       " 'PCT_VIETNAM_VETERANS',\n",
       " 'PCT_WWII_VETERANS',\n",
       " 'PEP_STAR',\n",
       " 'RECENT_STAR_STATUS',\n",
       " 'FREQUENCY_STATUS_97NK',\n",
       " 'RECENT_RESPONSE_PROP',\n",
       " 'RECENT_AVG_GIFT_AMT',\n",
       " 'RECENT_CARD_RESPONSE_PROP',\n",
       " 'RECENT_AVG_CARD_GIFT_AMT',\n",
       " 'RECENT_RESPONSE_COUNT',\n",
       " 'RECENT_CARD_RESPONSE_COUNT',\n",
       " 'LIFETIME_CARD_PROM',\n",
       " 'LIFETIME_PROM',\n",
       " 'LIFETIME_GIFT_AMOUNT',\n",
       " 'LIFETIME_GIFT_COUNT',\n",
       " 'LIFETIME_AVG_GIFT_AMT',\n",
       " 'LIFETIME_GIFT_RANGE',\n",
       " 'LIFETIME_MAX_GIFT_AMT',\n",
       " 'LIFETIME_MIN_GIFT_AMT',\n",
       " 'LAST_GIFT_AMT',\n",
       " 'CARD_PROM_12',\n",
       " 'NUMBER_PROM_12',\n",
       " 'MONTHS_SINCE_LAST_GIFT',\n",
       " 'MONTHS_SINCE_FIRST_GIFT',\n",
       " 'PER_CAPITA_INCOME']"
      ]
     },
     "execution_count": 7,
     "metadata": {},
     "output_type": "execute_result"
    }
   ],
   "source": [
    "num_attribs"
   ]
  },
  {
   "cell_type": "code",
   "execution_count": 8,
   "metadata": {},
   "outputs": [
    {
     "data": {
      "text/plain": [
       "['URBANICITY',\n",
       " 'SES',\n",
       " 'CLUSTER_CODE',\n",
       " 'HOME_OWNER',\n",
       " 'DONOR_GENDER',\n",
       " 'OVERLAY_SOURCE',\n",
       " 'RECENCY_STATUS_96NK']"
      ]
     },
     "execution_count": 8,
     "metadata": {},
     "output_type": "execute_result"
    }
   ],
   "source": [
    "cat_attribs"
   ]
  },
  {
   "cell_type": "markdown",
   "metadata": {},
   "source": [
    "### Sedan har jag analyserat varje kaegorivariabel enligt nedan, inte med i notebooken"
   ]
  },
  {
   "cell_type": "code",
   "execution_count": 9,
   "metadata": {},
   "outputs": [
    {
     "data": {
      "text/plain": [
       "F    10401\n",
       "M     7953\n",
       "U     1017\n",
       "A        1\n",
       "Name: DONOR_GENDER, dtype: int64"
      ]
     },
     "execution_count": 9,
     "metadata": {},
     "output_type": "execute_result"
    }
   ],
   "source": [
    "df['DONOR_GENDER'].value_counts()"
   ]
  },
  {
   "cell_type": "code",
   "execution_count": 10,
   "metadata": {},
   "outputs": [],
   "source": [
    "### Väljer enbart observationer om man är man eller kvinna\n",
    "\n",
    "df_subset = df[(df['DONOR_GENDER'] == 'F') | (df['DONOR_GENDER'] == 'M')]"
   ]
  },
  {
   "cell_type": "code",
   "execution_count": 11,
   "metadata": {},
   "outputs": [
    {
     "data": {
      "text/plain": [
       "18354"
      ]
     },
     "execution_count": 11,
     "metadata": {},
     "output_type": "execute_result"
    }
   ],
   "source": [
    "len(df_subset)"
   ]
  },
  {
   "cell_type": "markdown",
   "metadata": {},
   "source": [
    "### Sätter upp en pipeline som gör det möjligt att hantera flödet dynamiskt"
   ]
  },
  {
   "cell_type": "code",
   "execution_count": 12,
   "metadata": {},
   "outputs": [],
   "source": [
    "# Create a class to select numerical or categorical columns \n",
    "# since Scikit-Learn doesn't handle DataFrames yet\n",
    "# Denna klass måste vi göra för att särskilja numeriska variabler mot character variabler\n",
    "class DataFrameSelector(BaseEstimator, TransformerMixin):\n",
    "    def __init__(self, attribute_names):\n",
    "        self.attribute_names = attribute_names\n",
    "    def fit(self, X, y=None):\n",
    "        return self\n",
    "    def transform(self, X):\n",
    "        return X[self.attribute_names].values"
   ]
  },
  {
   "cell_type": "code",
   "execution_count": 13,
   "metadata": {},
   "outputs": [],
   "source": [
    "# Egen klass för att sätta dummyvariabler\n",
    "\n",
    "class SetDummyVar(BaseEstimator, TransformerMixin):\n",
    "    def __init__(self, attribute_names):\n",
    "        self.attribute_names = attribute_names\n",
    "    def fit(self, X, y=None):\n",
    "        return self\n",
    "    def transform(self, X):\n",
    "        tempdf = pd.get_dummies(X[self.attribute_names], columns = self.attribute_names)\n",
    "        return tempdf.values"
   ]
  },
  {
   "cell_type": "code",
   "execution_count": 14,
   "metadata": {},
   "outputs": [],
   "source": [
    "# Pipeline för numeriska variabler\n",
    "num_pipeline = Pipeline([\n",
    "        ('selector', DataFrameSelector(num_attribs)),\n",
    "        ('imputer', Imputer(strategy=\"median\")),\n",
    "        ('standard', StandardScaler()),\n",
    "    ])\n",
    "\n",
    "cat_pipeline = Pipeline([\n",
    "        ('dummy_cat', SetDummyVar(cat_attribs)),\n",
    "    ])"
   ]
  },
  {
   "cell_type": "code",
   "execution_count": 15,
   "metadata": {},
   "outputs": [],
   "source": [
    "full_pipeline = FeatureUnion(transformer_list=[\n",
    "        (\"num_pipeline\", num_pipeline),\n",
    "        (\"cat_pipeline\", cat_pipeline),\n",
    "    ])"
   ]
  },
  {
   "cell_type": "markdown",
   "metadata": {},
   "source": [
    "### In order to avoid overfitting data is split into training data and validation data. 75% träningsdata och 25% valideringsdata\n"
   ]
  },
  {
   "cell_type": "code",
   "execution_count": 16,
   "metadata": {},
   "outputs": [
    {
     "name": "stderr",
     "output_type": "stream",
     "text": [
      "/anaconda3/lib/python3.7/site-packages/ipykernel_launcher.py:1: SettingWithCopyWarning: \n",
      "A value is trying to be set on a copy of a slice from a DataFrame.\n",
      "Try using .loc[row_indexer,col_indexer] = value instead\n",
      "\n",
      "See the caveats in the documentation: http://pandas.pydata.org/pandas-docs/stable/indexing.html#indexing-view-versus-copy\n",
      "  \"\"\"Entry point for launching an IPython kernel.\n"
     ]
    }
   ],
   "source": [
    "df_subset['is_train']=np.random.uniform(0,1,len(df_subset))<=0.75\n",
    "\n",
    "train, validate = df_subset[df_subset['is_train']==True], df_subset[df_subset['is_train']==False]"
   ]
  },
  {
   "cell_type": "code",
   "execution_count": 17,
   "metadata": {},
   "outputs": [
    {
     "data": {
      "text/plain": [
       "13819"
      ]
     },
     "execution_count": 17,
     "metadata": {},
     "output_type": "execute_result"
    }
   ],
   "source": [
    "len(train)"
   ]
  },
  {
   "cell_type": "code",
   "execution_count": 18,
   "metadata": {},
   "outputs": [
    {
     "data": {
      "text/plain": [
       "4535"
      ]
     },
     "execution_count": 18,
     "metadata": {},
     "output_type": "execute_result"
    }
   ],
   "source": [
    "len(validate)"
   ]
  },
  {
   "cell_type": "markdown",
   "metadata": {},
   "source": [
    "### Nu skapar vi arrayer som ska användas av modellen - använder den skapade Pipelineobjektet som gör alla nödvändiga dataransformationer "
   ]
  },
  {
   "cell_type": "code",
   "execution_count": 19,
   "metadata": {},
   "outputs": [],
   "source": [
    "# Träningssdata\n",
    "# Alla förklaringsvaribler i en multidimensionell array där kategrisvaribler har gjorts om till\n",
    "# dummyvariabler\n",
    "features_train = full_pipeline.fit_transform(train)\n",
    "## En array som håller det vi vill predikter\n",
    "label_train = train[\"TARGET_B\"].copy()"
   ]
  },
  {
   "cell_type": "code",
   "execution_count": 20,
   "metadata": {},
   "outputs": [],
   "source": [
    "# Valideringsdata\n",
    "# Alla förklaringsvaribler i en multidimensionell array där kategrisvaribler har gjorts om till\n",
    "# dummyvariabler\n",
    "features_validate = full_pipeline.fit_transform(validate)\n",
    "## En array som håller det vi vill predikter\n",
    "label_validate = validate[\"TARGET_B\"].copy()\n"
   ]
  },
  {
   "cell_type": "code",
   "execution_count": 21,
   "metadata": {},
   "outputs": [
    {
     "data": {
      "text/plain": [
       "numpy.ndarray"
      ]
     },
     "execution_count": 21,
     "metadata": {},
     "output_type": "execute_result"
    }
   ],
   "source": [
    "type(features_train)"
   ]
  },
  {
   "cell_type": "code",
   "execution_count": 22,
   "metadata": {},
   "outputs": [
    {
     "data": {
      "text/plain": [
       "pandas.core.series.Series"
      ]
     },
     "execution_count": 22,
     "metadata": {},
     "output_type": "execute_result"
    }
   ],
   "source": [
    "type(label_train)"
   ]
  },
  {
   "cell_type": "markdown",
   "metadata": {},
   "source": [
    "# Train the model on the training data and then evaluate on the validation data\n",
    "\n",
    "- predicts: A twodimensional array that contains posterrior probabbility for a donation behaviour, one for non-donation and one for donation\n",
    "- fpr : False positive rate, number of false positive for a specific threshold value\n",
    "- tpr : True positive rate, number of true positive for a specific threshold value\n",
    "- threshold: Sorted threshold (descending) values for the likelihod to donate\n",
    "- roc_auc: Receiver operating characteristics. A value close to 1 indicates a strong model. A value close to 0.5 means that the model is rather poor"
   ]
  },
  {
   "cell_type": "code",
   "execution_count": 23,
   "metadata": {},
   "outputs": [
    {
     "data": {
      "text/plain": [
       "RandomForestClassifier(bootstrap=True, class_weight=None, criterion='gini',\n",
       "            max_depth=5, max_features='auto', max_leaf_nodes=None,\n",
       "            min_impurity_decrease=0.0, min_impurity_split=None,\n",
       "            min_samples_leaf=1, min_samples_split=2,\n",
       "            min_weight_fraction_leaf=0.0, n_estimators=1000, n_jobs=1,\n",
       "            oob_score=False, random_state=None, verbose=0,\n",
       "            warm_start=False)"
      ]
     },
     "execution_count": 23,
     "metadata": {},
     "output_type": "execute_result"
    }
   ],
   "source": [
    "# Bygger random forrest och analyserar roc_auc\n",
    "# Instansierar modellen\n",
    "rf = RandomForestClassifier(n_estimators = 1000, max_depth=5)\n",
    "\n",
    "# Tränar modellen\n",
    "\n",
    "rf.fit(features_train,label_train)"
   ]
  },
  {
   "cell_type": "code",
   "execution_count": 24,
   "metadata": {},
   "outputs": [],
   "source": [
    "# Predikterar med modellen med valideringsdata\n",
    "\n",
    "predict = rf.predict_proba(features_validate)\n",
    "\n",
    "fpr, tpr, threshold = roc_curve(label_validate,predict[:,1])\n",
    "\n",
    "roc_auc = auc(fpr,tpr)"
   ]
  },
  {
   "cell_type": "markdown",
   "metadata": {
    "slideshow": {
     "slide_type": "slide"
    }
   },
   "source": [
    "# A ROC curve for the charity classifier on the charity data\n",
    "\n",
    "__It traces out two types of error as we vary the threshold value for the posterior probability of charity. The actual thresholds are not shown. The true positive rate is the sensitivity: the fraction of givers that are correctly identified, using a given threshold value. The false positive rate is 1-specificity: the fraction of non-givers that we classify incorrectly as givers, using that same threshold value. The ideal ROC curve hugs the top left corner, indicating a high true positive rate and a low false positive rate. The dotted line represents the “no information” classifier.__ \n"
   ]
  },
  {
   "cell_type": "code",
   "execution_count": 25,
   "metadata": {},
   "outputs": [
    {
     "data": {
      "image/png": "[encoded data removed]",
      "text/plain": [
       "<Figure size 432x288 with 1 Axes>"
      ]
     },
     "metadata": {
      "needs_background": "light"
     },
     "output_type": "display_data"
    }
   ],
   "source": [
    "# Graf\n",
    "\n",
    "plt.title('Receiver Operating Characteristic') \n",
    "plt.plot( fpr, tpr, 'b', label =' AUC = %0.3f' % roc_auc) \n",
    "plt.legend( loc ='lower right') \n",
    "plt.plot([ 0, 1], [0, 1], 'r--') \n",
    "plt.xlim([ 0.0, 1.0]) \n",
    "plt.ylim([ 0.0, 1.0]) \n",
    "plt.ylabel('True positive rate') \n",
    "plt.xlabel('False positive rate') \n",
    "plt.show()"
   ]
  },
  {
   "cell_type": "code",
   "execution_count": null,
   "metadata": {},
   "outputs": [],
   "source": []
  }
 ],
 "metadata": {
  "anaconda-cloud": {},
  "kernelspec": {
   "display_name": "Python 3",
   "language": "python",
   "name": "python3"
  },
  "language_info": {
   "codemirror_mode": {
    "name": "ipython",
    "version": 3
   },
   "file_extension": ".py",
   "mimetype": "text/x-python",
   "name": "python",
   "nbconvert_exporter": "python",
   "pygments_lexer": "ipython3",
   "version": "3.7.0"
  }
 },
 "nbformat": 4,
 "nbformat_minor": 1
}
