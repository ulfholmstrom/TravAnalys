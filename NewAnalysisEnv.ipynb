{
 "cells": [
  {
   "cell_type": "markdown",
   "metadata": {},
   "source": [
    "### Ny analys på uppdaterad miljö. Imputerar med regressionsanalys  för de ranker med missing. Modellen ska plocka de tre högst scorade hästarna i varje lopp. För att modellen ska anses bättre än VNUM1-3 så är det mot denna mängd vi jämför"
   ]
  },
  {
   "cell_type": "markdown",
   "metadata": {},
   "source": [
    "__Ta bort VNUM, ODDS, V75procent och Grupp i analysen__"
   ]
  },
  {
   "cell_type": "code",
   "execution_count": 1,
   "metadata": {},
   "outputs": [],
   "source": [
    "import pandas as pd\n",
    "import numpy as np\n",
    "from datetime import datetime\n",
    "\n",
    "from sklearn.preprocessing import OneHotEncoder\n",
    "from sklearn.linear_model import LogisticRegression\n",
    "from sklearn.compose import make_column_transformer\n",
    "from sklearn.pipeline import make_pipeline"
   ]
  },
  {
   "cell_type": "code",
   "execution_count": 2,
   "metadata": {},
   "outputs": [],
   "source": [
    "import matplotlib.pyplot as plt\n",
    "import seaborn as sns"
   ]
  },
  {
   "cell_type": "code",
   "execution_count": 3,
   "metadata": {},
   "outputs": [],
   "source": [
    "# Necessary Sklearn objects used in the analysis\n",
    "from sklearn.metrics import roc_curve, auc\n",
    "from sklearn.ensemble import RandomForestClassifier \n",
    "from sklearn.metrics import confusion_matrix\n",
    "from sklearn import metrics\n",
    "from sklearn import preprocessing\n",
    "from sklearn.preprocessing import StandardScaler\n",
    "from sklearn.model_selection import cross_val_score\n",
    "\n"
   ]
  },
  {
   "cell_type": "code",
   "execution_count": 4,
   "metadata": {},
   "outputs": [],
   "source": [
    "from sklearn.preprocessing import OneHotEncoder\n",
    "from sklearn.feature_extraction.text import CountVectorizer\n",
    "from sklearn.linear_model import LogisticRegression\n",
    "from sklearn.compose import make_column_transformer\n",
    "from sklearn.pipeline import make_pipeline"
   ]
  },
  {
   "cell_type": "code",
   "execution_count": 100,
   "metadata": {},
   "outputs": [],
   "source": [
    "from sklearn.tree import DecisionTreeClassifier"
   ]
  },
  {
   "cell_type": "code",
   "execution_count": 5,
   "metadata": {},
   "outputs": [],
   "source": [
    "df0 = pd.read_excel('AllData.xlsx')"
   ]
  },
  {
   "cell_type": "code",
   "execution_count": 6,
   "metadata": {},
   "outputs": [
    {
     "name": "stdout",
     "output_type": "stream",
     "text": [
      "<class 'pandas.core.frame.DataFrame'>\n",
      "RangeIndex: 24585 entries, 0 to 24584\n",
      "Data columns (total 36 columns):\n",
      " #   Column       Non-Null Count  Dtype         \n",
      "---  ------       --------------  -----         \n",
      " 0   Datum        24585 non-null  datetime64[ns]\n",
      " 1   Arstid       24585 non-null  int64         \n",
      " 2   Distans      24585 non-null  int64         \n",
      " 3   Startsatt    24585 non-null  int64         \n",
      " 4   Lopp         24585 non-null  int64         \n",
      " 5   Plac         24585 non-null  int64         \n",
      " 6   Hast         24585 non-null  int64         \n",
      " 7   V75PROC      24585 non-null  float64       \n",
      " 8   V_ODDS       24585 non-null  float64       \n",
      " 9   GRUPP        24585 non-null  int64         \n",
      " 10  VLP          24585 non-null  float64       \n",
      " 11  VNUM         24585 non-null  int64         \n",
      " 12  SVLP         24585 non-null  float64       \n",
      " 13  VSVLP        24585 non-null  float64       \n",
      " 14  VPN_SUM      24585 non-null  float64       \n",
      " 15  VPN_SUM_ORD  24585 non-null  int64         \n",
      " 16  VPK_SUM      24585 non-null  float64       \n",
      " 17  VPK_SUM_ORD  24461 non-null  float64       \n",
      " 18  VLPB         24585 non-null  float64       \n",
      " 19  SVLPB        24585 non-null  float64       \n",
      " 20  VSVLPB       24585 non-null  float64       \n",
      " 21  E_P          24585 non-null  float64       \n",
      " 22  E_P_Num      24585 non-null  int64         \n",
      " 23  E_N          24585 non-null  float64       \n",
      " 24  E_R          24585 non-null  float64       \n",
      " 25  E_U          23544 non-null  float64       \n",
      " 26  G_R          22770 non-null  float64       \n",
      " 27  A_R          21289 non-null  float64       \n",
      " 28  T_R          22929 non-null  float64       \n",
      " 29  SP_R         19540 non-null  float64       \n",
      " 30  ToR          21742 non-null  float64       \n",
      " 31  P_R          22210 non-null  float64       \n",
      " 32  TK_R         16262 non-null  float64       \n",
      " 33  Ex_R         16199 non-null  float64       \n",
      " 34  R_R          16591 non-null  float64       \n",
      " 35  Ts_R         24585 non-null  int64         \n",
      "dtypes: datetime64[ns](1), float64(24), int64(11)\n",
      "memory usage: 6.8 MB\n"
     ]
    }
   ],
   "source": [
    "df0.info()"
   ]
  },
  {
   "cell_type": "code",
   "execution_count": 71,
   "metadata": {},
   "outputs": [
    {
     "data": {
      "text/plain": [
       "0    22475\n",
       "1     2110\n",
       "Name: Plac, dtype: int64"
      ]
     },
     "execution_count": 71,
     "metadata": {},
     "output_type": "execute_result"
    }
   ],
   "source": [
    "df0.Plac.value_counts()"
   ]
  },
  {
   "cell_type": "code",
   "execution_count": 6,
   "metadata": {},
   "outputs": [],
   "source": [
    "# Skapar målvariabel\n",
    "df0['y'] = np.where(df0.Plac == 1,1,0)"
   ]
  },
  {
   "cell_type": "code",
   "execution_count": 7,
   "metadata": {},
   "outputs": [
    {
     "data": {
      "text/plain": [
       "0    22475\n",
       "1     2110\n",
       "Name: y, dtype: int64"
      ]
     },
     "execution_count": 7,
     "metadata": {},
     "output_type": "execute_result"
    }
   ],
   "source": [
    "df0['y'].value_counts()"
   ]
  },
  {
   "cell_type": "code",
   "execution_count": 8,
   "metadata": {},
   "outputs": [],
   "source": [
    "df0['cdate'] = df0.Datum.astype('object')\n",
    "df0['clopp'] = df0.Lopp.astype('object')"
   ]
  },
  {
   "cell_type": "code",
   "execution_count": 9,
   "metadata": {},
   "outputs": [],
   "source": [
    "allcols = list(set(['Datum', 'Lopp','Arstid', 'Distans', 'Startsatt', 'GRUPP', 'VLP', 'SVLP', 'VSVLP',\n",
    "       'VPN_SUM', 'VPN_SUM', 'VPN_SUM_ORD', 'VPK_SUM', 'VPK_SUM_ORD', 'VLPB',\n",
    "       'SVLPB', 'VSVLPB', 'E_P', 'E_P_Num', 'E_N', 'E_R', 'E_U', 'G_R', 'A_R',\n",
    "       'T_R', 'SP_R', 'ToR', 'P_R', 'TK_R', 'Ex_R', 'R_R', 'Ts_R','y']))"
   ]
  },
  {
   "cell_type": "code",
   "execution_count": 10,
   "metadata": {},
   "outputs": [
    {
     "data": {
      "text/plain": [
       "32"
      ]
     },
     "execution_count": 10,
     "metadata": {},
     "output_type": "execute_result"
    }
   ],
   "source": [
    "len(allcols)"
   ]
  },
  {
   "cell_type": "code",
   "execution_count": 12,
   "metadata": {},
   "outputs": [
    {
     "data": {
      "text/plain": [
       "0.0    17007\n",
       "3.0     1923\n",
       "2.0     1923\n",
       "1.0     1917\n",
       "Name: G_R, dtype: int64"
      ]
     },
     "execution_count": 12,
     "metadata": {},
     "output_type": "execute_result"
    }
   ],
   "source": [
    "df0.G_R.value_counts()"
   ]
  },
  {
   "cell_type": "code",
   "execution_count": 13,
   "metadata": {},
   "outputs": [
    {
     "data": {
      "text/plain": [
       "0.0    15959\n",
       "1.0     1781\n",
       "3.0     1777\n",
       "2.0     1772\n",
       "Name: A_R, dtype: int64"
      ]
     },
     "execution_count": 13,
     "metadata": {},
     "output_type": "execute_result"
    }
   ],
   "source": [
    "df0.A_R.value_counts()"
   ]
  },
  {
   "cell_type": "code",
   "execution_count": 14,
   "metadata": {},
   "outputs": [
    {
     "data": {
      "text/plain": [
       "0.0    14715\n",
       "3.0     1624\n",
       "1.0     1606\n",
       "2.0     1595\n",
       "Name: SP_R, dtype: int64"
      ]
     },
     "execution_count": 14,
     "metadata": {},
     "output_type": "execute_result"
    }
   ],
   "source": [
    "df0.SP_R.value_counts()"
   ]
  },
  {
   "cell_type": "code",
   "execution_count": 15,
   "metadata": {},
   "outputs": [
    {
     "data": {
      "text/plain": [
       "0.0    16691\n",
       "1.0     1851\n",
       "3.0     1834\n",
       "2.0     1834\n",
       "Name: P_R, dtype: int64"
      ]
     },
     "execution_count": 15,
     "metadata": {},
     "output_type": "execute_result"
    }
   ],
   "source": [
    "df0.P_R.value_counts()"
   ]
  },
  {
   "cell_type": "code",
   "execution_count": 16,
   "metadata": {},
   "outputs": [
    {
     "data": {
      "text/plain": [
       "0.0    12173\n",
       "1.0     1366\n",
       "3.0     1363\n",
       "2.0     1360\n",
       "Name: TK_R, dtype: int64"
      ]
     },
     "execution_count": 16,
     "metadata": {},
     "output_type": "execute_result"
    }
   ],
   "source": [
    "df0.TK_R.value_counts()"
   ]
  },
  {
   "cell_type": "code",
   "execution_count": 17,
   "metadata": {},
   "outputs": [
    {
     "data": {
      "text/plain": [
       "0.0    12233\n",
       "2.0     1327\n",
       "1.0     1324\n",
       "3.0     1315\n",
       "Name: Ex_R, dtype: int64"
      ]
     },
     "execution_count": 17,
     "metadata": {},
     "output_type": "execute_result"
    }
   ],
   "source": [
    "df0.Ex_R.value_counts()"
   ]
  },
  {
   "cell_type": "code",
   "execution_count": 18,
   "metadata": {},
   "outputs": [
    {
     "data": {
      "text/plain": [
       "0.0    12452\n",
       "3.0     1385\n",
       "1.0     1378\n",
       "2.0     1376\n",
       "Name: R_R, dtype: int64"
      ]
     },
     "execution_count": 18,
     "metadata": {},
     "output_type": "execute_result"
    }
   ],
   "source": [
    "df0.R_R.value_counts()"
   ]
  },
  {
   "cell_type": "code",
   "execution_count": 19,
   "metadata": {},
   "outputs": [
    {
     "data": {
      "text/plain": [
       "0    18727\n",
       "3     1954\n",
       "2     1952\n",
       "1     1952\n",
       "Name: Ts_R, dtype: int64"
      ]
     },
     "execution_count": 19,
     "metadata": {},
     "output_type": "execute_result"
    }
   ],
   "source": [
    "df0.Ts_R.value_counts()"
   ]
  },
  {
   "cell_type": "markdown",
   "metadata": {},
   "source": [
    "__Behandlar rankingen som en intervall variabel för att kunna göra en mer avancerad imputation. Sätter om 0 till 4 för att få rätt ordning__"
   ]
  },
  {
   "cell_type": "code",
   "execution_count": 11,
   "metadata": {},
   "outputs": [],
   "source": [
    "rank_list = [ 'G_R', 'A_R','T_R', 'SP_R', 'ToR', 'P_R', 'TK_R', 'Ex_R', 'R_R', 'Ts_R']"
   ]
  },
  {
   "cell_type": "code",
   "execution_count": 12,
   "metadata": {},
   "outputs": [],
   "source": [
    "# Sätter värdet 4 om 0\n",
    "for rank in rank_list:\n",
    "    df0[rank] = np.where(df0[rank] == 0,4,df0[rank])"
   ]
  },
  {
   "cell_type": "code",
   "execution_count": 13,
   "metadata": {},
   "outputs": [
    {
     "data": {
      "text/plain": [
       "4    18727\n",
       "3     1954\n",
       "2     1952\n",
       "1     1952\n",
       "Name: Ts_R, dtype: int64"
      ]
     },
     "execution_count": 13,
     "metadata": {},
     "output_type": "execute_result"
    }
   ],
   "source": [
    "df0.Ts_R.value_counts()"
   ]
  },
  {
   "cell_type": "code",
   "execution_count": 14,
   "metadata": {},
   "outputs": [],
   "source": [
    "# Lista med omgångens daatum\n",
    "omg_df = pd.DataFrame({'Datum': list(set(df0.Datum.values.tolist()))})"
   ]
  },
  {
   "cell_type": "code",
   "execution_count": 15,
   "metadata": {},
   "outputs": [],
   "source": [
    "np.random.rand?"
   ]
  },
  {
   "cell_type": "code",
   "execution_count": 16,
   "metadata": {},
   "outputs": [],
   "source": [
    "# Next, Let's split the data into a training, validation\n",
    "rand_split = pd.DataFrame({'rval':np.random.rand(len(omg_df)).tolist()})"
   ]
  },
  {
   "cell_type": "code",
   "execution_count": 17,
   "metadata": {},
   "outputs": [
    {
     "data": {
      "text/html": [
       "<div>\n",
       "<style scoped>\n",
       "    .dataframe tbody tr th:only-of-type {\n",
       "        vertical-align: middle;\n",
       "    }\n",
       "\n",
       "    .dataframe tbody tr th {\n",
       "        vertical-align: top;\n",
       "    }\n",
       "\n",
       "    .dataframe thead th {\n",
       "        text-align: right;\n",
       "    }\n",
       "</style>\n",
       "<table border=\"1\" class=\"dataframe\">\n",
       "  <thead>\n",
       "    <tr style=\"text-align: right;\">\n",
       "      <th></th>\n",
       "      <th>Datum</th>\n",
       "      <th>rval</th>\n",
       "    </tr>\n",
       "  </thead>\n",
       "  <tbody>\n",
       "    <tr>\n",
       "      <th>0</th>\n",
       "      <td>1463788800000000000</td>\n",
       "      <td>0.633779</td>\n",
       "    </tr>\n",
       "    <tr>\n",
       "      <th>1</th>\n",
       "      <td>1464393600000000000</td>\n",
       "      <td>0.405318</td>\n",
       "    </tr>\n",
       "    <tr>\n",
       "      <th>2</th>\n",
       "      <td>1465603200000000000</td>\n",
       "      <td>0.385455</td>\n",
       "    </tr>\n",
       "    <tr>\n",
       "      <th>3</th>\n",
       "      <td>1464480000000000000</td>\n",
       "      <td>0.295237</td>\n",
       "    </tr>\n",
       "    <tr>\n",
       "      <th>4</th>\n",
       "      <td>1464998400000000000</td>\n",
       "      <td>0.499237</td>\n",
       "    </tr>\n",
       "  </tbody>\n",
       "</table>\n",
       "</div>"
      ],
      "text/plain": [
       "                 Datum      rval\n",
       "0  1463788800000000000  0.633779\n",
       "1  1464393600000000000  0.405318\n",
       "2  1465603200000000000  0.385455\n",
       "3  1464480000000000000  0.295237\n",
       "4  1464998400000000000  0.499237"
      ]
     },
     "execution_count": 17,
     "metadata": {},
     "output_type": "execute_result"
    }
   ],
   "source": [
    "# Unika datum för varje omgång med en tilldelad sannolikhet\n",
    "omg_df = pd.concat([omg_df,rand_split], axis = 1)\n",
    "omg_df.head()"
   ]
  },
  {
   "cell_type": "code",
   "execution_count": 18,
   "metadata": {},
   "outputs": [],
   "source": [
    "train_filter = (omg_df.rval <= 0.7)\n",
    "valid_filter = (omg_df.rval > 0.7) & (omg_df.rval <= 1)"
   ]
  },
  {
   "cell_type": "markdown",
   "metadata": {},
   "source": [
    "__Logiken säkerställer att vi håller ihop de olika omgångarna, så att vi inte sprider dem på de olika dataseten__"
   ]
  },
  {
   "cell_type": "code",
   "execution_count": 19,
   "metadata": {},
   "outputs": [],
   "source": [
    "# This dataset will be used to train the model.\n",
    "train = df0[df0.Datum.isin(omg_df[train_filter]['Datum'].values.tolist())].set_index(['Datum','Lopp'])\n",
    "\n",
    "# This dataset will be used to validate the model.\n",
    "validate = df0[df0.Datum.isin(omg_df[valid_filter]['Datum'].values.tolist())].set_index(['Datum','Lopp'])\n"
   ]
  },
  {
   "cell_type": "code",
   "execution_count": 20,
   "metadata": {},
   "outputs": [],
   "source": [
    "# Kolumner för rank\n",
    "rank_cols = ['G_R', 'A_R','T_R', 'SP_R', 'ToR', 'P_R', 'TK_R', 'Ex_R', 'R_R', 'Ts_R']"
   ]
  },
  {
   "cell_type": "code",
   "execution_count": 22,
   "metadata": {},
   "outputs": [],
   "source": [
    "cols = list(set(['VLP', 'SVLP', 'VSVLP',\n",
    "       'VPN_SUM', 'VPN_SUM', 'VPN_SUM_ORD', 'VPK_SUM', 'VPK_SUM_ORD', 'VLPB',\n",
    "       'SVLPB', 'VSVLPB', 'E_P', 'E_P_Num', 'E_N', 'E_R', 'E_U', 'G_R', 'A_R',\n",
    "       'T_R', 'SP_R', 'ToR', 'P_R', 'TK_R', 'Ex_R', 'R_R', 'Ts_R','VNUM', 'GRUPP']))"
   ]
  },
  {
   "cell_type": "code",
   "execution_count": 23,
   "metadata": {},
   "outputs": [],
   "source": [
    "# Målvariabel\n",
    "y = train['y']"
   ]
  },
  {
   "cell_type": "code",
   "execution_count": 24,
   "metadata": {},
   "outputs": [],
   "source": [
    "# Träningsdata\n",
    "X = train[cols]"
   ]
  },
  {
   "cell_type": "code",
   "execution_count": 25,
   "metadata": {},
   "outputs": [
    {
     "data": {
      "text/plain": [
       "27"
      ]
     },
     "execution_count": 25,
     "metadata": {},
     "output_type": "execute_result"
    }
   ],
   "source": [
    "len(X.columns)"
   ]
  },
  {
   "cell_type": "code",
   "execution_count": 26,
   "metadata": {},
   "outputs": [
    {
     "name": "stdout",
     "output_type": "stream",
     "text": [
      "<class 'pandas.core.frame.DataFrame'>\n",
      "MultiIndex: 17844 entries, (Timestamp('2016-05-21 00:00:00'), 1) to (Timestamp('2019-12-28 00:00:00'), 7)\n",
      "Data columns (total 27 columns):\n",
      " #   Column       Non-Null Count  Dtype  \n",
      "---  ------       --------------  -----  \n",
      " 0   VPN_SUM_ORD  17844 non-null  int64  \n",
      " 1   VSVLPB       17844 non-null  float64\n",
      " 2   A_R          15356 non-null  float64\n",
      " 3   E_N          17844 non-null  float64\n",
      " 4   R_R          11548 non-null  float64\n",
      " 5   Ts_R         17844 non-null  int64  \n",
      " 6   ToR          15482 non-null  float64\n",
      " 7   P_R          16114 non-null  float64\n",
      " 8   GRUPP        17844 non-null  int64  \n",
      " 9   G_R          16426 non-null  float64\n",
      " 10  SVLP         17844 non-null  float64\n",
      " 11  VLPB         17844 non-null  float64\n",
      " 12  VPK_SUM      17844 non-null  float64\n",
      " 13  E_P_Num      17844 non-null  int64  \n",
      " 14  TK_R         11458 non-null  float64\n",
      " 15  VPK_SUM_ORD  17761 non-null  float64\n",
      " 16  VSVLP        17844 non-null  float64\n",
      " 17  SVLPB        17844 non-null  float64\n",
      " 18  E_P          17844 non-null  float64\n",
      " 19  E_R          17844 non-null  float64\n",
      " 20  VPN_SUM      17844 non-null  float64\n",
      " 21  E_U          17028 non-null  float64\n",
      " 22  SP_R         14464 non-null  float64\n",
      " 23  T_R          16585 non-null  float64\n",
      " 24  Ex_R         11299 non-null  float64\n",
      " 25  VNUM         17844 non-null  int64  \n",
      " 26  VLP          17844 non-null  float64\n",
      "dtypes: float64(22), int64(5)\n",
      "memory usage: 3.7 MB\n"
     ]
    }
   ],
   "source": [
    "X.info()"
   ]
  },
  {
   "cell_type": "code",
   "execution_count": 27,
   "metadata": {},
   "outputs": [
    {
     "data": {
      "text/plain": [
       "5    5624\n",
       "4    4556\n",
       "2    3066\n",
       "3    3065\n",
       "1    1533\n",
       "Name: GRUPP, dtype: int64"
      ]
     },
     "execution_count": 27,
     "metadata": {},
     "output_type": "execute_result"
    }
   ],
   "source": [
    "X.GRUPP.value_counts()"
   ]
  },
  {
   "cell_type": "code",
   "execution_count": 28,
   "metadata": {},
   "outputs": [
    {
     "data": {
      "text/plain": [
       "4     1533\n",
       "3     1533\n",
       "2     1533\n",
       "1     1533\n",
       "5     1532\n",
       "6     1531\n",
       "7     1523\n",
       "8     1502\n",
       "9     1455\n",
       "10    1365\n",
       "11    1192\n",
       "12     889\n",
       "13     306\n",
       "14     261\n",
       "15     156\n",
       "Name: VNUM, dtype: int64"
      ]
     },
     "execution_count": 28,
     "metadata": {},
     "output_type": "execute_result"
    }
   ],
   "source": [
    "X.VNUM.value_counts()"
   ]
  },
  {
   "cell_type": "markdown",
   "metadata": {},
   "source": [
    "### Nu bygger vi en pipeline som både transformerar data samt gör en logistisk regression"
   ]
  },
  {
   "cell_type": "code",
   "execution_count": 29,
   "metadata": {},
   "outputs": [],
   "source": [
    "from sklearn.experimental import enable_iterative_imputer\n",
    "from sklearn.impute import IterativeImputer\n",
    "imp_iterative = IterativeImputer()"
   ]
  },
  {
   "cell_type": "code",
   "execution_count": 31,
   "metadata": {},
   "outputs": [],
   "source": [
    "ohe = OneHotEncoder()"
   ]
  },
  {
   "cell_type": "markdown",
   "metadata": {},
   "source": [
    "## Sedan imputerar vi med regression\n",
    "\n"
   ]
  },
  {
   "cell_type": "code",
   "execution_count": 32,
   "metadata": {},
   "outputs": [],
   "source": [
    "# Bygger våran column transformer - imputerar med missing med regression\n",
    "ct2 = make_column_transformer(  \n",
    "    (ohe, ['VNUM', 'GRUPP']),\n",
    "    (imp_iterative, cols)\n",
    "    )"
   ]
  },
  {
   "cell_type": "code",
   "execution_count": 99,
   "metadata": {},
   "outputs": [
    {
     "data": {
      "text/plain": [
       "0.8225331734187934"
      ]
     },
     "execution_count": 99,
     "metadata": {},
     "output_type": "execute_result"
    }
   ],
   "source": [
    "# Modelobjektet \n",
    "logreg = LogisticRegression(solver='liblinear', random_state=1)\n",
    "\n",
    "# Bygger vår pipeline\n",
    "pipe2 = make_pipeline(ct2, logreg)\n",
    "\n",
    "# Validerar\n",
    "cross_val_score(pipe2,X,y, cv = 5, scoring = 'roc_auc').mean()"
   ]
  },
  {
   "cell_type": "markdown",
   "metadata": {},
   "source": [
    "### Testar på undanlagt valideringsdata"
   ]
  },
  {
   "cell_type": "code",
   "execution_count": 36,
   "metadata": {},
   "outputs": [],
   "source": [
    "label = validate['y']"
   ]
  },
  {
   "cell_type": "code",
   "execution_count": 37,
   "metadata": {},
   "outputs": [],
   "source": [
    "X_valid = validate[cols]"
   ]
  },
  {
   "cell_type": "markdown",
   "metadata": {},
   "source": [
    "### Skapar modelobjekt som både innehåller datatransformation och modell"
   ]
  },
  {
   "cell_type": "code",
   "execution_count": 38,
   "metadata": {},
   "outputs": [],
   "source": [
    "pipe_model2 = pipe2.fit(X, y)"
   ]
  },
  {
   "cell_type": "code",
   "execution_count": 39,
   "metadata": {},
   "outputs": [],
   "source": [
    "predict2 = pipe_model2.predict_proba(X_valid)"
   ]
  },
  {
   "cell_type": "code",
   "execution_count": 40,
   "metadata": {},
   "outputs": [
    {
     "name": "stdout",
     "output_type": "stream",
     "text": [
      "0.796094502995534\n"
     ]
    }
   ],
   "source": [
    "fpr, tpr, threshold = roc_curve(label,predict2[:,1])\n",
    "roc_auc = auc(fpr,tpr)\n",
    "print(roc_auc)"
   ]
  },
  {
   "cell_type": "code",
   "execution_count": 41,
   "metadata": {},
   "outputs": [
    {
     "data": {
      "image/png": "[encoded data removed]",
      "text/plain": [
       "<Figure size 432x288 with 1 Axes>"
      ]
     },
     "metadata": {
      "needs_background": "light"
     },
     "output_type": "display_data"
    }
   ],
   "source": [
    "plt.title('Receiver Operating Characteristic') \n",
    "plt.plot( fpr, tpr, 'b', label =' AUC = %0.3f' % roc_auc) \n",
    "plt.legend( loc ='lower right') \n",
    "plt.plot([ 0, 1], [0, 1], 'r--') \n",
    "plt.xlim([ 0.0, 1.0]) \n",
    "plt.ylim([ 0.0, 1.0]) \n",
    "plt.ylabel('True positive rate') \n",
    "plt.xlabel('False positive rate') \n",
    "plt.show()"
   ]
  },
  {
   "cell_type": "code",
   "execution_count": 52,
   "metadata": {},
   "outputs": [
    {
     "name": "stdout",
     "output_type": "stream",
     "text": [
      "<class 'pandas.core.frame.DataFrame'>\n",
      "RangeIndex: 6741 entries, 0 to 6740\n",
      "Data columns (total 29 columns):\n",
      " #   Column       Non-Null Count  Dtype         \n",
      "---  ------       --------------  -----         \n",
      " 0   Datum        6741 non-null   datetime64[ns]\n",
      " 1   Lopp         6741 non-null   int64         \n",
      " 2   VPN_SUM_ORD  6741 non-null   int64         \n",
      " 3   VSVLPB       6741 non-null   float64       \n",
      " 4   A_R          5933 non-null   float64       \n",
      " 5   E_N          6741 non-null   float64       \n",
      " 6   R_R          5043 non-null   float64       \n",
      " 7   Ts_R         6741 non-null   int64         \n",
      " 8   ToR          6260 non-null   float64       \n",
      " 9   P_R          6096 non-null   float64       \n",
      " 10  GRUPP        6741 non-null   int64         \n",
      " 11  G_R          6344 non-null   float64       \n",
      " 12  SVLP         6741 non-null   float64       \n",
      " 13  VLPB         6741 non-null   float64       \n",
      " 14  VPK_SUM      6741 non-null   float64       \n",
      " 15  E_P_Num      6741 non-null   int64         \n",
      " 16  TK_R         4804 non-null   float64       \n",
      " 17  VPK_SUM_ORD  6700 non-null   float64       \n",
      " 18  VSVLP        6741 non-null   float64       \n",
      " 19  SVLPB        6741 non-null   float64       \n",
      " 20  E_P          6741 non-null   float64       \n",
      " 21  E_R          6741 non-null   float64       \n",
      " 22  VPN_SUM      6741 non-null   float64       \n",
      " 23  E_U          6516 non-null   float64       \n",
      " 24  SP_R         5076 non-null   float64       \n",
      " 25  T_R          6344 non-null   float64       \n",
      " 26  Ex_R         4900 non-null   float64       \n",
      " 27  VNUM         6741 non-null   int64         \n",
      " 28  VLP          6741 non-null   float64       \n",
      "dtypes: datetime64[ns](1), float64(22), int64(6)\n",
      "memory usage: 1.5 MB\n"
     ]
    }
   ],
   "source": [
    "X_valid.reset_index().info()"
   ]
  },
  {
   "cell_type": "code",
   "execution_count": 56,
   "metadata": {},
   "outputs": [
    {
     "data": {
      "text/html": [
       "<div>\n",
       "<style scoped>\n",
       "    .dataframe tbody tr th:only-of-type {\n",
       "        vertical-align: middle;\n",
       "    }\n",
       "\n",
       "    .dataframe tbody tr th {\n",
       "        vertical-align: top;\n",
       "    }\n",
       "\n",
       "    .dataframe thead th {\n",
       "        text-align: right;\n",
       "    }\n",
       "</style>\n",
       "<table border=\"1\" class=\"dataframe\">\n",
       "  <thead>\n",
       "    <tr style=\"text-align: right;\">\n",
       "      <th></th>\n",
       "      <th>y</th>\n",
       "    </tr>\n",
       "  </thead>\n",
       "  <tbody>\n",
       "    <tr>\n",
       "      <th>0</th>\n",
       "      <td>1</td>\n",
       "    </tr>\n",
       "    <tr>\n",
       "      <th>1</th>\n",
       "      <td>0</td>\n",
       "    </tr>\n",
       "    <tr>\n",
       "      <th>2</th>\n",
       "      <td>0</td>\n",
       "    </tr>\n",
       "    <tr>\n",
       "      <th>3</th>\n",
       "      <td>0</td>\n",
       "    </tr>\n",
       "    <tr>\n",
       "      <th>4</th>\n",
       "      <td>0</td>\n",
       "    </tr>\n",
       "    <tr>\n",
       "      <th>...</th>\n",
       "      <td>...</td>\n",
       "    </tr>\n",
       "    <tr>\n",
       "      <th>6736</th>\n",
       "      <td>0</td>\n",
       "    </tr>\n",
       "    <tr>\n",
       "      <th>6737</th>\n",
       "      <td>0</td>\n",
       "    </tr>\n",
       "    <tr>\n",
       "      <th>6738</th>\n",
       "      <td>0</td>\n",
       "    </tr>\n",
       "    <tr>\n",
       "      <th>6739</th>\n",
       "      <td>0</td>\n",
       "    </tr>\n",
       "    <tr>\n",
       "      <th>6740</th>\n",
       "      <td>0</td>\n",
       "    </tr>\n",
       "  </tbody>\n",
       "</table>\n",
       "<p>6741 rows × 1 columns</p>\n",
       "</div>"
      ],
      "text/plain": [
       "      y\n",
       "0     1\n",
       "1     0\n",
       "2     0\n",
       "3     0\n",
       "4     0\n",
       "...  ..\n",
       "6736  0\n",
       "6737  0\n",
       "6738  0\n",
       "6739  0\n",
       "6740  0\n",
       "\n",
       "[6741 rows x 1 columns]"
      ]
     },
     "execution_count": 56,
     "metadata": {},
     "output_type": "execute_result"
    }
   ],
   "source": [
    "label.reset_index()['y'].to_frame()"
   ]
  },
  {
   "cell_type": "markdown",
   "metadata": {},
   "source": [
    "__För varje häst plockar vi ut y, score, rankingen som ges av scoren samt datum, ger omgången__"
   ]
  },
  {
   "cell_type": "code",
   "execution_count": 50,
   "metadata": {},
   "outputs": [],
   "source": [
    "scored_df = pd.DataFrame({'Score': list(predict2[:,1])})"
   ]
  },
  {
   "cell_type": "code",
   "execution_count": 64,
   "metadata": {},
   "outputs": [],
   "source": [
    "outtake_df = pd.concat([X_valid.reset_index()[['Datum','Lopp']],label.reset_index()['y'].to_frame(), scored_df], axis = 1)"
   ]
  },
  {
   "cell_type": "code",
   "execution_count": 65,
   "metadata": {},
   "outputs": [
    {
     "data": {
      "text/html": [
       "<div>\n",
       "<style scoped>\n",
       "    .dataframe tbody tr th:only-of-type {\n",
       "        vertical-align: middle;\n",
       "    }\n",
       "\n",
       "    .dataframe tbody tr th {\n",
       "        vertical-align: top;\n",
       "    }\n",
       "\n",
       "    .dataframe thead th {\n",
       "        text-align: right;\n",
       "    }\n",
       "</style>\n",
       "<table border=\"1\" class=\"dataframe\">\n",
       "  <thead>\n",
       "    <tr style=\"text-align: right;\">\n",
       "      <th></th>\n",
       "      <th>Lopp</th>\n",
       "      <th>y</th>\n",
       "      <th>Score</th>\n",
       "    </tr>\n",
       "  </thead>\n",
       "  <tbody>\n",
       "    <tr>\n",
       "      <th>count</th>\n",
       "      <td>6741.000000</td>\n",
       "      <td>6741.000000</td>\n",
       "      <td>6741.000000</td>\n",
       "    </tr>\n",
       "    <tr>\n",
       "      <th>mean</th>\n",
       "      <td>4.024329</td>\n",
       "      <td>0.085596</td>\n",
       "      <td>0.086030</td>\n",
       "    </tr>\n",
       "    <tr>\n",
       "      <th>std</th>\n",
       "      <td>1.985557</td>\n",
       "      <td>0.279787</td>\n",
       "      <td>0.108760</td>\n",
       "    </tr>\n",
       "    <tr>\n",
       "      <th>min</th>\n",
       "      <td>1.000000</td>\n",
       "      <td>0.000000</td>\n",
       "      <td>0.001716</td>\n",
       "    </tr>\n",
       "    <tr>\n",
       "      <th>25%</th>\n",
       "      <td>2.000000</td>\n",
       "      <td>0.000000</td>\n",
       "      <td>0.017055</td>\n",
       "    </tr>\n",
       "    <tr>\n",
       "      <th>50%</th>\n",
       "      <td>4.000000</td>\n",
       "      <td>0.000000</td>\n",
       "      <td>0.043687</td>\n",
       "    </tr>\n",
       "    <tr>\n",
       "      <th>75%</th>\n",
       "      <td>6.000000</td>\n",
       "      <td>0.000000</td>\n",
       "      <td>0.111952</td>\n",
       "    </tr>\n",
       "    <tr>\n",
       "      <th>max</th>\n",
       "      <td>7.000000</td>\n",
       "      <td>1.000000</td>\n",
       "      <td>0.591788</td>\n",
       "    </tr>\n",
       "  </tbody>\n",
       "</table>\n",
       "</div>"
      ],
      "text/plain": [
       "              Lopp            y        Score\n",
       "count  6741.000000  6741.000000  6741.000000\n",
       "mean      4.024329     0.085596     0.086030\n",
       "std       1.985557     0.279787     0.108760\n",
       "min       1.000000     0.000000     0.001716\n",
       "25%       2.000000     0.000000     0.017055\n",
       "50%       4.000000     0.000000     0.043687\n",
       "75%       6.000000     0.000000     0.111952\n",
       "max       7.000000     1.000000     0.591788"
      ]
     },
     "execution_count": 65,
     "metadata": {},
     "output_type": "execute_result"
    }
   ],
   "source": [
    "outtake_df.describe()"
   ]
  },
  {
   "cell_type": "code",
   "execution_count": 71,
   "metadata": {},
   "outputs": [],
   "source": [
    "outtake_df = outtake_df.sort_values(['Datum','Lopp', 'Score'], ascending = [False, True, False])"
   ]
  },
  {
   "cell_type": "code",
   "execution_count": 72,
   "metadata": {},
   "outputs": [
    {
     "name": "stdout",
     "output_type": "stream",
     "text": [
      "<class 'pandas.core.frame.DataFrame'>\n",
      "Int64Index: 6741 entries, 6658 to 82\n",
      "Data columns (total 4 columns):\n",
      " #   Column  Non-Null Count  Dtype         \n",
      "---  ------  --------------  -----         \n",
      " 0   Datum   6741 non-null   datetime64[ns]\n",
      " 1   Lopp    6741 non-null   int64         \n",
      " 2   y       6741 non-null   int64         \n",
      " 3   Score   6741 non-null   float64       \n",
      "dtypes: datetime64[ns](1), float64(1), int64(2)\n",
      "memory usage: 263.3 KB\n"
     ]
    }
   ],
   "source": [
    "outtake_df.info()"
   ]
  },
  {
   "cell_type": "code",
   "execution_count": 73,
   "metadata": {},
   "outputs": [],
   "source": [
    "outtake_df['ID'] = outtake_df.Datum.astype('str') + outtake_df.Lopp.astype('str')"
   ]
  },
  {
   "cell_type": "markdown",
   "metadata": {},
   "source": [
    "__Vill beräkna positionen i varje omgång med avseende på score ==> Skapar lika många dataframes som det finns kombinationer av Datum och Lopp. Skapar sedan räknare från reset_index i varje frame__"
   ]
  },
  {
   "cell_type": "code",
   "execution_count": 84,
   "metadata": {},
   "outputs": [],
   "source": [
    "id_list = list(set(outtake_df.ID.tolist()))\n",
    "\n",
    "df_list = []\n",
    "\n",
    "for idn in id_list:\n",
    "    df = outtake_df[outtake_df.ID == idn].reset_index()\n",
    "    df['Rank'] = range(len(df))\n",
    "    df['Rank'] = df.Rank + 1\n",
    "    \n",
    "    df_list.append(df)"
   ]
  },
  {
   "cell_type": "code",
   "execution_count": 78,
   "metadata": {},
   "outputs": [
    {
     "data": {
      "text/plain": [
       "581"
      ]
     },
     "execution_count": 78,
     "metadata": {},
     "output_type": "execute_result"
    }
   ],
   "source": [
    "len(df_list)"
   ]
  },
  {
   "cell_type": "code",
   "execution_count": 86,
   "metadata": {},
   "outputs": [
    {
     "data": {
      "text/html": [
       "<div>\n",
       "<style scoped>\n",
       "    .dataframe tbody tr th:only-of-type {\n",
       "        vertical-align: middle;\n",
       "    }\n",
       "\n",
       "    .dataframe tbody tr th {\n",
       "        vertical-align: top;\n",
       "    }\n",
       "\n",
       "    .dataframe thead th {\n",
       "        text-align: right;\n",
       "    }\n",
       "</style>\n",
       "<table border=\"1\" class=\"dataframe\">\n",
       "  <thead>\n",
       "    <tr style=\"text-align: right;\">\n",
       "      <th></th>\n",
       "      <th>index</th>\n",
       "      <th>Datum</th>\n",
       "      <th>Lopp</th>\n",
       "      <th>y</th>\n",
       "      <th>Score</th>\n",
       "      <th>ID</th>\n",
       "      <th>Rank</th>\n",
       "    </tr>\n",
       "  </thead>\n",
       "  <tbody>\n",
       "    <tr>\n",
       "      <th>0</th>\n",
       "      <td>4918</td>\n",
       "      <td>2018-12-25</td>\n",
       "      <td>5</td>\n",
       "      <td>0</td>\n",
       "      <td>0.289473</td>\n",
       "      <td>2018-12-255</td>\n",
       "      <td>1</td>\n",
       "    </tr>\n",
       "    <tr>\n",
       "      <th>1</th>\n",
       "      <td>4916</td>\n",
       "      <td>2018-12-25</td>\n",
       "      <td>5</td>\n",
       "      <td>0</td>\n",
       "      <td>0.244629</td>\n",
       "      <td>2018-12-255</td>\n",
       "      <td>2</td>\n",
       "    </tr>\n",
       "    <tr>\n",
       "      <th>2</th>\n",
       "      <td>4908</td>\n",
       "      <td>2018-12-25</td>\n",
       "      <td>5</td>\n",
       "      <td>0</td>\n",
       "      <td>0.149949</td>\n",
       "      <td>2018-12-255</td>\n",
       "      <td>3</td>\n",
       "    </tr>\n",
       "    <tr>\n",
       "      <th>3</th>\n",
       "      <td>4917</td>\n",
       "      <td>2018-12-25</td>\n",
       "      <td>5</td>\n",
       "      <td>1</td>\n",
       "      <td>0.094589</td>\n",
       "      <td>2018-12-255</td>\n",
       "      <td>4</td>\n",
       "    </tr>\n",
       "    <tr>\n",
       "      <th>4</th>\n",
       "      <td>4915</td>\n",
       "      <td>2018-12-25</td>\n",
       "      <td>5</td>\n",
       "      <td>0</td>\n",
       "      <td>0.050884</td>\n",
       "      <td>2018-12-255</td>\n",
       "      <td>5</td>\n",
       "    </tr>\n",
       "    <tr>\n",
       "      <th>5</th>\n",
       "      <td>4911</td>\n",
       "      <td>2018-12-25</td>\n",
       "      <td>5</td>\n",
       "      <td>0</td>\n",
       "      <td>0.047377</td>\n",
       "      <td>2018-12-255</td>\n",
       "      <td>6</td>\n",
       "    </tr>\n",
       "    <tr>\n",
       "      <th>6</th>\n",
       "      <td>4914</td>\n",
       "      <td>2018-12-25</td>\n",
       "      <td>5</td>\n",
       "      <td>0</td>\n",
       "      <td>0.028406</td>\n",
       "      <td>2018-12-255</td>\n",
       "      <td>7</td>\n",
       "    </tr>\n",
       "    <tr>\n",
       "      <th>7</th>\n",
       "      <td>4909</td>\n",
       "      <td>2018-12-25</td>\n",
       "      <td>5</td>\n",
       "      <td>0</td>\n",
       "      <td>0.024152</td>\n",
       "      <td>2018-12-255</td>\n",
       "      <td>8</td>\n",
       "    </tr>\n",
       "    <tr>\n",
       "      <th>8</th>\n",
       "      <td>4913</td>\n",
       "      <td>2018-12-25</td>\n",
       "      <td>5</td>\n",
       "      <td>0</td>\n",
       "      <td>0.020308</td>\n",
       "      <td>2018-12-255</td>\n",
       "      <td>9</td>\n",
       "    </tr>\n",
       "    <tr>\n",
       "      <th>9</th>\n",
       "      <td>4912</td>\n",
       "      <td>2018-12-25</td>\n",
       "      <td>5</td>\n",
       "      <td>0</td>\n",
       "      <td>0.014051</td>\n",
       "      <td>2018-12-255</td>\n",
       "      <td>10</td>\n",
       "    </tr>\n",
       "    <tr>\n",
       "      <th>10</th>\n",
       "      <td>4910</td>\n",
       "      <td>2018-12-25</td>\n",
       "      <td>5</td>\n",
       "      <td>0</td>\n",
       "      <td>0.005411</td>\n",
       "      <td>2018-12-255</td>\n",
       "      <td>11</td>\n",
       "    </tr>\n",
       "    <tr>\n",
       "      <th>11</th>\n",
       "      <td>4907</td>\n",
       "      <td>2018-12-25</td>\n",
       "      <td>5</td>\n",
       "      <td>0</td>\n",
       "      <td>0.004394</td>\n",
       "      <td>2018-12-255</td>\n",
       "      <td>12</td>\n",
       "    </tr>\n",
       "  </tbody>\n",
       "</table>\n",
       "</div>"
      ],
      "text/plain": [
       "    index      Datum  Lopp  y     Score           ID  Rank\n",
       "0    4918 2018-12-25     5  0  0.289473  2018-12-255     1\n",
       "1    4916 2018-12-25     5  0  0.244629  2018-12-255     2\n",
       "2    4908 2018-12-25     5  0  0.149949  2018-12-255     3\n",
       "3    4917 2018-12-25     5  1  0.094589  2018-12-255     4\n",
       "4    4915 2018-12-25     5  0  0.050884  2018-12-255     5\n",
       "5    4911 2018-12-25     5  0  0.047377  2018-12-255     6\n",
       "6    4914 2018-12-25     5  0  0.028406  2018-12-255     7\n",
       "7    4909 2018-12-25     5  0  0.024152  2018-12-255     8\n",
       "8    4913 2018-12-25     5  0  0.020308  2018-12-255     9\n",
       "9    4912 2018-12-25     5  0  0.014051  2018-12-255    10\n",
       "10   4910 2018-12-25     5  0  0.005411  2018-12-255    11\n",
       "11   4907 2018-12-25     5  0  0.004394  2018-12-255    12"
      ]
     },
     "execution_count": 86,
     "metadata": {},
     "output_type": "execute_result"
    }
   ],
   "source": [
    "df_list[100]"
   ]
  },
  {
   "cell_type": "code",
   "execution_count": 87,
   "metadata": {},
   "outputs": [],
   "source": [
    "df_final = pd.concat(df_list, axis = 0)"
   ]
  },
  {
   "cell_type": "code",
   "execution_count": 94,
   "metadata": {},
   "outputs": [
    {
     "data": {
      "text/html": [
       "<div>\n",
       "<style scoped>\n",
       "    .dataframe tbody tr th:only-of-type {\n",
       "        vertical-align: middle;\n",
       "    }\n",
       "\n",
       "    .dataframe tbody tr th {\n",
       "        vertical-align: top;\n",
       "    }\n",
       "\n",
       "    .dataframe thead th {\n",
       "        text-align: right;\n",
       "    }\n",
       "</style>\n",
       "<table border=\"1\" class=\"dataframe\">\n",
       "  <thead>\n",
       "    <tr style=\"text-align: right;\">\n",
       "      <th></th>\n",
       "      <th>index</th>\n",
       "      <th>Datum</th>\n",
       "      <th>Lopp</th>\n",
       "      <th>y</th>\n",
       "      <th>Score</th>\n",
       "      <th>ID</th>\n",
       "      <th>Rank</th>\n",
       "    </tr>\n",
       "  </thead>\n",
       "  <tbody>\n",
       "    <tr>\n",
       "      <th>0</th>\n",
       "      <td>1068</td>\n",
       "      <td>2017-02-04</td>\n",
       "      <td>1</td>\n",
       "      <td>0</td>\n",
       "      <td>0.411806</td>\n",
       "      <td>2017-02-041</td>\n",
       "      <td>1</td>\n",
       "    </tr>\n",
       "    <tr>\n",
       "      <th>1</th>\n",
       "      <td>1066</td>\n",
       "      <td>2017-02-04</td>\n",
       "      <td>1</td>\n",
       "      <td>1</td>\n",
       "      <td>0.185958</td>\n",
       "      <td>2017-02-041</td>\n",
       "      <td>2</td>\n",
       "    </tr>\n",
       "    <tr>\n",
       "      <th>2</th>\n",
       "      <td>1067</td>\n",
       "      <td>2017-02-04</td>\n",
       "      <td>1</td>\n",
       "      <td>0</td>\n",
       "      <td>0.167506</td>\n",
       "      <td>2017-02-041</td>\n",
       "      <td>3</td>\n",
       "    </tr>\n",
       "    <tr>\n",
       "      <th>3</th>\n",
       "      <td>1069</td>\n",
       "      <td>2017-02-04</td>\n",
       "      <td>1</td>\n",
       "      <td>0</td>\n",
       "      <td>0.087974</td>\n",
       "      <td>2017-02-041</td>\n",
       "      <td>4</td>\n",
       "    </tr>\n",
       "    <tr>\n",
       "      <th>4</th>\n",
       "      <td>1070</td>\n",
       "      <td>2017-02-04</td>\n",
       "      <td>1</td>\n",
       "      <td>0</td>\n",
       "      <td>0.060322</td>\n",
       "      <td>2017-02-041</td>\n",
       "      <td>5</td>\n",
       "    </tr>\n",
       "    <tr>\n",
       "      <th>...</th>\n",
       "      <td>...</td>\n",
       "      <td>...</td>\n",
       "      <td>...</td>\n",
       "      <td>...</td>\n",
       "      <td>...</td>\n",
       "      <td>...</td>\n",
       "      <td>...</td>\n",
       "    </tr>\n",
       "    <tr>\n",
       "      <th>7</th>\n",
       "      <td>481</td>\n",
       "      <td>2016-11-05</td>\n",
       "      <td>6</td>\n",
       "      <td>0</td>\n",
       "      <td>0.021053</td>\n",
       "      <td>2016-11-056</td>\n",
       "      <td>8</td>\n",
       "    </tr>\n",
       "    <tr>\n",
       "      <th>8</th>\n",
       "      <td>477</td>\n",
       "      <td>2016-11-05</td>\n",
       "      <td>6</td>\n",
       "      <td>0</td>\n",
       "      <td>0.016216</td>\n",
       "      <td>2016-11-056</td>\n",
       "      <td>9</td>\n",
       "    </tr>\n",
       "    <tr>\n",
       "      <th>9</th>\n",
       "      <td>476</td>\n",
       "      <td>2016-11-05</td>\n",
       "      <td>6</td>\n",
       "      <td>0</td>\n",
       "      <td>0.014193</td>\n",
       "      <td>2016-11-056</td>\n",
       "      <td>10</td>\n",
       "    </tr>\n",
       "    <tr>\n",
       "      <th>10</th>\n",
       "      <td>478</td>\n",
       "      <td>2016-11-05</td>\n",
       "      <td>6</td>\n",
       "      <td>0</td>\n",
       "      <td>0.007632</td>\n",
       "      <td>2016-11-056</td>\n",
       "      <td>11</td>\n",
       "    </tr>\n",
       "    <tr>\n",
       "      <th>11</th>\n",
       "      <td>482</td>\n",
       "      <td>2016-11-05</td>\n",
       "      <td>6</td>\n",
       "      <td>0</td>\n",
       "      <td>0.003710</td>\n",
       "      <td>2016-11-056</td>\n",
       "      <td>12</td>\n",
       "    </tr>\n",
       "  </tbody>\n",
       "</table>\n",
       "<p>6741 rows × 7 columns</p>\n",
       "</div>"
      ],
      "text/plain": [
       "    index      Datum  Lopp  y     Score           ID  Rank\n",
       "0    1068 2017-02-04     1  0  0.411806  2017-02-041     1\n",
       "1    1066 2017-02-04     1  1  0.185958  2017-02-041     2\n",
       "2    1067 2017-02-04     1  0  0.167506  2017-02-041     3\n",
       "3    1069 2017-02-04     1  0  0.087974  2017-02-041     4\n",
       "4    1070 2017-02-04     1  0  0.060322  2017-02-041     5\n",
       "..    ...        ...   ... ..       ...          ...   ...\n",
       "7     481 2016-11-05     6  0  0.021053  2016-11-056     8\n",
       "8     477 2016-11-05     6  0  0.016216  2016-11-056     9\n",
       "9     476 2016-11-05     6  0  0.014193  2016-11-056    10\n",
       "10    478 2016-11-05     6  0  0.007632  2016-11-056    11\n",
       "11    482 2016-11-05     6  0  0.003710  2016-11-056    12\n",
       "\n",
       "[6741 rows x 7 columns]"
      ]
     },
     "execution_count": 94,
     "metadata": {},
     "output_type": "execute_result"
    }
   ],
   "source": [
    "df_final"
   ]
  },
  {
   "cell_type": "markdown",
   "metadata": {},
   "source": [
    "__Gör en ny pipeline med en randomforrest__"
   ]
  },
  {
   "cell_type": "code",
   "execution_count": 95,
   "metadata": {},
   "outputs": [],
   "source": [
    "df_final.sort_values(['Datum','Lopp', 'Score'], ascending = [True, True, False])[['Datum','Lopp','y','Score','Rank']].to_csv('ScoreRank.csv', index = False)"
   ]
  },
  {
   "cell_type": "code",
   "execution_count": 96,
   "metadata": {},
   "outputs": [],
   "source": [
    "rf = RandomForestClassifier()"
   ]
  },
  {
   "cell_type": "code",
   "execution_count": 97,
   "metadata": {},
   "outputs": [],
   "source": [
    "# Bygger vår pipeline\n",
    "pipe3 = make_pipeline(ct2, rf)"
   ]
  },
  {
   "cell_type": "code",
   "execution_count": 98,
   "metadata": {},
   "outputs": [
    {
     "data": {
      "text/plain": [
       "0.8047518008938122"
      ]
     },
     "execution_count": 98,
     "metadata": {},
     "output_type": "execute_result"
    }
   ],
   "source": [
    "# Validerar\n",
    "cross_val_score(pipe3,X,y, cv = 5, scoring = 'roc_auc').mean()"
   ]
  },
  {
   "cell_type": "code",
   "execution_count": 101,
   "metadata": {},
   "outputs": [],
   "source": [
    "dt = DecisionTreeClassifier()"
   ]
  },
  {
   "cell_type": "code",
   "execution_count": 102,
   "metadata": {},
   "outputs": [],
   "source": [
    "# Bygger vår pipeline\n",
    "pipe4 = make_pipeline(ct2, dt)"
   ]
  },
  {
   "cell_type": "code",
   "execution_count": 103,
   "metadata": {},
   "outputs": [
    {
     "data": {
      "text/plain": [
       "0.5865898433769067"
      ]
     },
     "execution_count": 103,
     "metadata": {},
     "output_type": "execute_result"
    }
   ],
   "source": [
    "# Validerar\n",
    "cross_val_score(pipe4,X,y, cv = 5, scoring = 'roc_auc').mean()"
   ]
  },
  {
   "cell_type": "code",
   "execution_count": 107,
   "metadata": {},
   "outputs": [],
   "source": [
    "tree_model = pipe4.fit(X, y)"
   ]
  },
  {
   "cell_type": "code",
   "execution_count": 109,
   "metadata": {},
   "outputs": [
    {
     "data": {
      "text/plain": [
       "sklearn.pipeline.Pipeline"
      ]
     },
     "execution_count": 109,
     "metadata": {},
     "output_type": "execute_result"
    }
   ],
   "source": [
    "type(tree_model)"
   ]
  },
  {
   "cell_type": "code",
   "execution_count": 110,
   "metadata": {},
   "outputs": [
    {
     "data": {
      "text/plain": [
       "['__abstractmethods__',\n",
       " '__annotations__',\n",
       " '__class__',\n",
       " '__delattr__',\n",
       " '__dict__',\n",
       " '__dir__',\n",
       " '__doc__',\n",
       " '__eq__',\n",
       " '__format__',\n",
       " '__ge__',\n",
       " '__getattribute__',\n",
       " '__getitem__',\n",
       " '__getstate__',\n",
       " '__gt__',\n",
       " '__hash__',\n",
       " '__init__',\n",
       " '__init_subclass__',\n",
       " '__le__',\n",
       " '__len__',\n",
       " '__lt__',\n",
       " '__module__',\n",
       " '__ne__',\n",
       " '__new__',\n",
       " '__reduce__',\n",
       " '__reduce_ex__',\n",
       " '__repr__',\n",
       " '__setattr__',\n",
       " '__setstate__',\n",
       " '__sizeof__',\n",
       " '__str__',\n",
       " '__subclasshook__',\n",
       " '__weakref__',\n",
       " '_abc_impl',\n",
       " '_check_fit_params',\n",
       " '_check_n_features',\n",
       " '_estimator_type',\n",
       " '_final_estimator',\n",
       " '_fit',\n",
       " '_get_param_names',\n",
       " '_get_params',\n",
       " '_get_tags',\n",
       " '_inverse_transform',\n",
       " '_iter',\n",
       " '_log_message',\n",
       " '_more_tags',\n",
       " '_pairwise',\n",
       " '_replace_estimator',\n",
       " '_repr_html_',\n",
       " '_repr_html_inner',\n",
       " '_repr_mimebundle_',\n",
       " '_required_parameters',\n",
       " '_set_params',\n",
       " '_sk_visual_block_',\n",
       " '_transform',\n",
       " '_validate_data',\n",
       " '_validate_names',\n",
       " '_validate_steps',\n",
       " 'classes_',\n",
       " 'decision_function',\n",
       " 'fit',\n",
       " 'fit_predict',\n",
       " 'fit_transform',\n",
       " 'get_params',\n",
       " 'inverse_transform',\n",
       " 'memory',\n",
       " 'n_features_in_',\n",
       " 'named_steps',\n",
       " 'predict',\n",
       " 'predict_log_proba',\n",
       " 'predict_proba',\n",
       " 'score',\n",
       " 'score_samples',\n",
       " 'set_params',\n",
       " 'steps',\n",
       " 'transform',\n",
       " 'verbose']"
      ]
     },
     "execution_count": 110,
     "metadata": {},
     "output_type": "execute_result"
    }
   ],
   "source": [
    "dir(tree_model)"
   ]
  },
  {
   "cell_type": "code",
   "execution_count": 105,
   "metadata": {},
   "outputs": [],
   "source": [
    "from sklearn import tree"
   ]
  },
  {
   "cell_type": "code",
   "execution_count": 113,
   "metadata": {},
   "outputs": [
    {
     "ename": "NotFittedError",
     "evalue": "This Pipeline instance is not fitted yet. Call 'fit' with appropriate arguments before using this estimator.",
     "output_type": "error",
     "traceback": [
      "\u001b[0;31m---------------------------------------------------------------------------\u001b[0m",
      "\u001b[0;31mNotFittedError\u001b[0m                            Traceback (most recent call last)",
      "\u001b[0;32m<ipython-input-113-2836a5b5caf1>\u001b[0m in \u001b[0;36m<module>\u001b[0;34m\u001b[0m\n\u001b[0;32m----> 1\u001b[0;31m \u001b[0mtree\u001b[0m\u001b[0;34m.\u001b[0m\u001b[0mplot_tree\u001b[0m\u001b[0;34m(\u001b[0m\u001b[0mpipe4\u001b[0m\u001b[0;34m.\u001b[0m\u001b[0mfit\u001b[0m\u001b[0;34m(\u001b[0m\u001b[0mX\u001b[0m\u001b[0;34m,\u001b[0m \u001b[0my\u001b[0m\u001b[0;34m)\u001b[0m\u001b[0;34m)\u001b[0m\u001b[0;34m\u001b[0m\u001b[0;34m\u001b[0m\u001b[0m\n\u001b[0m",
      "\u001b[0;32m~/anaconda3/envs/newenv/lib/python3.7/site-packages/sklearn/utils/validation.py\u001b[0m in \u001b[0;36minner_f\u001b[0;34m(*args, **kwargs)\u001b[0m\n\u001b[1;32m     71\u001b[0m                           FutureWarning)\n\u001b[1;32m     72\u001b[0m         \u001b[0mkwargs\u001b[0m\u001b[0;34m.\u001b[0m\u001b[0mupdate\u001b[0m\u001b[0;34m(\u001b[0m\u001b[0;34m{\u001b[0m\u001b[0mk\u001b[0m\u001b[0;34m:\u001b[0m \u001b[0marg\u001b[0m \u001b[0;32mfor\u001b[0m \u001b[0mk\u001b[0m\u001b[0;34m,\u001b[0m \u001b[0marg\u001b[0m \u001b[0;32min\u001b[0m \u001b[0mzip\u001b[0m\u001b[0;34m(\u001b[0m\u001b[0msig\u001b[0m\u001b[0;34m.\u001b[0m\u001b[0mparameters\u001b[0m\u001b[0;34m,\u001b[0m \u001b[0margs\u001b[0m\u001b[0;34m)\u001b[0m\u001b[0;34m}\u001b[0m\u001b[0;34m)\u001b[0m\u001b[0;34m\u001b[0m\u001b[0;34m\u001b[0m\u001b[0m\n\u001b[0;32m---> 73\u001b[0;31m         \u001b[0;32mreturn\u001b[0m \u001b[0mf\u001b[0m\u001b[0;34m(\u001b[0m\u001b[0;34m**\u001b[0m\u001b[0mkwargs\u001b[0m\u001b[0;34m)\u001b[0m\u001b[0;34m\u001b[0m\u001b[0;34m\u001b[0m\u001b[0m\n\u001b[0m\u001b[1;32m     74\u001b[0m     \u001b[0;32mreturn\u001b[0m \u001b[0minner_f\u001b[0m\u001b[0;34m\u001b[0m\u001b[0;34m\u001b[0m\u001b[0m\n\u001b[1;32m     75\u001b[0m \u001b[0;34m\u001b[0m\u001b[0m\n",
      "\u001b[0;32m~/anaconda3/envs/newenv/lib/python3.7/site-packages/sklearn/tree/_export.py\u001b[0m in \u001b[0;36mplot_tree\u001b[0;34m(decision_tree, max_depth, feature_names, class_names, label, filled, impurity, node_ids, proportion, rotate, rounded, precision, ax, fontsize)\u001b[0m\n\u001b[1;32m    178\u001b[0m     \"\"\"\n\u001b[1;32m    179\u001b[0m \u001b[0;34m\u001b[0m\u001b[0m\n\u001b[0;32m--> 180\u001b[0;31m     \u001b[0mcheck_is_fitted\u001b[0m\u001b[0;34m(\u001b[0m\u001b[0mdecision_tree\u001b[0m\u001b[0;34m)\u001b[0m\u001b[0;34m\u001b[0m\u001b[0;34m\u001b[0m\u001b[0m\n\u001b[0m\u001b[1;32m    181\u001b[0m \u001b[0;34m\u001b[0m\u001b[0m\n\u001b[1;32m    182\u001b[0m     \u001b[0;32mif\u001b[0m \u001b[0mrotate\u001b[0m \u001b[0;34m!=\u001b[0m \u001b[0;34m'deprecated'\u001b[0m\u001b[0;34m:\u001b[0m\u001b[0;34m\u001b[0m\u001b[0;34m\u001b[0m\u001b[0m\n",
      "\u001b[0;32m~/anaconda3/envs/newenv/lib/python3.7/site-packages/sklearn/utils/validation.py\u001b[0m in \u001b[0;36minner_f\u001b[0;34m(*args, **kwargs)\u001b[0m\n\u001b[1;32m     71\u001b[0m                           FutureWarning)\n\u001b[1;32m     72\u001b[0m         \u001b[0mkwargs\u001b[0m\u001b[0;34m.\u001b[0m\u001b[0mupdate\u001b[0m\u001b[0;34m(\u001b[0m\u001b[0;34m{\u001b[0m\u001b[0mk\u001b[0m\u001b[0;34m:\u001b[0m \u001b[0marg\u001b[0m \u001b[0;32mfor\u001b[0m \u001b[0mk\u001b[0m\u001b[0;34m,\u001b[0m \u001b[0marg\u001b[0m \u001b[0;32min\u001b[0m \u001b[0mzip\u001b[0m\u001b[0;34m(\u001b[0m\u001b[0msig\u001b[0m\u001b[0;34m.\u001b[0m\u001b[0mparameters\u001b[0m\u001b[0;34m,\u001b[0m \u001b[0margs\u001b[0m\u001b[0;34m)\u001b[0m\u001b[0;34m}\u001b[0m\u001b[0;34m)\u001b[0m\u001b[0;34m\u001b[0m\u001b[0;34m\u001b[0m\u001b[0m\n\u001b[0;32m---> 73\u001b[0;31m         \u001b[0;32mreturn\u001b[0m \u001b[0mf\u001b[0m\u001b[0;34m(\u001b[0m\u001b[0;34m**\u001b[0m\u001b[0mkwargs\u001b[0m\u001b[0;34m)\u001b[0m\u001b[0;34m\u001b[0m\u001b[0;34m\u001b[0m\u001b[0m\n\u001b[0m\u001b[1;32m     74\u001b[0m     \u001b[0;32mreturn\u001b[0m \u001b[0minner_f\u001b[0m\u001b[0;34m\u001b[0m\u001b[0;34m\u001b[0m\u001b[0m\n\u001b[1;32m     75\u001b[0m \u001b[0;34m\u001b[0m\u001b[0m\n",
      "\u001b[0;32m~/anaconda3/envs/newenv/lib/python3.7/site-packages/sklearn/utils/validation.py\u001b[0m in \u001b[0;36mcheck_is_fitted\u001b[0;34m(estimator, attributes, msg, all_or_any)\u001b[0m\n\u001b[1;32m   1018\u001b[0m \u001b[0;34m\u001b[0m\u001b[0m\n\u001b[1;32m   1019\u001b[0m     \u001b[0;32mif\u001b[0m \u001b[0;32mnot\u001b[0m \u001b[0mattrs\u001b[0m\u001b[0;34m:\u001b[0m\u001b[0;34m\u001b[0m\u001b[0;34m\u001b[0m\u001b[0m\n\u001b[0;32m-> 1020\u001b[0;31m         \u001b[0;32mraise\u001b[0m \u001b[0mNotFittedError\u001b[0m\u001b[0;34m(\u001b[0m\u001b[0mmsg\u001b[0m \u001b[0;34m%\u001b[0m \u001b[0;34m{\u001b[0m\u001b[0;34m'name'\u001b[0m\u001b[0;34m:\u001b[0m \u001b[0mtype\u001b[0m\u001b[0;34m(\u001b[0m\u001b[0mestimator\u001b[0m\u001b[0;34m)\u001b[0m\u001b[0;34m.\u001b[0m\u001b[0m__name__\u001b[0m\u001b[0;34m}\u001b[0m\u001b[0;34m)\u001b[0m\u001b[0;34m\u001b[0m\u001b[0;34m\u001b[0m\u001b[0m\n\u001b[0m\u001b[1;32m   1021\u001b[0m \u001b[0;34m\u001b[0m\u001b[0m\n\u001b[1;32m   1022\u001b[0m \u001b[0;34m\u001b[0m\u001b[0m\n",
      "\u001b[0;31mNotFittedError\u001b[0m: This Pipeline instance is not fitted yet. Call 'fit' with appropriate arguments before using this estimator."
     ]
    }
   ],
   "source": [
    "tree.plot_tree(pipe4.fit(X, y)) "
   ]
  },
  {
   "cell_type": "markdown",
   "metadata": {},
   "source": [
    "__Nu ska vi jämföra modellen med hur det blir om vi plockar vnum1-3 i varje lopp och jämför med hur det vi blir när vi plockar de tre högst scorade i varje lopp. Antingen vill vi se ett mycket bättre utfall eller ett mycket sämre. Båda dessa utfallen kan användas för reducering. Det sämsta resultatet är om de visar exakt samma resultat__"
   ]
  },
  {
   "cell_type": "markdown",
   "metadata": {},
   "source": [
    "__Först plockar vi ut de tre högst scorade i varje omgång med den valda modellen__"
   ]
  },
  {
   "cell_type": "markdown",
   "metadata": {},
   "source": [
    "__Plockar ut sannolikheten för vinst och skapar en ny dataframe som håller y, score och omgång och lopp ==> lägger tillbaks mot validate__"
   ]
  },
  {
   "cell_type": "code",
   "execution_count": 46,
   "metadata": {},
   "outputs": [],
   "source": [
    "df_predict = pd.DataFrame({'Score': predict2[:,1]})"
   ]
  },
  {
   "cell_type": "code",
   "execution_count": 47,
   "metadata": {},
   "outputs": [
    {
     "data": {
      "text/plain": [
       "(6604, 1)"
      ]
     },
     "execution_count": 47,
     "metadata": {},
     "output_type": "execute_result"
    }
   ],
   "source": [
    "df_predict.shape"
   ]
  },
  {
   "cell_type": "code",
   "execution_count": 48,
   "metadata": {},
   "outputs": [
    {
     "data": {
      "text/plain": [
       "(6604, 37)"
      ]
     },
     "execution_count": 48,
     "metadata": {},
     "output_type": "execute_result"
    }
   ],
   "source": [
    "validate.shape"
   ]
  },
  {
   "cell_type": "code",
   "execution_count": 49,
   "metadata": {},
   "outputs": [],
   "source": [
    "df_analys = pd.concat([validate.reset_index(), df_predict], axis = 1)"
   ]
  },
  {
   "cell_type": "code",
   "execution_count": 50,
   "metadata": {},
   "outputs": [
    {
     "data": {
      "text/plain": [
       "81"
      ]
     },
     "execution_count": 50,
     "metadata": {},
     "output_type": "execute_result"
    }
   ],
   "source": [
    "# Vi utvärderar på 85 omgångar\n",
    "df_analys.Datum.drop_duplicates().count()"
   ]
  },
  {
   "cell_type": "code",
   "execution_count": 51,
   "metadata": {},
   "outputs": [
    {
     "data": {
      "text/plain": [
       "567"
      ]
     },
     "execution_count": 51,
     "metadata": {},
     "output_type": "execute_result"
    }
   ],
   "source": [
    "# Således har vi 595 vinnare\n",
    "df_analys.y.sum()"
   ]
  },
  {
   "cell_type": "code",
   "execution_count": 52,
   "metadata": {},
   "outputs": [
    {
     "data": {
      "text/plain": [
       "8.585705632949727"
      ]
     },
     "execution_count": 52,
     "metadata": {},
     "output_type": "execute_result"
    }
   ],
   "source": [
    "# Andelen vinnare om man plockar alla hästar i alla omgångar. Det är denna procentsats vi ska slå\n",
    "\n",
    "df_analys.y.sum()/len(df_analys) * 100"
   ]
  },
  {
   "cell_type": "code",
   "execution_count": 53,
   "metadata": {},
   "outputs": [
    {
     "data": {
      "text/plain": [
       "y\n",
       "0    0.074593\n",
       "1    0.201627\n",
       "Name: Score, dtype: float64"
      ]
     },
     "execution_count": 53,
     "metadata": {},
     "output_type": "execute_result"
    }
   ],
   "source": [
    "# Här ser vi att modellen tilldelar våra vinnare en högre score ==> det är bra\n",
    "df_analys.groupby('y').Score.mean()"
   ]
  },
  {
   "cell_type": "code",
   "execution_count": 70,
   "metadata": {},
   "outputs": [
    {
     "data": {
      "text/plain": [
       "count    567.000000\n",
       "mean       0.201627\n",
       "std        0.163428\n",
       "min        0.014378\n",
       "25%        0.062290\n",
       "50%        0.139603\n",
       "75%        0.312661\n",
       "max        0.646170\n",
       "Name: Score, dtype: float64"
      ]
     },
     "execution_count": 70,
     "metadata": {},
     "output_type": "execute_result"
    }
   ],
   "source": [
    "df_analys[df_analys.y == 1].Score.describe()"
   ]
  },
  {
   "cell_type": "code",
   "execution_count": 54,
   "metadata": {},
   "outputs": [
    {
     "data": {
      "text/plain": [
       "count    6604.000000\n",
       "mean        0.085500\n",
       "std         0.101159\n",
       "min         0.008313\n",
       "25%         0.030657\n",
       "50%         0.047032\n",
       "75%         0.086028\n",
       "max         0.652860\n",
       "Name: Score, dtype: float64"
      ]
     },
     "execution_count": 54,
     "metadata": {},
     "output_type": "execute_result"
    }
   ],
   "source": [
    "# Fördelningen av scoren - vi ser att våra vinnare ligger klart fördelade i den övre kvartilen\n",
    "df_analys.Score.describe()"
   ]
  },
  {
   "cell_type": "code",
   "execution_count": 55,
   "metadata": {},
   "outputs": [],
   "source": [
    "# För varje omgång beräkna hur många hästar med Score >=  0.207979 som vinner. Vill se en jämn fördelning "
   ]
  },
  {
   "cell_type": "code",
   "execution_count": 56,
   "metadata": {},
   "outputs": [
    {
     "data": {
      "text/plain": [
       "Datum\n",
       "2016-05-28    1\n",
       "2016-06-18    4\n",
       "2016-07-07    3\n",
       "2016-07-09    5\n",
       "2016-07-24    3\n",
       "             ..\n",
       "2019-12-01    3\n",
       "2019-12-07    2\n",
       "2019-12-25    3\n",
       "2019-12-26    4\n",
       "2019-12-27    0\n",
       "Name: y, Length: 78, dtype: int64"
      ]
     },
     "execution_count": 56,
     "metadata": {},
     "output_type": "execute_result"
    }
   ],
   "source": [
    "df_analys[df_analys.Score >=   0.207979].groupby('Datum').y.sum()"
   ]
  },
  {
   "cell_type": "code",
   "execution_count": 57,
   "metadata": {},
   "outputs": [
    {
     "data": {
      "text/plain": [
       "0.4021164021164021"
      ]
     },
     "execution_count": 57,
     "metadata": {},
     "output_type": "execute_result"
    }
   ],
   "source": [
    "# Vi hittar bara 42% av vinnarna \n",
    "df_analys[df_analys.Score >= 0.207979].y.sum()/df_analys.y.sum()"
   ]
  },
  {
   "cell_type": "markdown",
   "metadata": {},
   "source": [
    "__Sorterar fallande på score och plockar 10%, hur stor är andelen vinnare då?__"
   ]
  },
  {
   "cell_type": "code",
   "execution_count": 58,
   "metadata": {},
   "outputs": [],
   "source": [
    "df_analys_sorted = df_analys.sort_values('Score', ascending = False)"
   ]
  },
  {
   "cell_type": "code",
   "execution_count": 59,
   "metadata": {},
   "outputs": [
    {
     "data": {
      "text/plain": [
       "660"
      ]
     },
     "execution_count": 59,
     "metadata": {},
     "output_type": "execute_result"
    }
   ],
   "source": [
    "round(len(df_analys_sorted)* 0.1)"
   ]
  },
  {
   "cell_type": "code",
   "execution_count": 60,
   "metadata": {},
   "outputs": [
    {
     "data": {
      "text/plain": [
       "33.63636363636363"
      ]
     },
     "execution_count": 60,
     "metadata": {},
     "output_type": "execute_result"
    }
   ],
   "source": [
    "df_analys_sorted.iloc[:round(len(df_analys_sorted)* 0.1),:].y.sum()/len(df_analys_sorted.iloc[:round(len(df_analys_sorted)* 0.1),:]) * 100"
   ]
  },
  {
   "cell_type": "code",
   "execution_count": 61,
   "metadata": {},
   "outputs": [
    {
     "data": {
      "text/plain": [
       "3.917716851050184"
      ]
     },
     "execution_count": 61,
     "metadata": {},
     "output_type": "execute_result"
    }
   ],
   "source": [
    "# Gain - hur mycket bättre modellen är en slumpen i översta decilen\n",
    "\n",
    "(df_analys_sorted.iloc[:round(len(df_analys_sorted)* 0.1),:].y.sum()/len(df_analys_sorted.iloc[:round(len(df_analys_sorted)* 0.1),:]) * 100) / (df_analys.y.sum()/len(df_analys) * 100)"
   ]
  },
  {
   "cell_type": "markdown",
   "metadata": {},
   "source": [
    "__Nu vill vi för varje omgång idenfiera de lopp med högst sannolikhet att ha vinnarna bland de tre högs scorade hästarna. Vi sammanfattar varje omgång och summerar vinnarna__"
   ]
  },
  {
   "cell_type": "code",
   "execution_count": 62,
   "metadata": {},
   "outputs": [
    {
     "data": {
      "text/plain": [
       "81"
      ]
     },
     "execution_count": 62,
     "metadata": {},
     "output_type": "execute_result"
    }
   ],
   "source": [
    "df_analys.Datum.drop_duplicates().count()"
   ]
  },
  {
   "cell_type": "code",
   "execution_count": 63,
   "metadata": {},
   "outputs": [],
   "source": [
    "datum_list = list(set(df_analys.Datum.tolist()))\n",
    "\n",
    "omg_list = []\n",
    "\n",
    "for date in datum_list:\n",
    "    df = df_analys[df_analys.Datum == date]\n",
    "    i = 0\n",
    "    for lopp in [1,2,3,4,5,6,7]:\n",
    "        ldf = df[df.Lopp == lopp]\n",
    "        ldf = ldf.sort_values('Score', ascending = False)\n",
    "        vin = ldf.iloc[:3].y.sum()\n",
    "        i = i + vin\n",
    "    omg_list.append(i)\n",
    "    "
   ]
  },
  {
   "cell_type": "code",
   "execution_count": 64,
   "metadata": {},
   "outputs": [
    {
     "data": {
      "text/plain": [
       "[5,\n",
       " 7,\n",
       " 7,\n",
       " 4,\n",
       " 5,\n",
       " 3,\n",
       " 4,\n",
       " 2,\n",
       " 5,\n",
       " 5,\n",
       " 4,\n",
       " 5,\n",
       " 4,\n",
       " 4,\n",
       " 7,\n",
       " 5,\n",
       " 6,\n",
       " 4,\n",
       " 3,\n",
       " 5,\n",
       " 5,\n",
       " 5,\n",
       " 4,\n",
       " 6,\n",
       " 2,\n",
       " 7,\n",
       " 4,\n",
       " 5,\n",
       " 5,\n",
       " 3,\n",
       " 5,\n",
       " 6,\n",
       " 4,\n",
       " 5,\n",
       " 6,\n",
       " 5,\n",
       " 4,\n",
       " 4,\n",
       " 4,\n",
       " 3,\n",
       " 2,\n",
       " 6,\n",
       " 5,\n",
       " 7,\n",
       " 4,\n",
       " 7,\n",
       " 4,\n",
       " 5,\n",
       " 4,\n",
       " 6,\n",
       " 5,\n",
       " 6,\n",
       " 5,\n",
       " 3,\n",
       " 6,\n",
       " 5,\n",
       " 6,\n",
       " 7,\n",
       " 4,\n",
       " 3,\n",
       " 3,\n",
       " 4,\n",
       " 5,\n",
       " 5,\n",
       " 6,\n",
       " 5,\n",
       " 2,\n",
       " 5,\n",
       " 5,\n",
       " 5,\n",
       " 4,\n",
       " 5,\n",
       " 4,\n",
       " 4,\n",
       " 5,\n",
       " 5,\n",
       " 4,\n",
       " 4,\n",
       " 5,\n",
       " 3,\n",
       " 3]"
      ]
     },
     "execution_count": 64,
     "metadata": {},
     "output_type": "execute_result"
    }
   ],
   "source": [
    "# Listan visar hur många hästar i varje omgång vi hade haft som vinnare om vi plockat de tre högst scorade i varje lopp\n",
    "omg_list"
   ]
  },
  {
   "cell_type": "code",
   "execution_count": 65,
   "metadata": {},
   "outputs": [
    {
     "data": {
      "text/plain": [
       "0    4.654321\n",
       "dtype: float64"
      ]
     },
     "execution_count": 65,
     "metadata": {},
     "output_type": "execute_result"
    }
   ],
   "source": [
    "# Beräknar medelvärdet för de 85 omgångarna med model\n",
    "pd.DataFrame(omg_list).mean()"
   ]
  },
  {
   "cell_type": "code",
   "execution_count": 66,
   "metadata": {},
   "outputs": [],
   "source": [
    "### Nu plockar vi VNUM1-3 och jämför"
   ]
  },
  {
   "cell_type": "code",
   "execution_count": 67,
   "metadata": {},
   "outputs": [],
   "source": [
    "datum_list = list(set(df_analys.Datum.tolist()))\n",
    "\n",
    "vnum_list = []\n",
    "\n",
    "for date in datum_list:\n",
    "    df = df_analys[df_analys.Datum == date]\n",
    "    i = 0\n",
    "    for lopp in [1,2,3,4,5,6,7]:\n",
    "        ldf = df[(df.Lopp == lopp) & (df.VNUM.isin([1,2,3]))]\n",
    "        vin = ldf.iloc[:3].y.sum()\n",
    "        i = i + vin\n",
    "    vnum_list.append(i)"
   ]
  },
  {
   "cell_type": "code",
   "execution_count": 68,
   "metadata": {},
   "outputs": [
    {
     "data": {
      "text/plain": [
       "0    4.975309\n",
       "dtype: float64"
      ]
     },
     "execution_count": 68,
     "metadata": {},
     "output_type": "execute_result"
    }
   ],
   "source": [
    "# Beräknar medelvärdet för de 85 omgångarna VNUM1-3\n",
    "pd.DataFrame(vnum_list).mean()"
   ]
  },
  {
   "cell_type": "markdown",
   "metadata": {},
   "source": [
    "### Slutsats: Modellen är marginellt sämre (medelvärde 4.6 vinnare på 85 omgångar)  jämfört med VNUM1-3 (ger 4.9 vinnare på 85 omgångar). "
   ]
  },
  {
   "cell_type": "code",
   "execution_count": null,
   "metadata": {},
   "outputs": [],
   "source": []
  }
 ],
 "metadata": {
  "kernelspec": {
   "display_name": "Python 3",
   "language": "python",
   "name": "python3"
  },
  "language_info": {
   "codemirror_mode": {
    "name": "ipython",
    "version": 3
   },
   "file_extension": ".py",
   "mimetype": "text/x-python",
   "name": "python",
   "nbconvert_exporter": "python",
   "pygments_lexer": "ipython3",
   "version": "3.7.3"
  }
 },
 "nbformat": 4,
 "nbformat_minor": 2
}
