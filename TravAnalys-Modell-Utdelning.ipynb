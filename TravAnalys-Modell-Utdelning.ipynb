{
 "cells": [
  {
   "cell_type": "markdown",
   "metadata": {},
   "source": [
    "__Modell för att prediktera typ av omgång, mått på svårighetsgrad__"
   ]
  },
  {
   "cell_type": "code",
   "execution_count": 198,
   "metadata": {},
   "outputs": [],
   "source": [
    "# Common imports\n",
    "import numpy as np\n",
    "import os\n",
    "import pandas as pd\n",
    "\n",
    "# to make this notebook's output stable across runs\n",
    "np.random.seed(42)\n",
    "\n",
    "# To plot pretty figures\n",
    "%matplotlib inline\n",
    "import matplotlib\n",
    "import matplotlib.pyplot as plt\n",
    "plt.rcParams['axes.labelsize'] = 14\n",
    "plt.rcParams['xtick.labelsize'] = 12\n",
    "plt.rcParams['ytick.labelsize'] = 12"
   ]
  },
  {
   "cell_type": "code",
   "execution_count": 199,
   "metadata": {},
   "outputs": [],
   "source": [
    "from sklearn.model_selection import GridSearchCV "
   ]
  },
  {
   "cell_type": "code",
   "execution_count": 200,
   "metadata": {},
   "outputs": [],
   "source": [
    "# Necessary Sklearn objects used in the analysis\n",
    "from sklearn.metrics import roc_curve, auc\n",
    "from sklearn.ensemble import RandomForestClassifier \n",
    "from sklearn.metrics import confusion_matrix\n",
    "from sklearn import metrics\n",
    "from sklearn import preprocessing\n",
    "\n",
    "from sklearn.pipeline import Pipeline\n",
    "from sklearn.preprocessing import StandardScaler\n",
    "from sklearn.preprocessing import Imputer\n",
    "from sklearn.base import BaseEstimator, TransformerMixin\n",
    "from sklearn.pipeline import FeatureUnion"
   ]
  },
  {
   "cell_type": "code",
   "execution_count": 201,
   "metadata": {},
   "outputs": [],
   "source": [
    "# Where to save the figures\n",
    "PROJECT_ROOT_DIR = os.getcwd()\n",
    "IMAGES_PATH = os.path.join(PROJECT_ROOT_DIR)"
   ]
  },
  {
   "cell_type": "code",
   "execution_count": 202,
   "metadata": {},
   "outputs": [],
   "source": [
    "def save_fig(fig_id, tight_layout=True, fig_extension=\"png\", resolution=300):\n",
    "    path = os.path.join(IMAGES_PATH, fig_id + \".\" + fig_extension)\n",
    "    print(\"Saving figure\", fig_id)\n",
    "    if tight_layout:\n",
    "        plt.tight_layout()\n",
    "    plt.savefig(path, format=fig_extension, dpi=resolution)"
   ]
  },
  {
   "cell_type": "code",
   "execution_count": 203,
   "metadata": {},
   "outputs": [],
   "source": [
    "df1 = pd.read_excel('UtdelningsDataV75TillUffe_2019-03-11.xlsx')"
   ]
  },
  {
   "cell_type": "code",
   "execution_count": 122,
   "metadata": {},
   "outputs": [
    {
     "name": "stdout",
     "output_type": "stream",
     "text": [
      "<class 'pandas.core.frame.DataFrame'>\n",
      "RangeIndex: 17994 entries, 0 to 17993\n",
      "Data columns (total 37 columns):\n",
      "Datum          17994 non-null datetime64[ns]\n",
      "Utdelning      17994 non-null int64\n",
      "Arstid         17994 non-null int64\n",
      "Distans        17994 non-null int64\n",
      "Startsatt      17994 non-null int64\n",
      "Lopp           17994 non-null int64\n",
      "Plac           17994 non-null int64\n",
      "Hast           17994 non-null int64\n",
      "V75PROC        17994 non-null float64\n",
      "V_ODDS         17994 non-null float64\n",
      "GRUPP          17994 non-null int64\n",
      "VLP            17994 non-null float64\n",
      "VNUM           17994 non-null int64\n",
      "SVLP           17994 non-null float64\n",
      "VSVLP          17994 non-null float64\n",
      "VPN_SUM        17994 non-null float64\n",
      "VPN_SUM_ORD    17994 non-null int64\n",
      "VPK_SUM        17994 non-null float64\n",
      "VPK_SUM_ORD    17994 non-null int64\n",
      "VLPB           17994 non-null float64\n",
      "SVLPB          17994 non-null float64\n",
      "VSVLPB         17994 non-null float64\n",
      "E_P            17994 non-null float64\n",
      "E_P_Num        17994 non-null int64\n",
      "E_N            17994 non-null float64\n",
      "E_R            17994 non-null float64\n",
      "E_U            17994 non-null float64\n",
      "G_R            16243 non-null float64\n",
      "A_R            15310 non-null float64\n",
      "T_R            16317 non-null float64\n",
      "SP_R           4730 non-null float64\n",
      "ToR            15201 non-null float64\n",
      "P_R            15903 non-null float64\n",
      "TK_R           10225 non-null float64\n",
      "Ex_R           9979 non-null float64\n",
      "R_R            9979 non-null float64\n",
      "Ts_R           17994 non-null int64\n",
      "dtypes: datetime64[ns](1), float64(23), int64(13)\n",
      "memory usage: 5.1 MB\n"
     ]
    }
   ],
   "source": [
    "df1.info()"
   ]
  },
  {
   "cell_type": "code",
   "execution_count": 204,
   "metadata": {},
   "outputs": [],
   "source": [
    "# Skapar en unik nyckel på lopp: Gör om Datum och lopp till en sträng\n",
    "\n",
    "df1['cdate'] = df1.Datum.astype('object')\n",
    "df1['cLopp'] = df1.Lopp.astype('object')"
   ]
  },
  {
   "cell_type": "code",
   "execution_count": 205,
   "metadata": {},
   "outputs": [],
   "source": [
    "df1['Key'] = df1['cdate'].astype(str) + df1['cLopp'].astype(str)"
   ]
  },
  {
   "cell_type": "code",
   "execution_count": 206,
   "metadata": {},
   "outputs": [
    {
     "data": {
      "text/plain": [
       "<matplotlib.axes._subplots.AxesSubplot at 0x1a17de0c18>"
      ]
     },
     "execution_count": 206,
     "metadata": {},
     "output_type": "execute_result"
    },
    {
     "data": {
      "image/png": "[encoded data removed]",
      "text/plain": [
       "<Figure size 432x288 with 1 Axes>"
      ]
     },
     "metadata": {
      "needs_background": "light"
     },
     "output_type": "display_data"
    }
   ],
   "source": [
    "df1.Utdelning.hist()"
   ]
  },
  {
   "cell_type": "code",
   "execution_count": 127,
   "metadata": {},
   "outputs": [
    {
     "data": {
      "text/plain": [
       "count    1.799400e+04\n",
       "mean     2.121313e+06\n",
       "std      6.929704e+06\n",
       "min      2.330000e+02\n",
       "25%      7.944000e+03\n",
       "50%      4.784000e+04\n",
       "75%      4.746250e+05\n",
       "max      4.284691e+07\n",
       "Name: Utdelning, dtype: float64"
      ]
     },
     "execution_count": 127,
     "metadata": {},
     "output_type": "execute_result"
    }
   ],
   "source": [
    "df1.Utdelning.describe()"
   ]
  },
  {
   "cell_type": "code",
   "execution_count": 207,
   "metadata": {},
   "outputs": [
    {
     "data": {
      "text/plain": [
       "474625.0"
      ]
     },
     "execution_count": 207,
     "metadata": {},
     "output_type": "execute_result"
    }
   ],
   "source": [
    "df1.Utdelning.quantile(q = 0.75)"
   ]
  },
  {
   "cell_type": "markdown",
   "metadata": {},
   "source": [
    "__Filtrerar bort mellanutdelningarna, tar 1 och 4 för att se om modellen drar__"
   ]
  },
  {
   "cell_type": "code",
   "execution_count": 208,
   "metadata": {},
   "outputs": [],
   "source": [
    "df1['Y'] = np.where(df1.Utdelning >= 474625,1,0)"
   ]
  },
  {
   "cell_type": "code",
   "execution_count": 209,
   "metadata": {},
   "outputs": [
    {
     "data": {
      "text/plain": [
       "0    13431\n",
       "1     4563\n",
       "Name: Y, dtype: int64"
      ]
     },
     "execution_count": 209,
     "metadata": {},
     "output_type": "execute_result"
    }
   ],
   "source": [
    "df1.Y.value_counts()"
   ]
  },
  {
   "cell_type": "code",
   "execution_count": 210,
   "metadata": {},
   "outputs": [],
   "source": [
    "df2 = df1[(df1.Datum > '2016-05-20')]. \\\n",
    "drop(['Utdelning','Arstid','Distans','Startsatt','Lopp','Plac','Hast','cdate','cLopp','VNUM','V_ODDS','GRUPP'], axis = 1). \\\n",
    "copy().set_index(['Key'])"
   ]
  },
  {
   "cell_type": "code",
   "execution_count": 139,
   "metadata": {},
   "outputs": [
    {
     "name": "stdout",
     "output_type": "stream",
     "text": [
      "<class 'pandas.core.frame.DataFrame'>\n",
      "Index: 17994 entries, 2016-08-13 00:00:001 to 2017-05-07 00:00:007\n",
      "Data columns (total 28 columns):\n",
      "Datum          17994 non-null datetime64[ns]\n",
      "V75PROC        17994 non-null float64\n",
      "VLP            17994 non-null float64\n",
      "SVLP           17994 non-null float64\n",
      "VSVLP          17994 non-null float64\n",
      "VPN_SUM        17994 non-null float64\n",
      "VPN_SUM_ORD    17994 non-null int64\n",
      "VPK_SUM        17994 non-null float64\n",
      "VPK_SUM_ORD    17994 non-null int64\n",
      "VLPB           17994 non-null float64\n",
      "SVLPB          17994 non-null float64\n",
      "VSVLPB         17994 non-null float64\n",
      "E_P            17994 non-null float64\n",
      "E_P_Num        17994 non-null int64\n",
      "E_N            17994 non-null float64\n",
      "E_R            17994 non-null float64\n",
      "E_U            17994 non-null float64\n",
      "G_R            16243 non-null float64\n",
      "A_R            15310 non-null float64\n",
      "T_R            16317 non-null float64\n",
      "SP_R           4730 non-null float64\n",
      "ToR            15201 non-null float64\n",
      "P_R            15903 non-null float64\n",
      "TK_R           10225 non-null float64\n",
      "Ex_R           9979 non-null float64\n",
      "R_R            9979 non-null float64\n",
      "Ts_R           17994 non-null int64\n",
      "Y              17994 non-null int64\n",
      "dtypes: datetime64[ns](1), float64(22), int64(5)\n",
      "memory usage: 4.0+ MB\n"
     ]
    }
   ],
   "source": [
    "df2.info()"
   ]
  },
  {
   "cell_type": "markdown",
   "metadata": {},
   "source": [
    "__Delar upp i numeriska samt charachter attribut. Det är dessa som går in i modellen__"
   ]
  },
  {
   "cell_type": "code",
   "execution_count": 140,
   "metadata": {},
   "outputs": [
    {
     "name": "stdout",
     "output_type": "stream",
     "text": [
      "datetime64[ns]\n",
      "float64\n",
      "float64\n",
      "float64\n",
      "float64\n",
      "float64\n",
      "int64\n",
      "float64\n",
      "int64\n",
      "float64\n",
      "float64\n",
      "float64\n",
      "float64\n",
      "int64\n",
      "float64\n",
      "float64\n",
      "float64\n",
      "float64\n",
      "float64\n",
      "float64\n",
      "float64\n",
      "float64\n",
      "float64\n",
      "float64\n",
      "float64\n",
      "float64\n",
      "int64\n"
     ]
    }
   ],
   "source": [
    "for var, typ in zip(df2.columns[:-1], df2.dtypes[:-1]):\n",
    "    print(typ)"
   ]
  },
  {
   "cell_type": "code",
   "execution_count": 211,
   "metadata": {},
   "outputs": [],
   "source": [
    "num_attribs = []\n",
    "cat_attribs = []\n",
    "for var, typ in zip(df2.columns[:-1], df2.dtypes[:-1]):\n",
    "    if typ == 'object':\n",
    "        cat_attribs.append(var)\n",
    "    elif typ != 'datetime64[ns]':\n",
    "        num_attribs.append(var)       "
   ]
  },
  {
   "cell_type": "code",
   "execution_count": 212,
   "metadata": {},
   "outputs": [
    {
     "data": {
      "text/plain": [
       "['V75PROC',\n",
       " 'VLP',\n",
       " 'SVLP',\n",
       " 'VSVLP',\n",
       " 'VPN_SUM',\n",
       " 'VPN_SUM_ORD',\n",
       " 'VPK_SUM',\n",
       " 'VPK_SUM_ORD',\n",
       " 'VLPB',\n",
       " 'SVLPB',\n",
       " 'VSVLPB',\n",
       " 'E_P',\n",
       " 'E_P_Num',\n",
       " 'E_N',\n",
       " 'E_R',\n",
       " 'E_U',\n",
       " 'G_R',\n",
       " 'A_R',\n",
       " 'T_R',\n",
       " 'SP_R',\n",
       " 'ToR',\n",
       " 'P_R',\n",
       " 'TK_R',\n",
       " 'Ex_R',\n",
       " 'R_R',\n",
       " 'Ts_R']"
      ]
     },
     "execution_count": 212,
     "metadata": {},
     "output_type": "execute_result"
    }
   ],
   "source": [
    "num_attribs"
   ]
  },
  {
   "cell_type": "code",
   "execution_count": 143,
   "metadata": {},
   "outputs": [
    {
     "data": {
      "text/plain": [
       "26"
      ]
     },
     "execution_count": 143,
     "metadata": {},
     "output_type": "execute_result"
    }
   ],
   "source": [
    "len(num_attribs)"
   ]
  },
  {
   "cell_type": "code",
   "execution_count": 213,
   "metadata": {},
   "outputs": [
    {
     "data": {
      "text/plain": [
       "['V75PROC',\n",
       " 'VLP',\n",
       " 'SVLP',\n",
       " 'VSVLP',\n",
       " 'VPN_SUM',\n",
       " 'VPN_SUM_ORD',\n",
       " 'VPK_SUM',\n",
       " 'VPK_SUM_ORD',\n",
       " 'VLPB',\n",
       " 'SVLPB',\n",
       " 'VSVLPB',\n",
       " 'E_P',\n",
       " 'E_P_Num',\n",
       " 'E_N',\n",
       " 'E_R',\n",
       " 'E_U',\n",
       " 'G_R',\n",
       " 'A_R',\n",
       " 'T_R',\n",
       " 'SP_R',\n",
       " 'ToR',\n",
       " 'P_R',\n",
       " 'TK_R',\n",
       " 'Ex_R',\n",
       " 'R_R',\n",
       " 'Ts_R']"
      ]
     },
     "execution_count": 213,
     "metadata": {},
     "output_type": "execute_result"
    }
   ],
   "source": [
    "features_list = num_attribs\n",
    "features_list"
   ]
  },
  {
   "cell_type": "markdown",
   "metadata": {},
   "source": [
    "__Gruppera på omgång och beräkna varians för varje omgång för varje ingående feature__"
   ]
  },
  {
   "cell_type": "code",
   "execution_count": 214,
   "metadata": {},
   "outputs": [],
   "source": [
    "grouped = df2.groupby('Datum')"
   ]
  },
  {
   "cell_type": "code",
   "execution_count": 215,
   "metadata": {},
   "outputs": [],
   "source": [
    "df_list = []\n",
    "for var in features_list:\n",
    "    df_list.append(grouped[var].var().to_frame())"
   ]
  },
  {
   "cell_type": "code",
   "execution_count": 216,
   "metadata": {},
   "outputs": [],
   "source": [
    "df_analys = df2.groupby('Datum').first()['Y'].to_frame()"
   ]
  },
  {
   "cell_type": "code",
   "execution_count": 217,
   "metadata": {},
   "outputs": [],
   "source": [
    "# Skapar en dataframe av allt-konkatinerar\n",
    "\n",
    "for df in df_list:\n",
    "    df_analys = pd.concat([df_analys, df], axis = 1)\n",
    "\n"
   ]
  },
  {
   "cell_type": "code",
   "execution_count": 218,
   "metadata": {},
   "outputs": [
    {
     "name": "stdout",
     "output_type": "stream",
     "text": [
      "<class 'pandas.core.frame.DataFrame'>\n",
      "DatetimeIndex: 222 entries, 2016-05-21 to 2019-01-05\n",
      "Data columns (total 27 columns):\n",
      "Y              222 non-null int64\n",
      "V75PROC        222 non-null float64\n",
      "VLP            222 non-null float64\n",
      "SVLP           222 non-null float64\n",
      "VSVLP          222 non-null float64\n",
      "VPN_SUM        222 non-null float64\n",
      "VPN_SUM_ORD    222 non-null float64\n",
      "VPK_SUM        222 non-null float64\n",
      "VPK_SUM_ORD    222 non-null float64\n",
      "VLPB           222 non-null float64\n",
      "SVLPB          222 non-null float64\n",
      "VSVLPB         222 non-null float64\n",
      "E_P            222 non-null float64\n",
      "E_P_Num        222 non-null float64\n",
      "E_N            222 non-null float64\n",
      "E_R            222 non-null float64\n",
      "E_U            222 non-null float64\n",
      "G_R            200 non-null float64\n",
      "A_R            189 non-null float64\n",
      "T_R            201 non-null float64\n",
      "SP_R           58 non-null float64\n",
      "ToR            187 non-null float64\n",
      "P_R            196 non-null float64\n",
      "TK_R           126 non-null float64\n",
      "Ex_R           123 non-null float64\n",
      "R_R            123 non-null float64\n",
      "Ts_R           222 non-null float64\n",
      "dtypes: float64(26), int64(1)\n",
      "memory usage: 48.6 KB\n"
     ]
    }
   ],
   "source": [
    "df_analys.info()"
   ]
  },
  {
   "cell_type": "markdown",
   "metadata": {},
   "source": [
    "__Nu bygger vi upp en pipeline__"
   ]
  },
  {
   "cell_type": "code",
   "execution_count": 219,
   "metadata": {},
   "outputs": [],
   "source": [
    "# Create a class to select numerical or categorical columns \n",
    "# since Scikit-Learn doesn't handle DataFrames yet\n",
    "# Denna klass måste vi göra för att särskilja numeriska variabler mot character variabler\n",
    "class DataFrameSelector(BaseEstimator, TransformerMixin):\n",
    "    def __init__(self, attribute_names):\n",
    "        self.attribute_names = attribute_names\n",
    "    def fit(self, X, y=None):\n",
    "        return self\n",
    "    def transform(self, X):\n",
    "        return X[self.attribute_names].values"
   ]
  },
  {
   "cell_type": "code",
   "execution_count": 220,
   "metadata": {},
   "outputs": [],
   "source": [
    "# Pipeline för numeriska variabler\n",
    "full_pipeline = Pipeline([\n",
    "        ('selector', DataFrameSelector(num_attribs)),\n",
    "        ('imputer', Imputer(strategy=\"median\"))\n",
    "    ])\n",
    "\n"
   ]
  },
  {
   "cell_type": "code",
   "execution_count": 32,
   "metadata": {},
   "outputs": [],
   "source": [
    "# Pipeline för numeriska variabler\n",
    "num_pipeline = Pipeline([\n",
    "        ('selector', DataFrameSelector(num_attribs)),\n",
    "        ('imputer', Imputer(strategy=\"median\"))\n",
    "    ])\n",
    "\n",
    "cat_pipeline = Pipeline([\n",
    "        ('dummy_cat', SetDummyVar(cat_attribs)),\n",
    "    ])"
   ]
  },
  {
   "cell_type": "code",
   "execution_count": 35,
   "metadata": {},
   "outputs": [],
   "source": [
    "full_pipeline = FeatureUnion(transformer_list=[\n",
    "        (\"num_pipeline\", num_pipeline),\n",
    "        (\"cat_pipeline\", cat_pipeline),\n",
    "    ])"
   ]
  },
  {
   "cell_type": "code",
   "execution_count": 100,
   "metadata": {},
   "outputs": [
    {
     "data": {
      "text/plain": [
       "114"
      ]
     },
     "execution_count": 100,
     "metadata": {},
     "output_type": "execute_result"
    }
   ],
   "source": [
    "len(df_analys)"
   ]
  },
  {
   "cell_type": "markdown",
   "metadata": {},
   "source": [
    "### In order to avoid overfitting data is split into training data and validation data. 75% träningsdata och 25% valideringsdata"
   ]
  },
  {
   "cell_type": "code",
   "execution_count": 236,
   "metadata": {},
   "outputs": [],
   "source": [
    "df_analys['is_train']=np.random.uniform(0,1,len(df_analys))<=0.75\n",
    "\n",
    "train, validate = df_analys[df_analys['is_train']==True], df_analys[df_analys['is_train']==False]"
   ]
  },
  {
   "cell_type": "code",
   "execution_count": 237,
   "metadata": {},
   "outputs": [
    {
     "data": {
      "text/plain": [
       "pandas.core.frame.DataFrame"
      ]
     },
     "execution_count": 237,
     "metadata": {},
     "output_type": "execute_result"
    }
   ],
   "source": [
    "type(train)"
   ]
  },
  {
   "cell_type": "code",
   "execution_count": 238,
   "metadata": {},
   "outputs": [
    {
     "data": {
      "text/plain": [
       "51"
      ]
     },
     "execution_count": 238,
     "metadata": {},
     "output_type": "execute_result"
    }
   ],
   "source": [
    "len(validate)"
   ]
  },
  {
   "cell_type": "code",
   "execution_count": 239,
   "metadata": {},
   "outputs": [
    {
     "name": "stdout",
     "output_type": "stream",
     "text": [
      "<class 'pandas.core.frame.DataFrame'>\n",
      "DatetimeIndex: 171 entries, 2016-05-21 to 2019-01-05\n",
      "Data columns (total 28 columns):\n",
      "Y              171 non-null int64\n",
      "V75PROC        171 non-null float64\n",
      "VLP            171 non-null float64\n",
      "SVLP           171 non-null float64\n",
      "VSVLP          171 non-null float64\n",
      "VPN_SUM        171 non-null float64\n",
      "VPN_SUM_ORD    171 non-null float64\n",
      "VPK_SUM        171 non-null float64\n",
      "VPK_SUM_ORD    171 non-null float64\n",
      "VLPB           171 non-null float64\n",
      "SVLPB          171 non-null float64\n",
      "VSVLPB         171 non-null float64\n",
      "E_P            171 non-null float64\n",
      "E_P_Num        171 non-null float64\n",
      "E_N            171 non-null float64\n",
      "E_R            171 non-null float64\n",
      "E_U            171 non-null float64\n",
      "G_R            154 non-null float64\n",
      "A_R            147 non-null float64\n",
      "T_R            155 non-null float64\n",
      "SP_R           47 non-null float64\n",
      "ToR            144 non-null float64\n",
      "P_R            150 non-null float64\n",
      "TK_R           96 non-null float64\n",
      "Ex_R           93 non-null float64\n",
      "R_R            93 non-null float64\n",
      "Ts_R           171 non-null float64\n",
      "is_train       171 non-null bool\n",
      "dtypes: bool(1), float64(26), int64(1)\n",
      "memory usage: 37.6 KB\n"
     ]
    }
   ],
   "source": [
    "train.info()"
   ]
  },
  {
   "cell_type": "markdown",
   "metadata": {},
   "source": [
    "### Nu skapar vi arrayer som ska användas av modellen - använder den skapade Pipelineobjektet som gör alla nödvändiga dataransformationer "
   ]
  },
  {
   "cell_type": "code",
   "execution_count": 240,
   "metadata": {},
   "outputs": [],
   "source": [
    "# Träningssdata\n",
    "# Alla förklaringsvaribler i en multidimensionell array där kategrisvaribler har gjorts om till\n",
    "# dummyvariabler\n",
    "features_train = full_pipeline.fit_transform(train)\n",
    "## En array som håller det vi vill predikter\n",
    "label_train = train[\"Y\"].copy()"
   ]
  },
  {
   "cell_type": "code",
   "execution_count": 241,
   "metadata": {},
   "outputs": [],
   "source": [
    "# Valideringsdata\n",
    "# Alla förklaringsvaribler i en multidimensionell array där kategrisvaribler har gjorts om till\n",
    "# dummyvariabler\n",
    "features_validate = full_pipeline.fit_transform(validate)\n",
    "## En array som håller det vi vill predikter\n",
    "label_validate = validate[\"Y\"].copy()"
   ]
  },
  {
   "cell_type": "markdown",
   "metadata": {},
   "source": [
    "# Train the model on the training data and then evaluate on the validation data\n",
    "\n",
    "- predicts: A twodimensional array that contains posterrior probabbility for a donation behaviour, one for non-donation and one for donation\n",
    "- fpr : False positive rate, number of false positive for a specific threshold value\n",
    "- tpr : True positive rate, number of true positive for a specific threshold value\n",
    "- threshold: Sorted threshold (descending) values for the likelihod to donate\n",
    "- roc_auc: Receiver operating characteristics. A value close to 1 indicates a strong model. A value close to 0.5 means that the model is rather poor"
   ]
  },
  {
   "cell_type": "code",
   "execution_count": 242,
   "metadata": {},
   "outputs": [
    {
     "data": {
      "text/plain": [
       "RandomForestClassifier(bootstrap=True, class_weight=None, criterion='gini',\n",
       "            max_depth=5, max_features='auto', max_leaf_nodes=None,\n",
       "            min_impurity_decrease=0.0, min_impurity_split=None,\n",
       "            min_samples_leaf=1, min_samples_split=2,\n",
       "            min_weight_fraction_leaf=0.0, n_estimators=1000, n_jobs=1,\n",
       "            oob_score=False, random_state=None, verbose=0,\n",
       "            warm_start=False)"
      ]
     },
     "execution_count": 242,
     "metadata": {},
     "output_type": "execute_result"
    }
   ],
   "source": [
    "# Bygger random forrest och analyserar roc_auc\n",
    "# Instansierar modellen\n",
    "rf = RandomForestClassifier(n_estimators = 1000, max_depth=5)\n",
    "\n",
    "# Tränar modellen\n",
    "\n",
    "rf.fit(features_train,label_train)"
   ]
  },
  {
   "cell_type": "code",
   "execution_count": 243,
   "metadata": {},
   "outputs": [],
   "source": [
    "# Predikterar med modellen med valideringsdata\n",
    "\n",
    "predict = rf.predict_proba(features_validate)\n",
    "\n",
    "fpr, tpr, threshold = roc_curve(label_validate,predict[:,1])\n",
    "\n",
    "roc_auc = auc(fpr,tpr)"
   ]
  },
  {
   "cell_type": "markdown",
   "metadata": {},
   "source": [
    "__Varför ger threshold och prob olika medianvärden?__"
   ]
  },
  {
   "cell_type": "markdown",
   "metadata": {},
   "source": [
    "# A ROC curve for the charity classifier on the charity data\n",
    "\n",
    "__It traces out two types of error as we vary the threshold value for the posterior probability of charity. The actual thresholds are not shown. The true positive rate is the sensitivity: the fraction of givers that are correctly identified, using a given threshold value. The false positive rate is 1-specificity: the fraction of non-givers that we classify incorrectly as givers, using that same threshold value. The ideal ROC curve hugs the top left corner, indicating a high true positive rate and a low false positive rate. The dotted line represents the “no information” classifier.__ "
   ]
  },
  {
   "cell_type": "code",
   "execution_count": 244,
   "metadata": {},
   "outputs": [
    {
     "name": "stdout",
     "output_type": "stream",
     "text": [
      "Saving figure ROC\n"
     ]
    },
    {
     "data": {
      "image/png": "[encoded data removed]",
      "text/plain": [
       "<Figure size 432x288 with 1 Axes>"
      ]
     },
     "metadata": {
      "needs_background": "light"
     },
     "output_type": "display_data"
    }
   ],
   "source": [
    "# Graf\n",
    "\n",
    "plt.title('Receiver Operating Characteristic') \n",
    "plt.plot( fpr, tpr, 'b', label =' AUC = %0.3f' % roc_auc) \n",
    "plt.legend( loc ='lower right') \n",
    "plt.plot([ 0, 1], [0, 1], 'r--') \n",
    "plt.xlim([ 0.0, 1.0]) \n",
    "plt.ylim([ 0.0, 1.0]) \n",
    "plt.ylabel('True positive rate') \n",
    "plt.xlabel('False positive rate') \n",
    "save_fig('ROC')\n",
    "plt.show()"
   ]
  },
  {
   "cell_type": "code",
   "execution_count": 162,
   "metadata": {},
   "outputs": [],
   "source": [
    "prepared = full_pipeline.fit_transform(df_analys)\n",
    "## En array som håller det vi vill predikter\n",
    "labels = df_analys[\"Y\"].copy()"
   ]
  },
  {
   "cell_type": "code",
   "execution_count": 167,
   "metadata": {},
   "outputs": [],
   "source": [
    "rf = RandomForestClassifier(n_estimators = 1000, max_depth=5)"
   ]
  },
  {
   "cell_type": "code",
   "execution_count": 233,
   "metadata": {},
   "outputs": [],
   "source": [
    "from sklearn.model_selection import cross_val_score \n",
    "scores = cross_val_score(rf , prepared , labels , scoring = \"roc_auc\", cv = 5 ) "
   ]
  },
  {
   "cell_type": "code",
   "execution_count": 234,
   "metadata": {},
   "outputs": [
    {
     "data": {
      "text/plain": [
       "array([0.57312253, 0.53952569, 0.65909091, 0.57438017, 0.62396694])"
      ]
     },
     "execution_count": 234,
     "metadata": {},
     "output_type": "execute_result"
    }
   ],
   "source": [
    "scores"
   ]
  },
  {
   "cell_type": "code",
   "execution_count": 235,
   "metadata": {},
   "outputs": [
    {
     "data": {
      "text/plain": [
       "0.5940172475745598"
      ]
     },
     "execution_count": 235,
     "metadata": {},
     "output_type": "execute_result"
    }
   ],
   "source": [
    "scores.mean()"
   ]
  },
  {
   "cell_type": "code",
   "execution_count": null,
   "metadata": {},
   "outputs": [],
   "source": []
  }
 ],
 "metadata": {
  "kernelspec": {
   "display_name": "Python 3",
   "language": "python",
   "name": "python3"
  },
  "language_info": {
   "codemirror_mode": {
    "name": "ipython",
    "version": 3
   },
   "file_extension": ".py",
   "mimetype": "text/x-python",
   "name": "python",
   "nbconvert_exporter": "python",
   "pygments_lexer": "ipython3",
   "version": "3.7.0"
  }
 },
 "nbformat": 4,
 "nbformat_minor": 2
}
