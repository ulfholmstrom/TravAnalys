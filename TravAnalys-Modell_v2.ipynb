{
 "cells": [
  {
   "cell_type": "markdown",
   "metadata": {},
   "source": [
    "__Tredje modellutkast - Random Forrest__"
   ]
  },
  {
   "cell_type": "code",
   "execution_count": 1,
   "metadata": {},
   "outputs": [],
   "source": [
    "# Common imports\n",
    "import numpy as np\n",
    "import os\n",
    "import pandas as pd\n",
    "\n",
    "# to make this notebook's output stable across runs\n",
    "np.random.seed(42)\n",
    "\n",
    "# To plot pretty figures\n",
    "%matplotlib inline\n",
    "import matplotlib\n",
    "import matplotlib.pyplot as plt\n",
    "plt.rcParams['axes.labelsize'] = 14\n",
    "plt.rcParams['xtick.labelsize'] = 12\n",
    "plt.rcParams['ytick.labelsize'] = 12"
   ]
  },
  {
   "cell_type": "code",
   "execution_count": 2,
   "metadata": {},
   "outputs": [],
   "source": [
    "from sklearn.model_selection import GridSearchCV "
   ]
  },
  {
   "cell_type": "code",
   "execution_count": 3,
   "metadata": {},
   "outputs": [
    {
     "name": "stderr",
     "output_type": "stream",
     "text": [
      "/anaconda3/lib/python3.7/site-packages/sklearn/ensemble/weight_boosting.py:29: DeprecationWarning: numpy.core.umath_tests is an internal NumPy module and should not be imported. It will be removed in a future NumPy release.\n",
      "  from numpy.core.umath_tests import inner1d\n"
     ]
    }
   ],
   "source": [
    "# Necessary Sklearn objects used in the analysis\n",
    "from sklearn.metrics import roc_curve, auc\n",
    "from sklearn.ensemble import RandomForestClassifier \n",
    "from sklearn.metrics import confusion_matrix\n",
    "from sklearn import metrics\n",
    "from sklearn import preprocessing\n",
    "\n",
    "from sklearn.pipeline import Pipeline\n",
    "from sklearn.preprocessing import StandardScaler\n",
    "from sklearn.preprocessing import Imputer\n",
    "from sklearn.base import BaseEstimator, TransformerMixin\n",
    "from sklearn.pipeline import FeatureUnion"
   ]
  },
  {
   "cell_type": "code",
   "execution_count": 4,
   "metadata": {},
   "outputs": [],
   "source": [
    "# Where to save the figures\n",
    "PROJECT_ROOT_DIR = os.getcwd()\n",
    "IMAGES_PATH = os.path.join(PROJECT_ROOT_DIR)"
   ]
  },
  {
   "cell_type": "code",
   "execution_count": 5,
   "metadata": {},
   "outputs": [],
   "source": [
    "def save_fig(fig_id, tight_layout=True, fig_extension=\"png\", resolution=300):\n",
    "    path = os.path.join(IMAGES_PATH, fig_id + \".\" + fig_extension)\n",
    "    print(\"Saving figure\", fig_id)\n",
    "    if tight_layout:\n",
    "        plt.tight_layout()\n",
    "    plt.savefig(path, format=fig_extension, dpi=resolution)"
   ]
  },
  {
   "cell_type": "code",
   "execution_count": 6,
   "metadata": {},
   "outputs": [],
   "source": [
    "df1 = pd.read_excel('DataV75TillUffe_2019-02-01_2.xlsx')"
   ]
  },
  {
   "cell_type": "code",
   "execution_count": 7,
   "metadata": {},
   "outputs": [
    {
     "name": "stdout",
     "output_type": "stream",
     "text": [
      "<class 'pandas.core.frame.DataFrame'>\n",
      "RangeIndex: 17994 entries, 0 to 17993\n",
      "Data columns (total 38 columns):\n",
      "Datum          17994 non-null datetime64[ns]\n",
      "Utdelning      17994 non-null int64\n",
      "Arstid         17994 non-null int64\n",
      "Distans        17994 non-null int64\n",
      "Startsatt      17994 non-null int64\n",
      "Lopp           17994 non-null int64\n",
      "Plac           17994 non-null int64\n",
      "Hast           17994 non-null int64\n",
      "V75PROC        17994 non-null float64\n",
      "V_ODDS         17994 non-null float64\n",
      "GRUPP          17994 non-null int64\n",
      "VLP            17994 non-null float64\n",
      "VNUM           17994 non-null int64\n",
      "SVLP           17994 non-null float64\n",
      "VSVLP          17994 non-null float64\n",
      "VPN_SUM        17994 non-null float64\n",
      "VPN_SUM_ORD    17994 non-null int64\n",
      "VPK_SUM        17994 non-null float64\n",
      "VPK_SUM_ORD    17994 non-null int64\n",
      "VLPB           17994 non-null float64\n",
      "SVLPB          17994 non-null float64\n",
      "VSVLPB         17994 non-null float64\n",
      "E_P            17994 non-null float64\n",
      "E_P_Num        17994 non-null int64\n",
      "E_N            17994 non-null float64\n",
      "E_R            17994 non-null float64\n",
      "E_U            17994 non-null float64\n",
      "G_R            16243 non-null float64\n",
      "S_R            15358 non-null float64\n",
      "A_R            15310 non-null float64\n",
      "T_R            16317 non-null float64\n",
      "SP_R           4730 non-null float64\n",
      "ToR            15201 non-null float64\n",
      "P_R            15903 non-null float64\n",
      "TK_R           10225 non-null float64\n",
      "Ex_R           9979 non-null float64\n",
      "R_R            9979 non-null float64\n",
      "Ts_R           17994 non-null int64\n",
      "dtypes: datetime64[ns](1), float64(24), int64(13)\n",
      "memory usage: 5.2 MB\n"
     ]
    }
   ],
   "source": [
    "df1.info()"
   ]
  },
  {
   "cell_type": "code",
   "execution_count": 8,
   "metadata": {},
   "outputs": [
    {
     "data": {
      "text/plain": [
       "0    16439\n",
       "1     1555\n",
       "Name: Plac, dtype: int64"
      ]
     },
     "execution_count": 8,
     "metadata": {},
     "output_type": "execute_result"
    }
   ],
   "source": [
    "df1.Plac.value_counts()"
   ]
  },
  {
   "cell_type": "code",
   "execution_count": 9,
   "metadata": {},
   "outputs": [
    {
     "data": {
      "text/plain": [
       "222"
      ]
     },
     "execution_count": 9,
     "metadata": {},
     "output_type": "execute_result"
    }
   ],
   "source": [
    "df1.Datum.drop_duplicates().count()"
   ]
  },
  {
   "cell_type": "code",
   "execution_count": 10,
   "metadata": {},
   "outputs": [
    {
     "data": {
      "text/plain": [
       "1554"
      ]
     },
     "execution_count": 10,
     "metadata": {},
     "output_type": "execute_result"
    }
   ],
   "source": [
    "222*7"
   ]
  },
  {
   "cell_type": "code",
   "execution_count": 11,
   "metadata": {},
   "outputs": [],
   "source": [
    "# Skapar en unik nyckel på lopp: Gör om Datum och lopp till en sträng\n",
    "\n",
    "df1['cdate'] = df1.Datum.astype('object')\n",
    "df1['cLopp'] = df1.Lopp.astype('object')"
   ]
  },
  {
   "cell_type": "code",
   "execution_count": 12,
   "metadata": {},
   "outputs": [],
   "source": [
    "df1['Key'] = df1['cdate'].astype(str) + df1['cLopp'].astype(str)"
   ]
  },
  {
   "cell_type": "code",
   "execution_count": 13,
   "metadata": {},
   "outputs": [
    {
     "data": {
      "text/plain": [
       "17994"
      ]
     },
     "execution_count": 13,
     "metadata": {},
     "output_type": "execute_result"
    }
   ],
   "source": [
    "len(df1)"
   ]
  },
  {
   "cell_type": "code",
   "execution_count": 14,
   "metadata": {},
   "outputs": [
    {
     "data": {
      "text/plain": [
       "1554"
      ]
     },
     "execution_count": 14,
     "metadata": {},
     "output_type": "execute_result"
    }
   ],
   "source": [
    "df1.Key.drop_duplicates().count()"
   ]
  },
  {
   "cell_type": "markdown",
   "metadata": {},
   "source": [
    "__Skapar en målvariabel - vinnare__"
   ]
  },
  {
   "cell_type": "code",
   "execution_count": 126,
   "metadata": {},
   "outputs": [],
   "source": [
    "df1['Y'] = np.where(df1['Plac'].isin([1]), 1,0)"
   ]
  },
  {
   "cell_type": "markdown",
   "metadata": {},
   "source": [
    "__Nu plockar vi ut 10 v75 omgångar för att använda dem som test__"
   ]
  },
  {
   "cell_type": "code",
   "execution_count": 127,
   "metadata": {},
   "outputs": [],
   "source": [
    "v75 = df1.Datum.drop_duplicates().to_frame()"
   ]
  },
  {
   "cell_type": "code",
   "execution_count": 128,
   "metadata": {},
   "outputs": [
    {
     "data": {
      "text/plain": [
       "222"
      ]
     },
     "execution_count": 128,
     "metadata": {},
     "output_type": "execute_result"
    }
   ],
   "source": [
    "len(v75)"
   ]
  },
  {
   "cell_type": "code",
   "execution_count": 129,
   "metadata": {},
   "outputs": [],
   "source": [
    "v75['is_test']=np.random.uniform(0,1,len(v75))<=0.05\n",
    "\n",
    "test, basedf = v75[v75['is_test']==True], v75[v75['is_test']==False]"
   ]
  },
  {
   "cell_type": "markdown",
   "metadata": {},
   "source": [
    "__Skapar en kopia, droppar de variabler som inte ska vara med i analysen samt sätter index__"
   ]
  },
  {
   "cell_type": "code",
   "execution_count": 130,
   "metadata": {},
   "outputs": [
    {
     "name": "stdout",
     "output_type": "stream",
     "text": [
      "<class 'pandas.core.frame.DataFrame'>\n",
      "RangeIndex: 17994 entries, 0 to 17993\n",
      "Data columns (total 42 columns):\n",
      "Datum          17994 non-null datetime64[ns]\n",
      "Utdelning      17994 non-null int64\n",
      "Arstid         17994 non-null int64\n",
      "Distans        17994 non-null int64\n",
      "Startsatt      17994 non-null int64\n",
      "Lopp           17994 non-null int64\n",
      "Plac           17994 non-null int64\n",
      "Hast           17994 non-null int64\n",
      "V75PROC        17994 non-null float64\n",
      "V_ODDS         17994 non-null float64\n",
      "GRUPP          17994 non-null int64\n",
      "VLP            17994 non-null float64\n",
      "VNUM           17994 non-null int64\n",
      "SVLP           17994 non-null float64\n",
      "VSVLP          17994 non-null float64\n",
      "VPN_SUM        17994 non-null float64\n",
      "VPN_SUM_ORD    17994 non-null int64\n",
      "VPK_SUM        17994 non-null float64\n",
      "VPK_SUM_ORD    17994 non-null int64\n",
      "VLPB           17994 non-null float64\n",
      "SVLPB          17994 non-null float64\n",
      "VSVLPB         17994 non-null float64\n",
      "E_P            17994 non-null float64\n",
      "E_P_Num        17994 non-null int64\n",
      "E_N            17994 non-null float64\n",
      "E_R            17994 non-null float64\n",
      "E_U            17994 non-null float64\n",
      "G_R            16243 non-null float64\n",
      "S_R            15358 non-null float64\n",
      "A_R            15310 non-null float64\n",
      "T_R            16317 non-null float64\n",
      "SP_R           4730 non-null float64\n",
      "ToR            15201 non-null float64\n",
      "P_R            15903 non-null float64\n",
      "TK_R           10225 non-null float64\n",
      "Ex_R           9979 non-null float64\n",
      "R_R            9979 non-null float64\n",
      "Ts_R           17994 non-null int64\n",
      "cdate          17994 non-null object\n",
      "cLopp          17994 non-null object\n",
      "Key            17994 non-null object\n",
      "Y              17994 non-null int64\n",
      "dtypes: datetime64[ns](1), float64(24), int64(14), object(3)\n",
      "memory usage: 5.8+ MB\n"
     ]
    }
   ],
   "source": [
    "df1.info()"
   ]
  },
  {
   "cell_type": "code",
   "execution_count": 131,
   "metadata": {},
   "outputs": [],
   "source": [
    "df2 = df1[(df1.Datum > '2016-05-20') & (df1.Datum.isin(basedf.Datum.tolist()))]. \\\n",
    "drop(['Utdelning','Datum','Arstid','Distans','Startsatt','Lopp','Plac','Hast','cdate','cLopp','VNUM','V_ODDS','S_R', \\\n",
    "      'V75PROC','E_U', 'GRUPP'], axis = 1). \\\n",
    "copy().set_index(['Key'])"
   ]
  },
  {
   "cell_type": "code",
   "execution_count": 132,
   "metadata": {},
   "outputs": [],
   "source": [
    "test_df =  df1[(df1.Datum > '2016-05-20') & (df1.Datum.isin(test.Datum.tolist()))]. \\\n",
    "drop(['Utdelning','Arstid','Distans','Startsatt','Lopp','Plac','Hast','cdate','cLopp','VNUM','V_ODDS','S_R', \\\n",
    "      'V75PROC','E_U','GRUPP'], axis = 1). \\\n",
    "copy().set_index(['Key'])"
   ]
  },
  {
   "cell_type": "code",
   "execution_count": 133,
   "metadata": {},
   "outputs": [
    {
     "data": {
      "text/plain": [
       "17037"
      ]
     },
     "execution_count": 133,
     "metadata": {},
     "output_type": "execute_result"
    }
   ],
   "source": [
    "len(df2)"
   ]
  },
  {
   "cell_type": "code",
   "execution_count": 134,
   "metadata": {},
   "outputs": [
    {
     "data": {
      "text/plain": [
       "957"
      ]
     },
     "execution_count": 134,
     "metadata": {},
     "output_type": "execute_result"
    }
   ],
   "source": [
    "len(test_df)"
   ]
  },
  {
   "cell_type": "markdown",
   "metadata": {},
   "source": [
    "__Gör om GRUPP till objekt för att kunna använda befintlig dummylogik__"
   ]
  },
  {
   "cell_type": "code",
   "execution_count": 135,
   "metadata": {},
   "outputs": [
    {
     "ename": "AttributeError",
     "evalue": "'DataFrame' object has no attribute 'GRUPP'",
     "output_type": "error",
     "traceback": [
      "\u001b[0;31m---------------------------------------------------------------------------\u001b[0m",
      "\u001b[0;31mAttributeError\u001b[0m                            Traceback (most recent call last)",
      "\u001b[0;32m<ipython-input-135-41a1110b2b5d>\u001b[0m in \u001b[0;36m<module>\u001b[0;34m()\u001b[0m\n\u001b[0;32m----> 1\u001b[0;31m \u001b[0mdf2\u001b[0m\u001b[0;34m[\u001b[0m\u001b[0;34m'GRUPP'\u001b[0m\u001b[0;34m]\u001b[0m \u001b[0;34m=\u001b[0m \u001b[0mdf2\u001b[0m\u001b[0;34m.\u001b[0m\u001b[0mGRUPP\u001b[0m\u001b[0;34m.\u001b[0m\u001b[0mastype\u001b[0m\u001b[0;34m(\u001b[0m\u001b[0;34m'object'\u001b[0m\u001b[0;34m)\u001b[0m\u001b[0;34m\u001b[0m\u001b[0m\n\u001b[0m",
      "\u001b[0;32m/anaconda3/lib/python3.7/site-packages/pandas/core/generic.py\u001b[0m in \u001b[0;36m__getattr__\u001b[0;34m(self, name)\u001b[0m\n\u001b[1;32m   4374\u001b[0m             \u001b[0;32mif\u001b[0m \u001b[0mself\u001b[0m\u001b[0;34m.\u001b[0m\u001b[0m_info_axis\u001b[0m\u001b[0;34m.\u001b[0m\u001b[0m_can_hold_identifiers_and_holds_name\u001b[0m\u001b[0;34m(\u001b[0m\u001b[0mname\u001b[0m\u001b[0;34m)\u001b[0m\u001b[0;34m:\u001b[0m\u001b[0;34m\u001b[0m\u001b[0m\n\u001b[1;32m   4375\u001b[0m                 \u001b[0;32mreturn\u001b[0m \u001b[0mself\u001b[0m\u001b[0;34m[\u001b[0m\u001b[0mname\u001b[0m\u001b[0;34m]\u001b[0m\u001b[0;34m\u001b[0m\u001b[0m\n\u001b[0;32m-> 4376\u001b[0;31m             \u001b[0;32mreturn\u001b[0m \u001b[0mobject\u001b[0m\u001b[0;34m.\u001b[0m\u001b[0m__getattribute__\u001b[0m\u001b[0;34m(\u001b[0m\u001b[0mself\u001b[0m\u001b[0;34m,\u001b[0m \u001b[0mname\u001b[0m\u001b[0;34m)\u001b[0m\u001b[0;34m\u001b[0m\u001b[0m\n\u001b[0m\u001b[1;32m   4377\u001b[0m \u001b[0;34m\u001b[0m\u001b[0m\n\u001b[1;32m   4378\u001b[0m     \u001b[0;32mdef\u001b[0m \u001b[0m__setattr__\u001b[0m\u001b[0;34m(\u001b[0m\u001b[0mself\u001b[0m\u001b[0;34m,\u001b[0m \u001b[0mname\u001b[0m\u001b[0;34m,\u001b[0m \u001b[0mvalue\u001b[0m\u001b[0;34m)\u001b[0m\u001b[0;34m:\u001b[0m\u001b[0;34m\u001b[0m\u001b[0m\n",
      "\u001b[0;31mAttributeError\u001b[0m: 'DataFrame' object has no attribute 'GRUPP'"
     ]
    }
   ],
   "source": [
    "df2['GRUPP'] = df2.GRUPP.astype('object')"
   ]
  },
  {
   "cell_type": "code",
   "execution_count": 25,
   "metadata": {},
   "outputs": [
    {
     "name": "stdout",
     "output_type": "stream",
     "text": [
      "<class 'pandas.core.frame.DataFrame'>\n",
      "Index: 16953 entries, 2016-05-21 00:00:001 to 2019-01-05 00:00:007\n",
      "Data columns (total 26 columns):\n",
      "GRUPP          16953 non-null object\n",
      "VLP            16953 non-null float64\n",
      "SVLP           16953 non-null float64\n",
      "VSVLP          16953 non-null float64\n",
      "VPN_SUM        16953 non-null float64\n",
      "VPN_SUM_ORD    16953 non-null int64\n",
      "VPK_SUM        16953 non-null float64\n",
      "VPK_SUM_ORD    16953 non-null int64\n",
      "VLPB           16953 non-null float64\n",
      "SVLPB          16953 non-null float64\n",
      "VSVLPB         16953 non-null float64\n",
      "E_P            16953 non-null float64\n",
      "E_P_Num        16953 non-null int64\n",
      "E_N            16953 non-null float64\n",
      "E_R            16953 non-null float64\n",
      "G_R            15284 non-null float64\n",
      "A_R            14439 non-null float64\n",
      "T_R            15358 non-null float64\n",
      "SP_R           4327 non-null float64\n",
      "ToR            14322 non-null float64\n",
      "P_R            14944 non-null float64\n",
      "TK_R           9594 non-null float64\n",
      "Ex_R           9348 non-null float64\n",
      "R_R            9348 non-null float64\n",
      "Ts_R           16953 non-null int64\n",
      "Y              16953 non-null int64\n",
      "dtypes: float64(20), int64(5), object(1)\n",
      "memory usage: 3.5+ MB\n"
     ]
    }
   ],
   "source": [
    "df2.info()"
   ]
  },
  {
   "cell_type": "markdown",
   "metadata": {},
   "source": [
    "__Delar upp i numeriska samt charachter attribut. Det är dessa som går in i modellen__"
   ]
  },
  {
   "cell_type": "code",
   "execution_count": 136,
   "metadata": {},
   "outputs": [],
   "source": [
    "num_attribs = []\n",
    "cat_attribs = []\n",
    "for var, typ in zip(df2.columns[:-1], df2.dtypes[:-1]):\n",
    "    if typ == 'object':\n",
    "        cat_attribs.append(var)\n",
    "    else:\n",
    "        num_attribs.append(var)       "
   ]
  },
  {
   "cell_type": "code",
   "execution_count": 137,
   "metadata": {},
   "outputs": [
    {
     "data": {
      "text/plain": [
       "[]"
      ]
     },
     "execution_count": 137,
     "metadata": {},
     "output_type": "execute_result"
    }
   ],
   "source": [
    "cat_attribs"
   ]
  },
  {
   "cell_type": "code",
   "execution_count": 138,
   "metadata": {},
   "outputs": [
    {
     "data": {
      "text/plain": [
       "['VLP',\n",
       " 'SVLP',\n",
       " 'VSVLP',\n",
       " 'VPN_SUM',\n",
       " 'VPN_SUM_ORD',\n",
       " 'VPK_SUM',\n",
       " 'VPK_SUM_ORD',\n",
       " 'VLPB',\n",
       " 'SVLPB',\n",
       " 'VSVLPB',\n",
       " 'E_P',\n",
       " 'E_P_Num',\n",
       " 'E_N',\n",
       " 'E_R',\n",
       " 'G_R',\n",
       " 'A_R',\n",
       " 'T_R',\n",
       " 'SP_R',\n",
       " 'ToR',\n",
       " 'P_R',\n",
       " 'TK_R',\n",
       " 'Ex_R',\n",
       " 'R_R',\n",
       " 'Ts_R']"
      ]
     },
     "execution_count": 138,
     "metadata": {},
     "output_type": "execute_result"
    }
   ],
   "source": [
    "num_attribs"
   ]
  },
  {
   "cell_type": "code",
   "execution_count": 139,
   "metadata": {},
   "outputs": [
    {
     "data": {
      "text/plain": [
       "24"
      ]
     },
     "execution_count": 139,
     "metadata": {},
     "output_type": "execute_result"
    }
   ],
   "source": [
    "len(num_attribs)"
   ]
  },
  {
   "cell_type": "code",
   "execution_count": null,
   "metadata": {},
   "outputs": [],
   "source": []
  },
  {
   "cell_type": "markdown",
   "metadata": {},
   "source": [
    "name_list = []\n",
    "tempdf = pd.get_dummies(df1.GRUPP)\n",
    "for val in tempdf.columns:\n",
    "    name_list.append('GRUPP'+str(val))\n",
    "        \n",
    "name_list    "
   ]
  },
  {
   "cell_type": "markdown",
   "metadata": {},
   "source": [
    "features_list = num_attribs + name_list\n",
    "features_list"
   ]
  },
  {
   "cell_type": "markdown",
   "metadata": {},
   "source": [
    "__Nu bygger vi upp en pipeline__"
   ]
  },
  {
   "cell_type": "code",
   "execution_count": 32,
   "metadata": {},
   "outputs": [],
   "source": [
    "# Create a class to select numerical or categorical columns \n",
    "# since Scikit-Learn doesn't handle DataFrames yet\n",
    "# Denna klass måste vi göra för att särskilja numeriska variabler mot character variabler\n",
    "class DataFrameSelector(BaseEstimator, TransformerMixin):\n",
    "    def __init__(self, attribute_names):\n",
    "        self.attribute_names = attribute_names\n",
    "    def fit(self, X, y=None):\n",
    "        return self\n",
    "    def transform(self, X):\n",
    "        return X[self.attribute_names].values"
   ]
  },
  {
   "cell_type": "code",
   "execution_count": 33,
   "metadata": {},
   "outputs": [],
   "source": [
    "# Egen klass för att sätta dummyvariabler\n",
    "\n",
    "class SetDummyVar(BaseEstimator, TransformerMixin):\n",
    "    def __init__(self, attribute_names):\n",
    "        self.attribute_names = attribute_names\n",
    "    def fit(self, X, y=None):\n",
    "        return self\n",
    "    def transform(self, X):\n",
    "        tempdf = pd.get_dummies(X[self.attribute_names], columns = self.attribute_names)\n",
    "        return tempdf.values"
   ]
  },
  {
   "cell_type": "code",
   "execution_count": null,
   "metadata": {},
   "outputs": [],
   "source": [
    "# Pipeline för numeriska variabler\n",
    "num_pipeline = Pipeline([\n",
    "        ('selector', DataFrameSelector(num_attribs)),\n",
    "        ('imputer', Imputer(strategy=\"median\"))\n",
    "    ])"
   ]
  },
  {
   "cell_type": "markdown",
   "metadata": {},
   "source": [
    "cat_pipeline = Pipeline([\n",
    "        ('dummy_cat', SetDummyVar(cat_attribs)),\n",
    "    ])"
   ]
  },
  {
   "cell_type": "code",
   "execution_count": null,
   "metadata": {},
   "outputs": [],
   "source": [
    "full_pipeline = FeatureUnion(transformer_list=[\n",
    "        (\"num_pipeline\", num_pipeline),\n",
    "        ,\n",
    "    ])"
   ]
  },
  {
   "cell_type": "code",
   "execution_count": 35,
   "metadata": {},
   "outputs": [],
   "source": [
    "full_pipeline = FeatureUnion(transformer_list=[\n",
    "        (\"num_pipeline\", num_pipeline),\n",
    "        (\"cat_pipeline\", cat_pipeline),\n",
    "    ])"
   ]
  },
  {
   "cell_type": "markdown",
   "metadata": {},
   "source": [
    "### In order to avoid overfitting data is split into training data and validation data. 75% träningsdata och 25% valideringsdata"
   ]
  },
  {
   "cell_type": "code",
   "execution_count": 36,
   "metadata": {},
   "outputs": [],
   "source": [
    "df2['is_train']=np.random.uniform(0,1,len(df2))<=0.75\n",
    "\n",
    "train, validate = df2[df2['is_train']==True], df2[df2['is_train']==False]"
   ]
  },
  {
   "cell_type": "code",
   "execution_count": 37,
   "metadata": {},
   "outputs": [
    {
     "data": {
      "text/plain": [
       "pandas.core.frame.DataFrame"
      ]
     },
     "execution_count": 37,
     "metadata": {},
     "output_type": "execute_result"
    }
   ],
   "source": [
    "type(train)"
   ]
  },
  {
   "cell_type": "markdown",
   "metadata": {},
   "source": [
    "### Nu skapar vi arrayer som ska användas av modellen - använder den skapade Pipelineobjektet som gör alla nödvändiga dataransformationer "
   ]
  },
  {
   "cell_type": "code",
   "execution_count": 38,
   "metadata": {},
   "outputs": [],
   "source": [
    "# Träningssdata\n",
    "# Alla förklaringsvaribler i en multidimensionell array där kategrisvaribler har gjorts om till\n",
    "# dummyvariabler\n",
    "features_train = full_pipeline.fit_transform(train)\n",
    "## En array som håller det vi vill predikter\n",
    "label_train = train[\"Y\"].copy()"
   ]
  },
  {
   "cell_type": "code",
   "execution_count": 39,
   "metadata": {},
   "outputs": [],
   "source": [
    "# Valideringsdata\n",
    "# Alla förklaringsvaribler i en multidimensionell array där kategrisvaribler har gjorts om till\n",
    "# dummyvariabler\n",
    "features_validate = full_pipeline.fit_transform(validate)\n",
    "## En array som håller det vi vill predikter\n",
    "label_validate = validate[\"Y\"].copy()"
   ]
  },
  {
   "cell_type": "markdown",
   "metadata": {},
   "source": [
    "# Train the model on the training data and then evaluate on the validation data\n",
    "\n",
    "- predicts: A twodimensional array that contains posterrior probabbility for a donation behaviour, one for non-donation and one for donation\n",
    "- fpr : False positive rate, number of false positive for a specific threshold value\n",
    "- tpr : True positive rate, number of true positive for a specific threshold value\n",
    "- threshold: Sorted threshold (descending) values for the likelihod to donate\n",
    "- roc_auc: Receiver operating characteristics. A value close to 1 indicates a strong model. A value close to 0.5 means that the model is rather poor"
   ]
  },
  {
   "cell_type": "code",
   "execution_count": 40,
   "metadata": {},
   "outputs": [
    {
     "data": {
      "text/plain": [
       "RandomForestClassifier(bootstrap=True, class_weight=None, criterion='gini',\n",
       "            max_depth=5, max_features='auto', max_leaf_nodes=None,\n",
       "            min_impurity_decrease=0.0, min_impurity_split=None,\n",
       "            min_samples_leaf=1, min_samples_split=2,\n",
       "            min_weight_fraction_leaf=0.0, n_estimators=1000, n_jobs=1,\n",
       "            oob_score=False, random_state=None, verbose=0,\n",
       "            warm_start=False)"
      ]
     },
     "execution_count": 40,
     "metadata": {},
     "output_type": "execute_result"
    }
   ],
   "source": [
    "# Bygger random forrest och analyserar roc_auc\n",
    "# Instansierar modellen\n",
    "rf = RandomForestClassifier(n_estimators = 1000, max_depth=5)\n",
    "\n",
    "# Tränar modellen\n",
    "\n",
    "rf.fit(features_train,label_train)"
   ]
  },
  {
   "cell_type": "code",
   "execution_count": 41,
   "metadata": {},
   "outputs": [
    {
     "data": {
      "text/plain": [
       "29"
      ]
     },
     "execution_count": 41,
     "metadata": {},
     "output_type": "execute_result"
    }
   ],
   "source": [
    "rf.n_features_"
   ]
  },
  {
   "cell_type": "code",
   "execution_count": 42,
   "metadata": {},
   "outputs": [
    {
     "data": {
      "text/plain": [
       "29"
      ]
     },
     "execution_count": 42,
     "metadata": {},
     "output_type": "execute_result"
    }
   ],
   "source": [
    "len(rf.feature_importances_)"
   ]
  },
  {
   "cell_type": "code",
   "execution_count": 43,
   "metadata": {},
   "outputs": [
    {
     "data": {
      "text/plain": [
       "array([0.02451389, 0.02224721, 0.01323558, 0.0315744 , 0.01236351,\n",
       "       0.05242312, 0.03437762, 0.02304181, 0.02536036, 0.02396274,\n",
       "       0.02573042, 0.0056372 , 0.01206095, 0.01633598, 0.00737879,\n",
       "       0.05681366, 0.07322963, 0.00380882, 0.00650263, 0.0677697 ,\n",
       "       0.0096274 , 0.01456837, 0.0230662 , 0.10460751, 0.21601262,\n",
       "       0.03977666, 0.0119975 , 0.0109384 , 0.03103734])"
      ]
     },
     "execution_count": 43,
     "metadata": {},
     "output_type": "execute_result"
    }
   ],
   "source": [
    "rf.feature_importances_"
   ]
  },
  {
   "cell_type": "code",
   "execution_count": 44,
   "metadata": {},
   "outputs": [],
   "source": [
    "weight_list = []\n",
    "for name, weight in zip(features_list, rf.feature_importances_):\n",
    "    weight_dict = {'Feature': name, 'Weight': weight}\n",
    "    weight_list.append(weight_dict)"
   ]
  },
  {
   "cell_type": "code",
   "execution_count": 45,
   "metadata": {},
   "outputs": [
    {
     "data": {
      "text/html": [
       "<div>\n",
       "<style scoped>\n",
       "    .dataframe tbody tr th:only-of-type {\n",
       "        vertical-align: middle;\n",
       "    }\n",
       "\n",
       "    .dataframe tbody tr th {\n",
       "        vertical-align: top;\n",
       "    }\n",
       "\n",
       "    .dataframe thead th {\n",
       "        text-align: right;\n",
       "    }\n",
       "</style>\n",
       "<table border=\"1\" class=\"dataframe\">\n",
       "  <thead>\n",
       "    <tr style=\"text-align: right;\">\n",
       "      <th></th>\n",
       "      <th>Feature</th>\n",
       "      <th>Weight</th>\n",
       "    </tr>\n",
       "  </thead>\n",
       "  <tbody>\n",
       "    <tr>\n",
       "      <th>24</th>\n",
       "      <td>GRUPP1</td>\n",
       "      <td>0.216013</td>\n",
       "    </tr>\n",
       "    <tr>\n",
       "      <th>23</th>\n",
       "      <td>Ts_R</td>\n",
       "      <td>0.104608</td>\n",
       "    </tr>\n",
       "    <tr>\n",
       "      <th>16</th>\n",
       "      <td>T_R</td>\n",
       "      <td>0.073230</td>\n",
       "    </tr>\n",
       "    <tr>\n",
       "      <th>19</th>\n",
       "      <td>P_R</td>\n",
       "      <td>0.067770</td>\n",
       "    </tr>\n",
       "    <tr>\n",
       "      <th>15</th>\n",
       "      <td>A_R</td>\n",
       "      <td>0.056814</td>\n",
       "    </tr>\n",
       "    <tr>\n",
       "      <th>5</th>\n",
       "      <td>VPK_SUM</td>\n",
       "      <td>0.052423</td>\n",
       "    </tr>\n",
       "    <tr>\n",
       "      <th>25</th>\n",
       "      <td>GRUPP2</td>\n",
       "      <td>0.039777</td>\n",
       "    </tr>\n",
       "    <tr>\n",
       "      <th>6</th>\n",
       "      <td>VPK_SUM_ORD</td>\n",
       "      <td>0.034378</td>\n",
       "    </tr>\n",
       "    <tr>\n",
       "      <th>3</th>\n",
       "      <td>VPN_SUM</td>\n",
       "      <td>0.031574</td>\n",
       "    </tr>\n",
       "    <tr>\n",
       "      <th>28</th>\n",
       "      <td>GRUPP5</td>\n",
       "      <td>0.031037</td>\n",
       "    </tr>\n",
       "    <tr>\n",
       "      <th>10</th>\n",
       "      <td>E_P</td>\n",
       "      <td>0.025730</td>\n",
       "    </tr>\n",
       "    <tr>\n",
       "      <th>8</th>\n",
       "      <td>SVLPB</td>\n",
       "      <td>0.025360</td>\n",
       "    </tr>\n",
       "    <tr>\n",
       "      <th>0</th>\n",
       "      <td>VLP</td>\n",
       "      <td>0.024514</td>\n",
       "    </tr>\n",
       "    <tr>\n",
       "      <th>9</th>\n",
       "      <td>VSVLPB</td>\n",
       "      <td>0.023963</td>\n",
       "    </tr>\n",
       "    <tr>\n",
       "      <th>22</th>\n",
       "      <td>R_R</td>\n",
       "      <td>0.023066</td>\n",
       "    </tr>\n",
       "    <tr>\n",
       "      <th>7</th>\n",
       "      <td>VLPB</td>\n",
       "      <td>0.023042</td>\n",
       "    </tr>\n",
       "    <tr>\n",
       "      <th>1</th>\n",
       "      <td>SVLP</td>\n",
       "      <td>0.022247</td>\n",
       "    </tr>\n",
       "    <tr>\n",
       "      <th>13</th>\n",
       "      <td>E_R</td>\n",
       "      <td>0.016336</td>\n",
       "    </tr>\n",
       "    <tr>\n",
       "      <th>21</th>\n",
       "      <td>Ex_R</td>\n",
       "      <td>0.014568</td>\n",
       "    </tr>\n",
       "    <tr>\n",
       "      <th>2</th>\n",
       "      <td>VSVLP</td>\n",
       "      <td>0.013236</td>\n",
       "    </tr>\n",
       "    <tr>\n",
       "      <th>4</th>\n",
       "      <td>VPN_SUM_ORD</td>\n",
       "      <td>0.012364</td>\n",
       "    </tr>\n",
       "    <tr>\n",
       "      <th>12</th>\n",
       "      <td>E_N</td>\n",
       "      <td>0.012061</td>\n",
       "    </tr>\n",
       "    <tr>\n",
       "      <th>26</th>\n",
       "      <td>GRUPP3</td>\n",
       "      <td>0.011998</td>\n",
       "    </tr>\n",
       "    <tr>\n",
       "      <th>27</th>\n",
       "      <td>GRUPP4</td>\n",
       "      <td>0.010938</td>\n",
       "    </tr>\n",
       "    <tr>\n",
       "      <th>20</th>\n",
       "      <td>TK_R</td>\n",
       "      <td>0.009627</td>\n",
       "    </tr>\n",
       "    <tr>\n",
       "      <th>14</th>\n",
       "      <td>G_R</td>\n",
       "      <td>0.007379</td>\n",
       "    </tr>\n",
       "    <tr>\n",
       "      <th>18</th>\n",
       "      <td>ToR</td>\n",
       "      <td>0.006503</td>\n",
       "    </tr>\n",
       "    <tr>\n",
       "      <th>11</th>\n",
       "      <td>E_P_Num</td>\n",
       "      <td>0.005637</td>\n",
       "    </tr>\n",
       "    <tr>\n",
       "      <th>17</th>\n",
       "      <td>SP_R</td>\n",
       "      <td>0.003809</td>\n",
       "    </tr>\n",
       "  </tbody>\n",
       "</table>\n",
       "</div>"
      ],
      "text/plain": [
       "        Feature    Weight\n",
       "24       GRUPP1  0.216013\n",
       "23         Ts_R  0.104608\n",
       "16          T_R  0.073230\n",
       "19          P_R  0.067770\n",
       "15          A_R  0.056814\n",
       "5       VPK_SUM  0.052423\n",
       "25       GRUPP2  0.039777\n",
       "6   VPK_SUM_ORD  0.034378\n",
       "3       VPN_SUM  0.031574\n",
       "28       GRUPP5  0.031037\n",
       "10          E_P  0.025730\n",
       "8         SVLPB  0.025360\n",
       "0           VLP  0.024514\n",
       "9        VSVLPB  0.023963\n",
       "22          R_R  0.023066\n",
       "7          VLPB  0.023042\n",
       "1          SVLP  0.022247\n",
       "13          E_R  0.016336\n",
       "21         Ex_R  0.014568\n",
       "2         VSVLP  0.013236\n",
       "4   VPN_SUM_ORD  0.012364\n",
       "12          E_N  0.012061\n",
       "26       GRUPP3  0.011998\n",
       "27       GRUPP4  0.010938\n",
       "20         TK_R  0.009627\n",
       "14          G_R  0.007379\n",
       "18          ToR  0.006503\n",
       "11      E_P_Num  0.005637\n",
       "17         SP_R  0.003809"
      ]
     },
     "execution_count": 45,
     "metadata": {},
     "output_type": "execute_result"
    }
   ],
   "source": [
    "analys_weight = pd.DataFrame(weight_list).sort_values('Weight', ascending = False)\n",
    "\n",
    "analys_weight"
   ]
  },
  {
   "cell_type": "code",
   "execution_count": 46,
   "metadata": {},
   "outputs": [],
   "source": [
    "analys_weight.to_excel('Weight.xlsx', index = False)"
   ]
  },
  {
   "cell_type": "code",
   "execution_count": 47,
   "metadata": {},
   "outputs": [],
   "source": [
    "# Predikterar med modellen med valideringsdata\n",
    "\n",
    "predict = rf.predict_proba(features_validate)\n",
    "\n",
    "fpr, tpr, threshold = roc_curve(label_validate,predict[:,1])\n",
    "\n",
    "roc_auc = auc(fpr,tpr)"
   ]
  },
  {
   "cell_type": "code",
   "execution_count": 48,
   "metadata": {},
   "outputs": [],
   "source": [
    "fpr_ser = pd.Series(fpr)\n",
    "tpr_ser = pd.Series(tpr)\n",
    "threshold_ser = pd.Series(threshold)"
   ]
  },
  {
   "cell_type": "markdown",
   "metadata": {},
   "source": [
    "__Vi gör en dataframe av fpr, tpr, threshold för att förstå relationerna__"
   ]
  },
  {
   "cell_type": "code",
   "execution_count": 49,
   "metadata": {},
   "outputs": [],
   "source": [
    "# Exempel\n",
    "df = pd.concat([fpr_ser, tpr_ser,threshold_ser], axis=1).rename(columns = {0: 'fpr', 1:'tpr',2:'threshold'})"
   ]
  },
  {
   "cell_type": "code",
   "execution_count": 50,
   "metadata": {},
   "outputs": [
    {
     "data": {
      "text/plain": [
       "0.05124933721025914"
      ]
     },
     "execution_count": 50,
     "metadata": {},
     "output_type": "execute_result"
    }
   ],
   "source": [
    "# Median värde för den sannolikhet som genereras på varje enskild observation\n",
    "prob = pd.Series(predict[:,1])\n",
    "prob.median()"
   ]
  },
  {
   "cell_type": "code",
   "execution_count": 51,
   "metadata": {},
   "outputs": [
    {
     "data": {
      "text/plain": [
       "0.7231799049553336"
      ]
     },
     "execution_count": 51,
     "metadata": {},
     "output_type": "execute_result"
    }
   ],
   "source": [
    "prob.max()"
   ]
  },
  {
   "cell_type": "code",
   "execution_count": 52,
   "metadata": {},
   "outputs": [
    {
     "data": {
      "image/png": "[encoded data removed]",
      "text/plain": [
       "<Figure size 1008x576 with 2 Axes>"
      ]
     },
     "metadata": {
      "needs_background": "light"
     },
     "output_type": "display_data"
    }
   ],
   "source": [
    "fig, (ax1,ax2) = plt.subplots(2,1,figsize=(14,8), linewidth=5, edgecolor='.5')\n",
    "\n",
    "\n",
    "ax1.hist(prob, bins = 50)\n",
    "ax2.hist(threshold, bins = 50)\n",
    "\n",
    "plt.show()"
   ]
  },
  {
   "cell_type": "code",
   "execution_count": 53,
   "metadata": {},
   "outputs": [
    {
     "data": {
      "text/plain": [
       "0.13007784717548518"
      ]
     },
     "execution_count": 53,
     "metadata": {},
     "output_type": "execute_result"
    }
   ],
   "source": [
    "df.threshold.median()"
   ]
  },
  {
   "cell_type": "markdown",
   "metadata": {},
   "source": [
    "__Varför ger threshold och prob olika medianvärden?__"
   ]
  },
  {
   "cell_type": "markdown",
   "metadata": {},
   "source": [
    "# A ROC curve for the charity classifier on the charity data\n",
    "\n",
    "__It traces out two types of error as we vary the threshold value for the posterior probability of charity. The actual thresholds are not shown. The true positive rate is the sensitivity: the fraction of givers that are correctly identified, using a given threshold value. The false positive rate is 1-specificity: the fraction of non-givers that we classify incorrectly as givers, using that same threshold value. The ideal ROC curve hugs the top left corner, indicating a high true positive rate and a low false positive rate. The dotted line represents the “no information” classifier.__ "
   ]
  },
  {
   "cell_type": "code",
   "execution_count": 54,
   "metadata": {},
   "outputs": [
    {
     "name": "stdout",
     "output_type": "stream",
     "text": [
      "Saving figure ROC\n"
     ]
    },
    {
     "data": {
      "image/png": "[encoded data removed]",
      "text/plain": [
       "<Figure size 432x288 with 1 Axes>"
      ]
     },
     "metadata": {
      "needs_background": "light"
     },
     "output_type": "display_data"
    }
   ],
   "source": [
    "# Graf\n",
    "\n",
    "plt.title('Receiver Operating Characteristic') \n",
    "plt.plot( fpr, tpr, 'b', label =' AUC = %0.3f' % roc_auc) \n",
    "plt.legend( loc ='lower right') \n",
    "plt.plot([ 0, 1], [0, 1], 'r--') \n",
    "plt.xlim([ 0.0, 1.0]) \n",
    "plt.ylim([ 0.0, 1.0]) \n",
    "plt.ylabel('True positive rate') \n",
    "plt.xlabel('False positive rate') \n",
    "save_fig('ROC')\n",
    "plt.show()"
   ]
  },
  {
   "cell_type": "code",
   "execution_count": 55,
   "metadata": {},
   "outputs": [],
   "source": [
    "from sklearn.metrics import precision_recall_curve\n",
    "\n",
    "precisions, recalls, thresholds = precision_recall_curve(label_validate, prob)"
   ]
  },
  {
   "cell_type": "code",
   "execution_count": 56,
   "metadata": {},
   "outputs": [
    {
     "name": "stdout",
     "output_type": "stream",
     "text": [
      "Saving figure precision_recall_vs_threshold_plot\n"
     ]
    },
    {
     "data": {
      "image/png": "[encoded data removed]",
      "text/plain": [
       "<Figure size 576x288 with 1 Axes>"
      ]
     },
     "metadata": {
      "needs_background": "light"
     },
     "output_type": "display_data"
    }
   ],
   "source": [
    "def plot_precision_recall_vs_threshold(precisions, recalls, thresholds):\n",
    "    plt.plot(thresholds, precisions[:-1], \"b--\", label=\"Precision\", linewidth=2)\n",
    "    plt.plot(thresholds, recalls[:-1], \"g-\", label=\"Recall\", linewidth=2)\n",
    "    plt.xlabel(\"Threshold\", fontsize=16)\n",
    "    plt.legend(loc=\"upper left\", fontsize=16)\n",
    "    plt.ylim([0, 1])\n",
    "\n",
    "plt.figure(figsize=(8, 4))\n",
    "plot_precision_recall_vs_threshold(precisions, recalls, thresholds)\n",
    "plt.xlim([0, 1])\n",
    "save_fig(\"precision_recall_vs_threshold_plot\")\n",
    "plt.show()"
   ]
  },
  {
   "cell_type": "code",
   "execution_count": 57,
   "metadata": {},
   "outputs": [],
   "source": [
    "from sklearn.metrics import confusion_matrix\n",
    "from sklearn.metrics import precision_score, recall_score"
   ]
  },
  {
   "cell_type": "code",
   "execution_count": 58,
   "metadata": {},
   "outputs": [
    {
     "data": {
      "text/plain": [
       "array([[3855,    0],\n",
       "       [   0,  366]])"
      ]
     },
     "execution_count": 58,
     "metadata": {},
     "output_type": "execute_result"
    }
   ],
   "source": [
    " \n",
    "y_truth = label_validate\n",
    "confusion_matrix(label_validate, y_truth)"
   ]
  },
  {
   "cell_type": "code",
   "execution_count": 59,
   "metadata": {},
   "outputs": [
    {
     "data": {
      "text/plain": [
       "0.05124933721025914"
      ]
     },
     "execution_count": 59,
     "metadata": {},
     "output_type": "execute_result"
    }
   ],
   "source": [
    "prob.median()"
   ]
  },
  {
   "cell_type": "code",
   "execution_count": 60,
   "metadata": {},
   "outputs": [
    {
     "data": {
      "text/plain": [
       "0.13007784717548518"
      ]
     },
     "execution_count": 60,
     "metadata": {},
     "output_type": "execute_result"
    }
   ],
   "source": [
    "df.threshold.median()"
   ]
  },
  {
   "cell_type": "code",
   "execution_count": 61,
   "metadata": {},
   "outputs": [
    {
     "data": {
      "text/plain": [
       "array([[2065, 1790],\n",
       "       [  46,  320]])"
      ]
     },
     "execution_count": 61,
     "metadata": {},
     "output_type": "execute_result"
    }
   ],
   "source": [
    "# Vi väljer medianvärdet som cut off \n",
    "y_pred = np.where( prob > prob.median(),1,0)\n",
    " \n",
    "confusion_matrix(label_validate, y_pred)"
   ]
  },
  {
   "cell_type": "code",
   "execution_count": 62,
   "metadata": {},
   "outputs": [
    {
     "data": {
      "text/plain": [
       "0.16398104265402844"
      ]
     },
     "execution_count": 62,
     "metadata": {},
     "output_type": "execute_result"
    }
   ],
   "source": [
    "346 / (1764 + 346)"
   ]
  },
  {
   "cell_type": "code",
   "execution_count": 63,
   "metadata": {},
   "outputs": [
    {
     "data": {
      "text/plain": [
       "0.15165876777251186"
      ]
     },
     "execution_count": 63,
     "metadata": {},
     "output_type": "execute_result"
    }
   ],
   "source": [
    "# Precision - Av de vi predikterar som vinnare, hur bra är vi\n",
    "precision_score(label_validate, y_pred)"
   ]
  },
  {
   "cell_type": "code",
   "execution_count": 64,
   "metadata": {},
   "outputs": [
    {
     "data": {
      "text/plain": [
       "0.8743169398907104"
      ]
     },
     "execution_count": 64,
     "metadata": {},
     "output_type": "execute_result"
    }
   ],
   "source": [
    "# True positive rate = Den totala andelen av sanna postiva vid en given cut of\n",
    "recall_score(label_validate, y_pred)\n",
    " "
   ]
  },
  {
   "cell_type": "code",
   "execution_count": 65,
   "metadata": {},
   "outputs": [],
   "source": [
    "label_validate_ser = pd.Series(label_validate.tolist())\n",
    "prob_ser = pd.Series(prob)"
   ]
  },
  {
   "cell_type": "code",
   "execution_count": 66,
   "metadata": {},
   "outputs": [],
   "source": [
    "df_valid = pd.concat([label_validate_ser, prob_ser], axis = 1).rename(columns = {0:'Y',1 :'Prob'}). \\\n",
    "sort_values('Prob')"
   ]
  },
  {
   "cell_type": "markdown",
   "metadata": {},
   "source": [
    "__Delar in i deciler på den framräknade scoren__"
   ]
  },
  {
   "cell_type": "code",
   "execution_count": 67,
   "metadata": {},
   "outputs": [
    {
     "data": {
      "text/plain": [
       "(0.011, 0.0174]     423\n",
       "(0.184, 0.723]      422\n",
       "(0.129, 0.184]      422\n",
       "(0.0905, 0.129]     422\n",
       "(0.0636, 0.0905]    422\n",
       "(0.0512, 0.0636]    422\n",
       "(0.042, 0.0512]     422\n",
       "(0.0341, 0.042]     422\n",
       "(0.0265, 0.0341]    422\n",
       "(0.0174, 0.0265]    422\n",
       "dtype: int64"
      ]
     },
     "execution_count": 67,
     "metadata": {},
     "output_type": "execute_result"
    }
   ],
   "source": [
    "data = df_valid.Prob.values\n",
    "quartiles = pd.qcut(data, 10)\n",
    "pd.value_counts(quartiles)"
   ]
  },
  {
   "cell_type": "code",
   "execution_count": 68,
   "metadata": {},
   "outputs": [
    {
     "data": {
      "text/plain": [
       "366"
      ]
     },
     "execution_count": 68,
     "metadata": {},
     "output_type": "execute_result"
    }
   ],
   "source": [
    "df_valid.Y.sum()"
   ]
  },
  {
   "cell_type": "code",
   "execution_count": 69,
   "metadata": {},
   "outputs": [],
   "source": [
    "grouped = df_valid.Y.groupby(quartiles)"
   ]
  },
  {
   "cell_type": "code",
   "execution_count": 70,
   "metadata": {},
   "outputs": [
    {
     "data": {
      "text/plain": [
       "(0.011, 0.0174]     423\n",
       "(0.0174, 0.0265]    422\n",
       "(0.0265, 0.0341]    422\n",
       "(0.0341, 0.042]     422\n",
       "(0.042, 0.0512]     422\n",
       "(0.0512, 0.0636]    422\n",
       "(0.0636, 0.0905]    422\n",
       "(0.0905, 0.129]     422\n",
       "(0.129, 0.184]      422\n",
       "(0.184, 0.723]      422\n",
       "Name: Y, dtype: int64"
      ]
     },
     "execution_count": 70,
     "metadata": {},
     "output_type": "execute_result"
    }
   ],
   "source": [
    "grouped.count()"
   ]
  },
  {
   "cell_type": "markdown",
   "metadata": {},
   "source": [
    "__Beräknar den procentuella andelen vinnare i respektice decil__"
   ]
  },
  {
   "cell_type": "code",
   "execution_count": 71,
   "metadata": {},
   "outputs": [
    {
     "data": {
      "text/plain": [
       "(0.011, 0.0174]      1.0\n",
       "(0.0174, 0.0265]     1.0\n",
       "(0.0265, 0.0341]     2.0\n",
       "(0.0341, 0.042]      3.0\n",
       "(0.042, 0.0512]      5.0\n",
       "(0.0512, 0.0636]     5.0\n",
       "(0.0636, 0.0905]     8.0\n",
       "(0.0905, 0.129]     12.0\n",
       "(0.129, 0.184]      15.0\n",
       "(0.184, 0.723]      36.0\n",
       "Name: Y, dtype: float64"
      ]
     },
     "execution_count": 71,
     "metadata": {},
     "output_type": "execute_result"
    }
   ],
   "source": [
    "resp = round((grouped.sum() / grouped.count() * 100))\n",
    "resp"
   ]
  },
  {
   "cell_type": "code",
   "execution_count": 72,
   "metadata": {},
   "outputs": [
    {
     "name": "stdout",
     "output_type": "stream",
     "text": [
      "Saving figure Probdist\n"
     ]
    },
    {
     "data": {
      "image/png": "[encoded data removed]",
      "text/plain": [
       "<Figure size 1152x864 with 2 Axes>"
      ]
     },
     "metadata": {
      "needs_background": "light"
     },
     "output_type": "display_data"
    }
   ],
   "source": [
    "fig, (ax1, ax2) = plt.subplots(2, 1, figsize=(16,12))\n",
    "\n",
    "#df2[['VLP']].hist(bins=50, ax = ax1, label = 'Variansen på V75PROC - VLP')\n",
    "\n",
    "df_valid.Prob.plot(kind = 'hist', bins = 100, title = 'Probability response', ax = ax1)\n",
    "\n",
    "\n",
    "resp.plot(kind = 'bar', color=(0.2, 0.4, 0.6, 1),title = 'Andel vinnare per decil', ax = ax2)\n",
    "\n",
    "save_fig('Probdist')"
   ]
  },
  {
   "cell_type": "code",
   "execution_count": 73,
   "metadata": {},
   "outputs": [
    {
     "data": {
      "text/plain": [
       "array([[3552,  303],\n",
       "       [ 205,  161]])"
      ]
     },
     "execution_count": 73,
     "metadata": {},
     "output_type": "execute_result"
    }
   ],
   "source": [
    "y_pred = np.where(prob >=0.174,1,0)\n",
    " \n",
    "confusion_matrix(label_validate, y_pred)"
   ]
  },
  {
   "cell_type": "code",
   "execution_count": 74,
   "metadata": {},
   "outputs": [
    {
     "data": {
      "text/plain": [
       "0.34698275862068967"
      ]
     },
     "execution_count": 74,
     "metadata": {},
     "output_type": "execute_result"
    }
   ],
   "source": [
    " \n",
    "precision_score(label_validate, y_pred)"
   ]
  },
  {
   "cell_type": "code",
   "execution_count": 75,
   "metadata": {},
   "outputs": [
    {
     "data": {
      "text/plain": [
       "0.43989071038251365"
      ]
     },
     "execution_count": 75,
     "metadata": {},
     "output_type": "execute_result"
    }
   ],
   "source": [
    "# True positive rate = Den totala andelen av sanna postiva vid en given cut of\n",
    "recall_score(label_validate, y_pred)\n",
    " "
   ]
  },
  {
   "cell_type": "code",
   "execution_count": 76,
   "metadata": {},
   "outputs": [
    {
     "data": {
      "text/plain": [
       "array([[3239,  616],\n",
       "       [ 153,  213]])"
      ]
     },
     "execution_count": 76,
     "metadata": {},
     "output_type": "execute_result"
    }
   ],
   "source": [
    "y_pred = np.where(prob >=0.131,1,0)\n",
    " \n",
    "confusion_matrix(label_validate, y_pred)"
   ]
  },
  {
   "cell_type": "code",
   "execution_count": 77,
   "metadata": {},
   "outputs": [
    {
     "data": {
      "text/plain": [
       "0.2569360675512666"
      ]
     },
     "execution_count": 77,
     "metadata": {},
     "output_type": "execute_result"
    }
   ],
   "source": [
    "precision_score(label_validate, y_pred)"
   ]
  },
  {
   "cell_type": "code",
   "execution_count": 78,
   "metadata": {},
   "outputs": [
    {
     "data": {
      "text/plain": [
       "0.5819672131147541"
      ]
     },
     "execution_count": 78,
     "metadata": {},
     "output_type": "execute_result"
    }
   ],
   "source": [
    "# True positive rate = Den totala andelen av sanna postiva vid en given cut of\n",
    "recall_score(label_validate, y_pred)"
   ]
  },
  {
   "cell_type": "code",
   "execution_count": 79,
   "metadata": {},
   "outputs": [
    {
     "data": {
      "text/html": [
       "<div>\n",
       "<style scoped>\n",
       "    .dataframe tbody tr th:only-of-type {\n",
       "        vertical-align: middle;\n",
       "    }\n",
       "\n",
       "    .dataframe tbody tr th {\n",
       "        vertical-align: top;\n",
       "    }\n",
       "\n",
       "    .dataframe thead th {\n",
       "        text-align: right;\n",
       "    }\n",
       "</style>\n",
       "<table border=\"1\" class=\"dataframe\">\n",
       "  <thead>\n",
       "    <tr style=\"text-align: right;\">\n",
       "      <th></th>\n",
       "      <th>fpr</th>\n",
       "      <th>tpr</th>\n",
       "      <th>threshold</th>\n",
       "    </tr>\n",
       "  </thead>\n",
       "  <tbody>\n",
       "    <tr>\n",
       "      <th>0</th>\n",
       "      <td>0.000000</td>\n",
       "      <td>0.002732</td>\n",
       "      <td>0.723180</td>\n",
       "    </tr>\n",
       "    <tr>\n",
       "      <th>1</th>\n",
       "      <td>0.000000</td>\n",
       "      <td>0.005464</td>\n",
       "      <td>0.707819</td>\n",
       "    </tr>\n",
       "    <tr>\n",
       "      <th>2</th>\n",
       "      <td>0.000259</td>\n",
       "      <td>0.005464</td>\n",
       "      <td>0.699057</td>\n",
       "    </tr>\n",
       "    <tr>\n",
       "      <th>3</th>\n",
       "      <td>0.000259</td>\n",
       "      <td>0.032787</td>\n",
       "      <td>0.494809</td>\n",
       "    </tr>\n",
       "    <tr>\n",
       "      <th>4</th>\n",
       "      <td>0.000519</td>\n",
       "      <td>0.032787</td>\n",
       "      <td>0.493312</td>\n",
       "    </tr>\n",
       "  </tbody>\n",
       "</table>\n",
       "</div>"
      ],
      "text/plain": [
       "        fpr       tpr  threshold\n",
       "0  0.000000  0.002732   0.723180\n",
       "1  0.000000  0.005464   0.707819\n",
       "2  0.000259  0.005464   0.699057\n",
       "3  0.000259  0.032787   0.494809\n",
       "4  0.000519  0.032787   0.493312"
      ]
     },
     "execution_count": 79,
     "metadata": {},
     "output_type": "execute_result"
    }
   ],
   "source": [
    "# I df ligger roc statistiken. Plockar ut raden där 0.75 < tpr < 0.8. Vad är threshols\n",
    "df.head()"
   ]
  },
  {
   "cell_type": "code",
   "execution_count": 80,
   "metadata": {},
   "outputs": [],
   "source": [
    "f1 = df.tpr > 0.60\n",
    "f2 = df.tpr < 0.62"
   ]
  },
  {
   "cell_type": "code",
   "execution_count": 81,
   "metadata": {},
   "outputs": [
    {
     "data": {
      "text/html": [
       "<div>\n",
       "<style scoped>\n",
       "    .dataframe tbody tr th:only-of-type {\n",
       "        vertical-align: middle;\n",
       "    }\n",
       "\n",
       "    .dataframe tbody tr th {\n",
       "        vertical-align: top;\n",
       "    }\n",
       "\n",
       "    .dataframe thead th {\n",
       "        text-align: right;\n",
       "    }\n",
       "</style>\n",
       "<table border=\"1\" class=\"dataframe\">\n",
       "  <thead>\n",
       "    <tr style=\"text-align: right;\">\n",
       "      <th></th>\n",
       "      <th>fpr</th>\n",
       "      <th>tpr</th>\n",
       "      <th>threshold</th>\n",
       "    </tr>\n",
       "  </thead>\n",
       "  <tbody>\n",
       "    <tr>\n",
       "      <th>295</th>\n",
       "      <td>0.167315</td>\n",
       "      <td>0.601093</td>\n",
       "      <td>0.127649</td>\n",
       "    </tr>\n",
       "    <tr>\n",
       "      <th>296</th>\n",
       "      <td>0.173800</td>\n",
       "      <td>0.601093</td>\n",
       "      <td>0.125144</td>\n",
       "    </tr>\n",
       "    <tr>\n",
       "      <th>297</th>\n",
       "      <td>0.173800</td>\n",
       "      <td>0.603825</td>\n",
       "      <td>0.125141</td>\n",
       "    </tr>\n",
       "    <tr>\n",
       "      <th>298</th>\n",
       "      <td>0.175616</td>\n",
       "      <td>0.603825</td>\n",
       "      <td>0.124158</td>\n",
       "    </tr>\n",
       "    <tr>\n",
       "      <th>299</th>\n",
       "      <td>0.175616</td>\n",
       "      <td>0.606557</td>\n",
       "      <td>0.124111</td>\n",
       "    </tr>\n",
       "    <tr>\n",
       "      <th>300</th>\n",
       "      <td>0.176394</td>\n",
       "      <td>0.606557</td>\n",
       "      <td>0.123715</td>\n",
       "    </tr>\n",
       "    <tr>\n",
       "      <th>301</th>\n",
       "      <td>0.176394</td>\n",
       "      <td>0.609290</td>\n",
       "      <td>0.123640</td>\n",
       "    </tr>\n",
       "    <tr>\n",
       "      <th>302</th>\n",
       "      <td>0.179507</td>\n",
       "      <td>0.609290</td>\n",
       "      <td>0.122471</td>\n",
       "    </tr>\n",
       "    <tr>\n",
       "      <th>303</th>\n",
       "      <td>0.179507</td>\n",
       "      <td>0.612022</td>\n",
       "      <td>0.122446</td>\n",
       "    </tr>\n",
       "    <tr>\n",
       "      <th>304</th>\n",
       "      <td>0.180804</td>\n",
       "      <td>0.612022</td>\n",
       "      <td>0.122169</td>\n",
       "    </tr>\n",
       "    <tr>\n",
       "      <th>305</th>\n",
       "      <td>0.180804</td>\n",
       "      <td>0.614754</td>\n",
       "      <td>0.122119</td>\n",
       "    </tr>\n",
       "    <tr>\n",
       "      <th>306</th>\n",
       "      <td>0.183398</td>\n",
       "      <td>0.614754</td>\n",
       "      <td>0.121055</td>\n",
       "    </tr>\n",
       "  </tbody>\n",
       "</table>\n",
       "</div>"
      ],
      "text/plain": [
       "          fpr       tpr  threshold\n",
       "295  0.167315  0.601093   0.127649\n",
       "296  0.173800  0.601093   0.125144\n",
       "297  0.173800  0.603825   0.125141\n",
       "298  0.175616  0.603825   0.124158\n",
       "299  0.175616  0.606557   0.124111\n",
       "300  0.176394  0.606557   0.123715\n",
       "301  0.176394  0.609290   0.123640\n",
       "302  0.179507  0.609290   0.122471\n",
       "303  0.179507  0.612022   0.122446\n",
       "304  0.180804  0.612022   0.122169\n",
       "305  0.180804  0.614754   0.122119\n",
       "306  0.183398  0.614754   0.121055"
      ]
     },
     "execution_count": 81,
     "metadata": {},
     "output_type": "execute_result"
    }
   ],
   "source": [
    "df[f1 & f2]"
   ]
  },
  {
   "cell_type": "markdown",
   "metadata": {},
   "source": [
    "__Nu har vi modellen. Nu vill vi testa på våra undanlagda 9 omgångar för att se hur det lirar. Skapar testdatasetet och kör sedan igenom varje omgång. Flaggar upp alla över score 0.135 som vinnar och räknar sedan ut hur det fallit ut__"
   ]
  },
  {
   "cell_type": "code",
   "execution_count": 82,
   "metadata": {},
   "outputs": [
    {
     "data": {
      "text/plain": [
       "Key\n",
       "2016-07-09 00:00:001   2016-07-09\n",
       "2016-10-01 00:00:001   2016-10-01\n",
       "2016-12-10 00:00:001   2016-12-10\n",
       "2017-02-11 00:00:001   2017-02-11\n",
       "2017-04-29 00:00:001   2017-04-29\n",
       "2017-08-16 00:00:001   2017-08-16\n",
       "2017-08-23 00:00:001   2017-08-23\n",
       "2017-12-25 00:00:001   2017-12-25\n",
       "2018-03-03 00:00:001   2018-03-03\n",
       "2018-06-16 00:00:001   2018-06-16\n",
       "2018-07-05 00:00:001   2018-07-05\n",
       "2018-11-11 00:00:001   2018-11-11\n",
       "2018-11-25 00:00:001   2018-11-25\n",
       "Name: Datum, dtype: datetime64[ns]"
      ]
     },
     "execution_count": 82,
     "metadata": {},
     "output_type": "execute_result"
    }
   ],
   "source": [
    "test_df.Datum.drop_duplicates()"
   ]
  },
  {
   "cell_type": "code",
   "execution_count": 83,
   "metadata": {},
   "outputs": [
    {
     "data": {
      "text/html": [
       "<div>\n",
       "<style scoped>\n",
       "    .dataframe tbody tr th:only-of-type {\n",
       "        vertical-align: middle;\n",
       "    }\n",
       "\n",
       "    .dataframe tbody tr th {\n",
       "        vertical-align: top;\n",
       "    }\n",
       "\n",
       "    .dataframe thead th {\n",
       "        text-align: right;\n",
       "    }\n",
       "</style>\n",
       "<table border=\"1\" class=\"dataframe\">\n",
       "  <thead>\n",
       "    <tr style=\"text-align: right;\">\n",
       "      <th></th>\n",
       "      <th>Datum</th>\n",
       "      <th>GRUPP</th>\n",
       "      <th>VLP</th>\n",
       "      <th>SVLP</th>\n",
       "      <th>VSVLP</th>\n",
       "      <th>VPN_SUM</th>\n",
       "      <th>VPN_SUM_ORD</th>\n",
       "      <th>VPK_SUM</th>\n",
       "      <th>VPK_SUM_ORD</th>\n",
       "      <th>VLPB</th>\n",
       "      <th>...</th>\n",
       "      <th>A_R</th>\n",
       "      <th>T_R</th>\n",
       "      <th>SP_R</th>\n",
       "      <th>ToR</th>\n",
       "      <th>P_R</th>\n",
       "      <th>TK_R</th>\n",
       "      <th>Ex_R</th>\n",
       "      <th>R_R</th>\n",
       "      <th>Ts_R</th>\n",
       "      <th>Y</th>\n",
       "    </tr>\n",
       "    <tr>\n",
       "      <th>Key</th>\n",
       "      <th></th>\n",
       "      <th></th>\n",
       "      <th></th>\n",
       "      <th></th>\n",
       "      <th></th>\n",
       "      <th></th>\n",
       "      <th></th>\n",
       "      <th></th>\n",
       "      <th></th>\n",
       "      <th></th>\n",
       "      <th></th>\n",
       "      <th></th>\n",
       "      <th></th>\n",
       "      <th></th>\n",
       "      <th></th>\n",
       "      <th></th>\n",
       "      <th></th>\n",
       "      <th></th>\n",
       "      <th></th>\n",
       "      <th></th>\n",
       "      <th></th>\n",
       "    </tr>\n",
       "  </thead>\n",
       "  <tbody>\n",
       "    <tr>\n",
       "      <th>2018-11-25 00:00:001</th>\n",
       "      <td>2018-11-25</td>\n",
       "      <td>4</td>\n",
       "      <td>69.67</td>\n",
       "      <td>0.48</td>\n",
       "      <td>0.06</td>\n",
       "      <td>0.41</td>\n",
       "      <td>8</td>\n",
       "      <td>0.01</td>\n",
       "      <td>23</td>\n",
       "      <td>98.30</td>\n",
       "      <td>...</td>\n",
       "      <td>0.0</td>\n",
       "      <td>0.0</td>\n",
       "      <td>0.0</td>\n",
       "      <td>3.0</td>\n",
       "      <td>0.0</td>\n",
       "      <td>0.0</td>\n",
       "      <td>0.0</td>\n",
       "      <td>0.0</td>\n",
       "      <td>0</td>\n",
       "      <td>0</td>\n",
       "    </tr>\n",
       "    <tr>\n",
       "      <th>2018-11-25 00:00:001</th>\n",
       "      <td>2018-11-25</td>\n",
       "      <td>4</td>\n",
       "      <td>69.67</td>\n",
       "      <td>0.48</td>\n",
       "      <td>0.06</td>\n",
       "      <td>0.61</td>\n",
       "      <td>4</td>\n",
       "      <td>0.38</td>\n",
       "      <td>5</td>\n",
       "      <td>98.30</td>\n",
       "      <td>...</td>\n",
       "      <td>0.0</td>\n",
       "      <td>0.0</td>\n",
       "      <td>0.0</td>\n",
       "      <td>0.0</td>\n",
       "      <td>0.0</td>\n",
       "      <td>0.0</td>\n",
       "      <td>0.0</td>\n",
       "      <td>0.0</td>\n",
       "      <td>0</td>\n",
       "      <td>0</td>\n",
       "    </tr>\n",
       "    <tr>\n",
       "      <th>2018-11-25 00:00:001</th>\n",
       "      <td>2018-11-25</td>\n",
       "      <td>3</td>\n",
       "      <td>69.67</td>\n",
       "      <td>0.48</td>\n",
       "      <td>0.06</td>\n",
       "      <td>0.49</td>\n",
       "      <td>6</td>\n",
       "      <td>0.60</td>\n",
       "      <td>3</td>\n",
       "      <td>98.30</td>\n",
       "      <td>...</td>\n",
       "      <td>0.0</td>\n",
       "      <td>0.0</td>\n",
       "      <td>3.0</td>\n",
       "      <td>0.0</td>\n",
       "      <td>0.0</td>\n",
       "      <td>3.0</td>\n",
       "      <td>0.0</td>\n",
       "      <td>0.0</td>\n",
       "      <td>0</td>\n",
       "      <td>0</td>\n",
       "    </tr>\n",
       "    <tr>\n",
       "      <th>2018-11-25 00:00:001</th>\n",
       "      <td>2018-11-25</td>\n",
       "      <td>2</td>\n",
       "      <td>69.67</td>\n",
       "      <td>0.48</td>\n",
       "      <td>0.06</td>\n",
       "      <td>0.43</td>\n",
       "      <td>7</td>\n",
       "      <td>0.11</td>\n",
       "      <td>16</td>\n",
       "      <td>98.30</td>\n",
       "      <td>...</td>\n",
       "      <td>3.0</td>\n",
       "      <td>3.0</td>\n",
       "      <td>0.0</td>\n",
       "      <td>0.0</td>\n",
       "      <td>0.0</td>\n",
       "      <td>0.0</td>\n",
       "      <td>3.0</td>\n",
       "      <td>2.0</td>\n",
       "      <td>2</td>\n",
       "      <td>0</td>\n",
       "    </tr>\n",
       "    <tr>\n",
       "      <th>2018-11-25 00:00:001</th>\n",
       "      <td>2018-11-25</td>\n",
       "      <td>2</td>\n",
       "      <td>69.67</td>\n",
       "      <td>0.48</td>\n",
       "      <td>0.06</td>\n",
       "      <td>0.69</td>\n",
       "      <td>3</td>\n",
       "      <td>0.93</td>\n",
       "      <td>2</td>\n",
       "      <td>98.30</td>\n",
       "      <td>...</td>\n",
       "      <td>2.0</td>\n",
       "      <td>2.0</td>\n",
       "      <td>2.0</td>\n",
       "      <td>2.0</td>\n",
       "      <td>3.0</td>\n",
       "      <td>2.0</td>\n",
       "      <td>2.0</td>\n",
       "      <td>3.0</td>\n",
       "      <td>3</td>\n",
       "      <td>0</td>\n",
       "    </tr>\n",
       "    <tr>\n",
       "      <th>2018-11-25 00:00:001</th>\n",
       "      <td>2018-11-25</td>\n",
       "      <td>3</td>\n",
       "      <td>69.67</td>\n",
       "      <td>0.48</td>\n",
       "      <td>0.06</td>\n",
       "      <td>0.52</td>\n",
       "      <td>5</td>\n",
       "      <td>0.40</td>\n",
       "      <td>4</td>\n",
       "      <td>98.30</td>\n",
       "      <td>...</td>\n",
       "      <td>0.0</td>\n",
       "      <td>0.0</td>\n",
       "      <td>0.0</td>\n",
       "      <td>0.0</td>\n",
       "      <td>0.0</td>\n",
       "      <td>0.0</td>\n",
       "      <td>0.0</td>\n",
       "      <td>0.0</td>\n",
       "      <td>0</td>\n",
       "      <td>0</td>\n",
       "    </tr>\n",
       "    <tr>\n",
       "      <th>2018-11-25 00:00:001</th>\n",
       "      <td>2018-11-25</td>\n",
       "      <td>1</td>\n",
       "      <td>69.67</td>\n",
       "      <td>0.48</td>\n",
       "      <td>0.06</td>\n",
       "      <td>1.43</td>\n",
       "      <td>1</td>\n",
       "      <td>1.86</td>\n",
       "      <td>1</td>\n",
       "      <td>98.30</td>\n",
       "      <td>...</td>\n",
       "      <td>1.0</td>\n",
       "      <td>1.0</td>\n",
       "      <td>1.0</td>\n",
       "      <td>1.0</td>\n",
       "      <td>1.0</td>\n",
       "      <td>1.0</td>\n",
       "      <td>1.0</td>\n",
       "      <td>1.0</td>\n",
       "      <td>1</td>\n",
       "      <td>1</td>\n",
       "    </tr>\n",
       "    <tr>\n",
       "      <th>2018-11-25 00:00:001</th>\n",
       "      <td>2018-11-25</td>\n",
       "      <td>4</td>\n",
       "      <td>69.67</td>\n",
       "      <td>0.48</td>\n",
       "      <td>0.06</td>\n",
       "      <td>0.38</td>\n",
       "      <td>9</td>\n",
       "      <td>0.01</td>\n",
       "      <td>29</td>\n",
       "      <td>98.30</td>\n",
       "      <td>...</td>\n",
       "      <td>0.0</td>\n",
       "      <td>0.0</td>\n",
       "      <td>0.0</td>\n",
       "      <td>0.0</td>\n",
       "      <td>0.0</td>\n",
       "      <td>0.0</td>\n",
       "      <td>0.0</td>\n",
       "      <td>0.0</td>\n",
       "      <td>0</td>\n",
       "      <td>0</td>\n",
       "    </tr>\n",
       "    <tr>\n",
       "      <th>2018-11-25 00:00:002</th>\n",
       "      <td>2018-11-25</td>\n",
       "      <td>4</td>\n",
       "      <td>4.98</td>\n",
       "      <td>2.74</td>\n",
       "      <td>0.74</td>\n",
       "      <td>0.04</td>\n",
       "      <td>14</td>\n",
       "      <td>0.25</td>\n",
       "      <td>11</td>\n",
       "      <td>5.07</td>\n",
       "      <td>...</td>\n",
       "      <td>0.0</td>\n",
       "      <td>0.0</td>\n",
       "      <td>0.0</td>\n",
       "      <td>0.0</td>\n",
       "      <td>0.0</td>\n",
       "      <td>0.0</td>\n",
       "      <td>0.0</td>\n",
       "      <td>0.0</td>\n",
       "      <td>0</td>\n",
       "      <td>0</td>\n",
       "    </tr>\n",
       "    <tr>\n",
       "      <th>2018-11-25 00:00:002</th>\n",
       "      <td>2018-11-25</td>\n",
       "      <td>5</td>\n",
       "      <td>4.98</td>\n",
       "      <td>2.74</td>\n",
       "      <td>0.74</td>\n",
       "      <td>0.41</td>\n",
       "      <td>8</td>\n",
       "      <td>0.01</td>\n",
       "      <td>28</td>\n",
       "      <td>5.07</td>\n",
       "      <td>...</td>\n",
       "      <td>0.0</td>\n",
       "      <td>0.0</td>\n",
       "      <td>0.0</td>\n",
       "      <td>0.0</td>\n",
       "      <td>0.0</td>\n",
       "      <td>0.0</td>\n",
       "      <td>0.0</td>\n",
       "      <td>0.0</td>\n",
       "      <td>0</td>\n",
       "      <td>0</td>\n",
       "    </tr>\n",
       "    <tr>\n",
       "      <th>2018-11-25 00:00:002</th>\n",
       "      <td>2018-11-25</td>\n",
       "      <td>3</td>\n",
       "      <td>4.98</td>\n",
       "      <td>2.74</td>\n",
       "      <td>0.74</td>\n",
       "      <td>0.92</td>\n",
       "      <td>2</td>\n",
       "      <td>0.93</td>\n",
       "      <td>2</td>\n",
       "      <td>5.07</td>\n",
       "      <td>...</td>\n",
       "      <td>0.0</td>\n",
       "      <td>0.0</td>\n",
       "      <td>0.0</td>\n",
       "      <td>0.0</td>\n",
       "      <td>0.0</td>\n",
       "      <td>0.0</td>\n",
       "      <td>0.0</td>\n",
       "      <td>0.0</td>\n",
       "      <td>0</td>\n",
       "      <td>0</td>\n",
       "    </tr>\n",
       "    <tr>\n",
       "      <th>2018-11-25 00:00:002</th>\n",
       "      <td>2018-11-25</td>\n",
       "      <td>2</td>\n",
       "      <td>4.98</td>\n",
       "      <td>2.74</td>\n",
       "      <td>0.74</td>\n",
       "      <td>0.29</td>\n",
       "      <td>12</td>\n",
       "      <td>0.38</td>\n",
       "      <td>5</td>\n",
       "      <td>5.07</td>\n",
       "      <td>...</td>\n",
       "      <td>0.0</td>\n",
       "      <td>0.0</td>\n",
       "      <td>0.0</td>\n",
       "      <td>0.0</td>\n",
       "      <td>2.0</td>\n",
       "      <td>2.0</td>\n",
       "      <td>2.0</td>\n",
       "      <td>3.0</td>\n",
       "      <td>0</td>\n",
       "      <td>0</td>\n",
       "    </tr>\n",
       "    <tr>\n",
       "      <th>2018-11-25 00:00:002</th>\n",
       "      <td>2018-11-25</td>\n",
       "      <td>4</td>\n",
       "      <td>4.98</td>\n",
       "      <td>2.74</td>\n",
       "      <td>0.74</td>\n",
       "      <td>0.35</td>\n",
       "      <td>10</td>\n",
       "      <td>0.10</td>\n",
       "      <td>17</td>\n",
       "      <td>5.07</td>\n",
       "      <td>...</td>\n",
       "      <td>2.0</td>\n",
       "      <td>3.0</td>\n",
       "      <td>3.0</td>\n",
       "      <td>0.0</td>\n",
       "      <td>3.0</td>\n",
       "      <td>0.0</td>\n",
       "      <td>3.0</td>\n",
       "      <td>0.0</td>\n",
       "      <td>0</td>\n",
       "      <td>0</td>\n",
       "    </tr>\n",
       "    <tr>\n",
       "      <th>2018-11-25 00:00:002</th>\n",
       "      <td>2018-11-25</td>\n",
       "      <td>2</td>\n",
       "      <td>4.98</td>\n",
       "      <td>2.74</td>\n",
       "      <td>0.74</td>\n",
       "      <td>0.69</td>\n",
       "      <td>3</td>\n",
       "      <td>0.60</td>\n",
       "      <td>3</td>\n",
       "      <td>5.07</td>\n",
       "      <td>...</td>\n",
       "      <td>3.0</td>\n",
       "      <td>0.0</td>\n",
       "      <td>1.0</td>\n",
       "      <td>0.0</td>\n",
       "      <td>0.0</td>\n",
       "      <td>3.0</td>\n",
       "      <td>0.0</td>\n",
       "      <td>1.0</td>\n",
       "      <td>2</td>\n",
       "      <td>0</td>\n",
       "    </tr>\n",
       "    <tr>\n",
       "      <th>2018-11-25 00:00:002</th>\n",
       "      <td>2018-11-25</td>\n",
       "      <td>5</td>\n",
       "      <td>4.98</td>\n",
       "      <td>2.74</td>\n",
       "      <td>0.74</td>\n",
       "      <td>0.38</td>\n",
       "      <td>9</td>\n",
       "      <td>0.02</td>\n",
       "      <td>22</td>\n",
       "      <td>5.07</td>\n",
       "      <td>...</td>\n",
       "      <td>0.0</td>\n",
       "      <td>0.0</td>\n",
       "      <td>0.0</td>\n",
       "      <td>2.0</td>\n",
       "      <td>0.0</td>\n",
       "      <td>0.0</td>\n",
       "      <td>0.0</td>\n",
       "      <td>0.0</td>\n",
       "      <td>0</td>\n",
       "      <td>0</td>\n",
       "    </tr>\n",
       "    <tr>\n",
       "      <th>2018-11-25 00:00:002</th>\n",
       "      <td>2018-11-25</td>\n",
       "      <td>5</td>\n",
       "      <td>4.98</td>\n",
       "      <td>2.74</td>\n",
       "      <td>0.74</td>\n",
       "      <td>1.43</td>\n",
       "      <td>1</td>\n",
       "      <td>0.15</td>\n",
       "      <td>14</td>\n",
       "      <td>5.07</td>\n",
       "      <td>...</td>\n",
       "      <td>0.0</td>\n",
       "      <td>0.0</td>\n",
       "      <td>0.0</td>\n",
       "      <td>0.0</td>\n",
       "      <td>0.0</td>\n",
       "      <td>0.0</td>\n",
       "      <td>0.0</td>\n",
       "      <td>0.0</td>\n",
       "      <td>0</td>\n",
       "      <td>0</td>\n",
       "    </tr>\n",
       "    <tr>\n",
       "      <th>2018-11-25 00:00:002</th>\n",
       "      <td>2018-11-25</td>\n",
       "      <td>5</td>\n",
       "      <td>4.98</td>\n",
       "      <td>2.74</td>\n",
       "      <td>0.74</td>\n",
       "      <td>0.49</td>\n",
       "      <td>6</td>\n",
       "      <td>0.01</td>\n",
       "      <td>27</td>\n",
       "      <td>5.07</td>\n",
       "      <td>...</td>\n",
       "      <td>0.0</td>\n",
       "      <td>0.0</td>\n",
       "      <td>0.0</td>\n",
       "      <td>0.0</td>\n",
       "      <td>0.0</td>\n",
       "      <td>0.0</td>\n",
       "      <td>0.0</td>\n",
       "      <td>0.0</td>\n",
       "      <td>0</td>\n",
       "      <td>0</td>\n",
       "    </tr>\n",
       "    <tr>\n",
       "      <th>2018-11-25 00:00:002</th>\n",
       "      <td>2018-11-25</td>\n",
       "      <td>5</td>\n",
       "      <td>4.98</td>\n",
       "      <td>2.74</td>\n",
       "      <td>0.74</td>\n",
       "      <td>0.52</td>\n",
       "      <td>5</td>\n",
       "      <td>0.17</td>\n",
       "      <td>12</td>\n",
       "      <td>5.07</td>\n",
       "      <td>...</td>\n",
       "      <td>0.0</td>\n",
       "      <td>0.0</td>\n",
       "      <td>0.0</td>\n",
       "      <td>0.0</td>\n",
       "      <td>0.0</td>\n",
       "      <td>0.0</td>\n",
       "      <td>0.0</td>\n",
       "      <td>0.0</td>\n",
       "      <td>0</td>\n",
       "      <td>0</td>\n",
       "    </tr>\n",
       "    <tr>\n",
       "      <th>2018-11-25 00:00:002</th>\n",
       "      <td>2018-11-25</td>\n",
       "      <td>5</td>\n",
       "      <td>4.98</td>\n",
       "      <td>2.74</td>\n",
       "      <td>0.74</td>\n",
       "      <td>0.02</td>\n",
       "      <td>15</td>\n",
       "      <td>0.12</td>\n",
       "      <td>15</td>\n",
       "      <td>5.07</td>\n",
       "      <td>...</td>\n",
       "      <td>0.0</td>\n",
       "      <td>0.0</td>\n",
       "      <td>0.0</td>\n",
       "      <td>0.0</td>\n",
       "      <td>0.0</td>\n",
       "      <td>0.0</td>\n",
       "      <td>0.0</td>\n",
       "      <td>0.0</td>\n",
       "      <td>0</td>\n",
       "      <td>0</td>\n",
       "    </tr>\n",
       "    <tr>\n",
       "      <th>2018-11-25 00:00:002</th>\n",
       "      <td>2018-11-25</td>\n",
       "      <td>5</td>\n",
       "      <td>4.98</td>\n",
       "      <td>2.74</td>\n",
       "      <td>0.74</td>\n",
       "      <td>0.61</td>\n",
       "      <td>4</td>\n",
       "      <td>0.01</td>\n",
       "      <td>30</td>\n",
       "      <td>5.07</td>\n",
       "      <td>...</td>\n",
       "      <td>0.0</td>\n",
       "      <td>0.0</td>\n",
       "      <td>0.0</td>\n",
       "      <td>0.0</td>\n",
       "      <td>0.0</td>\n",
       "      <td>0.0</td>\n",
       "      <td>0.0</td>\n",
       "      <td>0.0</td>\n",
       "      <td>0</td>\n",
       "      <td>0</td>\n",
       "    </tr>\n",
       "    <tr>\n",
       "      <th>2018-11-25 00:00:002</th>\n",
       "      <td>2018-11-25</td>\n",
       "      <td>4</td>\n",
       "      <td>4.98</td>\n",
       "      <td>2.74</td>\n",
       "      <td>0.74</td>\n",
       "      <td>0.43</td>\n",
       "      <td>7</td>\n",
       "      <td>0.40</td>\n",
       "      <td>4</td>\n",
       "      <td>5.07</td>\n",
       "      <td>...</td>\n",
       "      <td>0.0</td>\n",
       "      <td>0.0</td>\n",
       "      <td>0.0</td>\n",
       "      <td>3.0</td>\n",
       "      <td>0.0</td>\n",
       "      <td>0.0</td>\n",
       "      <td>0.0</td>\n",
       "      <td>0.0</td>\n",
       "      <td>0</td>\n",
       "      <td>0</td>\n",
       "    </tr>\n",
       "    <tr>\n",
       "      <th>2018-11-25 00:00:002</th>\n",
       "      <td>2018-11-25</td>\n",
       "      <td>3</td>\n",
       "      <td>4.98</td>\n",
       "      <td>2.74</td>\n",
       "      <td>0.74</td>\n",
       "      <td>0.10</td>\n",
       "      <td>13</td>\n",
       "      <td>0.27</td>\n",
       "      <td>8</td>\n",
       "      <td>5.07</td>\n",
       "      <td>...</td>\n",
       "      <td>0.0</td>\n",
       "      <td>2.0</td>\n",
       "      <td>0.0</td>\n",
       "      <td>0.0</td>\n",
       "      <td>0.0</td>\n",
       "      <td>0.0</td>\n",
       "      <td>0.0</td>\n",
       "      <td>0.0</td>\n",
       "      <td>3</td>\n",
       "      <td>0</td>\n",
       "    </tr>\n",
       "    <tr>\n",
       "      <th>2018-11-25 00:00:002</th>\n",
       "      <td>2018-11-25</td>\n",
       "      <td>1</td>\n",
       "      <td>4.98</td>\n",
       "      <td>2.74</td>\n",
       "      <td>0.74</td>\n",
       "      <td>0.30</td>\n",
       "      <td>11</td>\n",
       "      <td>1.86</td>\n",
       "      <td>1</td>\n",
       "      <td>5.07</td>\n",
       "      <td>...</td>\n",
       "      <td>1.0</td>\n",
       "      <td>1.0</td>\n",
       "      <td>2.0</td>\n",
       "      <td>1.0</td>\n",
       "      <td>1.0</td>\n",
       "      <td>1.0</td>\n",
       "      <td>1.0</td>\n",
       "      <td>2.0</td>\n",
       "      <td>1</td>\n",
       "      <td>1</td>\n",
       "    </tr>\n",
       "    <tr>\n",
       "      <th>2018-11-25 00:00:003</th>\n",
       "      <td>2018-11-25</td>\n",
       "      <td>4</td>\n",
       "      <td>21.06</td>\n",
       "      <td>7.34</td>\n",
       "      <td>0.60</td>\n",
       "      <td>0.49</td>\n",
       "      <td>6</td>\n",
       "      <td>0.40</td>\n",
       "      <td>4</td>\n",
       "      <td>21.06</td>\n",
       "      <td>...</td>\n",
       "      <td>0.0</td>\n",
       "      <td>0.0</td>\n",
       "      <td>0.0</td>\n",
       "      <td>0.0</td>\n",
       "      <td>0.0</td>\n",
       "      <td>0.0</td>\n",
       "      <td>0.0</td>\n",
       "      <td>0.0</td>\n",
       "      <td>0</td>\n",
       "      <td>0</td>\n",
       "    </tr>\n",
       "    <tr>\n",
       "      <th>2018-11-25 00:00:003</th>\n",
       "      <td>2018-11-25</td>\n",
       "      <td>3</td>\n",
       "      <td>21.06</td>\n",
       "      <td>7.34</td>\n",
       "      <td>0.60</td>\n",
       "      <td>0.43</td>\n",
       "      <td>7</td>\n",
       "      <td>0.93</td>\n",
       "      <td>2</td>\n",
       "      <td>21.06</td>\n",
       "      <td>...</td>\n",
       "      <td>3.0</td>\n",
       "      <td>0.0</td>\n",
       "      <td>0.0</td>\n",
       "      <td>0.0</td>\n",
       "      <td>0.0</td>\n",
       "      <td>0.0</td>\n",
       "      <td>2.0</td>\n",
       "      <td>0.0</td>\n",
       "      <td>0</td>\n",
       "      <td>0</td>\n",
       "    </tr>\n",
       "    <tr>\n",
       "      <th>2018-11-25 00:00:003</th>\n",
       "      <td>2018-11-25</td>\n",
       "      <td>3</td>\n",
       "      <td>21.06</td>\n",
       "      <td>7.34</td>\n",
       "      <td>0.60</td>\n",
       "      <td>0.38</td>\n",
       "      <td>9</td>\n",
       "      <td>0.36</td>\n",
       "      <td>6</td>\n",
       "      <td>21.06</td>\n",
       "      <td>...</td>\n",
       "      <td>0.0</td>\n",
       "      <td>0.0</td>\n",
       "      <td>0.0</td>\n",
       "      <td>3.0</td>\n",
       "      <td>0.0</td>\n",
       "      <td>3.0</td>\n",
       "      <td>0.0</td>\n",
       "      <td>0.0</td>\n",
       "      <td>0</td>\n",
       "      <td>0</td>\n",
       "    </tr>\n",
       "    <tr>\n",
       "      <th>2018-11-25 00:00:003</th>\n",
       "      <td>2018-11-25</td>\n",
       "      <td>2</td>\n",
       "      <td>21.06</td>\n",
       "      <td>7.34</td>\n",
       "      <td>0.60</td>\n",
       "      <td>0.52</td>\n",
       "      <td>5</td>\n",
       "      <td>0.25</td>\n",
       "      <td>11</td>\n",
       "      <td>21.06</td>\n",
       "      <td>...</td>\n",
       "      <td>0.0</td>\n",
       "      <td>3.0</td>\n",
       "      <td>3.0</td>\n",
       "      <td>0.0</td>\n",
       "      <td>3.0</td>\n",
       "      <td>0.0</td>\n",
       "      <td>0.0</td>\n",
       "      <td>3.0</td>\n",
       "      <td>2</td>\n",
       "      <td>0</td>\n",
       "    </tr>\n",
       "    <tr>\n",
       "      <th>2018-11-25 00:00:003</th>\n",
       "      <td>2018-11-25</td>\n",
       "      <td>1</td>\n",
       "      <td>21.06</td>\n",
       "      <td>7.34</td>\n",
       "      <td>0.60</td>\n",
       "      <td>0.92</td>\n",
       "      <td>2</td>\n",
       "      <td>1.86</td>\n",
       "      <td>1</td>\n",
       "      <td>21.06</td>\n",
       "      <td>...</td>\n",
       "      <td>1.0</td>\n",
       "      <td>1.0</td>\n",
       "      <td>2.0</td>\n",
       "      <td>1.0</td>\n",
       "      <td>2.0</td>\n",
       "      <td>1.0</td>\n",
       "      <td>3.0</td>\n",
       "      <td>1.0</td>\n",
       "      <td>1</td>\n",
       "      <td>0</td>\n",
       "    </tr>\n",
       "    <tr>\n",
       "      <th>2018-11-25 00:00:003</th>\n",
       "      <td>2018-11-25</td>\n",
       "      <td>2</td>\n",
       "      <td>21.06</td>\n",
       "      <td>7.34</td>\n",
       "      <td>0.60</td>\n",
       "      <td>0.41</td>\n",
       "      <td>8</td>\n",
       "      <td>0.26</td>\n",
       "      <td>10</td>\n",
       "      <td>21.06</td>\n",
       "      <td>...</td>\n",
       "      <td>2.0</td>\n",
       "      <td>2.0</td>\n",
       "      <td>1.0</td>\n",
       "      <td>2.0</td>\n",
       "      <td>1.0</td>\n",
       "      <td>2.0</td>\n",
       "      <td>1.0</td>\n",
       "      <td>2.0</td>\n",
       "      <td>3</td>\n",
       "      <td>1</td>\n",
       "    </tr>\n",
       "    <tr>\n",
       "      <th>2018-11-25 00:00:004</th>\n",
       "      <td>2018-11-25</td>\n",
       "      <td>5</td>\n",
       "      <td>6.71</td>\n",
       "      <td>4.05</td>\n",
       "      <td>2.30</td>\n",
       "      <td>0.41</td>\n",
       "      <td>8</td>\n",
       "      <td>0.01</td>\n",
       "      <td>29</td>\n",
       "      <td>5.91</td>\n",
       "      <td>...</td>\n",
       "      <td>0.0</td>\n",
       "      <td>0.0</td>\n",
       "      <td>0.0</td>\n",
       "      <td>0.0</td>\n",
       "      <td>0.0</td>\n",
       "      <td>0.0</td>\n",
       "      <td>0.0</td>\n",
       "      <td>0.0</td>\n",
       "      <td>0</td>\n",
       "      <td>0</td>\n",
       "    </tr>\n",
       "    <tr>\n",
       "      <th>...</th>\n",
       "      <td>...</td>\n",
       "      <td>...</td>\n",
       "      <td>...</td>\n",
       "      <td>...</td>\n",
       "      <td>...</td>\n",
       "      <td>...</td>\n",
       "      <td>...</td>\n",
       "      <td>...</td>\n",
       "      <td>...</td>\n",
       "      <td>...</td>\n",
       "      <td>...</td>\n",
       "      <td>...</td>\n",
       "      <td>...</td>\n",
       "      <td>...</td>\n",
       "      <td>...</td>\n",
       "      <td>...</td>\n",
       "      <td>...</td>\n",
       "      <td>...</td>\n",
       "      <td>...</td>\n",
       "      <td>...</td>\n",
       "      <td>...</td>\n",
       "    </tr>\n",
       "    <tr>\n",
       "      <th>2018-11-25 00:00:005</th>\n",
       "      <td>2018-11-25</td>\n",
       "      <td>4</td>\n",
       "      <td>10.34</td>\n",
       "      <td>7.60</td>\n",
       "      <td>0.78</td>\n",
       "      <td>0.69</td>\n",
       "      <td>3</td>\n",
       "      <td>0.17</td>\n",
       "      <td>12</td>\n",
       "      <td>10.91</td>\n",
       "      <td>...</td>\n",
       "      <td>0.0</td>\n",
       "      <td>0.0</td>\n",
       "      <td>0.0</td>\n",
       "      <td>0.0</td>\n",
       "      <td>0.0</td>\n",
       "      <td>0.0</td>\n",
       "      <td>0.0</td>\n",
       "      <td>0.0</td>\n",
       "      <td>0</td>\n",
       "      <td>0</td>\n",
       "    </tr>\n",
       "    <tr>\n",
       "      <th>2018-11-25 00:00:005</th>\n",
       "      <td>2018-11-25</td>\n",
       "      <td>1</td>\n",
       "      <td>10.34</td>\n",
       "      <td>7.60</td>\n",
       "      <td>0.78</td>\n",
       "      <td>0.61</td>\n",
       "      <td>4</td>\n",
       "      <td>0.93</td>\n",
       "      <td>2</td>\n",
       "      <td>10.91</td>\n",
       "      <td>...</td>\n",
       "      <td>1.0</td>\n",
       "      <td>1.0</td>\n",
       "      <td>1.0</td>\n",
       "      <td>2.0</td>\n",
       "      <td>3.0</td>\n",
       "      <td>3.0</td>\n",
       "      <td>2.0</td>\n",
       "      <td>2.0</td>\n",
       "      <td>2</td>\n",
       "      <td>0</td>\n",
       "    </tr>\n",
       "    <tr>\n",
       "      <th>2018-11-25 00:00:005</th>\n",
       "      <td>2018-11-25</td>\n",
       "      <td>2</td>\n",
       "      <td>10.34</td>\n",
       "      <td>7.60</td>\n",
       "      <td>0.78</td>\n",
       "      <td>0.92</td>\n",
       "      <td>2</td>\n",
       "      <td>0.27</td>\n",
       "      <td>9</td>\n",
       "      <td>10.91</td>\n",
       "      <td>...</td>\n",
       "      <td>2.0</td>\n",
       "      <td>0.0</td>\n",
       "      <td>3.0</td>\n",
       "      <td>1.0</td>\n",
       "      <td>2.0</td>\n",
       "      <td>2.0</td>\n",
       "      <td>0.0</td>\n",
       "      <td>3.0</td>\n",
       "      <td>3</td>\n",
       "      <td>0</td>\n",
       "    </tr>\n",
       "    <tr>\n",
       "      <th>2018-11-25 00:00:005</th>\n",
       "      <td>2018-11-25</td>\n",
       "      <td>3</td>\n",
       "      <td>10.34</td>\n",
       "      <td>7.60</td>\n",
       "      <td>0.78</td>\n",
       "      <td>0.49</td>\n",
       "      <td>6</td>\n",
       "      <td>0.12</td>\n",
       "      <td>15</td>\n",
       "      <td>10.91</td>\n",
       "      <td>...</td>\n",
       "      <td>0.0</td>\n",
       "      <td>3.0</td>\n",
       "      <td>0.0</td>\n",
       "      <td>0.0</td>\n",
       "      <td>0.0</td>\n",
       "      <td>0.0</td>\n",
       "      <td>1.0</td>\n",
       "      <td>0.0</td>\n",
       "      <td>0</td>\n",
       "      <td>0</td>\n",
       "    </tr>\n",
       "    <tr>\n",
       "      <th>2018-11-25 00:00:005</th>\n",
       "      <td>2018-11-25</td>\n",
       "      <td>2</td>\n",
       "      <td>10.34</td>\n",
       "      <td>7.60</td>\n",
       "      <td>0.78</td>\n",
       "      <td>1.43</td>\n",
       "      <td>1</td>\n",
       "      <td>0.36</td>\n",
       "      <td>6</td>\n",
       "      <td>10.91</td>\n",
       "      <td>...</td>\n",
       "      <td>3.0</td>\n",
       "      <td>2.0</td>\n",
       "      <td>2.0</td>\n",
       "      <td>3.0</td>\n",
       "      <td>1.0</td>\n",
       "      <td>1.0</td>\n",
       "      <td>3.0</td>\n",
       "      <td>1.0</td>\n",
       "      <td>1</td>\n",
       "      <td>1</td>\n",
       "    </tr>\n",
       "    <tr>\n",
       "      <th>2018-11-25 00:00:005</th>\n",
       "      <td>2018-11-25</td>\n",
       "      <td>4</td>\n",
       "      <td>10.34</td>\n",
       "      <td>7.60</td>\n",
       "      <td>0.78</td>\n",
       "      <td>0.43</td>\n",
       "      <td>7</td>\n",
       "      <td>0.03</td>\n",
       "      <td>20</td>\n",
       "      <td>10.91</td>\n",
       "      <td>...</td>\n",
       "      <td>0.0</td>\n",
       "      <td>0.0</td>\n",
       "      <td>0.0</td>\n",
       "      <td>0.0</td>\n",
       "      <td>0.0</td>\n",
       "      <td>0.0</td>\n",
       "      <td>0.0</td>\n",
       "      <td>0.0</td>\n",
       "      <td>0</td>\n",
       "      <td>0</td>\n",
       "    </tr>\n",
       "    <tr>\n",
       "      <th>2018-11-25 00:00:006</th>\n",
       "      <td>2018-11-25</td>\n",
       "      <td>4</td>\n",
       "      <td>11.11</td>\n",
       "      <td>6.96</td>\n",
       "      <td>1.02</td>\n",
       "      <td>0.30</td>\n",
       "      <td>11</td>\n",
       "      <td>0.38</td>\n",
       "      <td>5</td>\n",
       "      <td>12.24</td>\n",
       "      <td>...</td>\n",
       "      <td>0.0</td>\n",
       "      <td>0.0</td>\n",
       "      <td>0.0</td>\n",
       "      <td>3.0</td>\n",
       "      <td>0.0</td>\n",
       "      <td>0.0</td>\n",
       "      <td>0.0</td>\n",
       "      <td>0.0</td>\n",
       "      <td>0</td>\n",
       "      <td>0</td>\n",
       "    </tr>\n",
       "    <tr>\n",
       "      <th>2018-11-25 00:00:006</th>\n",
       "      <td>2018-11-25</td>\n",
       "      <td>4</td>\n",
       "      <td>11.11</td>\n",
       "      <td>6.96</td>\n",
       "      <td>1.02</td>\n",
       "      <td>0.35</td>\n",
       "      <td>10</td>\n",
       "      <td>0.27</td>\n",
       "      <td>8</td>\n",
       "      <td>12.24</td>\n",
       "      <td>...</td>\n",
       "      <td>0.0</td>\n",
       "      <td>0.0</td>\n",
       "      <td>0.0</td>\n",
       "      <td>0.0</td>\n",
       "      <td>0.0</td>\n",
       "      <td>0.0</td>\n",
       "      <td>0.0</td>\n",
       "      <td>0.0</td>\n",
       "      <td>0</td>\n",
       "      <td>0</td>\n",
       "    </tr>\n",
       "    <tr>\n",
       "      <th>2018-11-25 00:00:006</th>\n",
       "      <td>2018-11-25</td>\n",
       "      <td>3</td>\n",
       "      <td>11.11</td>\n",
       "      <td>6.96</td>\n",
       "      <td>1.02</td>\n",
       "      <td>0.38</td>\n",
       "      <td>9</td>\n",
       "      <td>0.60</td>\n",
       "      <td>3</td>\n",
       "      <td>12.24</td>\n",
       "      <td>...</td>\n",
       "      <td>0.0</td>\n",
       "      <td>0.0</td>\n",
       "      <td>3.0</td>\n",
       "      <td>0.0</td>\n",
       "      <td>0.0</td>\n",
       "      <td>0.0</td>\n",
       "      <td>0.0</td>\n",
       "      <td>1.0</td>\n",
       "      <td>0</td>\n",
       "      <td>0</td>\n",
       "    </tr>\n",
       "    <tr>\n",
       "      <th>2018-11-25 00:00:006</th>\n",
       "      <td>2018-11-25</td>\n",
       "      <td>5</td>\n",
       "      <td>11.11</td>\n",
       "      <td>6.96</td>\n",
       "      <td>1.02</td>\n",
       "      <td>0.41</td>\n",
       "      <td>8</td>\n",
       "      <td>0.01</td>\n",
       "      <td>30</td>\n",
       "      <td>12.24</td>\n",
       "      <td>...</td>\n",
       "      <td>0.0</td>\n",
       "      <td>0.0</td>\n",
       "      <td>0.0</td>\n",
       "      <td>0.0</td>\n",
       "      <td>0.0</td>\n",
       "      <td>0.0</td>\n",
       "      <td>0.0</td>\n",
       "      <td>0.0</td>\n",
       "      <td>0</td>\n",
       "      <td>0</td>\n",
       "    </tr>\n",
       "    <tr>\n",
       "      <th>2018-11-25 00:00:006</th>\n",
       "      <td>2018-11-25</td>\n",
       "      <td>4</td>\n",
       "      <td>11.11</td>\n",
       "      <td>6.96</td>\n",
       "      <td>1.02</td>\n",
       "      <td>0.49</td>\n",
       "      <td>6</td>\n",
       "      <td>0.36</td>\n",
       "      <td>6</td>\n",
       "      <td>12.24</td>\n",
       "      <td>...</td>\n",
       "      <td>0.0</td>\n",
       "      <td>3.0</td>\n",
       "      <td>0.0</td>\n",
       "      <td>0.0</td>\n",
       "      <td>3.0</td>\n",
       "      <td>0.0</td>\n",
       "      <td>0.0</td>\n",
       "      <td>0.0</td>\n",
       "      <td>0</td>\n",
       "      <td>0</td>\n",
       "    </tr>\n",
       "    <tr>\n",
       "      <th>2018-11-25 00:00:006</th>\n",
       "      <td>2018-11-25</td>\n",
       "      <td>5</td>\n",
       "      <td>11.11</td>\n",
       "      <td>6.96</td>\n",
       "      <td>1.02</td>\n",
       "      <td>1.43</td>\n",
       "      <td>1</td>\n",
       "      <td>0.12</td>\n",
       "      <td>15</td>\n",
       "      <td>12.24</td>\n",
       "      <td>...</td>\n",
       "      <td>0.0</td>\n",
       "      <td>0.0</td>\n",
       "      <td>0.0</td>\n",
       "      <td>0.0</td>\n",
       "      <td>0.0</td>\n",
       "      <td>0.0</td>\n",
       "      <td>0.0</td>\n",
       "      <td>0.0</td>\n",
       "      <td>0</td>\n",
       "      <td>0</td>\n",
       "    </tr>\n",
       "    <tr>\n",
       "      <th>2018-11-25 00:00:006</th>\n",
       "      <td>2018-11-25</td>\n",
       "      <td>5</td>\n",
       "      <td>11.11</td>\n",
       "      <td>6.96</td>\n",
       "      <td>1.02</td>\n",
       "      <td>0.29</td>\n",
       "      <td>12</td>\n",
       "      <td>0.11</td>\n",
       "      <td>16</td>\n",
       "      <td>12.24</td>\n",
       "      <td>...</td>\n",
       "      <td>0.0</td>\n",
       "      <td>0.0</td>\n",
       "      <td>0.0</td>\n",
       "      <td>0.0</td>\n",
       "      <td>0.0</td>\n",
       "      <td>0.0</td>\n",
       "      <td>0.0</td>\n",
       "      <td>0.0</td>\n",
       "      <td>0</td>\n",
       "      <td>0</td>\n",
       "    </tr>\n",
       "    <tr>\n",
       "      <th>2018-11-25 00:00:006</th>\n",
       "      <td>2018-11-25</td>\n",
       "      <td>3</td>\n",
       "      <td>11.11</td>\n",
       "      <td>6.96</td>\n",
       "      <td>1.02</td>\n",
       "      <td>0.43</td>\n",
       "      <td>7</td>\n",
       "      <td>1.86</td>\n",
       "      <td>1</td>\n",
       "      <td>12.24</td>\n",
       "      <td>...</td>\n",
       "      <td>0.0</td>\n",
       "      <td>0.0</td>\n",
       "      <td>0.0</td>\n",
       "      <td>0.0</td>\n",
       "      <td>0.0</td>\n",
       "      <td>1.0</td>\n",
       "      <td>3.0</td>\n",
       "      <td>0.0</td>\n",
       "      <td>0</td>\n",
       "      <td>0</td>\n",
       "    </tr>\n",
       "    <tr>\n",
       "      <th>2018-11-25 00:00:006</th>\n",
       "      <td>2018-11-25</td>\n",
       "      <td>5</td>\n",
       "      <td>11.11</td>\n",
       "      <td>6.96</td>\n",
       "      <td>1.02</td>\n",
       "      <td>0.61</td>\n",
       "      <td>4</td>\n",
       "      <td>0.03</td>\n",
       "      <td>20</td>\n",
       "      <td>12.24</td>\n",
       "      <td>...</td>\n",
       "      <td>0.0</td>\n",
       "      <td>0.0</td>\n",
       "      <td>0.0</td>\n",
       "      <td>0.0</td>\n",
       "      <td>0.0</td>\n",
       "      <td>0.0</td>\n",
       "      <td>0.0</td>\n",
       "      <td>0.0</td>\n",
       "      <td>0</td>\n",
       "      <td>0</td>\n",
       "    </tr>\n",
       "    <tr>\n",
       "      <th>2018-11-25 00:00:006</th>\n",
       "      <td>2018-11-25</td>\n",
       "      <td>2</td>\n",
       "      <td>11.11</td>\n",
       "      <td>6.96</td>\n",
       "      <td>1.02</td>\n",
       "      <td>0.52</td>\n",
       "      <td>5</td>\n",
       "      <td>0.29</td>\n",
       "      <td>7</td>\n",
       "      <td>12.24</td>\n",
       "      <td>...</td>\n",
       "      <td>3.0</td>\n",
       "      <td>2.0</td>\n",
       "      <td>2.0</td>\n",
       "      <td>1.0</td>\n",
       "      <td>2.0</td>\n",
       "      <td>3.0</td>\n",
       "      <td>1.0</td>\n",
       "      <td>3.0</td>\n",
       "      <td>1</td>\n",
       "      <td>0</td>\n",
       "    </tr>\n",
       "    <tr>\n",
       "      <th>2018-11-25 00:00:006</th>\n",
       "      <td>2018-11-25</td>\n",
       "      <td>2</td>\n",
       "      <td>11.11</td>\n",
       "      <td>6.96</td>\n",
       "      <td>1.02</td>\n",
       "      <td>0.92</td>\n",
       "      <td>2</td>\n",
       "      <td>0.15</td>\n",
       "      <td>14</td>\n",
       "      <td>12.24</td>\n",
       "      <td>...</td>\n",
       "      <td>1.0</td>\n",
       "      <td>0.0</td>\n",
       "      <td>0.0</td>\n",
       "      <td>0.0</td>\n",
       "      <td>0.0</td>\n",
       "      <td>0.0</td>\n",
       "      <td>0.0</td>\n",
       "      <td>0.0</td>\n",
       "      <td>3</td>\n",
       "      <td>0</td>\n",
       "    </tr>\n",
       "    <tr>\n",
       "      <th>2018-11-25 00:00:006</th>\n",
       "      <td>2018-11-25</td>\n",
       "      <td>1</td>\n",
       "      <td>11.11</td>\n",
       "      <td>6.96</td>\n",
       "      <td>1.02</td>\n",
       "      <td>0.69</td>\n",
       "      <td>3</td>\n",
       "      <td>0.93</td>\n",
       "      <td>2</td>\n",
       "      <td>12.24</td>\n",
       "      <td>...</td>\n",
       "      <td>2.0</td>\n",
       "      <td>1.0</td>\n",
       "      <td>1.0</td>\n",
       "      <td>2.0</td>\n",
       "      <td>1.0</td>\n",
       "      <td>2.0</td>\n",
       "      <td>2.0</td>\n",
       "      <td>2.0</td>\n",
       "      <td>2</td>\n",
       "      <td>1</td>\n",
       "    </tr>\n",
       "    <tr>\n",
       "      <th>2018-11-25 00:00:007</th>\n",
       "      <td>2018-11-25</td>\n",
       "      <td>3</td>\n",
       "      <td>5.44</td>\n",
       "      <td>1.25</td>\n",
       "      <td>0.62</td>\n",
       "      <td>0.29</td>\n",
       "      <td>12</td>\n",
       "      <td>1.86</td>\n",
       "      <td>1</td>\n",
       "      <td>5.44</td>\n",
       "      <td>...</td>\n",
       "      <td>0.0</td>\n",
       "      <td>2.0</td>\n",
       "      <td>0.0</td>\n",
       "      <td>0.0</td>\n",
       "      <td>0.0</td>\n",
       "      <td>0.0</td>\n",
       "      <td>0.0</td>\n",
       "      <td>0.0</td>\n",
       "      <td>0</td>\n",
       "      <td>0</td>\n",
       "    </tr>\n",
       "    <tr>\n",
       "      <th>2018-11-25 00:00:007</th>\n",
       "      <td>2018-11-25</td>\n",
       "      <td>2</td>\n",
       "      <td>5.44</td>\n",
       "      <td>1.25</td>\n",
       "      <td>0.62</td>\n",
       "      <td>0.35</td>\n",
       "      <td>10</td>\n",
       "      <td>0.27</td>\n",
       "      <td>8</td>\n",
       "      <td>5.44</td>\n",
       "      <td>...</td>\n",
       "      <td>2.0</td>\n",
       "      <td>0.0</td>\n",
       "      <td>0.0</td>\n",
       "      <td>2.0</td>\n",
       "      <td>1.0</td>\n",
       "      <td>1.0</td>\n",
       "      <td>2.0</td>\n",
       "      <td>0.0</td>\n",
       "      <td>0</td>\n",
       "      <td>0</td>\n",
       "    </tr>\n",
       "    <tr>\n",
       "      <th>2018-11-25 00:00:007</th>\n",
       "      <td>2018-11-25</td>\n",
       "      <td>1</td>\n",
       "      <td>5.44</td>\n",
       "      <td>1.25</td>\n",
       "      <td>0.62</td>\n",
       "      <td>0.61</td>\n",
       "      <td>4</td>\n",
       "      <td>0.60</td>\n",
       "      <td>3</td>\n",
       "      <td>5.44</td>\n",
       "      <td>...</td>\n",
       "      <td>1.0</td>\n",
       "      <td>1.0</td>\n",
       "      <td>1.0</td>\n",
       "      <td>0.0</td>\n",
       "      <td>0.0</td>\n",
       "      <td>2.0</td>\n",
       "      <td>1.0</td>\n",
       "      <td>1.0</td>\n",
       "      <td>1</td>\n",
       "      <td>1</td>\n",
       "    </tr>\n",
       "    <tr>\n",
       "      <th>2018-11-25 00:00:007</th>\n",
       "      <td>2018-11-25</td>\n",
       "      <td>4</td>\n",
       "      <td>5.44</td>\n",
       "      <td>1.25</td>\n",
       "      <td>0.62</td>\n",
       "      <td>1.43</td>\n",
       "      <td>1</td>\n",
       "      <td>0.11</td>\n",
       "      <td>16</td>\n",
       "      <td>5.44</td>\n",
       "      <td>...</td>\n",
       "      <td>0.0</td>\n",
       "      <td>0.0</td>\n",
       "      <td>2.0</td>\n",
       "      <td>3.0</td>\n",
       "      <td>3.0</td>\n",
       "      <td>0.0</td>\n",
       "      <td>0.0</td>\n",
       "      <td>0.0</td>\n",
       "      <td>0</td>\n",
       "      <td>0</td>\n",
       "    </tr>\n",
       "    <tr>\n",
       "      <th>2018-11-25 00:00:007</th>\n",
       "      <td>2018-11-25</td>\n",
       "      <td>4</td>\n",
       "      <td>5.44</td>\n",
       "      <td>1.25</td>\n",
       "      <td>0.62</td>\n",
       "      <td>0.38</td>\n",
       "      <td>9</td>\n",
       "      <td>0.93</td>\n",
       "      <td>2</td>\n",
       "      <td>5.44</td>\n",
       "      <td>...</td>\n",
       "      <td>0.0</td>\n",
       "      <td>0.0</td>\n",
       "      <td>0.0</td>\n",
       "      <td>0.0</td>\n",
       "      <td>0.0</td>\n",
       "      <td>0.0</td>\n",
       "      <td>0.0</td>\n",
       "      <td>0.0</td>\n",
       "      <td>0</td>\n",
       "      <td>0</td>\n",
       "    </tr>\n",
       "    <tr>\n",
       "      <th>2018-11-25 00:00:007</th>\n",
       "      <td>2018-11-25</td>\n",
       "      <td>4</td>\n",
       "      <td>5.44</td>\n",
       "      <td>1.25</td>\n",
       "      <td>0.62</td>\n",
       "      <td>0.41</td>\n",
       "      <td>8</td>\n",
       "      <td>0.05</td>\n",
       "      <td>19</td>\n",
       "      <td>5.44</td>\n",
       "      <td>...</td>\n",
       "      <td>0.0</td>\n",
       "      <td>0.0</td>\n",
       "      <td>0.0</td>\n",
       "      <td>0.0</td>\n",
       "      <td>0.0</td>\n",
       "      <td>0.0</td>\n",
       "      <td>0.0</td>\n",
       "      <td>2.0</td>\n",
       "      <td>0</td>\n",
       "      <td>0</td>\n",
       "    </tr>\n",
       "    <tr>\n",
       "      <th>2018-11-25 00:00:007</th>\n",
       "      <td>2018-11-25</td>\n",
       "      <td>3</td>\n",
       "      <td>5.44</td>\n",
       "      <td>1.25</td>\n",
       "      <td>0.62</td>\n",
       "      <td>0.92</td>\n",
       "      <td>2</td>\n",
       "      <td>0.40</td>\n",
       "      <td>4</td>\n",
       "      <td>5.44</td>\n",
       "      <td>...</td>\n",
       "      <td>0.0</td>\n",
       "      <td>0.0</td>\n",
       "      <td>0.0</td>\n",
       "      <td>1.0</td>\n",
       "      <td>0.0</td>\n",
       "      <td>0.0</td>\n",
       "      <td>3.0</td>\n",
       "      <td>0.0</td>\n",
       "      <td>2</td>\n",
       "      <td>0</td>\n",
       "    </tr>\n",
       "    <tr>\n",
       "      <th>2018-11-25 00:00:007</th>\n",
       "      <td>2018-11-25</td>\n",
       "      <td>2</td>\n",
       "      <td>5.44</td>\n",
       "      <td>1.25</td>\n",
       "      <td>0.62</td>\n",
       "      <td>0.49</td>\n",
       "      <td>6</td>\n",
       "      <td>0.17</td>\n",
       "      <td>12</td>\n",
       "      <td>5.44</td>\n",
       "      <td>...</td>\n",
       "      <td>3.0</td>\n",
       "      <td>0.0</td>\n",
       "      <td>3.0</td>\n",
       "      <td>0.0</td>\n",
       "      <td>0.0</td>\n",
       "      <td>3.0</td>\n",
       "      <td>0.0</td>\n",
       "      <td>3.0</td>\n",
       "      <td>0</td>\n",
       "      <td>0</td>\n",
       "    </tr>\n",
       "    <tr>\n",
       "      <th>2018-11-25 00:00:007</th>\n",
       "      <td>2018-11-25</td>\n",
       "      <td>5</td>\n",
       "      <td>5.44</td>\n",
       "      <td>1.25</td>\n",
       "      <td>0.62</td>\n",
       "      <td>0.69</td>\n",
       "      <td>3</td>\n",
       "      <td>0.03</td>\n",
       "      <td>21</td>\n",
       "      <td>5.44</td>\n",
       "      <td>...</td>\n",
       "      <td>0.0</td>\n",
       "      <td>3.0</td>\n",
       "      <td>0.0</td>\n",
       "      <td>0.0</td>\n",
       "      <td>2.0</td>\n",
       "      <td>0.0</td>\n",
       "      <td>0.0</td>\n",
       "      <td>0.0</td>\n",
       "      <td>0</td>\n",
       "      <td>0</td>\n",
       "    </tr>\n",
       "    <tr>\n",
       "      <th>2018-11-25 00:00:007</th>\n",
       "      <td>2018-11-25</td>\n",
       "      <td>5</td>\n",
       "      <td>5.44</td>\n",
       "      <td>1.25</td>\n",
       "      <td>0.62</td>\n",
       "      <td>0.43</td>\n",
       "      <td>7</td>\n",
       "      <td>0.08</td>\n",
       "      <td>18</td>\n",
       "      <td>5.44</td>\n",
       "      <td>...</td>\n",
       "      <td>0.0</td>\n",
       "      <td>0.0</td>\n",
       "      <td>0.0</td>\n",
       "      <td>0.0</td>\n",
       "      <td>0.0</td>\n",
       "      <td>0.0</td>\n",
       "      <td>0.0</td>\n",
       "      <td>0.0</td>\n",
       "      <td>0</td>\n",
       "      <td>0</td>\n",
       "    </tr>\n",
       "    <tr>\n",
       "      <th>2018-11-25 00:00:007</th>\n",
       "      <td>2018-11-25</td>\n",
       "      <td>5</td>\n",
       "      <td>5.44</td>\n",
       "      <td>1.25</td>\n",
       "      <td>0.62</td>\n",
       "      <td>0.52</td>\n",
       "      <td>5</td>\n",
       "      <td>0.15</td>\n",
       "      <td>14</td>\n",
       "      <td>5.44</td>\n",
       "      <td>...</td>\n",
       "      <td>0.0</td>\n",
       "      <td>0.0</td>\n",
       "      <td>0.0</td>\n",
       "      <td>0.0</td>\n",
       "      <td>0.0</td>\n",
       "      <td>0.0</td>\n",
       "      <td>0.0</td>\n",
       "      <td>0.0</td>\n",
       "      <td>3</td>\n",
       "      <td>0</td>\n",
       "    </tr>\n",
       "    <tr>\n",
       "      <th>2018-11-25 00:00:007</th>\n",
       "      <td>2018-11-25</td>\n",
       "      <td>5</td>\n",
       "      <td>5.44</td>\n",
       "      <td>1.25</td>\n",
       "      <td>0.62</td>\n",
       "      <td>0.30</td>\n",
       "      <td>11</td>\n",
       "      <td>0.38</td>\n",
       "      <td>5</td>\n",
       "      <td>5.44</td>\n",
       "      <td>...</td>\n",
       "      <td>0.0</td>\n",
       "      <td>0.0</td>\n",
       "      <td>0.0</td>\n",
       "      <td>0.0</td>\n",
       "      <td>0.0</td>\n",
       "      <td>0.0</td>\n",
       "      <td>0.0</td>\n",
       "      <td>0.0</td>\n",
       "      <td>0</td>\n",
       "      <td>0</td>\n",
       "    </tr>\n",
       "  </tbody>\n",
       "</table>\n",
       "<p>75 rows × 27 columns</p>\n",
       "</div>"
      ],
      "text/plain": [
       "                          Datum  GRUPP    VLP  SVLP  VSVLP  VPN_SUM  \\\n",
       "Key                                                                   \n",
       "2018-11-25 00:00:001 2018-11-25      4  69.67  0.48   0.06     0.41   \n",
       "2018-11-25 00:00:001 2018-11-25      4  69.67  0.48   0.06     0.61   \n",
       "2018-11-25 00:00:001 2018-11-25      3  69.67  0.48   0.06     0.49   \n",
       "2018-11-25 00:00:001 2018-11-25      2  69.67  0.48   0.06     0.43   \n",
       "2018-11-25 00:00:001 2018-11-25      2  69.67  0.48   0.06     0.69   \n",
       "2018-11-25 00:00:001 2018-11-25      3  69.67  0.48   0.06     0.52   \n",
       "2018-11-25 00:00:001 2018-11-25      1  69.67  0.48   0.06     1.43   \n",
       "2018-11-25 00:00:001 2018-11-25      4  69.67  0.48   0.06     0.38   \n",
       "2018-11-25 00:00:002 2018-11-25      4   4.98  2.74   0.74     0.04   \n",
       "2018-11-25 00:00:002 2018-11-25      5   4.98  2.74   0.74     0.41   \n",
       "2018-11-25 00:00:002 2018-11-25      3   4.98  2.74   0.74     0.92   \n",
       "2018-11-25 00:00:002 2018-11-25      2   4.98  2.74   0.74     0.29   \n",
       "2018-11-25 00:00:002 2018-11-25      4   4.98  2.74   0.74     0.35   \n",
       "2018-11-25 00:00:002 2018-11-25      2   4.98  2.74   0.74     0.69   \n",
       "2018-11-25 00:00:002 2018-11-25      5   4.98  2.74   0.74     0.38   \n",
       "2018-11-25 00:00:002 2018-11-25      5   4.98  2.74   0.74     1.43   \n",
       "2018-11-25 00:00:002 2018-11-25      5   4.98  2.74   0.74     0.49   \n",
       "2018-11-25 00:00:002 2018-11-25      5   4.98  2.74   0.74     0.52   \n",
       "2018-11-25 00:00:002 2018-11-25      5   4.98  2.74   0.74     0.02   \n",
       "2018-11-25 00:00:002 2018-11-25      5   4.98  2.74   0.74     0.61   \n",
       "2018-11-25 00:00:002 2018-11-25      4   4.98  2.74   0.74     0.43   \n",
       "2018-11-25 00:00:002 2018-11-25      3   4.98  2.74   0.74     0.10   \n",
       "2018-11-25 00:00:002 2018-11-25      1   4.98  2.74   0.74     0.30   \n",
       "2018-11-25 00:00:003 2018-11-25      4  21.06  7.34   0.60     0.49   \n",
       "2018-11-25 00:00:003 2018-11-25      3  21.06  7.34   0.60     0.43   \n",
       "2018-11-25 00:00:003 2018-11-25      3  21.06  7.34   0.60     0.38   \n",
       "2018-11-25 00:00:003 2018-11-25      2  21.06  7.34   0.60     0.52   \n",
       "2018-11-25 00:00:003 2018-11-25      1  21.06  7.34   0.60     0.92   \n",
       "2018-11-25 00:00:003 2018-11-25      2  21.06  7.34   0.60     0.41   \n",
       "2018-11-25 00:00:004 2018-11-25      5   6.71  4.05   2.30     0.41   \n",
       "...                         ...    ...    ...   ...    ...      ...   \n",
       "2018-11-25 00:00:005 2018-11-25      4  10.34  7.60   0.78     0.69   \n",
       "2018-11-25 00:00:005 2018-11-25      1  10.34  7.60   0.78     0.61   \n",
       "2018-11-25 00:00:005 2018-11-25      2  10.34  7.60   0.78     0.92   \n",
       "2018-11-25 00:00:005 2018-11-25      3  10.34  7.60   0.78     0.49   \n",
       "2018-11-25 00:00:005 2018-11-25      2  10.34  7.60   0.78     1.43   \n",
       "2018-11-25 00:00:005 2018-11-25      4  10.34  7.60   0.78     0.43   \n",
       "2018-11-25 00:00:006 2018-11-25      4  11.11  6.96   1.02     0.30   \n",
       "2018-11-25 00:00:006 2018-11-25      4  11.11  6.96   1.02     0.35   \n",
       "2018-11-25 00:00:006 2018-11-25      3  11.11  6.96   1.02     0.38   \n",
       "2018-11-25 00:00:006 2018-11-25      5  11.11  6.96   1.02     0.41   \n",
       "2018-11-25 00:00:006 2018-11-25      4  11.11  6.96   1.02     0.49   \n",
       "2018-11-25 00:00:006 2018-11-25      5  11.11  6.96   1.02     1.43   \n",
       "2018-11-25 00:00:006 2018-11-25      5  11.11  6.96   1.02     0.29   \n",
       "2018-11-25 00:00:006 2018-11-25      3  11.11  6.96   1.02     0.43   \n",
       "2018-11-25 00:00:006 2018-11-25      5  11.11  6.96   1.02     0.61   \n",
       "2018-11-25 00:00:006 2018-11-25      2  11.11  6.96   1.02     0.52   \n",
       "2018-11-25 00:00:006 2018-11-25      2  11.11  6.96   1.02     0.92   \n",
       "2018-11-25 00:00:006 2018-11-25      1  11.11  6.96   1.02     0.69   \n",
       "2018-11-25 00:00:007 2018-11-25      3   5.44  1.25   0.62     0.29   \n",
       "2018-11-25 00:00:007 2018-11-25      2   5.44  1.25   0.62     0.35   \n",
       "2018-11-25 00:00:007 2018-11-25      1   5.44  1.25   0.62     0.61   \n",
       "2018-11-25 00:00:007 2018-11-25      4   5.44  1.25   0.62     1.43   \n",
       "2018-11-25 00:00:007 2018-11-25      4   5.44  1.25   0.62     0.38   \n",
       "2018-11-25 00:00:007 2018-11-25      4   5.44  1.25   0.62     0.41   \n",
       "2018-11-25 00:00:007 2018-11-25      3   5.44  1.25   0.62     0.92   \n",
       "2018-11-25 00:00:007 2018-11-25      2   5.44  1.25   0.62     0.49   \n",
       "2018-11-25 00:00:007 2018-11-25      5   5.44  1.25   0.62     0.69   \n",
       "2018-11-25 00:00:007 2018-11-25      5   5.44  1.25   0.62     0.43   \n",
       "2018-11-25 00:00:007 2018-11-25      5   5.44  1.25   0.62     0.52   \n",
       "2018-11-25 00:00:007 2018-11-25      5   5.44  1.25   0.62     0.30   \n",
       "\n",
       "                      VPN_SUM_ORD  VPK_SUM  VPK_SUM_ORD   VLPB ...  A_R  T_R  \\\n",
       "Key                                                            ...             \n",
       "2018-11-25 00:00:001            8     0.01           23  98.30 ...  0.0  0.0   \n",
       "2018-11-25 00:00:001            4     0.38            5  98.30 ...  0.0  0.0   \n",
       "2018-11-25 00:00:001            6     0.60            3  98.30 ...  0.0  0.0   \n",
       "2018-11-25 00:00:001            7     0.11           16  98.30 ...  3.0  3.0   \n",
       "2018-11-25 00:00:001            3     0.93            2  98.30 ...  2.0  2.0   \n",
       "2018-11-25 00:00:001            5     0.40            4  98.30 ...  0.0  0.0   \n",
       "2018-11-25 00:00:001            1     1.86            1  98.30 ...  1.0  1.0   \n",
       "2018-11-25 00:00:001            9     0.01           29  98.30 ...  0.0  0.0   \n",
       "2018-11-25 00:00:002           14     0.25           11   5.07 ...  0.0  0.0   \n",
       "2018-11-25 00:00:002            8     0.01           28   5.07 ...  0.0  0.0   \n",
       "2018-11-25 00:00:002            2     0.93            2   5.07 ...  0.0  0.0   \n",
       "2018-11-25 00:00:002           12     0.38            5   5.07 ...  0.0  0.0   \n",
       "2018-11-25 00:00:002           10     0.10           17   5.07 ...  2.0  3.0   \n",
       "2018-11-25 00:00:002            3     0.60            3   5.07 ...  3.0  0.0   \n",
       "2018-11-25 00:00:002            9     0.02           22   5.07 ...  0.0  0.0   \n",
       "2018-11-25 00:00:002            1     0.15           14   5.07 ...  0.0  0.0   \n",
       "2018-11-25 00:00:002            6     0.01           27   5.07 ...  0.0  0.0   \n",
       "2018-11-25 00:00:002            5     0.17           12   5.07 ...  0.0  0.0   \n",
       "2018-11-25 00:00:002           15     0.12           15   5.07 ...  0.0  0.0   \n",
       "2018-11-25 00:00:002            4     0.01           30   5.07 ...  0.0  0.0   \n",
       "2018-11-25 00:00:002            7     0.40            4   5.07 ...  0.0  0.0   \n",
       "2018-11-25 00:00:002           13     0.27            8   5.07 ...  0.0  2.0   \n",
       "2018-11-25 00:00:002           11     1.86            1   5.07 ...  1.0  1.0   \n",
       "2018-11-25 00:00:003            6     0.40            4  21.06 ...  0.0  0.0   \n",
       "2018-11-25 00:00:003            7     0.93            2  21.06 ...  3.0  0.0   \n",
       "2018-11-25 00:00:003            9     0.36            6  21.06 ...  0.0  0.0   \n",
       "2018-11-25 00:00:003            5     0.25           11  21.06 ...  0.0  3.0   \n",
       "2018-11-25 00:00:003            2     1.86            1  21.06 ...  1.0  1.0   \n",
       "2018-11-25 00:00:003            8     0.26           10  21.06 ...  2.0  2.0   \n",
       "2018-11-25 00:00:004            8     0.01           29   5.91 ...  0.0  0.0   \n",
       "...                           ...      ...          ...    ... ...  ...  ...   \n",
       "2018-11-25 00:00:005            3     0.17           12  10.91 ...  0.0  0.0   \n",
       "2018-11-25 00:00:005            4     0.93            2  10.91 ...  1.0  1.0   \n",
       "2018-11-25 00:00:005            2     0.27            9  10.91 ...  2.0  0.0   \n",
       "2018-11-25 00:00:005            6     0.12           15  10.91 ...  0.0  3.0   \n",
       "2018-11-25 00:00:005            1     0.36            6  10.91 ...  3.0  2.0   \n",
       "2018-11-25 00:00:005            7     0.03           20  10.91 ...  0.0  0.0   \n",
       "2018-11-25 00:00:006           11     0.38            5  12.24 ...  0.0  0.0   \n",
       "2018-11-25 00:00:006           10     0.27            8  12.24 ...  0.0  0.0   \n",
       "2018-11-25 00:00:006            9     0.60            3  12.24 ...  0.0  0.0   \n",
       "2018-11-25 00:00:006            8     0.01           30  12.24 ...  0.0  0.0   \n",
       "2018-11-25 00:00:006            6     0.36            6  12.24 ...  0.0  3.0   \n",
       "2018-11-25 00:00:006            1     0.12           15  12.24 ...  0.0  0.0   \n",
       "2018-11-25 00:00:006           12     0.11           16  12.24 ...  0.0  0.0   \n",
       "2018-11-25 00:00:006            7     1.86            1  12.24 ...  0.0  0.0   \n",
       "2018-11-25 00:00:006            4     0.03           20  12.24 ...  0.0  0.0   \n",
       "2018-11-25 00:00:006            5     0.29            7  12.24 ...  3.0  2.0   \n",
       "2018-11-25 00:00:006            2     0.15           14  12.24 ...  1.0  0.0   \n",
       "2018-11-25 00:00:006            3     0.93            2  12.24 ...  2.0  1.0   \n",
       "2018-11-25 00:00:007           12     1.86            1   5.44 ...  0.0  2.0   \n",
       "2018-11-25 00:00:007           10     0.27            8   5.44 ...  2.0  0.0   \n",
       "2018-11-25 00:00:007            4     0.60            3   5.44 ...  1.0  1.0   \n",
       "2018-11-25 00:00:007            1     0.11           16   5.44 ...  0.0  0.0   \n",
       "2018-11-25 00:00:007            9     0.93            2   5.44 ...  0.0  0.0   \n",
       "2018-11-25 00:00:007            8     0.05           19   5.44 ...  0.0  0.0   \n",
       "2018-11-25 00:00:007            2     0.40            4   5.44 ...  0.0  0.0   \n",
       "2018-11-25 00:00:007            6     0.17           12   5.44 ...  3.0  0.0   \n",
       "2018-11-25 00:00:007            3     0.03           21   5.44 ...  0.0  3.0   \n",
       "2018-11-25 00:00:007            7     0.08           18   5.44 ...  0.0  0.0   \n",
       "2018-11-25 00:00:007            5     0.15           14   5.44 ...  0.0  0.0   \n",
       "2018-11-25 00:00:007           11     0.38            5   5.44 ...  0.0  0.0   \n",
       "\n",
       "                      SP_R  ToR  P_R  TK_R  Ex_R  R_R  Ts_R  Y  \n",
       "Key                                                             \n",
       "2018-11-25 00:00:001   0.0  3.0  0.0   0.0   0.0  0.0     0  0  \n",
       "2018-11-25 00:00:001   0.0  0.0  0.0   0.0   0.0  0.0     0  0  \n",
       "2018-11-25 00:00:001   3.0  0.0  0.0   3.0   0.0  0.0     0  0  \n",
       "2018-11-25 00:00:001   0.0  0.0  0.0   0.0   3.0  2.0     2  0  \n",
       "2018-11-25 00:00:001   2.0  2.0  3.0   2.0   2.0  3.0     3  0  \n",
       "2018-11-25 00:00:001   0.0  0.0  0.0   0.0   0.0  0.0     0  0  \n",
       "2018-11-25 00:00:001   1.0  1.0  1.0   1.0   1.0  1.0     1  1  \n",
       "2018-11-25 00:00:001   0.0  0.0  0.0   0.0   0.0  0.0     0  0  \n",
       "2018-11-25 00:00:002   0.0  0.0  0.0   0.0   0.0  0.0     0  0  \n",
       "2018-11-25 00:00:002   0.0  0.0  0.0   0.0   0.0  0.0     0  0  \n",
       "2018-11-25 00:00:002   0.0  0.0  0.0   0.0   0.0  0.0     0  0  \n",
       "2018-11-25 00:00:002   0.0  0.0  2.0   2.0   2.0  3.0     0  0  \n",
       "2018-11-25 00:00:002   3.0  0.0  3.0   0.0   3.0  0.0     0  0  \n",
       "2018-11-25 00:00:002   1.0  0.0  0.0   3.0   0.0  1.0     2  0  \n",
       "2018-11-25 00:00:002   0.0  2.0  0.0   0.0   0.0  0.0     0  0  \n",
       "2018-11-25 00:00:002   0.0  0.0  0.0   0.0   0.0  0.0     0  0  \n",
       "2018-11-25 00:00:002   0.0  0.0  0.0   0.0   0.0  0.0     0  0  \n",
       "2018-11-25 00:00:002   0.0  0.0  0.0   0.0   0.0  0.0     0  0  \n",
       "2018-11-25 00:00:002   0.0  0.0  0.0   0.0   0.0  0.0     0  0  \n",
       "2018-11-25 00:00:002   0.0  0.0  0.0   0.0   0.0  0.0     0  0  \n",
       "2018-11-25 00:00:002   0.0  3.0  0.0   0.0   0.0  0.0     0  0  \n",
       "2018-11-25 00:00:002   0.0  0.0  0.0   0.0   0.0  0.0     3  0  \n",
       "2018-11-25 00:00:002   2.0  1.0  1.0   1.0   1.0  2.0     1  1  \n",
       "2018-11-25 00:00:003   0.0  0.0  0.0   0.0   0.0  0.0     0  0  \n",
       "2018-11-25 00:00:003   0.0  0.0  0.0   0.0   2.0  0.0     0  0  \n",
       "2018-11-25 00:00:003   0.0  3.0  0.0   3.0   0.0  0.0     0  0  \n",
       "2018-11-25 00:00:003   3.0  0.0  3.0   0.0   0.0  3.0     2  0  \n",
       "2018-11-25 00:00:003   2.0  1.0  2.0   1.0   3.0  1.0     1  0  \n",
       "2018-11-25 00:00:003   1.0  2.0  1.0   2.0   1.0  2.0     3  1  \n",
       "2018-11-25 00:00:004   0.0  0.0  0.0   0.0   0.0  0.0     0  0  \n",
       "...                    ...  ...  ...   ...   ...  ...   ... ..  \n",
       "2018-11-25 00:00:005   0.0  0.0  0.0   0.0   0.0  0.0     0  0  \n",
       "2018-11-25 00:00:005   1.0  2.0  3.0   3.0   2.0  2.0     2  0  \n",
       "2018-11-25 00:00:005   3.0  1.0  2.0   2.0   0.0  3.0     3  0  \n",
       "2018-11-25 00:00:005   0.0  0.0  0.0   0.0   1.0  0.0     0  0  \n",
       "2018-11-25 00:00:005   2.0  3.0  1.0   1.0   3.0  1.0     1  1  \n",
       "2018-11-25 00:00:005   0.0  0.0  0.0   0.0   0.0  0.0     0  0  \n",
       "2018-11-25 00:00:006   0.0  3.0  0.0   0.0   0.0  0.0     0  0  \n",
       "2018-11-25 00:00:006   0.0  0.0  0.0   0.0   0.0  0.0     0  0  \n",
       "2018-11-25 00:00:006   3.0  0.0  0.0   0.0   0.0  1.0     0  0  \n",
       "2018-11-25 00:00:006   0.0  0.0  0.0   0.0   0.0  0.0     0  0  \n",
       "2018-11-25 00:00:006   0.0  0.0  3.0   0.0   0.0  0.0     0  0  \n",
       "2018-11-25 00:00:006   0.0  0.0  0.0   0.0   0.0  0.0     0  0  \n",
       "2018-11-25 00:00:006   0.0  0.0  0.0   0.0   0.0  0.0     0  0  \n",
       "2018-11-25 00:00:006   0.0  0.0  0.0   1.0   3.0  0.0     0  0  \n",
       "2018-11-25 00:00:006   0.0  0.0  0.0   0.0   0.0  0.0     0  0  \n",
       "2018-11-25 00:00:006   2.0  1.0  2.0   3.0   1.0  3.0     1  0  \n",
       "2018-11-25 00:00:006   0.0  0.0  0.0   0.0   0.0  0.0     3  0  \n",
       "2018-11-25 00:00:006   1.0  2.0  1.0   2.0   2.0  2.0     2  1  \n",
       "2018-11-25 00:00:007   0.0  0.0  0.0   0.0   0.0  0.0     0  0  \n",
       "2018-11-25 00:00:007   0.0  2.0  1.0   1.0   2.0  0.0     0  0  \n",
       "2018-11-25 00:00:007   1.0  0.0  0.0   2.0   1.0  1.0     1  1  \n",
       "2018-11-25 00:00:007   2.0  3.0  3.0   0.0   0.0  0.0     0  0  \n",
       "2018-11-25 00:00:007   0.0  0.0  0.0   0.0   0.0  0.0     0  0  \n",
       "2018-11-25 00:00:007   0.0  0.0  0.0   0.0   0.0  2.0     0  0  \n",
       "2018-11-25 00:00:007   0.0  1.0  0.0   0.0   3.0  0.0     2  0  \n",
       "2018-11-25 00:00:007   3.0  0.0  0.0   3.0   0.0  3.0     0  0  \n",
       "2018-11-25 00:00:007   0.0  0.0  2.0   0.0   0.0  0.0     0  0  \n",
       "2018-11-25 00:00:007   0.0  0.0  0.0   0.0   0.0  0.0     0  0  \n",
       "2018-11-25 00:00:007   0.0  0.0  0.0   0.0   0.0  0.0     3  0  \n",
       "2018-11-25 00:00:007   0.0  0.0  0.0   0.0   0.0  0.0     0  0  \n",
       "\n",
       "[75 rows x 27 columns]"
      ]
     },
     "execution_count": 83,
     "metadata": {},
     "output_type": "execute_result"
    }
   ],
   "source": [
    "test_df[test_df.Datum == '2018-11-25']"
   ]
  },
  {
   "cell_type": "code",
   "execution_count": 84,
   "metadata": {},
   "outputs": [],
   "source": [
    "# Plockar ut en omgång och scorar denna \n",
    "\n",
    "df_test1 = test_df[test_df.Datum == '2018-11-25'].drop('Datum', axis = 1)\n"
   ]
  },
  {
   "cell_type": "code",
   "execution_count": 85,
   "metadata": {},
   "outputs": [
    {
     "data": {
      "text/plain": [
       "26"
      ]
     },
     "execution_count": 85,
     "metadata": {},
     "output_type": "execute_result"
    }
   ],
   "source": [
    "len(df_test1.columns)"
   ]
  },
  {
   "cell_type": "code",
   "execution_count": 86,
   "metadata": {},
   "outputs": [],
   "source": [
    "df_test1['GRUPP'] = df_test1.GRUPP.astype('object')"
   ]
  },
  {
   "cell_type": "code",
   "execution_count": 87,
   "metadata": {},
   "outputs": [
    {
     "name": "stdout",
     "output_type": "stream",
     "text": [
      "<class 'pandas.core.frame.DataFrame'>\n",
      "Index: 75 entries, 2018-11-25 00:00:001 to 2018-11-25 00:00:007\n",
      "Data columns (total 26 columns):\n",
      "GRUPP          75 non-null object\n",
      "VLP            75 non-null float64\n",
      "SVLP           75 non-null float64\n",
      "VSVLP          75 non-null float64\n",
      "VPN_SUM        75 non-null float64\n",
      "VPN_SUM_ORD    75 non-null int64\n",
      "VPK_SUM        75 non-null float64\n",
      "VPK_SUM_ORD    75 non-null int64\n",
      "VLPB           75 non-null float64\n",
      "SVLPB          75 non-null float64\n",
      "VSVLPB         75 non-null float64\n",
      "E_P            75 non-null float64\n",
      "E_P_Num        75 non-null int64\n",
      "E_N            75 non-null float64\n",
      "E_R            75 non-null float64\n",
      "G_R            75 non-null float64\n",
      "A_R            75 non-null float64\n",
      "T_R            75 non-null float64\n",
      "SP_R           75 non-null float64\n",
      "ToR            75 non-null float64\n",
      "P_R            75 non-null float64\n",
      "TK_R           75 non-null float64\n",
      "Ex_R           75 non-null float64\n",
      "R_R            75 non-null float64\n",
      "Ts_R           75 non-null int64\n",
      "Y              75 non-null int64\n",
      "dtypes: float64(20), int64(5), object(1)\n",
      "memory usage: 15.8+ KB\n"
     ]
    }
   ],
   "source": [
    "df_test1.info()"
   ]
  },
  {
   "cell_type": "code",
   "execution_count": 88,
   "metadata": {},
   "outputs": [
    {
     "data": {
      "text/plain": [
       "7"
      ]
     },
     "execution_count": 88,
     "metadata": {},
     "output_type": "execute_result"
    }
   ],
   "source": [
    "df_test1.Y.sum()"
   ]
  },
  {
   "cell_type": "code",
   "execution_count": 89,
   "metadata": {},
   "outputs": [],
   "source": [
    "# Testdata som modllen ska scoras på\n",
    "# Alla förklaringsvaribler i en multidimensionell array där kategrisvaribler har gjorts om till\n",
    "# dummyvariabler\n",
    "features_test = full_pipeline.fit_transform(df_test1)\n",
    "## En array som håller det vi vill predikter\n",
    "label_test = df_test1[\"Y\"].copy()"
   ]
  },
  {
   "cell_type": "code",
   "execution_count": 90,
   "metadata": {},
   "outputs": [],
   "source": [
    "predict_test = rf.predict_proba(features_test)"
   ]
  },
  {
   "cell_type": "code",
   "execution_count": 91,
   "metadata": {},
   "outputs": [
    {
     "data": {
      "text/plain": [
       "array([[58, 10],\n",
       "       [ 0,  7]])"
      ]
     },
     "execution_count": 91,
     "metadata": {},
     "output_type": "execute_result"
    }
   ],
   "source": [
    "y_pred_test = np.where( predict_test[:,1] > 0.135,1,0)\n",
    " \n",
    "confusion_matrix(label_test, y_pred_test)"
   ]
  },
  {
   "cell_type": "code",
   "execution_count": 92,
   "metadata": {},
   "outputs": [
    {
     "data": {
      "text/plain": [
       "array([[63,  5],\n",
       "       [ 0,  7]])"
      ]
     },
     "execution_count": 92,
     "metadata": {},
     "output_type": "execute_result"
    }
   ],
   "source": [
    "y_pred_test = np.where( predict_test[:,1] > 0.184,1,0)\n",
    " \n",
    "confusion_matrix(label_test, y_pred_test)"
   ]
  },
  {
   "cell_type": "markdown",
   "metadata": {},
   "source": [
    "__Nu itererar vi över alla testloppen__"
   ]
  },
  {
   "cell_type": "code",
   "execution_count": 93,
   "metadata": {},
   "outputs": [],
   "source": [
    "def validering(Date):\n",
    "    df_test1 = test_df[test_df.Datum == Date].drop('Datum', axis = 1)\n",
    "    df_test1['GRUPP'] = df_test1.GRUPP.astype('object')\n",
    "    features_test = full_pipeline.fit_transform(df_test1)\n",
    "    label_test = df_test1[\"Y\"].copy()\n",
    "    predict_test = rf.predict_proba(features_test)\n",
    "    y_pred_test = np.where( predict_test[:,1] > 0.135,1,0)\n",
    "    confusion_matrix(label_test, y_pred_test)"
   ]
  },
  {
   "cell_type": "code",
   "execution_count": 94,
   "metadata": {},
   "outputs": [
    {
     "data": {
      "text/html": [
       "<div>\n",
       "<style scoped>\n",
       "    .dataframe tbody tr th:only-of-type {\n",
       "        vertical-align: middle;\n",
       "    }\n",
       "\n",
       "    .dataframe tbody tr th {\n",
       "        vertical-align: top;\n",
       "    }\n",
       "\n",
       "    .dataframe thead th {\n",
       "        text-align: right;\n",
       "    }\n",
       "</style>\n",
       "<table border=\"1\" class=\"dataframe\">\n",
       "  <thead>\n",
       "    <tr style=\"text-align: right;\">\n",
       "      <th></th>\n",
       "      <th>Key</th>\n",
       "      <th>Datum</th>\n",
       "    </tr>\n",
       "  </thead>\n",
       "  <tbody>\n",
       "    <tr>\n",
       "      <th>0</th>\n",
       "      <td>2016-07-09 00:00:001</td>\n",
       "      <td>2016-07-09</td>\n",
       "    </tr>\n",
       "    <tr>\n",
       "      <th>1</th>\n",
       "      <td>2016-10-01 00:00:001</td>\n",
       "      <td>2016-10-01</td>\n",
       "    </tr>\n",
       "    <tr>\n",
       "      <th>2</th>\n",
       "      <td>2016-12-10 00:00:001</td>\n",
       "      <td>2016-12-10</td>\n",
       "    </tr>\n",
       "    <tr>\n",
       "      <th>3</th>\n",
       "      <td>2017-02-11 00:00:001</td>\n",
       "      <td>2017-02-11</td>\n",
       "    </tr>\n",
       "    <tr>\n",
       "      <th>4</th>\n",
       "      <td>2017-04-29 00:00:001</td>\n",
       "      <td>2017-04-29</td>\n",
       "    </tr>\n",
       "    <tr>\n",
       "      <th>5</th>\n",
       "      <td>2017-08-16 00:00:001</td>\n",
       "      <td>2017-08-16</td>\n",
       "    </tr>\n",
       "    <tr>\n",
       "      <th>6</th>\n",
       "      <td>2017-08-23 00:00:001</td>\n",
       "      <td>2017-08-23</td>\n",
       "    </tr>\n",
       "    <tr>\n",
       "      <th>7</th>\n",
       "      <td>2017-12-25 00:00:001</td>\n",
       "      <td>2017-12-25</td>\n",
       "    </tr>\n",
       "    <tr>\n",
       "      <th>8</th>\n",
       "      <td>2018-03-03 00:00:001</td>\n",
       "      <td>2018-03-03</td>\n",
       "    </tr>\n",
       "    <tr>\n",
       "      <th>9</th>\n",
       "      <td>2018-06-16 00:00:001</td>\n",
       "      <td>2018-06-16</td>\n",
       "    </tr>\n",
       "    <tr>\n",
       "      <th>10</th>\n",
       "      <td>2018-07-05 00:00:001</td>\n",
       "      <td>2018-07-05</td>\n",
       "    </tr>\n",
       "    <tr>\n",
       "      <th>11</th>\n",
       "      <td>2018-11-11 00:00:001</td>\n",
       "      <td>2018-11-11</td>\n",
       "    </tr>\n",
       "    <tr>\n",
       "      <th>12</th>\n",
       "      <td>2018-11-25 00:00:001</td>\n",
       "      <td>2018-11-25</td>\n",
       "    </tr>\n",
       "  </tbody>\n",
       "</table>\n",
       "</div>"
      ],
      "text/plain": [
       "                     Key      Datum\n",
       "0   2016-07-09 00:00:001 2016-07-09\n",
       "1   2016-10-01 00:00:001 2016-10-01\n",
       "2   2016-12-10 00:00:001 2016-12-10\n",
       "3   2017-02-11 00:00:001 2017-02-11\n",
       "4   2017-04-29 00:00:001 2017-04-29\n",
       "5   2017-08-16 00:00:001 2017-08-16\n",
       "6   2017-08-23 00:00:001 2017-08-23\n",
       "7   2017-12-25 00:00:001 2017-12-25\n",
       "8   2018-03-03 00:00:001 2018-03-03\n",
       "9   2018-06-16 00:00:001 2018-06-16\n",
       "10  2018-07-05 00:00:001 2018-07-05\n",
       "11  2018-11-11 00:00:001 2018-11-11\n",
       "12  2018-11-25 00:00:001 2018-11-25"
      ]
     },
     "execution_count": 94,
     "metadata": {},
     "output_type": "execute_result"
    }
   ],
   "source": [
    "df_tmp = test_df.Datum.drop_duplicates().to_frame().reset_index()\n",
    "df_tmp"
   ]
  },
  {
   "cell_type": "code",
   "execution_count": 95,
   "metadata": {},
   "outputs": [
    {
     "name": "stdout",
     "output_type": "stream",
     "text": [
      "[[57 12]\n",
      " [ 2  5]] 2017-08-16\n",
      "[[63 10]\n",
      " [ 1  6]] 2017-08-23\n",
      "[[62 15]\n",
      " [ 3  4]] 2018-11-11\n",
      "[[58 10]\n",
      " [ 0  7]] 2018-11-25\n"
     ]
    }
   ],
   "source": [
    "d_list = ['2017-08-16','2017-08-23','2018-11-11','2018-11-25']\n",
    "for date in d_list:\n",
    "    df_test1 = test_df[test_df.Datum == date].drop('Datum', axis = 1)\n",
    "    df_test1['GRUPP'] = df_test1.GRUPP.astype('object')\n",
    "    features_test = full_pipeline.fit_transform(df_test1)\n",
    "    label_test = df_test1[\"Y\"].copy()\n",
    "    predict_test = rf.predict_proba(features_test)\n",
    "    y_pred_test = np.where( predict_test[:,1] > 0.135,1,0)\n",
    "    print(confusion_matrix(label_test, y_pred_test),date)"
   ]
  },
  {
   "cell_type": "code",
   "execution_count": 96,
   "metadata": {},
   "outputs": [
    {
     "name": "stdout",
     "output_type": "stream",
     "text": [
      "[[66  3]\n",
      " [ 2  5]] 2017-08-16\n",
      "[[68  5]\n",
      " [ 2  5]] 2017-08-23\n",
      "[[68  9]\n",
      " [ 3  4]] 2018-11-11\n",
      "[[63  5]\n",
      " [ 0  7]] 2018-11-25\n"
     ]
    }
   ],
   "source": [
    "d_list = ['2017-08-16','2017-08-23','2018-11-11','2018-11-25']\n",
    "for date in d_list:\n",
    "    df_test1 = test_df[test_df.Datum == date].drop('Datum', axis = 1)\n",
    "    df_test1['GRUPP'] = df_test1.GRUPP.astype('object')\n",
    "    features_test = full_pipeline.fit_transform(df_test1)\n",
    "    label_test = df_test1[\"Y\"].copy()\n",
    "    predict_test = rf.predict_proba(features_test)\n",
    "    y_pred_test = np.where( predict_test[:,1] > 0.184,1,0)\n",
    "    print(confusion_matrix(label_test, y_pred_test),date)\n",
    "    "
   ]
  },
  {
   "cell_type": "markdown",
   "metadata": {},
   "source": [
    "__Testar Åby 20190202__"
   ]
  },
  {
   "cell_type": "code",
   "execution_count": 97,
   "metadata": {},
   "outputs": [],
   "source": [
    "df_aby = pd.read_excel('Åby2019-02-02.xlsx')"
   ]
  },
  {
   "cell_type": "code",
   "execution_count": 98,
   "metadata": {},
   "outputs": [
    {
     "name": "stdout",
     "output_type": "stream",
     "text": [
      "<class 'pandas.core.frame.DataFrame'>\n",
      "RangeIndex: 82 entries, 0 to 81\n",
      "Data columns (total 37 columns):\n",
      "Datum          82 non-null datetime64[ns]\n",
      "Arstid         82 non-null int64\n",
      "Distans        82 non-null int64\n",
      "Startsatt      82 non-null int64\n",
      "Lopp           82 non-null int64\n",
      "Plac           82 non-null int64\n",
      "Hast           82 non-null int64\n",
      "V75PROC        82 non-null float64\n",
      "V_ODDS         82 non-null float64\n",
      "GRUPP          82 non-null int64\n",
      "VLP            82 non-null float64\n",
      "VNUM           82 non-null int64\n",
      "SVLP           82 non-null float64\n",
      "VSVLP          82 non-null float64\n",
      "VPN_SUM        82 non-null float64\n",
      "VPN_SUM_ORD    82 non-null int64\n",
      "VPK_SUM        82 non-null float64\n",
      "VPK_SUM_ORD    82 non-null int64\n",
      "VLPB           82 non-null float64\n",
      "SVLPB          82 non-null float64\n",
      "VSVLPB         82 non-null float64\n",
      "E_P            82 non-null float64\n",
      "E_P_Num        82 non-null int64\n",
      "E_N            82 non-null float64\n",
      "E_R            82 non-null float64\n",
      "E_U            82 non-null float64\n",
      "G_R            82 non-null int64\n",
      "S_R            82 non-null int64\n",
      "A_R            82 non-null int64\n",
      "T_R            82 non-null int64\n",
      "SP_R           82 non-null int64\n",
      "ToR            82 non-null int64\n",
      "P_R            82 non-null int64\n",
      "TK_R           82 non-null int64\n",
      "Ex_R           82 non-null int64\n",
      "R_R            82 non-null int64\n",
      "Ts_R           82 non-null int64\n",
      "dtypes: datetime64[ns](1), float64(14), int64(22)\n",
      "memory usage: 23.8 KB\n"
     ]
    }
   ],
   "source": [
    "df_aby.info()"
   ]
  },
  {
   "cell_type": "code",
   "execution_count": 99,
   "metadata": {},
   "outputs": [],
   "source": [
    "df_aby['Y'] = np.where(df_aby['Plac'].isin([1]), 1,0)"
   ]
  },
  {
   "cell_type": "code",
   "execution_count": 100,
   "metadata": {},
   "outputs": [
    {
     "data": {
      "text/plain": [
       "7"
      ]
     },
     "execution_count": 100,
     "metadata": {},
     "output_type": "execute_result"
    }
   ],
   "source": [
    "df_aby.Y.sum()"
   ]
  },
  {
   "cell_type": "code",
   "execution_count": 101,
   "metadata": {},
   "outputs": [
    {
     "name": "stdout",
     "output_type": "stream",
     "text": [
      "[[33 42]\n",
      " [ 0  7]] 2019-02-02\n"
     ]
    }
   ],
   "source": [
    "date = '2019-02-02'\n",
    "df_aby['GRUPP'] = df_aby.GRUPP.astype('object')\n",
    "features_test = full_pipeline.fit_transform(df_aby)\n",
    "label_test = df_aby[\"Y\"].copy()\n",
    "predict_test = rf.predict_proba(features_test)\n",
    "y_pred_test = np.where( predict_test[:,1] > 0.131,1,0)\n",
    "print(confusion_matrix(label_test, y_pred_test),date)"
   ]
  },
  {
   "cell_type": "code",
   "execution_count": 102,
   "metadata": {},
   "outputs": [
    {
     "name": "stdout",
     "output_type": "stream",
     "text": [
      "[[60 15]\n",
      " [ 0  7]] 2019-02-02\n"
     ]
    }
   ],
   "source": [
    "date = '2019-02-02'\n",
    "y_pred_test = np.where( predict_test[:,1] > 0.184,1,0)\n",
    "print(confusion_matrix(label_test, y_pred_test),date)"
   ]
  },
  {
   "cell_type": "code",
   "execution_count": 103,
   "metadata": {},
   "outputs": [
    {
     "data": {
      "text/plain": [
       "sklearn.ensemble.forest.RandomForestClassifier"
      ]
     },
     "execution_count": 103,
     "metadata": {},
     "output_type": "execute_result"
    }
   ],
   "source": [
    "type(rf)"
   ]
  },
  {
   "cell_type": "markdown",
   "metadata": {},
   "source": [
    "__Axvalla 2019-02-16__"
   ]
  },
  {
   "cell_type": "code",
   "execution_count": 104,
   "metadata": {},
   "outputs": [],
   "source": [
    "df_axv = pd.read_excel('AxevallaDataV75TillUffe_2019-02-16.xlsx')"
   ]
  },
  {
   "cell_type": "code",
   "execution_count": 105,
   "metadata": {},
   "outputs": [
    {
     "data": {
      "text/plain": [
       "0    79\n",
       "1     7\n",
       "Name: Plac, dtype: int64"
      ]
     },
     "execution_count": 105,
     "metadata": {},
     "output_type": "execute_result"
    }
   ],
   "source": [
    "df_axv.Plac.value_counts()"
   ]
  },
  {
   "cell_type": "code",
   "execution_count": 106,
   "metadata": {},
   "outputs": [],
   "source": [
    "df_axv['Y'] = np.where(df_axv['Plac'].isin([1]), 1,0)"
   ]
  },
  {
   "cell_type": "code",
   "execution_count": 107,
   "metadata": {},
   "outputs": [
    {
     "name": "stdout",
     "output_type": "stream",
     "text": [
      "[[62 17]\n",
      " [ 1  6]] 2019-02-16\n"
     ]
    }
   ],
   "source": [
    "date = '2019-02-16'\n",
    "df_axv['GRUPP'] = df_axv.GRUPP.astype('object')\n",
    "features_test = full_pipeline.fit_transform(df_axv)\n",
    "label_test = df_axv[\"Y\"].copy()\n",
    "predict_test = rf.predict_proba(features_test)\n",
    "y_pred_test = np.where( predict_test[:,1] > 0.089,1,0)\n",
    "print(confusion_matrix(label_test, y_pred_test),date)"
   ]
  },
  {
   "cell_type": "code",
   "execution_count": 108,
   "metadata": {},
   "outputs": [],
   "source": [
    "# Gör om scorad array till en lista - multidimensionell\n",
    "stack = predict_test.tolist()"
   ]
  },
  {
   "cell_type": "code",
   "execution_count": 109,
   "metadata": {},
   "outputs": [],
   "source": [
    "# Sedan plockar vi den scorade sannolikheten att vara vinnare - 1\n",
    "# Transformerar denna sannolikhet till en dataframe\n",
    "last = []\n",
    "for x in stack:\n",
    "    last.append(x[1])\n",
    "scored = {'Score':last}\n",
    "# Konverterar till Dataframe\n",
    "df_scored = pd.DataFrame.from_dict(scored)"
   ]
  },
  {
   "cell_type": "code",
   "execution_count": 110,
   "metadata": {},
   "outputs": [],
   "source": [
    "# Gör om till lista och stoppar in i ett dictionary\n",
    "pred = y_pred_test.tolist()\n",
    "prediction = {'Predict':pred}\n",
    "# Konverterar till Dataframe\n",
    "df_pred = pd.DataFrame.from_dict(prediction)"
   ]
  },
  {
   "cell_type": "code",
   "execution_count": 111,
   "metadata": {},
   "outputs": [],
   "source": [
    "# Konkatierar mot urspringsdatat\n",
    "\n",
    "df_axv_predict = pd.concat([df_axv,df_pred, df_scored], axis = 1)"
   ]
  },
  {
   "cell_type": "code",
   "execution_count": 112,
   "metadata": {},
   "outputs": [
    {
     "data": {
      "text/html": [
       "<div>\n",
       "<style scoped>\n",
       "    .dataframe tbody tr th:only-of-type {\n",
       "        vertical-align: middle;\n",
       "    }\n",
       "\n",
       "    .dataframe tbody tr th {\n",
       "        vertical-align: top;\n",
       "    }\n",
       "\n",
       "    .dataframe thead th {\n",
       "        text-align: right;\n",
       "    }\n",
       "</style>\n",
       "<table border=\"1\" class=\"dataframe\">\n",
       "  <thead>\n",
       "    <tr style=\"text-align: right;\">\n",
       "      <th></th>\n",
       "      <th>Lopp</th>\n",
       "      <th>Plac</th>\n",
       "      <th>Hast</th>\n",
       "      <th>Score</th>\n",
       "    </tr>\n",
       "  </thead>\n",
       "  <tbody>\n",
       "    <tr>\n",
       "      <th>0</th>\n",
       "      <td>1</td>\n",
       "      <td>0</td>\n",
       "      <td>2</td>\n",
       "      <td>0.187277</td>\n",
       "    </tr>\n",
       "    <tr>\n",
       "      <th>1</th>\n",
       "      <td>1</td>\n",
       "      <td>0</td>\n",
       "      <td>4</td>\n",
       "      <td>0.164927</td>\n",
       "    </tr>\n",
       "    <tr>\n",
       "      <th>2</th>\n",
       "      <td>1</td>\n",
       "      <td>1</td>\n",
       "      <td>6</td>\n",
       "      <td>0.125569</td>\n",
       "    </tr>\n",
       "    <tr>\n",
       "      <th>12</th>\n",
       "      <td>2</td>\n",
       "      <td>0</td>\n",
       "      <td>9</td>\n",
       "      <td>0.288898</td>\n",
       "    </tr>\n",
       "    <tr>\n",
       "      <th>14</th>\n",
       "      <td>2</td>\n",
       "      <td>0</td>\n",
       "      <td>1</td>\n",
       "      <td>0.131752</td>\n",
       "    </tr>\n",
       "    <tr>\n",
       "      <th>13</th>\n",
       "      <td>2</td>\n",
       "      <td>0</td>\n",
       "      <td>15</td>\n",
       "      <td>0.115219</td>\n",
       "    </tr>\n",
       "    <tr>\n",
       "      <th>27</th>\n",
       "      <td>3</td>\n",
       "      <td>1</td>\n",
       "      <td>3</td>\n",
       "      <td>0.367182</td>\n",
       "    </tr>\n",
       "    <tr>\n",
       "      <th>28</th>\n",
       "      <td>3</td>\n",
       "      <td>0</td>\n",
       "      <td>10</td>\n",
       "      <td>0.221339</td>\n",
       "    </tr>\n",
       "    <tr>\n",
       "      <th>29</th>\n",
       "      <td>3</td>\n",
       "      <td>0</td>\n",
       "      <td>11</td>\n",
       "      <td>0.140535</td>\n",
       "    </tr>\n",
       "    <tr>\n",
       "      <th>38</th>\n",
       "      <td>4</td>\n",
       "      <td>0</td>\n",
       "      <td>14</td>\n",
       "      <td>0.212692</td>\n",
       "    </tr>\n",
       "    <tr>\n",
       "      <th>40</th>\n",
       "      <td>4</td>\n",
       "      <td>0</td>\n",
       "      <td>9</td>\n",
       "      <td>0.196805</td>\n",
       "    </tr>\n",
       "    <tr>\n",
       "      <th>41</th>\n",
       "      <td>4</td>\n",
       "      <td>0</td>\n",
       "      <td>7</td>\n",
       "      <td>0.150598</td>\n",
       "    </tr>\n",
       "    <tr>\n",
       "      <th>39</th>\n",
       "      <td>4</td>\n",
       "      <td>1</td>\n",
       "      <td>6</td>\n",
       "      <td>0.145061</td>\n",
       "    </tr>\n",
       "    <tr>\n",
       "      <th>52</th>\n",
       "      <td>5</td>\n",
       "      <td>1</td>\n",
       "      <td>4</td>\n",
       "      <td>0.250908</td>\n",
       "    </tr>\n",
       "    <tr>\n",
       "      <th>54</th>\n",
       "      <td>5</td>\n",
       "      <td>0</td>\n",
       "      <td>1</td>\n",
       "      <td>0.206415</td>\n",
       "    </tr>\n",
       "    <tr>\n",
       "      <th>53</th>\n",
       "      <td>5</td>\n",
       "      <td>0</td>\n",
       "      <td>3</td>\n",
       "      <td>0.161600</td>\n",
       "    </tr>\n",
       "    <tr>\n",
       "      <th>64</th>\n",
       "      <td>6</td>\n",
       "      <td>0</td>\n",
       "      <td>1</td>\n",
       "      <td>0.417420</td>\n",
       "    </tr>\n",
       "    <tr>\n",
       "      <th>65</th>\n",
       "      <td>6</td>\n",
       "      <td>0</td>\n",
       "      <td>10</td>\n",
       "      <td>0.139993</td>\n",
       "    </tr>\n",
       "    <tr>\n",
       "      <th>67</th>\n",
       "      <td>6</td>\n",
       "      <td>0</td>\n",
       "      <td>9</td>\n",
       "      <td>0.112573</td>\n",
       "    </tr>\n",
       "    <tr>\n",
       "      <th>66</th>\n",
       "      <td>6</td>\n",
       "      <td>1</td>\n",
       "      <td>7</td>\n",
       "      <td>0.102023</td>\n",
       "    </tr>\n",
       "    <tr>\n",
       "      <th>76</th>\n",
       "      <td>7</td>\n",
       "      <td>1</td>\n",
       "      <td>9</td>\n",
       "      <td>0.419592</td>\n",
       "    </tr>\n",
       "    <tr>\n",
       "      <th>77</th>\n",
       "      <td>7</td>\n",
       "      <td>0</td>\n",
       "      <td>1</td>\n",
       "      <td>0.148926</td>\n",
       "    </tr>\n",
       "    <tr>\n",
       "      <th>78</th>\n",
       "      <td>7</td>\n",
       "      <td>0</td>\n",
       "      <td>2</td>\n",
       "      <td>0.120744</td>\n",
       "    </tr>\n",
       "  </tbody>\n",
       "</table>\n",
       "</div>"
      ],
      "text/plain": [
       "    Lopp  Plac  Hast     Score\n",
       "0      1     0     2  0.187277\n",
       "1      1     0     4  0.164927\n",
       "2      1     1     6  0.125569\n",
       "12     2     0     9  0.288898\n",
       "14     2     0     1  0.131752\n",
       "13     2     0    15  0.115219\n",
       "27     3     1     3  0.367182\n",
       "28     3     0    10  0.221339\n",
       "29     3     0    11  0.140535\n",
       "38     4     0    14  0.212692\n",
       "40     4     0     9  0.196805\n",
       "41     4     0     7  0.150598\n",
       "39     4     1     6  0.145061\n",
       "52     5     1     4  0.250908\n",
       "54     5     0     1  0.206415\n",
       "53     5     0     3  0.161600\n",
       "64     6     0     1  0.417420\n",
       "65     6     0    10  0.139993\n",
       "67     6     0     9  0.112573\n",
       "66     6     1     7  0.102023\n",
       "76     7     1     9  0.419592\n",
       "77     7     0     1  0.148926\n",
       "78     7     0     2  0.120744"
      ]
     },
     "execution_count": 112,
     "metadata": {},
     "output_type": "execute_result"
    }
   ],
   "source": [
    "df_axv_out = df_axv_predict[df_axv_predict.Predict == 1][['Lopp','Plac','Hast','Score']]. \\\n",
    "sort_values(['Lopp','Score'], ascending = [True,False])\n",
    "df_axv_out"
   ]
  },
  {
   "cell_type": "code",
   "execution_count": 113,
   "metadata": {},
   "outputs": [
    {
     "name": "stdout",
     "output_type": "stream",
     "text": [
      "[[65 14]\n",
      " [ 3  4]] 2019-02-16\n"
     ]
    }
   ],
   "source": [
    "date = '2019-02-16'\n",
    "y_pred_test = np.where( predict_test[:,1] > 0.131,1,0)\n",
    "print(confusion_matrix(label_test, y_pred_test),date)"
   ]
  },
  {
   "cell_type": "code",
   "execution_count": 114,
   "metadata": {},
   "outputs": [
    {
     "name": "stdout",
     "output_type": "stream",
     "text": [
      "[[72  7]\n",
      " [ 4  3]] 2019-02-16\n"
     ]
    }
   ],
   "source": [
    "date = '2019-02-16'\n",
    "y_pred_test = np.where( predict_test[:,1] > 0.184,1,0)\n",
    "print(confusion_matrix(label_test, y_pred_test),date)"
   ]
  },
  {
   "cell_type": "markdown",
   "metadata": {},
   "source": [
    "__Sparar undan pipelineobjekt och modellobjekt för att kunna återanvänd senare__"
   ]
  },
  {
   "cell_type": "code",
   "execution_count": 115,
   "metadata": {},
   "outputs": [],
   "source": [
    "from sklearn.externals import joblib\n",
    "\n",
    "# Pipelineobjekt\n",
    "joblib.dump(full_pipeline, 'Pipeline_v1.pkl')\n",
    "\n",
    "# Modellobjekt\n",
    "joblib.dump(rf, 'Travmodel_v1.pkl')"
   ]
  },
  {
   "cell_type": "markdown",
   "metadata": {},
   "source": [
    "__Nu testar vi att läsa in modell- och pipelinebjekten__"
   ]
  },
  {
   "cell_type": "code",
   "execution_count": 118,
   "metadata": {},
   "outputs": [],
   "source": [
    "my_model_loaded = joblib.load('Travmodel_v1.pkl')"
   ]
  },
  {
   "cell_type": "code",
   "execution_count": 119,
   "metadata": {},
   "outputs": [],
   "source": [
    "my_pipeline_loaded = joblib.load('Pipeline_v1.pkl')"
   ]
  },
  {
   "cell_type": "code",
   "execution_count": 120,
   "metadata": {},
   "outputs": [
    {
     "name": "stdout",
     "output_type": "stream",
     "text": [
      "[[33 42]\n",
      " [ 0  7]] 2019-02-02\n"
     ]
    }
   ],
   "source": [
    "date = '2019-02-02'\n",
    "df_aby['GRUPP'] = df_aby.GRUPP.astype('object')\n",
    "features_test = my_pipeline_loaded.fit_transform(df_aby)\n",
    "label_test = df_aby[\"Y\"].copy()\n",
    "predict_test = my_model_loaded.predict_proba(features_test)\n",
    "y_pred_test = np.where( predict_test[:,1] > 0.131,1,0)\n",
    "print(confusion_matrix(label_test, y_pred_test),date)"
   ]
  },
  {
   "cell_type": "markdown",
   "metadata": {},
   "source": [
    "__Nedan försöker vi optimera modellen med Gridsearch samt använder sig av hela datasetet med Cross validation__"
   ]
  },
  {
   "cell_type": "code",
   "execution_count": 121,
   "metadata": {},
   "outputs": [],
   "source": [
    "param_grid = [\n",
    "    # try 12 (3×4) combinations of hyperparameters\n",
    "    {'n_estimators': [3, 10, 30], 'max_features': [2, 4, 6, 8]},\n",
    "    # then try 6 (2×3) combinations with bootstrap set as False\n",
    "    {'bootstrap': [False], 'n_estimators': [3, 10], 'max_features': [2, 3, 4]},\n",
    "  ]"
   ]
  },
  {
   "cell_type": "code",
   "execution_count": 122,
   "metadata": {},
   "outputs": [],
   "source": [
    "# Allt data\n",
    "# Alla förklaringsvaribler i en multidimensionell array där kategrisvaribler har gjorts om till\n",
    "# dummyvariabler\n",
    "features = full_pipeline.fit_transform(df2)\n",
    "## En array som håller det vi vill predikter\n",
    "labels = df2[\"Y\"].copy()"
   ]
  },
  {
   "cell_type": "code",
   "execution_count": 123,
   "metadata": {},
   "outputs": [],
   "source": [
    "rf_all = RandomForestClassifier()"
   ]
  },
  {
   "cell_type": "code",
   "execution_count": 124,
   "metadata": {},
   "outputs": [],
   "source": [
    "GridSearchCV?"
   ]
  },
  {
   "cell_type": "code",
   "execution_count": 125,
   "metadata": {},
   "outputs": [
    {
     "data": {
      "text/plain": [
       "GridSearchCV(cv=5, error_score='raise',\n",
       "       estimator=RandomForestClassifier(bootstrap=True, class_weight=None, criterion='gini',\n",
       "            max_depth=None, max_features='auto', max_leaf_nodes=None,\n",
       "            min_impurity_decrease=0.0, min_impurity_split=None,\n",
       "            min_samples_leaf=1, min_samples_split=2,\n",
       "            min_weight_fraction_leaf=0.0, n_estimators=10, n_jobs=1,\n",
       "            oob_score=False, random_state=None, verbose=0,\n",
       "            warm_start=False),\n",
       "       fit_params=None, iid=True, n_jobs=1,\n",
       "       param_grid=[{'n_estimators': [3, 10, 30], 'max_features': [2, 4, 6, 8]}, {'bootstrap': [False], 'n_estimators': [3, 10], 'max_features': [2, 3, 4]}],\n",
       "       pre_dispatch='2*n_jobs', refit=True, return_train_score=True,\n",
       "       scoring='neg_mean_squared_error', verbose=0)"
      ]
     },
     "execution_count": 125,
     "metadata": {},
     "output_type": "execute_result"
    }
   ],
   "source": [
    "# train across 5 folds, that's a total of (12+6)*5=90 rounds of training \n",
    "grid_search = GridSearchCV(rf_all, param_grid, cv=5,\n",
    "                           scoring='neg_mean_squared_error', return_train_score=True)\n",
    "grid_search.fit(features, labels)"
   ]
  }
 ],
 "metadata": {
  "kernelspec": {
   "display_name": "Python 3",
   "language": "python",
   "name": "python3"
  },
  "language_info": {
   "codemirror_mode": {
    "name": "ipython",
    "version": 3
   },
   "file_extension": ".py",
   "mimetype": "text/x-python",
   "name": "python",
   "nbconvert_exporter": "python",
   "pygments_lexer": "ipython3",
   "version": "3.7.0"
  }
 },
 "nbformat": 4,
 "nbformat_minor": 2
}
