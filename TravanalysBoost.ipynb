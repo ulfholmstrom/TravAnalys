{
 "cells": [
  {
   "cell_type": "markdown",
   "metadata": {},
   "source": [
    "__Vi bygger en modell med XBOOST. Scora bara lopp med  E_P_num 1,2,3 och VNUM 1,2,3 i dessa lopp. Tre hästar i tre lopp med score. Lopp, häst E_P_NUM och score . Målvariabel de lopp där vinnaren finns i dessa lopp__"
   ]
  },
  {
   "cell_type": "markdown",
   "metadata": {},
   "source": [
    "__Sorteringen ska visa svårighetsgraden på omgången. Ju högre svårighetsgrad desto mer hästar måste med. Vill skapa en score som sammanfattar loppet. Datat ligger på hästnivå, hästen springer i ett specifikt lopp__"
   ]
  },
  {
   "cell_type": "markdown",
   "metadata": {},
   "source": [
    "__Ta bort VNUM, ODDS samt V75procent__"
   ]
  },
  {
   "cell_type": "markdown",
   "metadata": {},
   "source": [
    "__Loppnivå - Vill rangordna alla hästar. Skala bort de hästar med minst sannolikhet att vinna__"
   ]
  },
  {
   "cell_type": "code",
   "execution_count": 1,
   "metadata": {},
   "outputs": [],
   "source": [
    "import pandas as pd\n",
    "import numpy as np\n",
    "from datetime import datetime\n",
    "\n",
    "import sklearn.preprocessing\n",
    "from sklearn.preprocessing import OneHotEncoder"
   ]
  },
  {
   "cell_type": "code",
   "execution_count": 2,
   "metadata": {},
   "outputs": [],
   "source": [
    "import matplotlib.pyplot as plt\n",
    "import seaborn as sns"
   ]
  },
  {
   "cell_type": "code",
   "execution_count": 3,
   "metadata": {},
   "outputs": [],
   "source": [
    "# Necessary Sklearn objects used in the analysis\n",
    "from sklearn.metrics import roc_curve, auc\n",
    "from sklearn.ensemble import RandomForestClassifier \n",
    "from sklearn.metrics import confusion_matrix\n",
    "from sklearn import metrics\n",
    "from sklearn import preprocessing\n",
    "\n",
    "from sklearn.pipeline import Pipeline\n",
    "from sklearn.preprocessing import StandardScaler\n",
    "from sklearn.preprocessing import Imputer\n",
    "from sklearn.base import BaseEstimator, TransformerMixin\n",
    "from sklearn.pipeline import FeatureUnion"
   ]
  },
  {
   "cell_type": "code",
   "execution_count": 4,
   "metadata": {},
   "outputs": [],
   "source": [
    "df0 = pd.read_excel('AllData.xlsx')"
   ]
  },
  {
   "cell_type": "code",
   "execution_count": 5,
   "metadata": {
    "scrolled": false
   },
   "outputs": [
    {
     "name": "stdout",
     "output_type": "stream",
     "text": [
      "<class 'pandas.core.frame.DataFrame'>\n",
      "RangeIndex: 24585 entries, 0 to 24584\n",
      "Data columns (total 36 columns):\n",
      "Datum          24585 non-null datetime64[ns]\n",
      "Arstid         24585 non-null int64\n",
      "Distans        24585 non-null int64\n",
      "Startsatt      24585 non-null int64\n",
      "Lopp           24585 non-null int64\n",
      "Plac           24585 non-null int64\n",
      "Hast           24585 non-null int64\n",
      "V75PROC        24585 non-null float64\n",
      "V_ODDS         24585 non-null float64\n",
      "GRUPP          24585 non-null int64\n",
      "VLP            24585 non-null float64\n",
      "VNUM           24585 non-null int64\n",
      "SVLP           24585 non-null float64\n",
      "VSVLP          24585 non-null float64\n",
      "VPN_SUM        24585 non-null float64\n",
      "VPN_SUM_ORD    24585 non-null int64\n",
      "VPK_SUM        24585 non-null float64\n",
      "VPK_SUM_ORD    24461 non-null float64\n",
      "VLPB           24585 non-null float64\n",
      "SVLPB          24585 non-null float64\n",
      "VSVLPB         24585 non-null float64\n",
      "E_P            24585 non-null float64\n",
      "E_P_Num        24585 non-null int64\n",
      "E_N            24585 non-null float64\n",
      "E_R            24585 non-null float64\n",
      "E_U            23544 non-null float64\n",
      "G_R            22770 non-null float64\n",
      "A_R            21289 non-null float64\n",
      "T_R            22929 non-null float64\n",
      "SP_R           19540 non-null float64\n",
      "ToR            21742 non-null float64\n",
      "P_R            22210 non-null float64\n",
      "TK_R           16262 non-null float64\n",
      "Ex_R           16199 non-null float64\n",
      "R_R            16591 non-null float64\n",
      "Ts_R           24585 non-null int64\n",
      "dtypes: datetime64[ns](1), float64(24), int64(11)\n",
      "memory usage: 6.8 MB\n"
     ]
    }
   ],
   "source": [
    "df0.info()"
   ]
  },
  {
   "cell_type": "code",
   "execution_count": 6,
   "metadata": {},
   "outputs": [
    {
     "data": {
      "text/plain": [
       "Timestamp('2019-12-28 00:00:00')"
      ]
     },
     "execution_count": 6,
     "metadata": {},
     "output_type": "execute_result"
    }
   ],
   "source": [
    "df0.Datum.max()"
   ]
  },
  {
   "cell_type": "code",
   "execution_count": 6,
   "metadata": {},
   "outputs": [
    {
     "data": {
      "text/plain": [
       "7    3812\n",
       "6    3680\n",
       "5    3590\n",
       "4    3503\n",
       "3    3435\n",
       "2    3353\n",
       "1    3212\n",
       "Name: E_P_Num, dtype: int64"
      ]
     },
     "execution_count": 6,
     "metadata": {},
     "output_type": "execute_result"
    }
   ],
   "source": [
    "df0.E_P_Num.value_counts()"
   ]
  },
  {
   "cell_type": "code",
   "execution_count": 7,
   "metadata": {},
   "outputs": [],
   "source": [
    "analys1 = df0[(df0.E_P_Num.isin([1,2,3])) & df0.Plac == 1].VNUM.value_counts()"
   ]
  },
  {
   "cell_type": "code",
   "execution_count": 8,
   "metadata": {},
   "outputs": [
    {
     "data": {
      "text/plain": [
       "904"
      ]
     },
     "execution_count": 8,
     "metadata": {},
     "output_type": "execute_result"
    }
   ],
   "source": [
    "len( df0[(df0.E_P_Num.isin([1,2,3])) & (df0.Plac == 1)])"
   ]
  },
  {
   "cell_type": "code",
   "execution_count": 9,
   "metadata": {},
   "outputs": [
    {
     "data": {
      "text/plain": [
       "0.7842920353982301"
      ]
     },
     "execution_count": 9,
     "metadata": {},
     "output_type": "execute_result"
    }
   ],
   "source": [
    "(420 + 169 + 120) / 904"
   ]
  },
  {
   "cell_type": "code",
   "execution_count": 10,
   "metadata": {},
   "outputs": [
    {
     "data": {
      "text/plain": [
       "1     420\n",
       "2     169\n",
       "3     120\n",
       "4      67\n",
       "6      38\n",
       "5      32\n",
       "8      19\n",
       "7      18\n",
       "9      13\n",
       "10      6\n",
       "14      1\n",
       "11      1\n",
       "Name: VNUM, dtype: int64"
      ]
     },
     "execution_count": 10,
     "metadata": {},
     "output_type": "execute_result"
    }
   ],
   "source": [
    "analys1"
   ]
  },
  {
   "cell_type": "code",
   "execution_count": 11,
   "metadata": {},
   "outputs": [],
   "source": [
    "analys2 = df0[(df0.E_P_Num.isin([5,6,7])) & df0.Plac == 1].VNUM.value_counts()"
   ]
  },
  {
   "cell_type": "code",
   "execution_count": 12,
   "metadata": {},
   "outputs": [
    {
     "data": {
      "text/plain": [
       "905"
      ]
     },
     "execution_count": 12,
     "metadata": {},
     "output_type": "execute_result"
    }
   ],
   "source": [
    "len(df0[(df0.E_P_Num.isin([5,6,7])) & (df0.Plac == 1)])"
   ]
  },
  {
   "cell_type": "code",
   "execution_count": 13,
   "metadata": {},
   "outputs": [
    {
     "data": {
      "text/plain": [
       "0.6"
      ]
     },
     "execution_count": 13,
     "metadata": {},
     "output_type": "execute_result"
    }
   ],
   "source": [
    "(243 + 173 + 127) / 905"
   ]
  },
  {
   "cell_type": "code",
   "execution_count": 14,
   "metadata": {},
   "outputs": [
    {
     "data": {
      "text/plain": [
       "1     243\n",
       "2     173\n",
       "3     127\n",
       "4      93\n",
       "5      76\n",
       "6      60\n",
       "7      47\n",
       "8      26\n",
       "9      24\n",
       "10     19\n",
       "11      9\n",
       "12      6\n",
       "14      1\n",
       "13      1\n",
       "Name: VNUM, dtype: int64"
      ]
     },
     "execution_count": 14,
     "metadata": {},
     "output_type": "execute_result"
    }
   ],
   "source": [
    "analys2"
   ]
  },
  {
   "cell_type": "code",
   "execution_count": 15,
   "metadata": {},
   "outputs": [
    {
     "data": {
      "text/plain": [
       "0.7842920353982301"
      ]
     },
     "execution_count": 15,
     "metadata": {},
     "output_type": "execute_result"
    }
   ],
   "source": [
    "(420 + 169 + 120) / 904"
   ]
  },
  {
   "cell_type": "code",
   "execution_count": 16,
   "metadata": {},
   "outputs": [
    {
     "data": {
      "text/html": [
       "<div>\n",
       "<style scoped>\n",
       "    .dataframe tbody tr th:only-of-type {\n",
       "        vertical-align: middle;\n",
       "    }\n",
       "\n",
       "    .dataframe tbody tr th {\n",
       "        vertical-align: top;\n",
       "    }\n",
       "\n",
       "    .dataframe thead th {\n",
       "        text-align: right;\n",
       "    }\n",
       "</style>\n",
       "<table border=\"1\" class=\"dataframe\">\n",
       "  <thead>\n",
       "    <tr style=\"text-align: right;\">\n",
       "      <th></th>\n",
       "      <th>Datum</th>\n",
       "      <th>Arstid</th>\n",
       "      <th>Distans</th>\n",
       "      <th>Startsatt</th>\n",
       "      <th>Lopp</th>\n",
       "      <th>Plac</th>\n",
       "      <th>Hast</th>\n",
       "      <th>V75PROC</th>\n",
       "      <th>V_ODDS</th>\n",
       "      <th>GRUPP</th>\n",
       "      <th>...</th>\n",
       "      <th>G_R</th>\n",
       "      <th>A_R</th>\n",
       "      <th>T_R</th>\n",
       "      <th>SP_R</th>\n",
       "      <th>ToR</th>\n",
       "      <th>P_R</th>\n",
       "      <th>TK_R</th>\n",
       "      <th>Ex_R</th>\n",
       "      <th>R_R</th>\n",
       "      <th>Ts_R</th>\n",
       "    </tr>\n",
       "  </thead>\n",
       "  <tbody>\n",
       "    <tr>\n",
       "      <th>0</th>\n",
       "      <td>2016-05-21</td>\n",
       "      <td>1</td>\n",
       "      <td>3</td>\n",
       "      <td>2</td>\n",
       "      <td>1</td>\n",
       "      <td>1</td>\n",
       "      <td>1</td>\n",
       "      <td>0.55</td>\n",
       "      <td>1.3</td>\n",
       "      <td>1</td>\n",
       "      <td>...</td>\n",
       "      <td>1.0</td>\n",
       "      <td>1.0</td>\n",
       "      <td>1.0</td>\n",
       "      <td>1.0</td>\n",
       "      <td>NaN</td>\n",
       "      <td>1.0</td>\n",
       "      <td>NaN</td>\n",
       "      <td>NaN</td>\n",
       "      <td>NaN</td>\n",
       "      <td>1</td>\n",
       "    </tr>\n",
       "    <tr>\n",
       "      <th>1</th>\n",
       "      <td>2016-05-21</td>\n",
       "      <td>1</td>\n",
       "      <td>3</td>\n",
       "      <td>2</td>\n",
       "      <td>1</td>\n",
       "      <td>0</td>\n",
       "      <td>3</td>\n",
       "      <td>0.02</td>\n",
       "      <td>34.0</td>\n",
       "      <td>4</td>\n",
       "      <td>...</td>\n",
       "      <td>0.0</td>\n",
       "      <td>0.0</td>\n",
       "      <td>0.0</td>\n",
       "      <td>0.0</td>\n",
       "      <td>NaN</td>\n",
       "      <td>0.0</td>\n",
       "      <td>NaN</td>\n",
       "      <td>NaN</td>\n",
       "      <td>NaN</td>\n",
       "      <td>0</td>\n",
       "    </tr>\n",
       "    <tr>\n",
       "      <th>2</th>\n",
       "      <td>2016-05-21</td>\n",
       "      <td>1</td>\n",
       "      <td>3</td>\n",
       "      <td>2</td>\n",
       "      <td>1</td>\n",
       "      <td>0</td>\n",
       "      <td>8</td>\n",
       "      <td>0.00</td>\n",
       "      <td>97.3</td>\n",
       "      <td>5</td>\n",
       "      <td>...</td>\n",
       "      <td>0.0</td>\n",
       "      <td>0.0</td>\n",
       "      <td>0.0</td>\n",
       "      <td>0.0</td>\n",
       "      <td>NaN</td>\n",
       "      <td>0.0</td>\n",
       "      <td>NaN</td>\n",
       "      <td>NaN</td>\n",
       "      <td>NaN</td>\n",
       "      <td>0</td>\n",
       "    </tr>\n",
       "    <tr>\n",
       "      <th>3</th>\n",
       "      <td>2016-05-21</td>\n",
       "      <td>1</td>\n",
       "      <td>3</td>\n",
       "      <td>2</td>\n",
       "      <td>1</td>\n",
       "      <td>0</td>\n",
       "      <td>10</td>\n",
       "      <td>0.00</td>\n",
       "      <td>68.1</td>\n",
       "      <td>5</td>\n",
       "      <td>...</td>\n",
       "      <td>0.0</td>\n",
       "      <td>0.0</td>\n",
       "      <td>0.0</td>\n",
       "      <td>0.0</td>\n",
       "      <td>NaN</td>\n",
       "      <td>0.0</td>\n",
       "      <td>NaN</td>\n",
       "      <td>NaN</td>\n",
       "      <td>NaN</td>\n",
       "      <td>0</td>\n",
       "    </tr>\n",
       "    <tr>\n",
       "      <th>4</th>\n",
       "      <td>2016-05-21</td>\n",
       "      <td>1</td>\n",
       "      <td>3</td>\n",
       "      <td>2</td>\n",
       "      <td>1</td>\n",
       "      <td>0</td>\n",
       "      <td>4</td>\n",
       "      <td>0.01</td>\n",
       "      <td>53.8</td>\n",
       "      <td>5</td>\n",
       "      <td>...</td>\n",
       "      <td>0.0</td>\n",
       "      <td>0.0</td>\n",
       "      <td>0.0</td>\n",
       "      <td>0.0</td>\n",
       "      <td>NaN</td>\n",
       "      <td>0.0</td>\n",
       "      <td>NaN</td>\n",
       "      <td>NaN</td>\n",
       "      <td>NaN</td>\n",
       "      <td>0</td>\n",
       "    </tr>\n",
       "  </tbody>\n",
       "</table>\n",
       "<p>5 rows × 36 columns</p>\n",
       "</div>"
      ],
      "text/plain": [
       "       Datum  Arstid  Distans  Startsatt  Lopp  Plac  Hast  V75PROC  V_ODDS  \\\n",
       "0 2016-05-21       1        3          2     1     1     1     0.55     1.3   \n",
       "1 2016-05-21       1        3          2     1     0     3     0.02    34.0   \n",
       "2 2016-05-21       1        3          2     1     0     8     0.00    97.3   \n",
       "3 2016-05-21       1        3          2     1     0    10     0.00    68.1   \n",
       "4 2016-05-21       1        3          2     1     0     4     0.01    53.8   \n",
       "\n",
       "   GRUPP  ...  G_R  A_R  T_R  SP_R  ToR  P_R  TK_R  Ex_R  R_R  Ts_R  \n",
       "0      1  ...  1.0  1.0  1.0   1.0  NaN  1.0   NaN   NaN  NaN     1  \n",
       "1      4  ...  0.0  0.0  0.0   0.0  NaN  0.0   NaN   NaN  NaN     0  \n",
       "2      5  ...  0.0  0.0  0.0   0.0  NaN  0.0   NaN   NaN  NaN     0  \n",
       "3      5  ...  0.0  0.0  0.0   0.0  NaN  0.0   NaN   NaN  NaN     0  \n",
       "4      5  ...  0.0  0.0  0.0   0.0  NaN  0.0   NaN   NaN  NaN     0  \n",
       "\n",
       "[5 rows x 36 columns]"
      ]
     },
     "execution_count": 16,
     "metadata": {},
     "output_type": "execute_result"
    }
   ],
   "source": [
    "df0.head()"
   ]
  },
  {
   "cell_type": "code",
   "execution_count": 17,
   "metadata": {},
   "outputs": [
    {
     "data": {
      "text/plain": [
       "(24585, 36)"
      ]
     },
     "execution_count": 17,
     "metadata": {},
     "output_type": "execute_result"
    }
   ],
   "source": [
    "df0.shape"
   ]
  },
  {
   "cell_type": "code",
   "execution_count": 18,
   "metadata": {},
   "outputs": [],
   "source": [
    "# Skapar en unik nyckel på lopp: Gör om Datum och lopp till en sträng\n",
    "\n",
    "df0['cdate'] = df0.Datum.astype('object')\n",
    "df0['cLopp'] = df0.Lopp.astype('object')"
   ]
  },
  {
   "cell_type": "code",
   "execution_count": 19,
   "metadata": {},
   "outputs": [],
   "source": [
    "df0['Key'] = df0['cdate'].astype(str) + df0['cLopp'].astype(str)"
   ]
  },
  {
   "cell_type": "markdown",
   "metadata": {},
   "source": [
    "__Skapar en målvariabel - vinnare__"
   ]
  },
  {
   "cell_type": "code",
   "execution_count": 20,
   "metadata": {},
   "outputs": [],
   "source": [
    "# Alla analysvariabler\n",
    "df1 = df0[df0.E_P_Num.isin([1,2,3])].set_index(['Key'])\n",
    "\n",
    "# Rankingen samt VNUM. \n",
    "df1 = df1[['VNUM','G_R','A_R','T_R','SP_R','ToR','P_R','TK_R','R_R','Ts_R','Datum','Plac','Lopp']]    "
   ]
  },
  {
   "cell_type": "code",
   "execution_count": 21,
   "metadata": {},
   "outputs": [
    {
     "name": "stdout",
     "output_type": "stream",
     "text": [
      "<class 'pandas.core.frame.DataFrame'>\n",
      "Index: 10000 entries, 2016-05-21 00:00:001 to 2019-12-28 00:00:007\n",
      "Data columns (total 13 columns):\n",
      "VNUM     10000 non-null int64\n",
      "G_R      9253 non-null float64\n",
      "A_R      8660 non-null float64\n",
      "T_R      9316 non-null float64\n",
      "SP_R     7978 non-null float64\n",
      "ToR      8835 non-null float64\n",
      "P_R      9023 non-null float64\n",
      "TK_R     6580 non-null float64\n",
      "R_R      6704 non-null float64\n",
      "Ts_R     10000 non-null int64\n",
      "Datum    10000 non-null datetime64[ns]\n",
      "Plac     10000 non-null int64\n",
      "Lopp     10000 non-null int64\n",
      "dtypes: datetime64[ns](1), float64(8), int64(4)\n",
      "memory usage: 1.1+ MB\n"
     ]
    }
   ],
   "source": [
    "df1.info()"
   ]
  },
  {
   "cell_type": "code",
   "execution_count": 22,
   "metadata": {},
   "outputs": [],
   "source": [
    "df1['Y'] = np.where((df1['Plac'].isin([1])) & (df1.VNUM.isin([1,2,3])),1,0)"
   ]
  },
  {
   "cell_type": "code",
   "execution_count": 23,
   "metadata": {},
   "outputs": [
    {
     "data": {
      "text/plain": [
       "0    9291\n",
       "1     709\n",
       "Name: Y, dtype: int64"
      ]
     },
     "execution_count": 23,
     "metadata": {},
     "output_type": "execute_result"
    }
   ],
   "source": [
    "df1.Y.value_counts()"
   ]
  },
  {
   "cell_type": "code",
   "execution_count": 24,
   "metadata": {},
   "outputs": [
    {
     "data": {
      "text/html": [
       "<div>\n",
       "<style scoped>\n",
       "    .dataframe tbody tr th:only-of-type {\n",
       "        vertical-align: middle;\n",
       "    }\n",
       "\n",
       "    .dataframe tbody tr th {\n",
       "        vertical-align: top;\n",
       "    }\n",
       "\n",
       "    .dataframe thead th {\n",
       "        text-align: right;\n",
       "    }\n",
       "</style>\n",
       "<table border=\"1\" class=\"dataframe\">\n",
       "  <thead>\n",
       "    <tr style=\"text-align: right;\">\n",
       "      <th></th>\n",
       "      <th>Y</th>\n",
       "      <th>G_R</th>\n",
       "      <th>A_R</th>\n",
       "      <th>T_R</th>\n",
       "      <th>SP_R</th>\n",
       "      <th>ToR</th>\n",
       "      <th>P_R</th>\n",
       "      <th>TK_R</th>\n",
       "      <th>R_R</th>\n",
       "      <th>Ts_R</th>\n",
       "    </tr>\n",
       "  </thead>\n",
       "  <tbody>\n",
       "    <tr>\n",
       "      <th>Y</th>\n",
       "      <td>1.000000</td>\n",
       "      <td>0.176588</td>\n",
       "      <td>0.225937</td>\n",
       "      <td>0.210024</td>\n",
       "      <td>0.232435</td>\n",
       "      <td>0.167747</td>\n",
       "      <td>0.202571</td>\n",
       "      <td>0.198431</td>\n",
       "      <td>0.220742</td>\n",
       "      <td>0.228918</td>\n",
       "    </tr>\n",
       "    <tr>\n",
       "      <th>G_R</th>\n",
       "      <td>0.176588</td>\n",
       "      <td>1.000000</td>\n",
       "      <td>0.236117</td>\n",
       "      <td>0.250229</td>\n",
       "      <td>0.211057</td>\n",
       "      <td>0.193740</td>\n",
       "      <td>0.250722</td>\n",
       "      <td>0.240361</td>\n",
       "      <td>0.242910</td>\n",
       "      <td>0.247924</td>\n",
       "    </tr>\n",
       "    <tr>\n",
       "      <th>A_R</th>\n",
       "      <td>0.225937</td>\n",
       "      <td>0.236117</td>\n",
       "      <td>1.000000</td>\n",
       "      <td>0.406446</td>\n",
       "      <td>0.410905</td>\n",
       "      <td>0.302247</td>\n",
       "      <td>0.392828</td>\n",
       "      <td>0.302959</td>\n",
       "      <td>0.480443</td>\n",
       "      <td>0.408092</td>\n",
       "    </tr>\n",
       "    <tr>\n",
       "      <th>T_R</th>\n",
       "      <td>0.210024</td>\n",
       "      <td>0.250229</td>\n",
       "      <td>0.406446</td>\n",
       "      <td>1.000000</td>\n",
       "      <td>0.444110</td>\n",
       "      <td>0.315509</td>\n",
       "      <td>0.428237</td>\n",
       "      <td>0.312215</td>\n",
       "      <td>0.449749</td>\n",
       "      <td>0.432597</td>\n",
       "    </tr>\n",
       "    <tr>\n",
       "      <th>SP_R</th>\n",
       "      <td>0.232435</td>\n",
       "      <td>0.211057</td>\n",
       "      <td>0.410905</td>\n",
       "      <td>0.444110</td>\n",
       "      <td>1.000000</td>\n",
       "      <td>0.286709</td>\n",
       "      <td>0.397551</td>\n",
       "      <td>0.299334</td>\n",
       "      <td>0.468158</td>\n",
       "      <td>0.407937</td>\n",
       "    </tr>\n",
       "    <tr>\n",
       "      <th>ToR</th>\n",
       "      <td>0.167747</td>\n",
       "      <td>0.193740</td>\n",
       "      <td>0.302247</td>\n",
       "      <td>0.315509</td>\n",
       "      <td>0.286709</td>\n",
       "      <td>1.000000</td>\n",
       "      <td>0.290413</td>\n",
       "      <td>0.210025</td>\n",
       "      <td>0.294324</td>\n",
       "      <td>0.295947</td>\n",
       "    </tr>\n",
       "    <tr>\n",
       "      <th>P_R</th>\n",
       "      <td>0.202571</td>\n",
       "      <td>0.250722</td>\n",
       "      <td>0.392828</td>\n",
       "      <td>0.428237</td>\n",
       "      <td>0.397551</td>\n",
       "      <td>0.290413</td>\n",
       "      <td>1.000000</td>\n",
       "      <td>0.301926</td>\n",
       "      <td>0.407617</td>\n",
       "      <td>0.388395</td>\n",
       "    </tr>\n",
       "    <tr>\n",
       "      <th>TK_R</th>\n",
       "      <td>0.198431</td>\n",
       "      <td>0.240361</td>\n",
       "      <td>0.302959</td>\n",
       "      <td>0.312215</td>\n",
       "      <td>0.299334</td>\n",
       "      <td>0.210025</td>\n",
       "      <td>0.301926</td>\n",
       "      <td>1.000000</td>\n",
       "      <td>0.284613</td>\n",
       "      <td>0.304004</td>\n",
       "    </tr>\n",
       "    <tr>\n",
       "      <th>R_R</th>\n",
       "      <td>0.220742</td>\n",
       "      <td>0.242910</td>\n",
       "      <td>0.480443</td>\n",
       "      <td>0.449749</td>\n",
       "      <td>0.468158</td>\n",
       "      <td>0.294324</td>\n",
       "      <td>0.407617</td>\n",
       "      <td>0.284613</td>\n",
       "      <td>1.000000</td>\n",
       "      <td>0.421763</td>\n",
       "    </tr>\n",
       "    <tr>\n",
       "      <th>Ts_R</th>\n",
       "      <td>0.228918</td>\n",
       "      <td>0.247924</td>\n",
       "      <td>0.408092</td>\n",
       "      <td>0.432597</td>\n",
       "      <td>0.407937</td>\n",
       "      <td>0.295947</td>\n",
       "      <td>0.388395</td>\n",
       "      <td>0.304004</td>\n",
       "      <td>0.421763</td>\n",
       "      <td>1.000000</td>\n",
       "    </tr>\n",
       "  </tbody>\n",
       "</table>\n",
       "</div>"
      ],
      "text/plain": [
       "             Y       G_R       A_R       T_R      SP_R       ToR       P_R  \\\n",
       "Y     1.000000  0.176588  0.225937  0.210024  0.232435  0.167747  0.202571   \n",
       "G_R   0.176588  1.000000  0.236117  0.250229  0.211057  0.193740  0.250722   \n",
       "A_R   0.225937  0.236117  1.000000  0.406446  0.410905  0.302247  0.392828   \n",
       "T_R   0.210024  0.250229  0.406446  1.000000  0.444110  0.315509  0.428237   \n",
       "SP_R  0.232435  0.211057  0.410905  0.444110  1.000000  0.286709  0.397551   \n",
       "ToR   0.167747  0.193740  0.302247  0.315509  0.286709  1.000000  0.290413   \n",
       "P_R   0.202571  0.250722  0.392828  0.428237  0.397551  0.290413  1.000000   \n",
       "TK_R  0.198431  0.240361  0.302959  0.312215  0.299334  0.210025  0.301926   \n",
       "R_R   0.220742  0.242910  0.480443  0.449749  0.468158  0.294324  0.407617   \n",
       "Ts_R  0.228918  0.247924  0.408092  0.432597  0.407937  0.295947  0.388395   \n",
       "\n",
       "          TK_R       R_R      Ts_R  \n",
       "Y     0.198431  0.220742  0.228918  \n",
       "G_R   0.240361  0.242910  0.247924  \n",
       "A_R   0.302959  0.480443  0.408092  \n",
       "T_R   0.312215  0.449749  0.432597  \n",
       "SP_R  0.299334  0.468158  0.407937  \n",
       "ToR   0.210025  0.294324  0.295947  \n",
       "P_R   0.301926  0.407617  0.388395  \n",
       "TK_R  1.000000  0.284613  0.304004  \n",
       "R_R   0.284613  1.000000  0.421763  \n",
       "Ts_R  0.304004  0.421763  1.000000  "
      ]
     },
     "execution_count": 24,
     "metadata": {},
     "output_type": "execute_result"
    }
   ],
   "source": [
    "df1[['Y','G_R','A_R','T_R','SP_R','ToR','P_R','TK_R','R_R','Ts_R']].corr()"
   ]
  },
  {
   "cell_type": "code",
   "execution_count": 25,
   "metadata": {},
   "outputs": [],
   "source": [
    "df2 = df1.copy(deep = True)"
   ]
  },
  {
   "cell_type": "code",
   "execution_count": 26,
   "metadata": {},
   "outputs": [],
   "source": [
    "# Imputerar mode för median\n",
    "\n",
    "miss_list = ['G_R','A_R','T_R','SP_R','ToR','P_R','TK_R','R_R','Ts_R']\n",
    "\n",
    "for var in miss_list:\n",
    "    df2[var] = df2[var].fillna(df2[var].median())\n"
   ]
  },
  {
   "cell_type": "code",
   "execution_count": 27,
   "metadata": {},
   "outputs": [
    {
     "data": {
      "text/plain": [
       "['G_R', 'A_R', 'T_R', 'SP_R', 'ToR', 'P_R', 'TK_R', 'R_R', 'Ts_R']"
      ]
     },
     "execution_count": 27,
     "metadata": {},
     "output_type": "execute_result"
    }
   ],
   "source": [
    "miss_list"
   ]
  },
  {
   "cell_type": "code",
   "execution_count": 28,
   "metadata": {},
   "outputs": [
    {
     "data": {
      "text/html": [
       "<div>\n",
       "<style scoped>\n",
       "    .dataframe tbody tr th:only-of-type {\n",
       "        vertical-align: middle;\n",
       "    }\n",
       "\n",
       "    .dataframe tbody tr th {\n",
       "        vertical-align: top;\n",
       "    }\n",
       "\n",
       "    .dataframe thead th {\n",
       "        text-align: right;\n",
       "    }\n",
       "</style>\n",
       "<table border=\"1\" class=\"dataframe\">\n",
       "  <thead>\n",
       "    <tr style=\"text-align: right;\">\n",
       "      <th></th>\n",
       "      <th>Y</th>\n",
       "      <th>G_R</th>\n",
       "      <th>A_R</th>\n",
       "      <th>T_R</th>\n",
       "      <th>SP_R</th>\n",
       "      <th>ToR</th>\n",
       "      <th>P_R</th>\n",
       "      <th>TK_R</th>\n",
       "      <th>R_R</th>\n",
       "      <th>Ts_R</th>\n",
       "    </tr>\n",
       "  </thead>\n",
       "  <tbody>\n",
       "    <tr>\n",
       "      <th>Y</th>\n",
       "      <td>1.000000</td>\n",
       "      <td>0.167659</td>\n",
       "      <td>0.206988</td>\n",
       "      <td>0.200533</td>\n",
       "      <td>0.198055</td>\n",
       "      <td>0.152522</td>\n",
       "      <td>0.190909</td>\n",
       "      <td>0.152783</td>\n",
       "      <td>0.172045</td>\n",
       "      <td>0.228918</td>\n",
       "    </tr>\n",
       "    <tr>\n",
       "      <th>G_R</th>\n",
       "      <td>0.167659</td>\n",
       "      <td>1.000000</td>\n",
       "      <td>0.239119</td>\n",
       "      <td>0.262888</td>\n",
       "      <td>0.189876</td>\n",
       "      <td>0.200013</td>\n",
       "      <td>0.258245</td>\n",
       "      <td>0.203636</td>\n",
       "      <td>0.212278</td>\n",
       "      <td>0.261175</td>\n",
       "    </tr>\n",
       "    <tr>\n",
       "      <th>A_R</th>\n",
       "      <td>0.206988</td>\n",
       "      <td>0.239119</td>\n",
       "      <td>1.000000</td>\n",
       "      <td>0.397687</td>\n",
       "      <td>0.340306</td>\n",
       "      <td>0.287094</td>\n",
       "      <td>0.378094</td>\n",
       "      <td>0.240629</td>\n",
       "      <td>0.371855</td>\n",
       "      <td>0.400365</td>\n",
       "    </tr>\n",
       "    <tr>\n",
       "      <th>T_R</th>\n",
       "      <td>0.200533</td>\n",
       "      <td>0.262888</td>\n",
       "      <td>0.397687</td>\n",
       "      <td>1.000000</td>\n",
       "      <td>0.392648</td>\n",
       "      <td>0.315334</td>\n",
       "      <td>0.428107</td>\n",
       "      <td>0.260985</td>\n",
       "      <td>0.375203</td>\n",
       "      <td>0.442946</td>\n",
       "    </tr>\n",
       "    <tr>\n",
       "      <th>SP_R</th>\n",
       "      <td>0.198055</td>\n",
       "      <td>0.189876</td>\n",
       "      <td>0.340306</td>\n",
       "      <td>0.392648</td>\n",
       "      <td>1.000000</td>\n",
       "      <td>0.257076</td>\n",
       "      <td>0.340427</td>\n",
       "      <td>0.231988</td>\n",
       "      <td>0.366415</td>\n",
       "      <td>0.366918</td>\n",
       "    </tr>\n",
       "    <tr>\n",
       "      <th>ToR</th>\n",
       "      <td>0.152522</td>\n",
       "      <td>0.200013</td>\n",
       "      <td>0.287094</td>\n",
       "      <td>0.315334</td>\n",
       "      <td>0.257076</td>\n",
       "      <td>1.000000</td>\n",
       "      <td>0.284788</td>\n",
       "      <td>0.192285</td>\n",
       "      <td>0.265688</td>\n",
       "      <td>0.298366</td>\n",
       "    </tr>\n",
       "    <tr>\n",
       "      <th>P_R</th>\n",
       "      <td>0.190909</td>\n",
       "      <td>0.258245</td>\n",
       "      <td>0.378094</td>\n",
       "      <td>0.428107</td>\n",
       "      <td>0.340427</td>\n",
       "      <td>0.284788</td>\n",
       "      <td>1.000000</td>\n",
       "      <td>0.261414</td>\n",
       "      <td>0.329251</td>\n",
       "      <td>0.391492</td>\n",
       "    </tr>\n",
       "    <tr>\n",
       "      <th>TK_R</th>\n",
       "      <td>0.152783</td>\n",
       "      <td>0.203636</td>\n",
       "      <td>0.240629</td>\n",
       "      <td>0.260985</td>\n",
       "      <td>0.231988</td>\n",
       "      <td>0.192285</td>\n",
       "      <td>0.261414</td>\n",
       "      <td>1.000000</td>\n",
       "      <td>0.302305</td>\n",
       "      <td>0.255723</td>\n",
       "    </tr>\n",
       "    <tr>\n",
       "      <th>R_R</th>\n",
       "      <td>0.172045</td>\n",
       "      <td>0.212278</td>\n",
       "      <td>0.371855</td>\n",
       "      <td>0.375203</td>\n",
       "      <td>0.366415</td>\n",
       "      <td>0.265688</td>\n",
       "      <td>0.329251</td>\n",
       "      <td>0.302305</td>\n",
       "      <td>1.000000</td>\n",
       "      <td>0.354897</td>\n",
       "    </tr>\n",
       "    <tr>\n",
       "      <th>Ts_R</th>\n",
       "      <td>0.228918</td>\n",
       "      <td>0.261175</td>\n",
       "      <td>0.400365</td>\n",
       "      <td>0.442946</td>\n",
       "      <td>0.366918</td>\n",
       "      <td>0.298366</td>\n",
       "      <td>0.391492</td>\n",
       "      <td>0.255723</td>\n",
       "      <td>0.354897</td>\n",
       "      <td>1.000000</td>\n",
       "    </tr>\n",
       "  </tbody>\n",
       "</table>\n",
       "</div>"
      ],
      "text/plain": [
       "             Y       G_R       A_R       T_R      SP_R       ToR       P_R  \\\n",
       "Y     1.000000  0.167659  0.206988  0.200533  0.198055  0.152522  0.190909   \n",
       "G_R   0.167659  1.000000  0.239119  0.262888  0.189876  0.200013  0.258245   \n",
       "A_R   0.206988  0.239119  1.000000  0.397687  0.340306  0.287094  0.378094   \n",
       "T_R   0.200533  0.262888  0.397687  1.000000  0.392648  0.315334  0.428107   \n",
       "SP_R  0.198055  0.189876  0.340306  0.392648  1.000000  0.257076  0.340427   \n",
       "ToR   0.152522  0.200013  0.287094  0.315334  0.257076  1.000000  0.284788   \n",
       "P_R   0.190909  0.258245  0.378094  0.428107  0.340427  0.284788  1.000000   \n",
       "TK_R  0.152783  0.203636  0.240629  0.260985  0.231988  0.192285  0.261414   \n",
       "R_R   0.172045  0.212278  0.371855  0.375203  0.366415  0.265688  0.329251   \n",
       "Ts_R  0.228918  0.261175  0.400365  0.442946  0.366918  0.298366  0.391492   \n",
       "\n",
       "          TK_R       R_R      Ts_R  \n",
       "Y     0.152783  0.172045  0.228918  \n",
       "G_R   0.203636  0.212278  0.261175  \n",
       "A_R   0.240629  0.371855  0.400365  \n",
       "T_R   0.260985  0.375203  0.442946  \n",
       "SP_R  0.231988  0.366415  0.366918  \n",
       "ToR   0.192285  0.265688  0.298366  \n",
       "P_R   0.261414  0.329251  0.391492  \n",
       "TK_R  1.000000  0.302305  0.255723  \n",
       "R_R   0.302305  1.000000  0.354897  \n",
       "Ts_R  0.255723  0.354897  1.000000  "
      ]
     },
     "execution_count": 28,
     "metadata": {},
     "output_type": "execute_result"
    }
   ],
   "source": [
    "df2[['Y','G_R','A_R','T_R','SP_R','ToR','P_R','TK_R','R_R','Ts_R']].corr()"
   ]
  },
  {
   "cell_type": "code",
   "execution_count": 29,
   "metadata": {},
   "outputs": [
    {
     "name": "stdout",
     "output_type": "stream",
     "text": [
      "<class 'pandas.core.frame.DataFrame'>\n",
      "Index: 10000 entries, 2016-05-21 00:00:001 to 2019-12-28 00:00:007\n",
      "Data columns (total 14 columns):\n",
      "VNUM     10000 non-null int64\n",
      "G_R      10000 non-null float64\n",
      "A_R      10000 non-null float64\n",
      "T_R      10000 non-null float64\n",
      "SP_R     10000 non-null float64\n",
      "ToR      10000 non-null float64\n",
      "P_R      10000 non-null float64\n",
      "TK_R     10000 non-null float64\n",
      "R_R      10000 non-null float64\n",
      "Ts_R     10000 non-null int64\n",
      "Datum    10000 non-null datetime64[ns]\n",
      "Plac     10000 non-null int64\n",
      "Lopp     10000 non-null int64\n",
      "Y        10000 non-null int64\n",
      "dtypes: datetime64[ns](1), float64(8), int64(5)\n",
      "memory usage: 1.1+ MB\n"
     ]
    }
   ],
   "source": [
    "df2.info()"
   ]
  },
  {
   "cell_type": "code",
   "execution_count": 30,
   "metadata": {},
   "outputs": [],
   "source": [
    "# Gör om till objekt\n",
    "\n",
    "feat_list = ['G_R','A_R','T_R','SP_R','ToR','P_R','TK_R','R_R','Ts_R']\n",
    "\n",
    "for var in feat_list:\n",
    "    df2[var] = df2[var].astype('str')\n",
    "\n"
   ]
  },
  {
   "cell_type": "code",
   "execution_count": 31,
   "metadata": {},
   "outputs": [
    {
     "name": "stdout",
     "output_type": "stream",
     "text": [
      "<class 'pandas.core.frame.DataFrame'>\n",
      "Index: 10000 entries, 2016-05-21 00:00:001 to 2019-12-28 00:00:007\n",
      "Data columns (total 14 columns):\n",
      "VNUM     10000 non-null int64\n",
      "G_R      10000 non-null object\n",
      "A_R      10000 non-null object\n",
      "T_R      10000 non-null object\n",
      "SP_R     10000 non-null object\n",
      "ToR      10000 non-null object\n",
      "P_R      10000 non-null object\n",
      "TK_R     10000 non-null object\n",
      "R_R      10000 non-null object\n",
      "Ts_R     10000 non-null object\n",
      "Datum    10000 non-null datetime64[ns]\n",
      "Plac     10000 non-null int64\n",
      "Lopp     10000 non-null int64\n",
      "Y        10000 non-null int64\n",
      "dtypes: datetime64[ns](1), int64(4), object(9)\n",
      "memory usage: 1.1+ MB\n"
     ]
    }
   ],
   "source": [
    "df2.info()"
   ]
  },
  {
   "cell_type": "code",
   "execution_count": 114,
   "metadata": {},
   "outputs": [],
   "source": [
    "# Egen klass för att sätta dummyvariabler\n",
    "\n",
    "class SetDummyVar(BaseEstimator, TransformerMixin):\n",
    "    def __init__(self, attribute_names):\n",
    "        self.attribute_names = attribute_names\n",
    "    def fit(self, X, y=None):\n",
    "        return self\n",
    "    def transform(self, X):\n",
    "        tempdf = pd.get_dummies(X[self.attribute_names], columns = self.attribute_names)\n",
    "        return tempdf.values"
   ]
  },
  {
   "cell_type": "code",
   "execution_count": 115,
   "metadata": {},
   "outputs": [
    {
     "data": {
      "text/plain": [
       "Index(['VNUM', 'G_R', 'A_R', 'T_R', 'SP_R', 'ToR', 'P_R', 'TK_R', 'R_R',\n",
       "       'Ts_R', 'Datum', 'Plac', 'Lopp', 'Y'],\n",
       "      dtype='object')"
      ]
     },
     "execution_count": 115,
     "metadata": {},
     "output_type": "execute_result"
    }
   ],
   "source": [
    "df2.columns"
   ]
  },
  {
   "cell_type": "code",
   "execution_count": 116,
   "metadata": {},
   "outputs": [
    {
     "data": {
      "text/plain": [
       "Index(['VNUM', 'G_R', 'A_R', 'T_R', 'SP_R', 'ToR', 'P_R', 'TK_R', 'R_R',\n",
       "       'Ts_R'],\n",
       "      dtype='object')"
      ]
     },
     "execution_count": 116,
     "metadata": {},
     "output_type": "execute_result"
    }
   ],
   "source": [
    "df2.columns[:-4]"
   ]
  },
  {
   "cell_type": "code",
   "execution_count": 117,
   "metadata": {},
   "outputs": [],
   "source": [
    "num_attribs = []\n",
    "cat_attribs = []\n",
    "for var, typ in zip(df2.columns[:-4], df2.dtypes[:-4]):\n",
    "    if typ == 'object':\n",
    "        cat_attribs.append(var)\n",
    "    else:\n",
    "        num_attribs.append(var) "
   ]
  },
  {
   "cell_type": "code",
   "execution_count": 118,
   "metadata": {},
   "outputs": [],
   "source": [
    "full_pipeline = Pipeline([\n",
    "        ('dummy_cat', SetDummyVar(cat_attribs)),\n",
    "    ])"
   ]
  },
  {
   "cell_type": "code",
   "execution_count": 119,
   "metadata": {},
   "outputs": [
    {
     "data": {
      "text/plain": [
       "['G_R', 'A_R', 'T_R', 'SP_R', 'ToR', 'P_R', 'TK_R', 'R_R', 'Ts_R']"
      ]
     },
     "execution_count": 119,
     "metadata": {},
     "output_type": "execute_result"
    }
   ],
   "source": [
    "cat_attribs"
   ]
  },
  {
   "cell_type": "code",
   "execution_count": 120,
   "metadata": {},
   "outputs": [],
   "source": [
    "omg_df = pd.DataFrame({'Datum': list(set(df2.Datum.values.tolist()))})"
   ]
  },
  {
   "cell_type": "code",
   "execution_count": 121,
   "metadata": {},
   "outputs": [],
   "source": [
    "# Next, Let's split the data into a training, validation, and testing.\n",
    "rand_split = pd.DataFrame({'rval':np.random.rand(len(df2)).tolist()})"
   ]
  },
  {
   "cell_type": "code",
   "execution_count": 122,
   "metadata": {},
   "outputs": [
    {
     "data": {
      "text/html": [
       "<div>\n",
       "<style scoped>\n",
       "    .dataframe tbody tr th:only-of-type {\n",
       "        vertical-align: middle;\n",
       "    }\n",
       "\n",
       "    .dataframe tbody tr th {\n",
       "        vertical-align: top;\n",
       "    }\n",
       "\n",
       "    .dataframe thead th {\n",
       "        text-align: right;\n",
       "    }\n",
       "</style>\n",
       "<table border=\"1\" class=\"dataframe\">\n",
       "  <thead>\n",
       "    <tr style=\"text-align: right;\">\n",
       "      <th></th>\n",
       "      <th>Datum</th>\n",
       "      <th>rval</th>\n",
       "    </tr>\n",
       "  </thead>\n",
       "  <tbody>\n",
       "    <tr>\n",
       "      <th>0</th>\n",
       "      <td>1.463789e+18</td>\n",
       "      <td>0.315909</td>\n",
       "    </tr>\n",
       "    <tr>\n",
       "      <th>1</th>\n",
       "      <td>1.464394e+18</td>\n",
       "      <td>0.001065</td>\n",
       "    </tr>\n",
       "    <tr>\n",
       "      <th>2</th>\n",
       "      <td>1.465603e+18</td>\n",
       "      <td>0.349968</td>\n",
       "    </tr>\n",
       "    <tr>\n",
       "      <th>3</th>\n",
       "      <td>1.464480e+18</td>\n",
       "      <td>0.909424</td>\n",
       "    </tr>\n",
       "    <tr>\n",
       "      <th>4</th>\n",
       "      <td>1.464998e+18</td>\n",
       "      <td>0.927011</td>\n",
       "    </tr>\n",
       "  </tbody>\n",
       "</table>\n",
       "</div>"
      ],
      "text/plain": [
       "          Datum      rval\n",
       "0  1.463789e+18  0.315909\n",
       "1  1.464394e+18  0.001065\n",
       "2  1.465603e+18  0.349968\n",
       "3  1.464480e+18  0.909424\n",
       "4  1.464998e+18  0.927011"
      ]
     },
     "execution_count": 122,
     "metadata": {},
     "output_type": "execute_result"
    }
   ],
   "source": [
    "omg_df = pd.concat([omg_df,rand_split], axis = 1)\n",
    "omg_df.head()"
   ]
  },
  {
   "cell_type": "code",
   "execution_count": 123,
   "metadata": {},
   "outputs": [
    {
     "name": "stdout",
     "output_type": "stream",
     "text": [
      "<class 'pandas.core.frame.DataFrame'>\n",
      "RangeIndex: 10000 entries, 0 to 9999\n",
      "Data columns (total 2 columns):\n",
      "Datum    302 non-null float64\n",
      "rval     10000 non-null float64\n",
      "dtypes: float64(2)\n",
      "memory usage: 156.3 KB\n"
     ]
    }
   ],
   "source": [
    "omg_df.info()"
   ]
  },
  {
   "cell_type": "code",
   "execution_count": 124,
   "metadata": {},
   "outputs": [],
   "source": [
    "train_filter = (omg_df.rval <= 0.7)\n",
    "test_filter = (omg_df.rval > 0.7) "
   ]
  },
  {
   "cell_type": "code",
   "execution_count": 125,
   "metadata": {},
   "outputs": [],
   "source": [
    " # This dataset will be used to train the model.\n",
    "train = df2[df2.Datum.isin(omg_df[train_filter]['Datum'].values.tolist())]\n",
    "\n",
    "# This dataset will be used to test the model.\n",
    "\n",
    "test = df2[df2.Datum.isin(omg_df[test_filter]['Datum'].values.tolist())]\n"
   ]
  },
  {
   "cell_type": "code",
   "execution_count": 126,
   "metadata": {},
   "outputs": [
    {
     "name": "stdout",
     "output_type": "stream",
     "text": [
      "<class 'pandas.core.frame.DataFrame'>\n",
      "Index: 3006 entries, 2016-05-29 00:00:004 to 2019-12-26 00:00:005\n",
      "Data columns (total 14 columns):\n",
      "VNUM     3006 non-null int64\n",
      "G_R      3006 non-null object\n",
      "A_R      3006 non-null object\n",
      "T_R      3006 non-null object\n",
      "SP_R     3006 non-null object\n",
      "ToR      3006 non-null object\n",
      "P_R      3006 non-null object\n",
      "TK_R     3006 non-null object\n",
      "R_R      3006 non-null object\n",
      "Ts_R     3006 non-null object\n",
      "Datum    3006 non-null datetime64[ns]\n",
      "Plac     3006 non-null int64\n",
      "Lopp     3006 non-null int64\n",
      "Y        3006 non-null int64\n",
      "dtypes: datetime64[ns](1), int64(4), object(9)\n",
      "memory usage: 352.3+ KB\n"
     ]
    }
   ],
   "source": [
    "test.info()"
   ]
  },
  {
   "cell_type": "markdown",
   "metadata": {},
   "source": [
    "__Bygger modellen - Logistik regression__"
   ]
  },
  {
   "cell_type": "code",
   "execution_count": 127,
   "metadata": {},
   "outputs": [],
   "source": [
    "features_base = full_pipeline.fit_transform(train)\n",
    "## En array som håller det vi vill predikter\n",
    "label_base = train[\"Y\"].copy()"
   ]
  },
  {
   "cell_type": "code",
   "execution_count": 128,
   "metadata": {},
   "outputs": [],
   "source": [
    "features_test = full_pipeline.fit_transform(test)\n",
    "## En array som håller det vi vill predikter\n",
    "label_test = test[\"Y\"].copy()"
   ]
  },
  {
   "cell_type": "code",
   "execution_count": 129,
   "metadata": {},
   "outputs": [],
   "source": [
    "from sklearn.linear_model import LogisticRegression\n",
    "from sklearn.model_selection import cross_val_score"
   ]
  },
  {
   "cell_type": "code",
   "execution_count": 130,
   "metadata": {},
   "outputs": [
    {
     "data": {
      "text/plain": [
       "array([0.89375   , 0.86635587, 0.87997669, 0.90460416, 0.89403659])"
      ]
     },
     "execution_count": 130,
     "metadata": {},
     "output_type": "execute_result"
    }
   ],
   "source": [
    "log_clf= LogisticRegression(solver=\"liblinear\", C = 0.1, random_state=42)\n",
    "\n",
    "# Utvärderar styrkan i modellen - sätter hyperparametrarna och cross fold fem\n",
    "scores_base = cross_val_score(log_clf, features_base,label_base, scoring = \"roc_auc\", cv = 5 ) \n",
    "\n",
    "scores_base"
   ]
  },
  {
   "cell_type": "code",
   "execution_count": 131,
   "metadata": {},
   "outputs": [
    {
     "data": {
      "text/plain": [
       "0.887744662680575"
      ]
     },
     "execution_count": 131,
     "metadata": {},
     "output_type": "execute_result"
    }
   ],
   "source": [
    "scores_base.mean()"
   ]
  },
  {
   "cell_type": "markdown",
   "metadata": {},
   "source": [
    "## Validerar på undanlagt testdata"
   ]
  },
  {
   "cell_type": "code",
   "execution_count": 132,
   "metadata": {},
   "outputs": [
    {
     "name": "stdout",
     "output_type": "stream",
     "text": [
      "0.8757616711127248\n"
     ]
    }
   ],
   "source": [
    "model_base = log_clf.fit(features_base,label_base)\n",
    "log_clf.fit(features_base,label_base)\n",
    "predict19 = log_clf.predict_proba(features_test)\n",
    "\n",
    "fpr, tpr, threshold = roc_curve(label_test,predict19[:,1])\n",
    "roc_auc = auc(fpr,tpr)\n",
    "print(roc_auc)"
   ]
  },
  {
   "cell_type": "code",
   "execution_count": 133,
   "metadata": {},
   "outputs": [
    {
     "data": {
      "image/png": "[encoded data removed]",
      "text/plain": [
       "<Figure size 432x288 with 1 Axes>"
      ]
     },
     "metadata": {
      "needs_background": "light"
     },
     "output_type": "display_data"
    }
   ],
   "source": [
    "plt.title('Receiver Operating Characteristic - Testdata') \n",
    "plt.plot( fpr, tpr, 'b', label =' AUC = %0.3f' % roc_auc) \n",
    "plt.legend( loc ='lower right') \n",
    "plt.plot([ 0, 1], [0, 1], 'r--') \n",
    "plt.xlim([ 0.0, 1.0]) \n",
    "plt.ylim([ 0.0, 1.0]) \n",
    "plt.ylabel('True positive rate') \n",
    "plt.xlabel('False positive rate') \n",
    "plt.show()"
   ]
  },
  {
   "cell_type": "markdown",
   "metadata": {},
   "source": [
    "__Sparar undan modellen i Pickleformat för att kunna användas i andra notebooks__"
   ]
  },
  {
   "cell_type": "code",
   "execution_count": 134,
   "metadata": {},
   "outputs": [
    {
     "data": {
      "text/plain": [
       "['Travmodel_vnum123.pkl']"
      ]
     },
     "execution_count": 134,
     "metadata": {},
     "output_type": "execute_result"
    }
   ],
   "source": [
    "# from sklearn.externals import joblib\n",
    "\n",
    "#import joblib\n",
    "\n",
    "from sklearn.externals import joblib\n",
    "from DataPipeline import DataFrameSelector\n",
    "\n",
    "\n",
    "\n",
    "#Pipelineobjekt\n",
    "joblib.dump(full_pipeline, 'Pipeline_vnum123.pkl')\n",
    "\n",
    "# Modellobjekt\n",
    "joblib.dump(model_base, 'Travmodel_vnum123.pkl')"
   ]
  },
  {
   "cell_type": "code",
   "execution_count": 135,
   "metadata": {},
   "outputs": [],
   "source": [
    "koll = joblib.load('Travmodel_vnum123.pkl')"
   ]
  },
  {
   "cell_type": "code",
   "execution_count": 136,
   "metadata": {},
   "outputs": [
    {
     "data": {
      "text/plain": [
       "sklearn.linear_model.logistic.LogisticRegression"
      ]
     },
     "execution_count": 136,
     "metadata": {},
     "output_type": "execute_result"
    }
   ],
   "source": [
    "type(koll)"
   ]
  },
  {
   "cell_type": "code",
   "execution_count": 137,
   "metadata": {},
   "outputs": [],
   "source": [
    "koll1 = joblib.load('Pipeline_vnum123.pkl')"
   ]
  },
  {
   "cell_type": "code",
   "execution_count": 138,
   "metadata": {},
   "outputs": [
    {
     "data": {
      "text/plain": [
       "sklearn.pipeline.Pipeline"
      ]
     },
     "execution_count": 138,
     "metadata": {},
     "output_type": "execute_result"
    }
   ],
   "source": [
    "type(koll1)"
   ]
  },
  {
   "cell_type": "code",
   "execution_count": 112,
   "metadata": {},
   "outputs": [],
   "source": [
    "full_pipeline = joblib.load('Pipeline_top1.pkl')"
   ]
  },
  {
   "cell_type": "code",
   "execution_count": null,
   "metadata": {},
   "outputs": [],
   "source": []
  }
 ],
 "metadata": {
  "kernelspec": {
   "display_name": "Python 3",
   "language": "python",
   "name": "python3"
  },
  "language_info": {
   "codemirror_mode": {
    "name": "ipython",
    "version": 3
   },
   "file_extension": ".py",
   "mimetype": "text/x-python",
   "name": "python",
   "nbconvert_exporter": "python",
   "pygments_lexer": "ipython3",
   "version": "3.7.3"
  }
 },
 "nbformat": 4,
 "nbformat_minor": 2
}
