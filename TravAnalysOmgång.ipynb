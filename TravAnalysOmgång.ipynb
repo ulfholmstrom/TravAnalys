{
 "cells": [
  {
   "cell_type": "markdown",
   "metadata": {},
   "source": [
    "__Sorteringen ska visa svårighetsgraden på omgången. Ju högre svårighetsgrad desto mer hästar måste med. Vill skapa en score som sammanfattar loppet. Datat ligger på hästnivå, hästen springer i ett specifikt lopp__"
   ]
  },
  {
   "cell_type": "markdown",
   "metadata": {},
   "source": [
    "__Ta bort VNUM, ODDS samt V75procent__"
   ]
  },
  {
   "cell_type": "markdown",
   "metadata": {},
   "source": [
    "__Loppnivå - Vill rangordna alla hästar. Skala bort de hästar med minst sannolikhet att vinna__"
   ]
  },
  {
   "cell_type": "code",
   "execution_count": 2,
   "metadata": {},
   "outputs": [],
   "source": [
    "import pandas as pd\n",
    "import numpy as np\n",
    "from datetime import datetime\n",
    "\n",
    "from sklearn.preprocessing import OneHotEncoder\n",
    "from sklearn.linear_model import LogisticRegression\n",
    "from sklearn.compose import make_column_transformer\n",
    "from sklearn.pipeline import make_pipeline"
   ]
  },
  {
   "cell_type": "code",
   "execution_count": 3,
   "metadata": {},
   "outputs": [],
   "source": [
    "import matplotlib.pyplot as plt\n",
    "import seaborn as sns"
   ]
  },
  {
   "cell_type": "code",
   "execution_count": 3,
   "metadata": {},
   "outputs": [],
   "source": [
    "# Necessary Sklearn objects used in the analysis\n",
    "from sklearn.metrics import roc_curve, auc\n",
    "from sklearn.ensemble import RandomForestClassifier \n",
    "from sklearn.metrics import confusion_matrix\n",
    "from sklearn import metrics\n",
    "from sklearn import preprocessing\n",
    "\n",
    "from sklearn.preprocessing import StandardScaler\n",
    "from sklearn.preprocessing import Imputer\n"
   ]
  },
  {
   "cell_type": "code",
   "execution_count": 4,
   "metadata": {},
   "outputs": [],
   "source": [
    "df0 = pd.read_excel('AllData.xlsx')"
   ]
  },
  {
   "cell_type": "code",
   "execution_count": 5,
   "metadata": {},
   "outputs": [
    {
     "name": "stdout",
     "output_type": "stream",
     "text": [
      "<class 'pandas.core.frame.DataFrame'>\n",
      "RangeIndex: 24585 entries, 0 to 24584\n",
      "Data columns (total 36 columns):\n",
      "Datum          24585 non-null datetime64[ns]\n",
      "Arstid         24585 non-null int64\n",
      "Distans        24585 non-null int64\n",
      "Startsatt      24585 non-null int64\n",
      "Lopp           24585 non-null int64\n",
      "Plac           24585 non-null int64\n",
      "Hast           24585 non-null int64\n",
      "V75PROC        24585 non-null float64\n",
      "V_ODDS         24585 non-null float64\n",
      "GRUPP          24585 non-null int64\n",
      "VLP            24585 non-null float64\n",
      "VNUM           24585 non-null int64\n",
      "SVLP           24585 non-null float64\n",
      "VSVLP          24585 non-null float64\n",
      "VPN_SUM        24585 non-null float64\n",
      "VPN_SUM_ORD    24585 non-null int64\n",
      "VPK_SUM        24585 non-null float64\n",
      "VPK_SUM_ORD    24461 non-null float64\n",
      "VLPB           24585 non-null float64\n",
      "SVLPB          24585 non-null float64\n",
      "VSVLPB         24585 non-null float64\n",
      "E_P            24585 non-null float64\n",
      "E_P_Num        24585 non-null int64\n",
      "E_N            24585 non-null float64\n",
      "E_R            24585 non-null float64\n",
      "E_U            23544 non-null float64\n",
      "G_R            22770 non-null float64\n",
      "A_R            21289 non-null float64\n",
      "T_R            22929 non-null float64\n",
      "SP_R           19540 non-null float64\n",
      "ToR            21742 non-null float64\n",
      "P_R            22210 non-null float64\n",
      "TK_R           16262 non-null float64\n",
      "Ex_R           16199 non-null float64\n",
      "R_R            16591 non-null float64\n",
      "Ts_R           24585 non-null int64\n",
      "dtypes: datetime64[ns](1), float64(24), int64(11)\n",
      "memory usage: 6.8 MB\n"
     ]
    }
   ],
   "source": [
    "df0.info()"
   ]
  },
  {
   "cell_type": "code",
   "execution_count": null,
   "metadata": {},
   "outputs": [],
   "source": []
  },
  {
   "cell_type": "code",
   "execution_count": 6,
   "metadata": {},
   "outputs": [],
   "source": [
    "df0['y'] = np.where(df0.Plac == 1,1,0)"
   ]
  },
  {
   "cell_type": "code",
   "execution_count": 7,
   "metadata": {},
   "outputs": [
    {
     "data": {
      "text/plain": [
       "0    22475\n",
       "1     2110\n",
       "Name: y, dtype: int64"
      ]
     },
     "execution_count": 7,
     "metadata": {},
     "output_type": "execute_result"
    }
   ],
   "source": [
    "df0['y'].value_counts()"
   ]
  },
  {
   "cell_type": "code",
   "execution_count": 8,
   "metadata": {},
   "outputs": [],
   "source": [
    "df0['cdate'] = df0.Datum.astype('object')\n",
    "df0['clopp'] = df0.Lopp.astype('object')"
   ]
  },
  {
   "cell_type": "code",
   "execution_count": 9,
   "metadata": {},
   "outputs": [
    {
     "data": {
      "text/plain": [
       "24585"
      ]
     },
     "execution_count": 9,
     "metadata": {},
     "output_type": "execute_result"
    }
   ],
   "source": [
    "len(df0)"
   ]
  },
  {
   "cell_type": "code",
   "execution_count": 10,
   "metadata": {},
   "outputs": [],
   "source": [
    "allcols = list(set(['Datum', 'Lopp','Arstid', 'Distans', 'Startsatt', 'GRUPP', 'VLP', 'SVLP', 'VSVLP',\n",
    "       'VPN_SUM', 'VPN_SUM', 'VPN_SUM_ORD', 'VPK_SUM', 'VPK_SUM_ORD', 'VLPB',\n",
    "       'SVLPB', 'VSVLPB', 'E_P', 'E_P_Num', 'E_N', 'E_R', 'E_U', 'G_R', 'A_R',\n",
    "       'T_R', 'SP_R', 'ToR', 'P_R', 'TK_R', 'Ex_R', 'R_R', 'Ts_R','y']))"
   ]
  },
  {
   "cell_type": "code",
   "execution_count": 11,
   "metadata": {},
   "outputs": [
    {
     "data": {
      "text/plain": [
       "32"
      ]
     },
     "execution_count": 11,
     "metadata": {},
     "output_type": "execute_result"
    }
   ],
   "source": [
    "len(allcols)"
   ]
  },
  {
   "cell_type": "code",
   "execution_count": 12,
   "metadata": {},
   "outputs": [],
   "source": [
    "df2 = df0.dropna()[allcols]"
   ]
  },
  {
   "cell_type": "code",
   "execution_count": 13,
   "metadata": {},
   "outputs": [
    {
     "name": "stdout",
     "output_type": "stream",
     "text": [
      "<class 'pandas.core.frame.DataFrame'>\n",
      "Int64Index: 10838 entries, 7799 to 24584\n",
      "Data columns (total 32 columns):\n",
      "A_R            10838 non-null float64\n",
      "E_N            10838 non-null float64\n",
      "Lopp           10838 non-null int64\n",
      "VPK_SUM_ORD    10838 non-null float64\n",
      "VPN_SUM        10838 non-null float64\n",
      "VPK_SUM        10838 non-null float64\n",
      "SVLPB          10838 non-null float64\n",
      "VLPB           10838 non-null float64\n",
      "ToR            10838 non-null float64\n",
      "VSVLP          10838 non-null float64\n",
      "VPN_SUM_ORD    10838 non-null int64\n",
      "E_P            10838 non-null float64\n",
      "E_P_Num        10838 non-null int64\n",
      "E_R            10838 non-null float64\n",
      "Ex_R           10838 non-null float64\n",
      "Startsatt      10838 non-null int64\n",
      "T_R            10838 non-null float64\n",
      "Datum          10838 non-null datetime64[ns]\n",
      "Ts_R           10838 non-null int64\n",
      "GRUPP          10838 non-null int64\n",
      "SVLP           10838 non-null float64\n",
      "Arstid         10838 non-null int64\n",
      "E_U            10838 non-null float64\n",
      "SP_R           10838 non-null float64\n",
      "VSVLPB         10838 non-null float64\n",
      "y              10838 non-null int64\n",
      "P_R            10838 non-null float64\n",
      "Distans        10838 non-null int64\n",
      "TK_R           10838 non-null float64\n",
      "G_R            10838 non-null float64\n",
      "VLP            10838 non-null float64\n",
      "R_R            10838 non-null float64\n",
      "dtypes: datetime64[ns](1), float64(22), int64(9)\n",
      "memory usage: 2.7 MB\n"
     ]
    }
   ],
   "source": [
    "df2.info()"
   ]
  },
  {
   "cell_type": "code",
   "execution_count": 23,
   "metadata": {},
   "outputs": [
    {
     "data": {
      "text/html": [
       "<div>\n",
       "<style scoped>\n",
       "    .dataframe tbody tr th:only-of-type {\n",
       "        vertical-align: middle;\n",
       "    }\n",
       "\n",
       "    .dataframe tbody tr th {\n",
       "        vertical-align: top;\n",
       "    }\n",
       "\n",
       "    .dataframe thead th {\n",
       "        text-align: right;\n",
       "    }\n",
       "</style>\n",
       "<table border=\"1\" class=\"dataframe\">\n",
       "  <thead>\n",
       "    <tr style=\"text-align: right;\">\n",
       "      <th></th>\n",
       "      <th>SP_R</th>\n",
       "      <th>R_R</th>\n",
       "      <th>G_R</th>\n",
       "      <th>y</th>\n",
       "    </tr>\n",
       "  </thead>\n",
       "  <tbody>\n",
       "    <tr>\n",
       "      <th>SP_R</th>\n",
       "      <td>1.000000</td>\n",
       "      <td>0.410150</td>\n",
       "      <td>0.174067</td>\n",
       "      <td>0.171019</td>\n",
       "    </tr>\n",
       "    <tr>\n",
       "      <th>R_R</th>\n",
       "      <td>0.410150</td>\n",
       "      <td>1.000000</td>\n",
       "      <td>0.186798</td>\n",
       "      <td>0.172166</td>\n",
       "    </tr>\n",
       "    <tr>\n",
       "      <th>G_R</th>\n",
       "      <td>0.174067</td>\n",
       "      <td>0.186798</td>\n",
       "      <td>1.000000</td>\n",
       "      <td>0.121091</td>\n",
       "    </tr>\n",
       "    <tr>\n",
       "      <th>y</th>\n",
       "      <td>0.171019</td>\n",
       "      <td>0.172166</td>\n",
       "      <td>0.121091</td>\n",
       "      <td>1.000000</td>\n",
       "    </tr>\n",
       "  </tbody>\n",
       "</table>\n",
       "</div>"
      ],
      "text/plain": [
       "          SP_R       R_R       G_R         y\n",
       "SP_R  1.000000  0.410150  0.174067  0.171019\n",
       "R_R   0.410150  1.000000  0.186798  0.172166\n",
       "G_R   0.174067  0.186798  1.000000  0.121091\n",
       "y     0.171019  0.172166  0.121091  1.000000"
      ]
     },
     "execution_count": 23,
     "metadata": {},
     "output_type": "execute_result"
    }
   ],
   "source": [
    "df2[['SP_R', 'R_R','G_R','y']].corr()"
   ]
  },
  {
   "cell_type": "code",
   "execution_count": 14,
   "metadata": {},
   "outputs": [],
   "source": [
    "omg_df = pd.DataFrame({'Datum': list(set(df2.Datum.values.tolist()))})"
   ]
  },
  {
   "cell_type": "code",
   "execution_count": 15,
   "metadata": {},
   "outputs": [],
   "source": [
    "# Next, Let's split the data into a training, validation, and testing.\n",
    "rand_split = pd.DataFrame({'rval':np.random.rand(len(omg_df)).tolist()})"
   ]
  },
  {
   "cell_type": "code",
   "execution_count": 16,
   "metadata": {},
   "outputs": [
    {
     "data": {
      "text/html": [
       "<div>\n",
       "<style scoped>\n",
       "    .dataframe tbody tr th:only-of-type {\n",
       "        vertical-align: middle;\n",
       "    }\n",
       "\n",
       "    .dataframe tbody tr th {\n",
       "        vertical-align: top;\n",
       "    }\n",
       "\n",
       "    .dataframe thead th {\n",
       "        text-align: right;\n",
       "    }\n",
       "</style>\n",
       "<table border=\"1\" class=\"dataframe\">\n",
       "  <thead>\n",
       "    <tr style=\"text-align: right;\">\n",
       "      <th></th>\n",
       "      <th>Datum</th>\n",
       "      <th>rval</th>\n",
       "    </tr>\n",
       "  </thead>\n",
       "  <tbody>\n",
       "    <tr>\n",
       "      <th>0</th>\n",
       "      <td>1502496000000000000</td>\n",
       "      <td>0.154857</td>\n",
       "    </tr>\n",
       "    <tr>\n",
       "      <th>1</th>\n",
       "      <td>1502582400000000000</td>\n",
       "      <td>0.312451</td>\n",
       "    </tr>\n",
       "    <tr>\n",
       "      <th>2</th>\n",
       "      <td>1503100800000000000</td>\n",
       "      <td>0.176733</td>\n",
       "    </tr>\n",
       "    <tr>\n",
       "      <th>3</th>\n",
       "      <td>1502841600000000000</td>\n",
       "      <td>0.323118</td>\n",
       "    </tr>\n",
       "    <tr>\n",
       "      <th>4</th>\n",
       "      <td>1503446400000000000</td>\n",
       "      <td>0.659577</td>\n",
       "    </tr>\n",
       "  </tbody>\n",
       "</table>\n",
       "</div>"
      ],
      "text/plain": [
       "                 Datum      rval\n",
       "0  1502496000000000000  0.154857\n",
       "1  1502582400000000000  0.312451\n",
       "2  1503100800000000000  0.176733\n",
       "3  1502841600000000000  0.323118\n",
       "4  1503446400000000000  0.659577"
      ]
     },
     "execution_count": 16,
     "metadata": {},
     "output_type": "execute_result"
    }
   ],
   "source": [
    "omg_df = pd.concat([omg_df,rand_split], axis = 1)\n",
    "omg_df.head()"
   ]
  },
  {
   "cell_type": "code",
   "execution_count": 17,
   "metadata": {},
   "outputs": [],
   "source": [
    "train_filter = (omg_df.rval <= 0.7)\n",
    "valid_filter = (omg_df.rval > 0.7) & (omg_df.rval <= 0.9)\n",
    "test_filter = (omg_df.rval > 0.9) "
   ]
  },
  {
   "cell_type": "code",
   "execution_count": 18,
   "metadata": {},
   "outputs": [],
   "source": [
    "# This dataset will be used to train the model.\n",
    "train = df2[df2.Datum.isin(omg_df[train_filter]['Datum'].values.tolist())].set_index(['Datum','Lopp'])\n",
    "\n",
    "# This dataset will be used to validate the model.\n",
    "validate = df2[df2.Datum.isin(omg_df[valid_filter]['Datum'].values.tolist())].set_index(['Datum','Lopp'])\n",
    "\n",
    "# This dataset will be used to test the model.\n",
    "\n",
    "test = df2[df2.Datum.isin(omg_df[test_filter]['Datum'].values.tolist())].set_index(['Datum','Lopp'])\n",
    "\n"
   ]
  },
  {
   "cell_type": "code",
   "execution_count": 19,
   "metadata": {},
   "outputs": [],
   "source": [
    "# Förklarande variabler\n",
    "cols = list(set(['VSVLP','VLPB',\n",
    " 'E_N',\n",
    " 'VPK_SUM_ORD',\n",
    " 'GRUPP',\n",
    " 'Ex_R',\n",
    " 'ToR',\n",
    " 'SVLP',\n",
    " 'E_P',\n",
    " 'VPK_SUM',\n",
    " 'Startsatt',\n",
    " 'E_U',\n",
    " 'Arstid',\n",
    " 'SVLPB',\n",
    " 'TK_R',\n",
    " 'E_R',\n",
    " 'R_R',\n",
    " 'P_R',\n",
    " 'VSVLPB',\n",
    " 'VLP',\n",
    " 'VPN_SUM',\n",
    " 'SP_R',\n",
    " 'T_R',\n",
    " 'G_R',\n",
    " 'VPN_SUM_ORD',\n",
    " 'Distans',\n",
    " 'E_P_Num',\n",
    " 'Ts_R',\n",
    " 'A_R']))"
   ]
  },
  {
   "cell_type": "code",
   "execution_count": 20,
   "metadata": {},
   "outputs": [
    {
     "data": {
      "text/plain": [
       "29"
      ]
     },
     "execution_count": 20,
     "metadata": {},
     "output_type": "execute_result"
    }
   ],
   "source": [
    "len(cols)"
   ]
  },
  {
   "cell_type": "code",
   "execution_count": 260,
   "metadata": {},
   "outputs": [],
   "source": [
    "y = train['y']"
   ]
  },
  {
   "cell_type": "code",
   "execution_count": 261,
   "metadata": {},
   "outputs": [],
   "source": [
    "X = train[cols]"
   ]
  },
  {
   "cell_type": "code",
   "execution_count": 262,
   "metadata": {},
   "outputs": [
    {
     "data": {
      "text/plain": [
       "29"
      ]
     },
     "execution_count": 262,
     "metadata": {},
     "output_type": "execute_result"
    }
   ],
   "source": [
    "len(X.columns)"
   ]
  },
  {
   "cell_type": "code",
   "execution_count": 263,
   "metadata": {},
   "outputs": [
    {
     "name": "stdout",
     "output_type": "stream",
     "text": [
      "<class 'pandas.core.frame.DataFrame'>\n",
      "MultiIndex: 7093 entries, (2017-08-12 00:00:00, 1) to (2019-12-28 00:00:00, 7)\n",
      "Data columns (total 29 columns):\n",
      "VSVLP          7093 non-null float64\n",
      "VLPB           7093 non-null float64\n",
      "E_N            7093 non-null float64\n",
      "VPK_SUM_ORD    7093 non-null float64\n",
      "GRUPP          7093 non-null int64\n",
      "Ex_R           7093 non-null float64\n",
      "ToR            7093 non-null float64\n",
      "SVLP           7093 non-null float64\n",
      "E_P            7093 non-null float64\n",
      "VPK_SUM        7093 non-null float64\n",
      "Startsatt      7093 non-null int64\n",
      "E_U            7093 non-null float64\n",
      "Arstid         7093 non-null int64\n",
      "SVLPB          7093 non-null float64\n",
      "TK_R           7093 non-null float64\n",
      "E_R            7093 non-null float64\n",
      "R_R            7093 non-null float64\n",
      "P_R            7093 non-null float64\n",
      "VSVLPB         7093 non-null float64\n",
      "VLP            7093 non-null float64\n",
      "VPN_SUM        7093 non-null float64\n",
      "SP_R           7093 non-null float64\n",
      "T_R            7093 non-null float64\n",
      "G_R            7093 non-null float64\n",
      "VPN_SUM_ORD    7093 non-null int64\n",
      "Distans        7093 non-null int64\n",
      "E_P_Num        7093 non-null int64\n",
      "Ts_R           7093 non-null int64\n",
      "A_R            7093 non-null float64\n",
      "dtypes: float64(22), int64(7)\n",
      "memory usage: 1.6 MB\n"
     ]
    }
   ],
   "source": [
    "X.info()"
   ]
  },
  {
   "cell_type": "markdown",
   "metadata": {},
   "source": [
    "### Nedan bygger vi en modell med Scikit learn"
   ]
  },
  {
   "cell_type": "code",
   "execution_count": 264,
   "metadata": {},
   "outputs": [],
   "source": [
    "from sklearn.preprocessing import OneHotEncoder\n",
    "from sklearn.linear_model import LogisticRegression\n",
    "from sklearn.compose import make_column_transformer\n",
    "from sklearn.pipeline import make_pipeline\n",
    "from sklearn.preprocessing import StandardScaler\n",
    "from sklearn.model_selection import cross_val_score"
   ]
  },
  {
   "cell_type": "code",
   "execution_count": 265,
   "metadata": {},
   "outputs": [],
   "source": [
    "# Skapar två listor. En med variabler som ska hantera one hot encoder, en för standardsiering"
   ]
  },
  {
   "cell_type": "code",
   "execution_count": 266,
   "metadata": {},
   "outputs": [],
   "source": [
    "ohe_cols = ['Arstid','Distans','Startsatt','GRUPP']"
   ]
  },
  {
   "cell_type": "code",
   "execution_count": 267,
   "metadata": {},
   "outputs": [],
   "source": [
    "std_cols = list(set(['VLP', 'SVLP', 'VSVLP', 'VPN_SUM', 'VPN_SUM', 'VPN_SUM_ORD', 'VPK_SUM', 'VPK_SUM_ORD', 'VLPB',\n",
    "       'SVLPB', 'VSVLPB', 'E_P', 'E_P_Num', 'E_N', 'E_R', 'E_U', 'G_R', 'A_R',\n",
    "       'T_R', 'SP_R', 'ToR', 'P_R', 'TK_R', 'Ex_R', 'R_R', 'Ts_R']))"
   ]
  },
  {
   "cell_type": "code",
   "execution_count": 268,
   "metadata": {},
   "outputs": [],
   "source": [
    "ohe = OneHotEncoder(categories='auto')"
   ]
  },
  {
   "cell_type": "code",
   "execution_count": 269,
   "metadata": {},
   "outputs": [],
   "source": [
    "std = StandardScaler()"
   ]
  },
  {
   "cell_type": "code",
   "execution_count": 270,
   "metadata": {},
   "outputs": [],
   "source": [
    "ct = make_column_transformer(\n",
    "    (ohe, ohe_cols),\n",
    "    (std, std_cols)\n",
    "    )\n",
    "logreg = LogisticRegression(solver='liblinear', random_state=1)"
   ]
  },
  {
   "cell_type": "code",
   "execution_count": 271,
   "metadata": {},
   "outputs": [],
   "source": [
    "pipe = make_pipeline(ct,logreg)"
   ]
  },
  {
   "cell_type": "code",
   "execution_count": 272,
   "metadata": {},
   "outputs": [
    {
     "data": {
      "text/plain": [
       "0.8076771643878816"
      ]
     },
     "execution_count": 272,
     "metadata": {},
     "output_type": "execute_result"
    }
   ],
   "source": [
    "cross_val_score(pipe,X,y, cv = 5, scoring = 'roc_auc').mean()"
   ]
  },
  {
   "cell_type": "code",
   "execution_count": 273,
   "metadata": {},
   "outputs": [
    {
     "data": {
      "text/plain": [
       "0.9135767753965676"
      ]
     },
     "execution_count": 273,
     "metadata": {},
     "output_type": "execute_result"
    }
   ],
   "source": [
    "cross_val_score(pipe,X,y, cv = 5, scoring = 'accuracy').mean()"
   ]
  },
  {
   "cell_type": "markdown",
   "metadata": {},
   "source": [
    "### Testar på undanlagt valideringsdata"
   ]
  },
  {
   "cell_type": "code",
   "execution_count": 274,
   "metadata": {},
   "outputs": [],
   "source": [
    "label = validate['y']"
   ]
  },
  {
   "cell_type": "code",
   "execution_count": 275,
   "metadata": {},
   "outputs": [],
   "source": [
    "X_valid = validate[cols]"
   ]
  },
  {
   "cell_type": "code",
   "execution_count": 276,
   "metadata": {},
   "outputs": [
    {
     "data": {
      "text/plain": [
       "sklearn.pipeline.Pipeline"
      ]
     },
     "execution_count": 276,
     "metadata": {},
     "output_type": "execute_result"
    }
   ],
   "source": [
    "type(pipe)"
   ]
  },
  {
   "cell_type": "code",
   "execution_count": 277,
   "metadata": {},
   "outputs": [],
   "source": [
    "pipe_model = pipe.fit(X, y);"
   ]
  },
  {
   "cell_type": "code",
   "execution_count": 278,
   "metadata": {},
   "outputs": [
    {
     "data": {
      "text/plain": [
       "sklearn.pipeline.Pipeline"
      ]
     },
     "execution_count": 278,
     "metadata": {},
     "output_type": "execute_result"
    }
   ],
   "source": [
    "type(pipe_model)"
   ]
  },
  {
   "cell_type": "code",
   "execution_count": 279,
   "metadata": {},
   "outputs": [
    {
     "data": {
      "text/plain": [
       "(7093, 29)"
      ]
     },
     "execution_count": 279,
     "metadata": {},
     "output_type": "execute_result"
    }
   ],
   "source": [
    "X.shape"
   ]
  },
  {
   "cell_type": "code",
   "execution_count": 280,
   "metadata": {},
   "outputs": [],
   "source": [
    "predict = pipe_model.predict_proba(X_valid)"
   ]
  },
  {
   "cell_type": "code",
   "execution_count": 281,
   "metadata": {},
   "outputs": [
    {
     "data": {
      "text/plain": [
       "array([[0.72179519, 0.27820481],\n",
       "       [0.82967672, 0.17032328],\n",
       "       [0.96012901, 0.03987099],\n",
       "       ...,\n",
       "       [0.95984486, 0.04015514],\n",
       "       [0.95655906, 0.04344094],\n",
       "       [0.63279925, 0.36720075]])"
      ]
     },
     "execution_count": 281,
     "metadata": {},
     "output_type": "execute_result"
    }
   ],
   "source": [
    "predict"
   ]
  },
  {
   "cell_type": "code",
   "execution_count": 282,
   "metadata": {},
   "outputs": [
    {
     "name": "stdout",
     "output_type": "stream",
     "text": [
      "0.7985344422288151\n"
     ]
    }
   ],
   "source": [
    "fpr, tpr, threshold = roc_curve(label,predict[:,1])\n",
    "roc_auc = auc(fpr,tpr)\n",
    "print(roc_auc)"
   ]
  },
  {
   "cell_type": "code",
   "execution_count": 283,
   "metadata": {},
   "outputs": [
    {
     "data": {
      "image/png": "[encoded data removed]",
      "text/plain": [
       "<Figure size 432x288 with 1 Axes>"
      ]
     },
     "metadata": {
      "needs_background": "light"
     },
     "output_type": "display_data"
    }
   ],
   "source": [
    "plt.title('Receiver Operating Characteristic') \n",
    "plt.plot( fpr, tpr, 'b', label =' AUC = %0.3f' % roc_auc) \n",
    "plt.legend( loc ='lower right') \n",
    "plt.plot([ 0, 1], [0, 1], 'r--') \n",
    "plt.xlim([ 0.0, 1.0]) \n",
    "plt.ylim([ 0.0, 1.0]) \n",
    "plt.ylabel('True positive rate') \n",
    "plt.xlabel('False positive rate') \n",
    "plt.show()"
   ]
  },
  {
   "cell_type": "markdown",
   "metadata": {},
   "source": [
    "__Plockar ut sannolikheten för vinst och skapar en ny dataframe som håller y, score och omgång och lopp ==> lägger tillbaks mot validate__"
   ]
  },
  {
   "cell_type": "code",
   "execution_count": 284,
   "metadata": {},
   "outputs": [],
   "source": [
    "df_predict = pd.DataFrame({'Score': predict[:,1]})"
   ]
  },
  {
   "cell_type": "code",
   "execution_count": 285,
   "metadata": {},
   "outputs": [
    {
     "data": {
      "text/plain": [
       "(3097, 1)"
      ]
     },
     "execution_count": 285,
     "metadata": {},
     "output_type": "execute_result"
    }
   ],
   "source": [
    "df_predict.shape"
   ]
  },
  {
   "cell_type": "code",
   "execution_count": 286,
   "metadata": {},
   "outputs": [
    {
     "data": {
      "text/plain": [
       "(3097, 30)"
      ]
     },
     "execution_count": 286,
     "metadata": {},
     "output_type": "execute_result"
    }
   ],
   "source": [
    "validate.shape"
   ]
  },
  {
   "cell_type": "code",
   "execution_count": 287,
   "metadata": {},
   "outputs": [
    {
     "data": {
      "text/plain": [
       "pandas.core.frame.DataFrame"
      ]
     },
     "execution_count": 287,
     "metadata": {},
     "output_type": "execute_result"
    }
   ],
   "source": [
    "type(validate)"
   ]
  },
  {
   "cell_type": "code",
   "execution_count": 288,
   "metadata": {},
   "outputs": [],
   "source": [
    "df_analys = pd.concat([validate.reset_index(), df_predict], axis = 1)"
   ]
  },
  {
   "cell_type": "code",
   "execution_count": 289,
   "metadata": {},
   "outputs": [
    {
     "data": {
      "text/plain": [
       "38"
      ]
     },
     "execution_count": 289,
     "metadata": {},
     "output_type": "execute_result"
    }
   ],
   "source": [
    "df_analys.Datum.drop_duplicates().count()"
   ]
  },
  {
   "cell_type": "code",
   "execution_count": 290,
   "metadata": {},
   "outputs": [
    {
     "data": {
      "text/plain": [
       "261"
      ]
     },
     "execution_count": 290,
     "metadata": {},
     "output_type": "execute_result"
    }
   ],
   "source": [
    "df_analys.y.sum()"
   ]
  },
  {
   "cell_type": "code",
   "execution_count": 291,
   "metadata": {},
   "outputs": [
    {
     "data": {
      "text/plain": [
       "8.427510494026476"
      ]
     },
     "execution_count": 291,
     "metadata": {},
     "output_type": "execute_result"
    }
   ],
   "source": [
    "# Andelen vinnare som vi söker\n",
    "\n",
    "df_analys.y.sum()/len(df_analys) * 100"
   ]
  },
  {
   "cell_type": "code",
   "execution_count": 292,
   "metadata": {},
   "outputs": [
    {
     "data": {
      "text/plain": [
       "y\n",
       "0    0.074751\n",
       "1    0.209981\n",
       "Name: Score, dtype: float64"
      ]
     },
     "execution_count": 292,
     "metadata": {},
     "output_type": "execute_result"
    }
   ],
   "source": [
    "df_analys.groupby('y').Score.mean()"
   ]
  },
  {
   "cell_type": "code",
   "execution_count": 293,
   "metadata": {},
   "outputs": [
    {
     "data": {
      "text/plain": [
       "count    3097.000000\n",
       "mean        0.086148\n",
       "std         0.106647\n",
       "min         0.009871\n",
       "25%         0.014233\n",
       "50%         0.036449\n",
       "75%         0.124677\n",
       "max         0.511805\n",
       "Name: Score, dtype: float64"
      ]
     },
     "execution_count": 293,
     "metadata": {},
     "output_type": "execute_result"
    }
   ],
   "source": [
    "df_analys.Score.describe()"
   ]
  },
  {
   "cell_type": "code",
   "execution_count": null,
   "metadata": {},
   "outputs": [],
   "source": [
    "# För varje omgång beräkna hur många hästar med Score >= 0.119471 som vinner. Vill se en jämn fördelning "
   ]
  },
  {
   "cell_type": "code",
   "execution_count": 295,
   "metadata": {},
   "outputs": [
    {
     "data": {
      "text/plain": [
       "Datum\n",
       "2017-08-16    5\n",
       "2017-08-19    2\n",
       "2017-09-02    4\n",
       "2017-09-03    5\n",
       "2017-09-30    6\n",
       "2017-12-09    5\n",
       "2018-01-13    7\n",
       "2018-01-27    7\n",
       "2018-01-28    5\n",
       "2018-03-03    3\n",
       "2018-03-29    5\n",
       "2018-04-14    4\n",
       "2018-04-21    6\n",
       "2018-05-19    6\n",
       "2018-08-22    2\n",
       "2018-09-01    5\n",
       "2018-09-02    6\n",
       "2018-09-29    5\n",
       "2018-10-28    7\n",
       "2018-12-08    5\n",
       "2018-12-22    5\n",
       "2018-12-23    4\n",
       "2019-02-02    4\n",
       "2019-03-16    5\n",
       "2019-03-30    4\n",
       "2019-03-31    5\n",
       "2019-04-19    4\n",
       "2019-04-21    5\n",
       "2019-08-11    4\n",
       "2019-08-21    4\n",
       "2019-08-24    4\n",
       "2019-09-01    5\n",
       "2019-09-07    5\n",
       "2019-09-08    4\n",
       "2019-09-29    5\n",
       "2019-10-12    2\n",
       "2019-11-02    0\n",
       "2019-11-09    5\n",
       "Name: y, dtype: int64"
      ]
     },
     "execution_count": 295,
     "metadata": {},
     "output_type": "execute_result"
    }
   ],
   "source": [
    "df_analys[df_analys.Score >=  0.124677].groupby('Datum').y.sum()"
   ]
  },
  {
   "cell_type": "code",
   "execution_count": 294,
   "metadata": {},
   "outputs": [
    {
     "data": {
      "text/plain": [
       "0.6666666666666666"
      ]
     },
     "execution_count": 294,
     "metadata": {},
     "output_type": "execute_result"
    }
   ],
   "source": [
    "df_analys[df_analys.Score >=   0.124677].y.sum()/df_analys.y.sum()"
   ]
  },
  {
   "cell_type": "markdown",
   "metadata": {},
   "source": [
    "__Sorterar fallande på score och plockar 10%, hur stor är andelen vinnare då?__"
   ]
  },
  {
   "cell_type": "code",
   "execution_count": 296,
   "metadata": {},
   "outputs": [],
   "source": [
    "df_analys_sorted = df_analys.sort_values('Score', ascending = False)"
   ]
  },
  {
   "cell_type": "code",
   "execution_count": 297,
   "metadata": {},
   "outputs": [
    {
     "data": {
      "text/plain": [
       "40.0"
      ]
     },
     "execution_count": 297,
     "metadata": {},
     "output_type": "execute_result"
    }
   ],
   "source": [
    "df_analys_sorted.iloc[:100,:].y.sum()/len(df_analys_sorted.iloc[:100,:]) * 100"
   ]
  },
  {
   "cell_type": "code",
   "execution_count": 298,
   "metadata": {},
   "outputs": [
    {
     "data": {
      "text/plain": [
       "4.746360153256705"
      ]
     },
     "execution_count": 298,
     "metadata": {},
     "output_type": "execute_result"
    }
   ],
   "source": [
    "# Gain - hur mycket bättre modellen är en slumpen i översta decilen\n",
    "\n",
    "(df_analys_sorted.iloc[:100,:].y.sum()/len(df_analys_sorted.iloc[:100,:]) * 100) / (df_analys.y.sum()/len(df_analys) * 100)"
   ]
  },
  {
   "cell_type": "markdown",
   "metadata": {},
   "source": [
    "__Nu vill vi för varje omgång idenfiera de lopp med högst sannolikhet att ha vinnarna i VNUM 1-3. Vi måste sammanfatta scoren för varje häst__"
   ]
  },
  {
   "cell_type": "code",
   "execution_count": 299,
   "metadata": {},
   "outputs": [
    {
     "data": {
      "text/plain": [
       "38"
      ]
     },
     "execution_count": 299,
     "metadata": {},
     "output_type": "execute_result"
    }
   ],
   "source": [
    "df_analys.Datum.drop_duplicates().count()"
   ]
  },
  {
   "cell_type": "code",
   "execution_count": 300,
   "metadata": {},
   "outputs": [],
   "source": [
    "datum_list = list(set(df_analys.Datum.tolist()))"
   ]
  },
  {
   "cell_type": "code",
   "execution_count": 301,
   "metadata": {},
   "outputs": [],
   "source": [
    "omg_list = []\n",
    "\n",
    "for date in datum_list:\n",
    "    df = df_analys[df_analys.Datum == date]\n",
    "    i = 0\n",
    "    for lopp in [1,2,3,4,5,6,7]:\n",
    "        ldf = df[df.Lopp == lopp]\n",
    "        ldf = ldf.sort_values('Score', ascending = False)\n",
    "        vin = ldf.iloc[:3].y.sum()\n",
    "        i = i + vin\n",
    "    omg_list.append(i)\n",
    "    "
   ]
  },
  {
   "cell_type": "code",
   "execution_count": 302,
   "metadata": {},
   "outputs": [
    {
     "data": {
      "text/plain": [
       "[5,\n",
       " 4,\n",
       " 4,\n",
       " 5,\n",
       " 5,\n",
       " 5,\n",
       " 5,\n",
       " 3,\n",
       " 7,\n",
       " 6,\n",
       " 6,\n",
       " 4,\n",
       " 5,\n",
       " 5,\n",
       " 5,\n",
       " 4,\n",
       " 6,\n",
       " 4,\n",
       " 2,\n",
       " 6,\n",
       " 0,\n",
       " 7,\n",
       " 6,\n",
       " 2,\n",
       " 4,\n",
       " 4,\n",
       " 5,\n",
       " 4,\n",
       " 5,\n",
       " 3,\n",
       " 5,\n",
       " 5,\n",
       " 5,\n",
       " 5,\n",
       " 4,\n",
       " 4,\n",
       " 5,\n",
       " 7]"
      ]
     },
     "execution_count": 302,
     "metadata": {},
     "output_type": "execute_result"
    }
   ],
   "source": [
    "omg_list"
   ]
  },
  {
   "cell_type": "code",
   "execution_count": 303,
   "metadata": {},
   "outputs": [
    {
     "name": "stdout",
     "output_type": "stream",
     "text": [
      "<class 'pandas.core.frame.DataFrame'>\n",
      "RangeIndex: 3097 entries, 0 to 3096\n",
      "Data columns (total 33 columns):\n",
      "Datum          3097 non-null datetime64[ns]\n",
      "Lopp           3097 non-null int64\n",
      "VSVLP          3097 non-null float64\n",
      "VLPB           3097 non-null float64\n",
      "E_N            3097 non-null float64\n",
      "VPK_SUM_ORD    3097 non-null float64\n",
      "GRUPP          3097 non-null int64\n",
      "Ex_R           3097 non-null float64\n",
      "ToR            3097 non-null float64\n",
      "SVLP           3097 non-null float64\n",
      "E_P            3097 non-null float64\n",
      "VPK_SUM        3097 non-null float64\n",
      "y              3097 non-null int64\n",
      "Startsatt      3097 non-null int64\n",
      "E_U            3097 non-null float64\n",
      "Arstid         3097 non-null int64\n",
      "SVLPB          3097 non-null float64\n",
      "TK_R           3097 non-null float64\n",
      "E_R            3097 non-null float64\n",
      "R_R            3097 non-null float64\n",
      "P_R            3097 non-null float64\n",
      "VSVLPB         3097 non-null float64\n",
      "VLP            3097 non-null float64\n",
      "VPN_SUM        3097 non-null float64\n",
      "SP_R           3097 non-null float64\n",
      "T_R            3097 non-null float64\n",
      "G_R            3097 non-null float64\n",
      "VPN_SUM_ORD    3097 non-null int64\n",
      "Distans        3097 non-null int64\n",
      "E_P_Num        3097 non-null int64\n",
      "Ts_R           3097 non-null int64\n",
      "A_R            3097 non-null float64\n",
      "Score          3097 non-null float64\n",
      "dtypes: datetime64[ns](1), float64(23), int64(9)\n",
      "memory usage: 798.5 KB\n"
     ]
    }
   ],
   "source": [
    "df_analys.info()"
   ]
  },
  {
   "cell_type": "markdown",
   "metadata": {},
   "source": [
    "### Scorar varje omgång fallande och skickar score och E_P_Num samt Y in till Leif"
   ]
  },
  {
   "cell_type": "code",
   "execution_count": 304,
   "metadata": {},
   "outputs": [],
   "source": [
    "grouped = df.groupby(['Datum'])"
   ]
  },
  {
   "cell_type": "code",
   "execution_count": 305,
   "metadata": {},
   "outputs": [],
   "source": [
    "omg_list = []\n",
    "\n",
    "for date in datum_list:\n",
    "    df = df_analys[df_analys.Datum == date]\n",
    "    df = df[['Datum','Score','y','E_P_Num']].sort_values('Score', ascending = False)\n",
    "    omg_list.append(df)\n",
    "    "
   ]
  },
  {
   "cell_type": "code",
   "execution_count": 306,
   "metadata": {},
   "outputs": [],
   "source": [
    "export_df = pd.concat(omg_list)"
   ]
  },
  {
   "cell_type": "code",
   "execution_count": 98,
   "metadata": {},
   "outputs": [],
   "source": [
    "export_df.to_excel('Validation_model.xlsx')"
   ]
  },
  {
   "cell_type": "code",
   "execution_count": 307,
   "metadata": {},
   "outputs": [],
   "source": [
    "# Vi väljer de 20 högst scorade hästarna och ser hur många vinnare i varje omgång vi får\n",
    "\n",
    "ylist = []\n",
    "for date in datum_list:\n",
    "    df = df_analys[df_analys.Datum == date]\n",
    "    df = df[['Datum','Score','y','E_P_Num']].sort_values('Score', ascending = False)\n",
    "    vin = round((df.iloc[:20].y.sum()/7) * 100).astype('int')\n",
    "    ylist.append(vin)\n"
   ]
  },
  {
   "cell_type": "code",
   "execution_count": 308,
   "metadata": {},
   "outputs": [
    {
     "data": {
      "text/plain": [
       "[57,\n",
       " 57,\n",
       " 57,\n",
       " 71,\n",
       " 71,\n",
       " 71,\n",
       " 71,\n",
       " 43,\n",
       " 100,\n",
       " 86,\n",
       " 71,\n",
       " 57,\n",
       " 71,\n",
       " 71,\n",
       " 71,\n",
       " 57,\n",
       " 86,\n",
       " 57,\n",
       " 29,\n",
       " 86,\n",
       " 0,\n",
       " 100,\n",
       " 86,\n",
       " 29,\n",
       " 57,\n",
       " 57,\n",
       " 57,\n",
       " 57,\n",
       " 57,\n",
       " 29,\n",
       " 71,\n",
       " 57,\n",
       " 57,\n",
       " 71,\n",
       " 57,\n",
       " 57,\n",
       " 71,\n",
       " 100]"
      ]
     },
     "execution_count": 308,
     "metadata": {},
     "output_type": "execute_result"
    }
   ],
   "source": [
    "ylist"
   ]
  },
  {
   "cell_type": "markdown",
   "metadata": {},
   "source": [
    "### Retry 1"
   ]
  },
  {
   "cell_type": "code",
   "execution_count": 337,
   "metadata": {},
   "outputs": [],
   "source": [
    "df_ret1 = pd.read_excel('RetryUffeR2020-04-12.xlsx')"
   ]
  },
  {
   "cell_type": "code",
   "execution_count": 338,
   "metadata": {},
   "outputs": [
    {
     "name": "stdout",
     "output_type": "stream",
     "text": [
      "<class 'pandas.core.frame.DataFrame'>\n",
      "RangeIndex: 87 entries, 0 to 86\n",
      "Data columns (total 36 columns):\n",
      "Datum          87 non-null datetime64[ns]\n",
      "Arstid         87 non-null int64\n",
      "Distans        87 non-null int64\n",
      "Startsatt      87 non-null int64\n",
      "Lopp           87 non-null int64\n",
      "Plac           87 non-null int64\n",
      "Hast           87 non-null int64\n",
      "V75PROC        87 non-null float64\n",
      "V_ODDS         87 non-null float64\n",
      "GRUPP          87 non-null int64\n",
      "VLP            87 non-null float64\n",
      "VNUM           87 non-null int64\n",
      "SVLP           87 non-null float64\n",
      "VSVLP          87 non-null float64\n",
      "VPN_SUM        87 non-null float64\n",
      "VPN_SUM_ORD    87 non-null int64\n",
      "VPK_SUM        87 non-null float64\n",
      "VPK_SUM_ORD    87 non-null int64\n",
      "VLPB           87 non-null float64\n",
      "SVLPB          87 non-null float64\n",
      "VSVLPB         87 non-null float64\n",
      "E_P            87 non-null float64\n",
      "E_P_Num        87 non-null int64\n",
      "E_N            87 non-null float64\n",
      "E_R            87 non-null float64\n",
      "E_U            87 non-null float64\n",
      "G_R            87 non-null int64\n",
      "A_R            87 non-null int64\n",
      "T_R            87 non-null int64\n",
      "SP_R           87 non-null int64\n",
      "ToR            87 non-null int64\n",
      "P_R            87 non-null int64\n",
      "TK_R           87 non-null int64\n",
      "Ex_R           87 non-null int64\n",
      "R_R            87 non-null int64\n",
      "Ts_R           87 non-null int64\n",
      "dtypes: datetime64[ns](1), float64(14), int64(21)\n",
      "memory usage: 24.5 KB\n"
     ]
    }
   ],
   "source": [
    "df_ret1.info()"
   ]
  },
  {
   "cell_type": "code",
   "execution_count": 339,
   "metadata": {},
   "outputs": [],
   "source": [
    "# Kör pipeline på nytt data \n",
    "\n",
    "predict = pipe_model.predict_proba(df_ret1[cols])"
   ]
  },
  {
   "cell_type": "code",
   "execution_count": 340,
   "metadata": {},
   "outputs": [],
   "source": [
    "# Lägger tillbaks Score för vinst på indata och skickar tillbkas till Leif"
   ]
  },
  {
   "cell_type": "code",
   "execution_count": 341,
   "metadata": {},
   "outputs": [],
   "source": [
    "predict_retry1 = pd.DataFrame({'Score': predict[:,1]})"
   ]
  },
  {
   "cell_type": "code",
   "execution_count": 342,
   "metadata": {},
   "outputs": [],
   "source": [
    "df_out_rettry1 = pd.concat([df_ret1[['Datum','Hast','Lopp','VNUM','E_P_Num']], predict_retry1], axis = 1)"
   ]
  },
  {
   "cell_type": "code",
   "execution_count": 343,
   "metadata": {},
   "outputs": [],
   "source": [
    "df_out_rettry1_1 = df_out_rettry1.sort_values('Score', ascending = False).iloc[:21,:]"
   ]
  },
  {
   "cell_type": "code",
   "execution_count": 344,
   "metadata": {},
   "outputs": [
    {
     "data": {
      "text/html": [
       "<div>\n",
       "<style scoped>\n",
       "    .dataframe tbody tr th:only-of-type {\n",
       "        vertical-align: middle;\n",
       "    }\n",
       "\n",
       "    .dataframe tbody tr th {\n",
       "        vertical-align: top;\n",
       "    }\n",
       "\n",
       "    .dataframe thead th {\n",
       "        text-align: right;\n",
       "    }\n",
       "</style>\n",
       "<table border=\"1\" class=\"dataframe\">\n",
       "  <thead>\n",
       "    <tr style=\"text-align: right;\">\n",
       "      <th></th>\n",
       "      <th>Datum</th>\n",
       "      <th>Hast</th>\n",
       "      <th>Lopp</th>\n",
       "      <th>VNUM</th>\n",
       "      <th>E_P_Num</th>\n",
       "      <th>Score</th>\n",
       "    </tr>\n",
       "  </thead>\n",
       "  <tbody>\n",
       "    <tr>\n",
       "      <th>23</th>\n",
       "      <td>2020-04-12</td>\n",
       "      <td>14</td>\n",
       "      <td>3</td>\n",
       "      <td>1</td>\n",
       "      <td>6</td>\n",
       "      <td>0.452415</td>\n",
       "    </tr>\n",
       "    <tr>\n",
       "      <th>63</th>\n",
       "      <td>2020-04-12</td>\n",
       "      <td>5</td>\n",
       "      <td>6</td>\n",
       "      <td>1</td>\n",
       "      <td>1</td>\n",
       "      <td>0.412258</td>\n",
       "    </tr>\n",
       "    <tr>\n",
       "      <th>11</th>\n",
       "      <td>2020-04-12</td>\n",
       "      <td>5</td>\n",
       "      <td>2</td>\n",
       "      <td>1</td>\n",
       "      <td>7</td>\n",
       "      <td>0.401840</td>\n",
       "    </tr>\n",
       "    <tr>\n",
       "      <th>0</th>\n",
       "      <td>2020-04-12</td>\n",
       "      <td>10</td>\n",
       "      <td>1</td>\n",
       "      <td>1</td>\n",
       "      <td>4</td>\n",
       "      <td>0.400084</td>\n",
       "    </tr>\n",
       "    <tr>\n",
       "      <th>37</th>\n",
       "      <td>2020-04-12</td>\n",
       "      <td>10</td>\n",
       "      <td>4</td>\n",
       "      <td>1</td>\n",
       "      <td>2</td>\n",
       "      <td>0.376160</td>\n",
       "    </tr>\n",
       "    <tr>\n",
       "      <th>52</th>\n",
       "      <td>2020-04-12</td>\n",
       "      <td>4</td>\n",
       "      <td>5</td>\n",
       "      <td>1</td>\n",
       "      <td>3</td>\n",
       "      <td>0.371412</td>\n",
       "    </tr>\n",
       "    <tr>\n",
       "      <th>75</th>\n",
       "      <td>2020-04-12</td>\n",
       "      <td>4</td>\n",
       "      <td>7</td>\n",
       "      <td>1</td>\n",
       "      <td>5</td>\n",
       "      <td>0.350549</td>\n",
       "    </tr>\n",
       "    <tr>\n",
       "      <th>53</th>\n",
       "      <td>2020-04-12</td>\n",
       "      <td>3</td>\n",
       "      <td>5</td>\n",
       "      <td>2</td>\n",
       "      <td>3</td>\n",
       "      <td>0.211834</td>\n",
       "    </tr>\n",
       "    <tr>\n",
       "      <th>39</th>\n",
       "      <td>2020-04-12</td>\n",
       "      <td>12</td>\n",
       "      <td>4</td>\n",
       "      <td>3</td>\n",
       "      <td>2</td>\n",
       "      <td>0.207485</td>\n",
       "    </tr>\n",
       "    <tr>\n",
       "      <th>12</th>\n",
       "      <td>2020-04-12</td>\n",
       "      <td>10</td>\n",
       "      <td>2</td>\n",
       "      <td>2</td>\n",
       "      <td>7</td>\n",
       "      <td>0.196414</td>\n",
       "    </tr>\n",
       "    <tr>\n",
       "      <th>24</th>\n",
       "      <td>2020-04-12</td>\n",
       "      <td>12</td>\n",
       "      <td>3</td>\n",
       "      <td>2</td>\n",
       "      <td>6</td>\n",
       "      <td>0.195527</td>\n",
       "    </tr>\n",
       "    <tr>\n",
       "      <th>65</th>\n",
       "      <td>2020-04-12</td>\n",
       "      <td>12</td>\n",
       "      <td>6</td>\n",
       "      <td>3</td>\n",
       "      <td>1</td>\n",
       "      <td>0.195441</td>\n",
       "    </tr>\n",
       "    <tr>\n",
       "      <th>54</th>\n",
       "      <td>2020-04-12</td>\n",
       "      <td>9</td>\n",
       "      <td>5</td>\n",
       "      <td>3</td>\n",
       "      <td>3</td>\n",
       "      <td>0.186002</td>\n",
       "    </tr>\n",
       "    <tr>\n",
       "      <th>25</th>\n",
       "      <td>2020-04-12</td>\n",
       "      <td>15</td>\n",
       "      <td>3</td>\n",
       "      <td>3</td>\n",
       "      <td>6</td>\n",
       "      <td>0.174773</td>\n",
       "    </tr>\n",
       "    <tr>\n",
       "      <th>2</th>\n",
       "      <td>2020-04-12</td>\n",
       "      <td>7</td>\n",
       "      <td>1</td>\n",
       "      <td>3</td>\n",
       "      <td>4</td>\n",
       "      <td>0.165011</td>\n",
       "    </tr>\n",
       "    <tr>\n",
       "      <th>64</th>\n",
       "      <td>2020-04-12</td>\n",
       "      <td>9</td>\n",
       "      <td>6</td>\n",
       "      <td>2</td>\n",
       "      <td>1</td>\n",
       "      <td>0.164759</td>\n",
       "    </tr>\n",
       "    <tr>\n",
       "      <th>13</th>\n",
       "      <td>2020-04-12</td>\n",
       "      <td>3</td>\n",
       "      <td>2</td>\n",
       "      <td>3</td>\n",
       "      <td>7</td>\n",
       "      <td>0.151742</td>\n",
       "    </tr>\n",
       "    <tr>\n",
       "      <th>78</th>\n",
       "      <td>2020-04-12</td>\n",
       "      <td>1</td>\n",
       "      <td>7</td>\n",
       "      <td>3</td>\n",
       "      <td>5</td>\n",
       "      <td>0.148523</td>\n",
       "    </tr>\n",
       "    <tr>\n",
       "      <th>1</th>\n",
       "      <td>2020-04-12</td>\n",
       "      <td>1</td>\n",
       "      <td>1</td>\n",
       "      <td>2</td>\n",
       "      <td>4</td>\n",
       "      <td>0.130568</td>\n",
       "    </tr>\n",
       "    <tr>\n",
       "      <th>38</th>\n",
       "      <td>2020-04-12</td>\n",
       "      <td>3</td>\n",
       "      <td>4</td>\n",
       "      <td>2</td>\n",
       "      <td>2</td>\n",
       "      <td>0.118794</td>\n",
       "    </tr>\n",
       "    <tr>\n",
       "      <th>76</th>\n",
       "      <td>2020-04-12</td>\n",
       "      <td>2</td>\n",
       "      <td>7</td>\n",
       "      <td>2</td>\n",
       "      <td>5</td>\n",
       "      <td>0.116990</td>\n",
       "    </tr>\n",
       "  </tbody>\n",
       "</table>\n",
       "</div>"
      ],
      "text/plain": [
       "        Datum  Hast  Lopp  VNUM  E_P_Num     Score\n",
       "23 2020-04-12    14     3     1        6  0.452415\n",
       "63 2020-04-12     5     6     1        1  0.412258\n",
       "11 2020-04-12     5     2     1        7  0.401840\n",
       "0  2020-04-12    10     1     1        4  0.400084\n",
       "37 2020-04-12    10     4     1        2  0.376160\n",
       "52 2020-04-12     4     5     1        3  0.371412\n",
       "75 2020-04-12     4     7     1        5  0.350549\n",
       "53 2020-04-12     3     5     2        3  0.211834\n",
       "39 2020-04-12    12     4     3        2  0.207485\n",
       "12 2020-04-12    10     2     2        7  0.196414\n",
       "24 2020-04-12    12     3     2        6  0.195527\n",
       "65 2020-04-12    12     6     3        1  0.195441\n",
       "54 2020-04-12     9     5     3        3  0.186002\n",
       "25 2020-04-12    15     3     3        6  0.174773\n",
       "2  2020-04-12     7     1     3        4  0.165011\n",
       "64 2020-04-12     9     6     2        1  0.164759\n",
       "13 2020-04-12     3     2     3        7  0.151742\n",
       "78 2020-04-12     1     7     3        5  0.148523\n",
       "1  2020-04-12     1     1     2        4  0.130568\n",
       "38 2020-04-12     3     4     2        2  0.118794\n",
       "76 2020-04-12     2     7     2        5  0.116990"
      ]
     },
     "execution_count": 344,
     "metadata": {},
     "output_type": "execute_result"
    }
   ],
   "source": [
    "df_out_rettry1_1"
   ]
  },
  {
   "cell_type": "code",
   "execution_count": 346,
   "metadata": {},
   "outputs": [
    {
     "data": {
      "text/plain": [
       "3    7\n",
       "2    7\n",
       "1    7\n",
       "Name: VNUM, dtype: int64"
      ]
     },
     "execution_count": 346,
     "metadata": {},
     "output_type": "execute_result"
    }
   ],
   "source": [
    "df_out_rettry1_1.VNUM.value_counts()"
   ]
  },
  {
   "cell_type": "code",
   "execution_count": 347,
   "metadata": {},
   "outputs": [
    {
     "data": {
      "text/plain": [
       "['VSVLP',\n",
       " 'VLPB',\n",
       " 'E_N',\n",
       " 'VPK_SUM_ORD',\n",
       " 'GRUPP',\n",
       " 'Ex_R',\n",
       " 'ToR',\n",
       " 'SVLP',\n",
       " 'E_P',\n",
       " 'VPK_SUM',\n",
       " 'Startsatt',\n",
       " 'E_U',\n",
       " 'Arstid',\n",
       " 'SVLPB',\n",
       " 'TK_R',\n",
       " 'E_R',\n",
       " 'R_R',\n",
       " 'P_R',\n",
       " 'VSVLPB',\n",
       " 'VLP',\n",
       " 'VPN_SUM',\n",
       " 'SP_R',\n",
       " 'T_R',\n",
       " 'G_R',\n",
       " 'VPN_SUM_ORD',\n",
       " 'Distans',\n",
       " 'E_P_Num',\n",
       " 'Ts_R',\n",
       " 'A_R']"
      ]
     },
     "execution_count": 347,
     "metadata": {},
     "output_type": "execute_result"
    }
   ],
   "source": [
    "cols"
   ]
  },
  {
   "cell_type": "code",
   "execution_count": null,
   "metadata": {},
   "outputs": [],
   "source": []
  }
 ],
 "metadata": {
  "kernelspec": {
   "display_name": "Python 3",
   "language": "python",
   "name": "python3"
  },
  "language_info": {
   "codemirror_mode": {
    "name": "ipython",
    "version": 3
   },
   "file_extension": ".py",
   "mimetype": "text/x-python",
   "name": "python",
   "nbconvert_exporter": "python",
   "pygments_lexer": "ipython3",
   "version": "3.7.7"
  }
 },
 "nbformat": 4,
 "nbformat_minor": 2
}
