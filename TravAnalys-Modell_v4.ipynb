{
 "cells": [
  {
   "cell_type": "markdown",
   "metadata": {},
   "source": [
    "__Ny modell. Nu delar vi upp datat på omgångarna, inte slumpmässigt. Totalt 222 omgångar. Bygger modell på 175 omgångar, validerar på de övriga. Imputerar för missing innan vi kör modellen, tar bort detta steg från data pipelinen. Vi läser även in VNUM som är rankingen efter spelade hästar för att jämföra med den framtagna modellen__\n",
    "\n",
    "__I denna modell plockar vi bort GRUPP eftersom denna verkar driva hela modellen__"
   ]
  },
  {
   "cell_type": "code",
   "execution_count": 162,
   "metadata": {},
   "outputs": [],
   "source": [
    "# Common imports\n",
    "import numpy as np\n",
    "import os\n",
    "import pandas as pd\n",
    "\n",
    "# to make this notebook's output stable across runs\n",
    "np.random.seed(42)\n",
    "\n",
    "# To plot pretty figures\n",
    "%matplotlib inline\n",
    "import matplotlib\n",
    "import matplotlib.pyplot as plt\n",
    "plt.rcParams['axes.labelsize'] = 14\n",
    "plt.rcParams['xtick.labelsize'] = 12\n",
    "plt.rcParams['ytick.labelsize'] = 12"
   ]
  },
  {
   "cell_type": "code",
   "execution_count": 163,
   "metadata": {},
   "outputs": [],
   "source": [
    "from sklearn.model_selection import GridSearchCV "
   ]
  },
  {
   "cell_type": "code",
   "execution_count": 164,
   "metadata": {},
   "outputs": [],
   "source": [
    "# Necessary Sklearn objects used in the analysis\n",
    "from sklearn.metrics import roc_curve, auc\n",
    "from sklearn.ensemble import RandomForestClassifier \n",
    "from sklearn.metrics import confusion_matrix\n",
    "from sklearn import metrics\n",
    "from sklearn import preprocessing\n",
    "\n",
    "from sklearn.pipeline import Pipeline\n",
    "from sklearn.preprocessing import StandardScaler\n",
    "from sklearn.preprocessing import Imputer\n",
    "from sklearn.base import BaseEstimator, TransformerMixin\n",
    "from sklearn.pipeline import FeatureUnion"
   ]
  },
  {
   "cell_type": "code",
   "execution_count": 165,
   "metadata": {},
   "outputs": [],
   "source": [
    "# Where to save the figures\n",
    "PROJECT_ROOT_DIR = os.getcwd()\n",
    "IMAGES_PATH = os.path.join(PROJECT_ROOT_DIR)"
   ]
  },
  {
   "cell_type": "code",
   "execution_count": 166,
   "metadata": {},
   "outputs": [],
   "source": [
    "def save_fig(fig_id, tight_layout=True, fig_extension=\"png\", resolution=300):\n",
    "    path = os.path.join(IMAGES_PATH, fig_id + \".\" + fig_extension)\n",
    "    print(\"Saving figure\", fig_id)\n",
    "    if tight_layout:\n",
    "        plt.tight_layout()\n",
    "    plt.savefig(path, format=fig_extension, dpi=resolution)"
   ]
  },
  {
   "cell_type": "code",
   "execution_count": 167,
   "metadata": {},
   "outputs": [],
   "source": [
    "df1 = pd.read_excel('DataV75TillUffe_2019-02-01_2.xlsx')"
   ]
  },
  {
   "cell_type": "code",
   "execution_count": 168,
   "metadata": {},
   "outputs": [],
   "source": [
    "# Skapar en unik nyckel på lopp: Gör om Datum och lopp till en sträng\n",
    "\n",
    "df1['cdate'] = df1.Datum.astype('object')\n",
    "df1['cLopp'] = df1.Lopp.astype('object')"
   ]
  },
  {
   "cell_type": "code",
   "execution_count": 169,
   "metadata": {},
   "outputs": [],
   "source": [
    "df1['Key'] = df1['cdate'].astype(str) + df1['cLopp'].astype(str)"
   ]
  },
  {
   "cell_type": "code",
   "execution_count": 170,
   "metadata": {},
   "outputs": [
    {
     "data": {
      "text/plain": [
       "17994"
      ]
     },
     "execution_count": 170,
     "metadata": {},
     "output_type": "execute_result"
    }
   ],
   "source": [
    "len(df1)"
   ]
  },
  {
   "cell_type": "code",
   "execution_count": 171,
   "metadata": {},
   "outputs": [
    {
     "data": {
      "text/plain": [
       "1554"
      ]
     },
     "execution_count": 171,
     "metadata": {},
     "output_type": "execute_result"
    }
   ],
   "source": [
    "df1.Key.drop_duplicates().count()"
   ]
  },
  {
   "cell_type": "markdown",
   "metadata": {},
   "source": [
    "__Skapar en målvariabel - vinnare__"
   ]
  },
  {
   "cell_type": "code",
   "execution_count": 172,
   "metadata": {},
   "outputs": [],
   "source": [
    "df1['Y'] = np.where(df1['Plac'].isin([1]), 1,0)"
   ]
  },
  {
   "cell_type": "markdown",
   "metadata": {},
   "source": [
    "__Plockar bort de variabler som inte ska med__"
   ]
  },
  {
   "cell_type": "code",
   "execution_count": 173,
   "metadata": {},
   "outputs": [],
   "source": [
    "df1 = df1. \\\n",
    "drop(['Utdelning','Arstid','Distans','Startsatt','Lopp','Plac','Hast','cdate','cLopp','V_ODDS','S_R', \\\n",
    "      'V75PROC','TK_R'], axis = 1). \\\n",
    "copy().set_index(['Key'])"
   ]
  },
  {
   "cell_type": "code",
   "execution_count": 174,
   "metadata": {},
   "outputs": [
    {
     "name": "stdout",
     "output_type": "stream",
     "text": [
      "<class 'pandas.core.frame.DataFrame'>\n",
      "Index: 17994 entries, 2016-05-21 00:00:001 to 2019-01-05 00:00:007\n",
      "Data columns (total 28 columns):\n",
      "Datum          17994 non-null datetime64[ns]\n",
      "GRUPP          17994 non-null int64\n",
      "VLP            17994 non-null float64\n",
      "VNUM           17994 non-null int64\n",
      "SVLP           17994 non-null float64\n",
      "VSVLP          17994 non-null float64\n",
      "VPN_SUM        17994 non-null float64\n",
      "VPN_SUM_ORD    17994 non-null int64\n",
      "VPK_SUM        17994 non-null float64\n",
      "VPK_SUM_ORD    17994 non-null int64\n",
      "VLPB           17994 non-null float64\n",
      "SVLPB          17994 non-null float64\n",
      "VSVLPB         17994 non-null float64\n",
      "E_P            17994 non-null float64\n",
      "E_P_Num        17994 non-null int64\n",
      "E_N            17994 non-null float64\n",
      "E_R            17994 non-null float64\n",
      "E_U            17994 non-null float64\n",
      "G_R            16243 non-null float64\n",
      "A_R            15310 non-null float64\n",
      "T_R            16317 non-null float64\n",
      "SP_R           4730 non-null float64\n",
      "ToR            15201 non-null float64\n",
      "P_R            15903 non-null float64\n",
      "Ex_R           9979 non-null float64\n",
      "R_R            9979 non-null float64\n",
      "Ts_R           17994 non-null int64\n",
      "Y              17994 non-null int64\n",
      "dtypes: datetime64[ns](1), float64(20), int64(7)\n",
      "memory usage: 4.0+ MB\n"
     ]
    }
   ],
   "source": [
    "df1.info()"
   ]
  },
  {
   "cell_type": "code",
   "execution_count": 175,
   "metadata": {},
   "outputs": [],
   "source": [
    "# Gör om hast och grupp till objekt\n",
    "df1['GRUPP'] = df1.GRUPP.astype('object')"
   ]
  },
  {
   "cell_type": "markdown",
   "metadata": {},
   "source": [
    "__Delar upp i numeriska samt charachter attribut. Det är dessa som går in i modellen__"
   ]
  },
  {
   "cell_type": "code",
   "execution_count": 176,
   "metadata": {},
   "outputs": [],
   "source": [
    "num_attribs = [] \n",
    "cat_attribs = [] \n",
    "\n",
    "for var, typ in zip(df1.columns[:-1], df1.dtypes[:-1]): \n",
    "    if typ == 'object': \n",
    "        cat_attribs.append(var) \n",
    "    elif (typ != 'datetime64[ns]') & (var != 'VNUM'): \n",
    "        num_attribs.append(var)"
   ]
  },
  {
   "cell_type": "code",
   "execution_count": 177,
   "metadata": {},
   "outputs": [
    {
     "data": {
      "text/plain": [
       "['GRUPP']"
      ]
     },
     "execution_count": 177,
     "metadata": {},
     "output_type": "execute_result"
    }
   ],
   "source": [
    "cat_attribs"
   ]
  },
  {
   "cell_type": "code",
   "execution_count": 178,
   "metadata": {},
   "outputs": [
    {
     "data": {
      "text/plain": [
       "['VLP',\n",
       " 'SVLP',\n",
       " 'VSVLP',\n",
       " 'VPN_SUM',\n",
       " 'VPN_SUM_ORD',\n",
       " 'VPK_SUM',\n",
       " 'VPK_SUM_ORD',\n",
       " 'VLPB',\n",
       " 'SVLPB',\n",
       " 'VSVLPB',\n",
       " 'E_P',\n",
       " 'E_P_Num',\n",
       " 'E_N',\n",
       " 'E_R',\n",
       " 'E_U',\n",
       " 'G_R',\n",
       " 'A_R',\n",
       " 'T_R',\n",
       " 'SP_R',\n",
       " 'ToR',\n",
       " 'P_R',\n",
       " 'Ex_R',\n",
       " 'R_R',\n",
       " 'Ts_R']"
      ]
     },
     "execution_count": 178,
     "metadata": {},
     "output_type": "execute_result"
    }
   ],
   "source": [
    "num_attribs"
   ]
  },
  {
   "cell_type": "code",
   "execution_count": 17,
   "metadata": {},
   "outputs": [
    {
     "data": {
      "text/plain": [
       "24"
      ]
     },
     "execution_count": 17,
     "metadata": {},
     "output_type": "execute_result"
    }
   ],
   "source": [
    "len(num_attribs)"
   ]
  },
  {
   "cell_type": "markdown",
   "metadata": {},
   "source": [
    "__Imputerar medianvärdet på alla numeriska variabler__"
   ]
  },
  {
   "cell_type": "code",
   "execution_count": 88,
   "metadata": {},
   "outputs": [],
   "source": [
    "for var in num_attribs:\n",
    "    median = df1[var].median()\n",
    "    df1[var] = df1[var].fillna(median)"
   ]
  },
  {
   "cell_type": "markdown",
   "metadata": {},
   "source": [
    "__Nu plockar vi ut 52 v75 omgångar för att använda dem som test__"
   ]
  },
  {
   "cell_type": "code",
   "execution_count": 89,
   "metadata": {},
   "outputs": [],
   "source": [
    "v75 = df1.Datum.drop_duplicates().to_frame()"
   ]
  },
  {
   "cell_type": "code",
   "execution_count": 90,
   "metadata": {},
   "outputs": [],
   "source": [
    "v75['is_test']=np.random.uniform(0,1,len(v75))<=0.2\n",
    "\n",
    "test, basedf = v75[v75['is_test']==True], v75[v75['is_test']==False]"
   ]
  },
  {
   "cell_type": "code",
   "execution_count": 91,
   "metadata": {},
   "outputs": [
    {
     "data": {
      "text/plain": [
       "47"
      ]
     },
     "execution_count": 91,
     "metadata": {},
     "output_type": "execute_result"
    }
   ],
   "source": [
    "len(test)"
   ]
  },
  {
   "cell_type": "markdown",
   "metadata": {},
   "source": [
    "__Nu bygger vi upp en pipeline__"
   ]
  },
  {
   "cell_type": "code",
   "execution_count": 179,
   "metadata": {},
   "outputs": [],
   "source": [
    "# Create a class to select numerical or categorical columns \n",
    "# since Scikit-Learn doesn't handle DataFrames yet\n",
    "# Denna klass måste vi göra för att särskilja numeriska variabler mot character variabler\n",
    "class DataFrameSelector(BaseEstimator, TransformerMixin):\n",
    "    def __init__(self, attribute_names):\n",
    "        self.attribute_names = attribute_names\n",
    "    def fit(self, X, y=None):\n",
    "        return self\n",
    "    def transform(self, X):\n",
    "        return X[self.attribute_names].values"
   ]
  },
  {
   "cell_type": "code",
   "execution_count": 180,
   "metadata": {},
   "outputs": [],
   "source": [
    "# Egen klass för att sätta dummyvariabler\n",
    "\n",
    "class SetDummyVar(BaseEstimator, TransformerMixin):\n",
    "    def __init__(self, attribute_names):\n",
    "        self.attribute_names = attribute_names\n",
    "    def fit(self, X, y=None):\n",
    "        return self\n",
    "    def transform(self, X):\n",
    "        tempdf = pd.get_dummies(X[self.attribute_names], columns = self.attribute_names)\n",
    "        return tempdf.values"
   ]
  },
  {
   "cell_type": "code",
   "execution_count": 181,
   "metadata": {},
   "outputs": [],
   "source": [
    "# Pipeline för numeriska variabler\n",
    "num_pipeline = Pipeline([\n",
    "        ('selector', DataFrameSelector(num_attribs)),\n",
    "        ('imputer', Imputer(strategy=\"median\"))\n",
    "    ])\n",
    "\n",
    "cat_pipeline = Pipeline([\n",
    "        ('dummy_cat', SetDummyVar(cat_attribs)),\n",
    "    ])"
   ]
  },
  {
   "cell_type": "code",
   "execution_count": 182,
   "metadata": {},
   "outputs": [],
   "source": [
    "full_pipeline = FeatureUnion(transformer_list=[\n",
    "        (\"num_pipeline\", num_pipeline),\n",
    "        (\"cat_pipeline\", cat_pipeline),\n",
    "    ])"
   ]
  },
  {
   "cell_type": "markdown",
   "metadata": {},
   "source": [
    "### In order to avoid overfitting data is split into training data and validation data. 75% träningsdata och 25% valideringsdata"
   ]
  },
  {
   "cell_type": "code",
   "execution_count": 96,
   "metadata": {},
   "outputs": [],
   "source": [
    "train = df1[df1.Datum.isin(basedf.Datum.tolist())]"
   ]
  },
  {
   "cell_type": "code",
   "execution_count": 97,
   "metadata": {},
   "outputs": [],
   "source": [
    "validate = df1[df1.Datum.isin(test.Datum.tolist())]"
   ]
  },
  {
   "cell_type": "markdown",
   "metadata": {},
   "source": [
    "### Nu skapar vi arrayer som ska användas av modellen - använder den skapade Pipelineobjektet som gör alla nödvändiga dataransformationer "
   ]
  },
  {
   "cell_type": "code",
   "execution_count": 98,
   "metadata": {},
   "outputs": [],
   "source": [
    "# Träningssdata\n",
    "# Alla förklaringsvaribler i en multidimensionell array där kategrisvaribler har gjorts om till\n",
    "# dummyvariabler\n",
    "features_train = full_pipeline.fit_transform(train)\n",
    "## En array som håller det vi vill predikter\n",
    "label_train = train[\"Y\"].copy()"
   ]
  },
  {
   "cell_type": "code",
   "execution_count": 99,
   "metadata": {},
   "outputs": [],
   "source": [
    "# Valideringsdata\n",
    "# Alla förklaringsvaribler i en multidimensionell array där kategrisvaribler har gjorts om till\n",
    "# dummyvariabler\n",
    "features_validate = full_pipeline.fit_transform(validate)\n",
    "## En array som håller det vi vill predikter\n",
    "label_validate = validate[\"Y\"].copy()"
   ]
  },
  {
   "cell_type": "markdown",
   "metadata": {},
   "source": [
    "# Train the model on the training data and then evaluate on the validation data\n",
    "\n",
    "- predicts: A twodimensional array that contains posterrior probabbility for a donation behaviour, one for non-donation and one for donation\n",
    "- fpr : False positive rate, number of false positive for a specific threshold value\n",
    "- tpr : True positive rate, number of true positive for a specific threshold value\n",
    "- threshold: Sorted threshold (descending) values for the likelihod to donate\n",
    "- roc_auc: Receiver operating characteristics. A value close to 1 indicates a strong model. A value close to 0.5 means that the model is rather poor"
   ]
  },
  {
   "cell_type": "code",
   "execution_count": 100,
   "metadata": {},
   "outputs": [
    {
     "data": {
      "text/plain": [
       "RandomForestClassifier(bootstrap=True, class_weight=None, criterion='gini',\n",
       "            max_depth=5, max_features='auto', max_leaf_nodes=None,\n",
       "            min_impurity_decrease=0.0, min_impurity_split=None,\n",
       "            min_samples_leaf=1, min_samples_split=2,\n",
       "            min_weight_fraction_leaf=0.0, n_estimators=1000, n_jobs=1,\n",
       "            oob_score=False, random_state=None, verbose=0,\n",
       "            warm_start=False)"
      ]
     },
     "execution_count": 100,
     "metadata": {},
     "output_type": "execute_result"
    }
   ],
   "source": [
    "# Bygger random forrest och analyserar roc_auc\n",
    "# Instansierar modellen\n",
    "rf = RandomForestClassifier(n_estimators = 1000, max_depth=5)\n",
    "\n",
    "# Tränar modellen\n",
    "\n",
    "rf.fit(features_train,label_train)"
   ]
  },
  {
   "cell_type": "code",
   "execution_count": 101,
   "metadata": {},
   "outputs": [],
   "source": [
    "# Predikterar med modellen med valideringsdata\n",
    "\n",
    "predict = rf.predict_proba(features_validate)\n",
    "\n",
    "fpr, tpr, threshold = roc_curve(label_validate,predict[:,1])\n",
    "\n",
    "roc_auc = auc(fpr,tpr)"
   ]
  },
  {
   "cell_type": "code",
   "execution_count": 207,
   "metadata": {},
   "outputs": [],
   "source": [
    "fpr_ser = pd.Series(fpr)\n",
    "tpr_ser = pd.Series(tpr)\n",
    "threshold_ser = pd.Series(threshold)"
   ]
  },
  {
   "cell_type": "code",
   "execution_count": 33,
   "metadata": {},
   "outputs": [
    {
     "data": {
      "text/plain": [
       "0.056242175425278575"
      ]
     },
     "execution_count": 33,
     "metadata": {},
     "output_type": "execute_result"
    }
   ],
   "source": [
    "# Median värde för den sannolikhet som genereras på varje enskild observation\n",
    "prob = pd.Series(predict[:,1])\n",
    "prob.median()"
   ]
  },
  {
   "cell_type": "code",
   "execution_count": 34,
   "metadata": {},
   "outputs": [
    {
     "data": {
      "image/png": "[encoded data removed]",
      "text/plain": [
       "<Figure size 1008x576 with 2 Axes>"
      ]
     },
     "metadata": {
      "needs_background": "light"
     },
     "output_type": "display_data"
    }
   ],
   "source": [
    "fig, (ax1,ax2) = plt.subplots(2,1,figsize=(14,8), linewidth=5, edgecolor='.5')\n",
    "\n",
    "\n",
    "ax1.hist(prob, bins = 50)\n",
    "ax2.hist(threshold, bins = 50)\n",
    "\n",
    "plt.show()"
   ]
  },
  {
   "cell_type": "markdown",
   "metadata": {},
   "source": [
    "__Varför ger threshold och prob olika medianvärden?__"
   ]
  },
  {
   "cell_type": "markdown",
   "metadata": {},
   "source": [
    "\n",
    "\n",
    "__It traces out two types of error as we vary the threshold value for the posterior probability of charity. The actual thresholds are not shown. The true positive rate is the sensitivity: the fraction of givers that are correctly identified, using a given threshold value. The false positive rate is 1-specificity: the fraction of non-givers that we classify incorrectly as givers, using that same threshold value. The ideal ROC curve hugs the top left corner, indicating a high true positive rate and a low false positive rate. The dotted line represents the “no information” classifier.__ "
   ]
  },
  {
   "cell_type": "code",
   "execution_count": 102,
   "metadata": {},
   "outputs": [
    {
     "name": "stdout",
     "output_type": "stream",
     "text": [
      "Saving figure ROC\n"
     ]
    },
    {
     "data": {
      "image/png": "[encoded data removed]",
      "text/plain": [
       "<Figure size 432x288 with 1 Axes>"
      ]
     },
     "metadata": {
      "needs_background": "light"
     },
     "output_type": "display_data"
    }
   ],
   "source": [
    "# Graf\n",
    "\n",
    "plt.title('Receiver Operating Characteristic') \n",
    "plt.plot( fpr, tpr, 'b', label =' AUC = %0.3f' % roc_auc) \n",
    "plt.legend( loc ='lower right') \n",
    "plt.plot([ 0, 1], [0, 1], 'r--') \n",
    "plt.xlim([ 0.0, 1.0]) \n",
    "plt.ylim([ 0.0, 1.0]) \n",
    "plt.ylabel('True positive rate') \n",
    "plt.xlabel('False positive rate') \n",
    "save_fig('ROC')\n",
    "plt.show()"
   ]
  },
  {
   "cell_type": "code",
   "execution_count": 36,
   "metadata": {},
   "outputs": [],
   "source": [
    "from sklearn.metrics import precision_recall_curve\n",
    "\n",
    "precisions, recalls, thresholds = precision_recall_curve(label_validate, prob)"
   ]
  },
  {
   "cell_type": "code",
   "execution_count": 37,
   "metadata": {},
   "outputs": [],
   "source": [
    "from sklearn.metrics import confusion_matrix\n",
    "from sklearn.metrics import precision_score, recall_score"
   ]
  },
  {
   "cell_type": "code",
   "execution_count": 38,
   "metadata": {},
   "outputs": [
    {
     "data": {
      "text/plain": [
       "array([[3671,    0],\n",
       "       [   0,  350]])"
      ]
     },
     "execution_count": 38,
     "metadata": {},
     "output_type": "execute_result"
    }
   ],
   "source": [
    " \n",
    "y_truth = label_validate\n",
    "confusion_matrix(label_validate, y_truth)"
   ]
  },
  {
   "cell_type": "code",
   "execution_count": 39,
   "metadata": {},
   "outputs": [
    {
     "data": {
      "text/plain": [
       "0.056242175425278575"
      ]
     },
     "execution_count": 39,
     "metadata": {},
     "output_type": "execute_result"
    }
   ],
   "source": [
    "prob.median()"
   ]
  },
  {
   "cell_type": "code",
   "execution_count": 40,
   "metadata": {},
   "outputs": [
    {
     "data": {
      "text/plain": [
       "array([[1964, 1707],\n",
       "       [  47,  303]])"
      ]
     },
     "execution_count": 40,
     "metadata": {},
     "output_type": "execute_result"
    }
   ],
   "source": [
    "# Vi väljer medianvärdet som cut off \n",
    "y_pred = np.where( prob > prob.median(),1,0)\n",
    " \n",
    "confusion_matrix(label_validate, y_pred)"
   ]
  },
  {
   "cell_type": "code",
   "execution_count": 41,
   "metadata": {},
   "outputs": [
    {
     "data": {
      "text/plain": [
       "0.15074626865671642"
      ]
     },
     "execution_count": 41,
     "metadata": {},
     "output_type": "execute_result"
    }
   ],
   "source": [
    "# Precision - Av de vi predikterar som vinnare, hur bra är vi\n",
    "precision_score(label_validate, y_pred)"
   ]
  },
  {
   "cell_type": "code",
   "execution_count": 42,
   "metadata": {},
   "outputs": [
    {
     "data": {
      "text/plain": [
       "0.8657142857142858"
      ]
     },
     "execution_count": 42,
     "metadata": {},
     "output_type": "execute_result"
    }
   ],
   "source": [
    "# True positive rate = Den totala andelen av sanna postiva vid en given cut of\n",
    "recall_score(label_validate, y_pred)\n",
    " "
   ]
  },
  {
   "cell_type": "code",
   "execution_count": 43,
   "metadata": {},
   "outputs": [],
   "source": [
    "label_validate_ser = pd.Series(label_validate.tolist())\n",
    "prob_ser = pd.Series(prob)"
   ]
  },
  {
   "cell_type": "code",
   "execution_count": 44,
   "metadata": {},
   "outputs": [],
   "source": [
    "df_valid = pd.concat([label_validate_ser, prob_ser], axis = 1).rename(columns = {0:'Y',1 :'Prob'}). \\\n",
    "sort_values('Prob')"
   ]
  },
  {
   "cell_type": "markdown",
   "metadata": {},
   "source": [
    "__Delar in i deciler på den framräknade scoren__"
   ]
  },
  {
   "cell_type": "code",
   "execution_count": 45,
   "metadata": {},
   "outputs": [
    {
     "data": {
      "text/plain": [
       "(0.0167, 0.0259]    403\n",
       "(0.196, 0.716]      402\n",
       "(0.137, 0.196]      402\n",
       "(0.0911, 0.137]     402\n",
       "(0.0658, 0.0911]    402\n",
       "(0.0562, 0.0658]    402\n",
       "(0.0492, 0.0562]    402\n",
       "(0.0406, 0.0492]    402\n",
       "(0.0328, 0.0406]    402\n",
       "(0.0259, 0.0328]    402\n",
       "dtype: int64"
      ]
     },
     "execution_count": 45,
     "metadata": {},
     "output_type": "execute_result"
    }
   ],
   "source": [
    "data = df_valid.Prob.values\n",
    "quartiles = pd.qcut(data, 10)\n",
    "pd.value_counts(quartiles)"
   ]
  },
  {
   "cell_type": "code",
   "execution_count": 46,
   "metadata": {},
   "outputs": [
    {
     "data": {
      "text/plain": [
       "350"
      ]
     },
     "execution_count": 46,
     "metadata": {},
     "output_type": "execute_result"
    }
   ],
   "source": [
    "df_valid.Y.sum()"
   ]
  },
  {
   "cell_type": "code",
   "execution_count": 47,
   "metadata": {},
   "outputs": [],
   "source": [
    "grouped = df_valid.Y.groupby(quartiles)"
   ]
  },
  {
   "cell_type": "code",
   "execution_count": 48,
   "metadata": {},
   "outputs": [
    {
     "data": {
      "text/plain": [
       "(0.0167, 0.0259]    403\n",
       "(0.0259, 0.0328]    402\n",
       "(0.0328, 0.0406]    402\n",
       "(0.0406, 0.0492]    402\n",
       "(0.0492, 0.0562]    402\n",
       "(0.0562, 0.0658]    402\n",
       "(0.0658, 0.0911]    402\n",
       "(0.0911, 0.137]     402\n",
       "(0.137, 0.196]      402\n",
       "(0.196, 0.716]      402\n",
       "Name: Y, dtype: int64"
      ]
     },
     "execution_count": 48,
     "metadata": {},
     "output_type": "execute_result"
    }
   ],
   "source": [
    "grouped.count()"
   ]
  },
  {
   "cell_type": "markdown",
   "metadata": {},
   "source": [
    "__Beräknar den procentuella andelen vinnare i respektice decil__"
   ]
  },
  {
   "cell_type": "code",
   "execution_count": 49,
   "metadata": {},
   "outputs": [
    {
     "data": {
      "text/plain": [
       "(0.0167, 0.0259]     2.0\n",
       "(0.0259, 0.0328]     1.0\n",
       "(0.0328, 0.0406]     2.0\n",
       "(0.0406, 0.0492]     3.0\n",
       "(0.0492, 0.0562]     3.0\n",
       "(0.0562, 0.0658]     5.0\n",
       "(0.0658, 0.0911]     7.0\n",
       "(0.0911, 0.137]     15.0\n",
       "(0.137, 0.196]      14.0\n",
       "(0.196, 0.716]      34.0\n",
       "Name: Y, dtype: float64"
      ]
     },
     "execution_count": 49,
     "metadata": {},
     "output_type": "execute_result"
    }
   ],
   "source": [
    "resp = round((grouped.sum() / grouped.count() * 100))\n",
    "resp"
   ]
  },
  {
   "cell_type": "code",
   "execution_count": 50,
   "metadata": {},
   "outputs": [
    {
     "name": "stdout",
     "output_type": "stream",
     "text": [
      "Saving figure Probdist\n"
     ]
    },
    {
     "data": {
      "image/png": "[encoded data removed]",
      "text/plain": [
       "<Figure size 1152x864 with 2 Axes>"
      ]
     },
     "metadata": {
      "needs_background": "light"
     },
     "output_type": "display_data"
    }
   ],
   "source": [
    "fig, (ax1, ax2) = plt.subplots(2, 1, figsize=(16,12))\n",
    "\n",
    "\n",
    "df_valid.Prob.plot(kind = 'hist', bins = 100, title = 'Probability response', ax = ax1)\n",
    "\n",
    "\n",
    "resp.plot(kind = 'bar', color=(0.2, 0.4, 0.6, 1),title = 'Andel vinnare per decil', ax = ax2)\n",
    "\n",
    "save_fig('Probdist')"
   ]
  },
  {
   "cell_type": "code",
   "execution_count": 51,
   "metadata": {},
   "outputs": [
    {
     "data": {
      "text/plain": [
       "array([[3059,  612],\n",
       "       [ 159,  191]])"
      ]
     },
     "execution_count": 51,
     "metadata": {},
     "output_type": "execute_result"
    }
   ],
   "source": [
    "y_pred = np.where(prob >=0.137,1,0)\n",
    " \n",
    "confusion_matrix(label_validate, y_pred)"
   ]
  },
  {
   "cell_type": "code",
   "execution_count": 52,
   "metadata": {},
   "outputs": [
    {
     "data": {
      "text/plain": [
       "0.23785803237858033"
      ]
     },
     "execution_count": 52,
     "metadata": {},
     "output_type": "execute_result"
    }
   ],
   "source": [
    " \n",
    "precision_score(label_validate, y_pred)"
   ]
  },
  {
   "cell_type": "code",
   "execution_count": 53,
   "metadata": {},
   "outputs": [
    {
     "data": {
      "text/plain": [
       "0.5457142857142857"
      ]
     },
     "execution_count": 53,
     "metadata": {},
     "output_type": "execute_result"
    }
   ],
   "source": [
    "# True positive rate = Den totala andelen av sanna postiva vid en given cut of\n",
    "recall_score(label_validate, y_pred)\n",
    " "
   ]
  },
  {
   "cell_type": "code",
   "execution_count": 54,
   "metadata": {},
   "outputs": [
    {
     "data": {
      "text/plain": [
       "array([[2715,  956],\n",
       "       [  99,  251]])"
      ]
     },
     "execution_count": 54,
     "metadata": {},
     "output_type": "execute_result"
    }
   ],
   "source": [
    "y_pred = np.where(prob >=0.0911,1,0)\n",
    " \n",
    "confusion_matrix(label_validate, y_pred)"
   ]
  },
  {
   "cell_type": "code",
   "execution_count": 55,
   "metadata": {},
   "outputs": [
    {
     "data": {
      "text/plain": [
       "0.207953603976802"
      ]
     },
     "execution_count": 55,
     "metadata": {},
     "output_type": "execute_result"
    }
   ],
   "source": [
    "precision_score(label_validate, y_pred)"
   ]
  },
  {
   "cell_type": "code",
   "execution_count": 56,
   "metadata": {},
   "outputs": [
    {
     "data": {
      "text/plain": [
       "0.7171428571428572"
      ]
     },
     "execution_count": 56,
     "metadata": {},
     "output_type": "execute_result"
    }
   ],
   "source": [
    "# True positive rate = Den totala andelen av sanna postiva vid en given cut of\n",
    "recall_score(label_validate, y_pred)"
   ]
  },
  {
   "cell_type": "code",
   "execution_count": 57,
   "metadata": {},
   "outputs": [],
   "source": [
    "predict_cutoff = pd.DataFrame({'Prob0':predict[:,0],'Prob1':predict[:,1]}).sort_values('Prob1', ascending = False).iloc[24]['Prob1']"
   ]
  },
  {
   "cell_type": "code",
   "execution_count": null,
   "metadata": {},
   "outputs": [],
   "source": []
  },
  {
   "cell_type": "markdown",
   "metadata": {},
   "source": [
    "__Nu itererar vi över alla testloppen. Plockar de 24 högsta scorade hästarna__"
   ]
  },
  {
   "cell_type": "code",
   "execution_count": 58,
   "metadata": {},
   "outputs": [
    {
     "name": "stdout",
     "output_type": "stream",
     "text": [
      "[[56 19]\n",
      " [ 2  5]] 2016-05-21 00:00:00\n",
      "[[59 18]\n",
      " [ 1  6]] 2016-07-16 00:00:00\n",
      "[[51 18]\n",
      " [ 1  6]] 2016-07-26 00:00:00\n",
      "[[55 20]\n",
      " [ 3  4]] 2016-08-06 00:00:00\n",
      "[[54 18]\n",
      " [ 1  6]] 2016-08-27 00:00:00\n",
      "[[57 18]\n",
      " [ 1  6]] 2016-10-22 00:00:00\n",
      "[[60 18]\n",
      " [ 1  6]] 2016-11-12 00:00:00\n",
      "[[58 19]\n",
      " [ 2  5]] 2016-11-27 00:00:00\n",
      "[[64 19]\n",
      " [ 2  5]] 2017-02-26 00:00:00\n",
      "[[58 18]\n",
      " [ 1  6]] 2017-03-11 00:00:00\n",
      "[[52 19]\n",
      " [ 2  5]] 2017-04-08 00:00:00\n",
      "[[52 19]\n",
      " [ 2  5]] 2017-04-14 00:00:00\n",
      "[[54 21]\n",
      " [ 4  3]] 2017-04-29 00:00:00\n",
      "[[51 22]\n",
      " [ 5  2]] 2017-05-14 00:00:00\n",
      "[[59 19]\n",
      " [ 2  5]] 2017-05-20 00:00:00\n",
      "[[49 19]\n",
      " [ 2  5]] 2017-07-09 00:00:00\n",
      "[[52 21]\n",
      " [ 4  3]] 2017-07-15 00:00:00\n",
      "[[51 21]\n",
      " [ 4  3]] 2017-08-05 00:00:00\n",
      "[[45 20]\n",
      " [ 3  4]] 2017-08-12 00:00:00\n",
      "[[51 18]\n",
      " [ 1  6]] 2017-09-23 00:00:00\n",
      "[[50 18]\n",
      " [ 1  6]] 2017-09-30 00:00:00\n",
      "[[60 19]\n",
      " [ 2  5]] 2017-10-01 00:00:00\n",
      "[[57 19]\n",
      " [ 2  5]] 2017-10-07 00:00:00\n",
      "[[57 18]\n",
      " [ 1  6]] 2017-10-29 00:00:00\n",
      "[[60 20]\n",
      " [ 3  4]] 2017-11-12 00:00:00\n",
      "[[52 19]\n",
      " [ 2  5]] 2017-12-09 00:00:00\n",
      "[[58 18]\n",
      " [ 1  6]] 2017-12-28 00:00:00\n",
      "[[52 20]\n",
      " [ 3  4]] 2017-12-29 00:00:00\n",
      "[[59 19]\n",
      " [ 2  5]] 2017-12-31 00:00:00\n",
      "[[58 18]\n",
      " [ 1  6]] 2018-03-10 00:00:00\n",
      "[[53 18]\n",
      " [ 1  6]] 2018-03-17 00:00:00\n",
      "[[55 19]\n",
      " [ 2  5]] 2018-03-24 00:00:00\n",
      "[[56 18]\n",
      " [ 1  6]] 2018-03-29 00:00:00\n",
      "[[54 18]\n",
      " [ 1  6]] 2018-03-30 00:00:00\n",
      "[[53 18]\n",
      " [ 1  6]] 2018-04-01 00:00:00\n",
      "[[49 19]\n",
      " [ 2  5]] 2018-04-21 00:00:00\n",
      "[[57 20]\n",
      " [ 3  4]] 2018-05-05 00:00:00\n",
      "[[51 19]\n",
      " [ 2  5]] 2018-06-02 00:00:00\n",
      "[[41 20]\n",
      " [ 3  4]] 2018-07-31 00:00:00\n",
      "[[51 18]\n",
      " [ 1  6]] 2018-08-23 00:00:00\n",
      "[[54 18]\n",
      " [ 1  6]] 2018-08-25 00:00:00\n",
      "[[54 20]\n",
      " [ 3  4]] 2018-10-20 00:00:00\n",
      "[[57 17]\n",
      " [ 0  7]] 2018-10-28 00:00:00\n",
      "[[58 20]\n",
      " [ 3  4]] 2018-11-24 00:00:00\n",
      "[[51 17]\n",
      " [ 0  7]] 2018-11-25 00:00:00\n",
      "[[51 19]\n",
      " [ 2  5]] 2018-12-15 00:00:00\n",
      "[[61 19]\n",
      " [ 2  5]] 2018-12-22 00:00:00\n",
      "[[59 22]\n",
      " [ 5  2]] 2018-12-25 00:00:00\n",
      "[[52 18]\n",
      " [ 1  6]] 2018-12-28 00:00:00\n",
      "[[55 19]\n",
      " [ 2  5]] 2018-12-29 00:00:00\n"
     ]
    }
   ],
   "source": [
    "cm_list = []\n",
    "d_list = validate.Datum.drop_duplicates().tolist()\n",
    "for date in d_list:\n",
    "    df_test1 = validate[validate.Datum == date].drop('Datum', axis = 1)\n",
    "    features_test = full_pipeline.fit_transform(df_test1)\n",
    "    label_test = df_test1[\"Y\"].copy()\n",
    "    predict_test = rf.predict_proba(features_test)\n",
    "    \n",
    "    predict_cutoff = pd.DataFrame({'Prob0':predict_test[:,0],'Prob1':predict_test[:,1]}).sort_values('Prob1', ascending = False).iloc[24]['Prob1']\n",
    "    \n",
    "    y_pred_test = np.where( predict_test[:,1] > predict_cutoff,1,0)\n",
    "    print(confusion_matrix(label_test, y_pred_test),date)\n",
    "    # Stoppar in i lista\n",
    "    cm_list.append(confusion_matrix(label_test, y_pred_test)[1][1])"
   ]
  },
  {
   "cell_type": "code",
   "execution_count": 59,
   "metadata": {},
   "outputs": [
    {
     "data": {
      "text/plain": [
       "5.04"
      ]
     },
     "execution_count": 59,
     "metadata": {},
     "output_type": "execute_result"
    }
   ],
   "source": [
    "sum_tot = 0\n",
    "for val in cm_list:\n",
    "    sum_tot = sum_tot + val\n",
    "\n",
    "avg = sum_tot / len(cm_list)\n",
    "avg"
   ]
  },
  {
   "cell_type": "markdown",
   "metadata": {},
   "source": [
    "__På score__"
   ]
  },
  {
   "cell_type": "code",
   "execution_count": 60,
   "metadata": {},
   "outputs": [
    {
     "name": "stdout",
     "output_type": "stream",
     "text": [
      "[[55 20]\n",
      " [ 2  5]] 2016-05-21 00:00:00\n",
      "[[58 19]\n",
      " [ 1  6]] 2016-07-16 00:00:00\n",
      "[[48 21]\n",
      " [ 1  6]] 2016-07-26 00:00:00\n",
      "[[54 21]\n",
      " [ 3  4]] 2016-08-06 00:00:00\n",
      "[[53 19]\n",
      " [ 1  6]] 2016-08-27 00:00:00\n",
      "[[58 17]\n",
      " [ 1  6]] 2016-10-22 00:00:00\n",
      "[[62 16]\n",
      " [ 1  6]] 2016-11-12 00:00:00\n",
      "[[58 19]\n",
      " [ 1  6]] 2016-11-27 00:00:00\n",
      "[[63 20]\n",
      " [ 2  5]] 2017-02-26 00:00:00\n",
      "[[56 20]\n",
      " [ 1  6]] 2017-03-11 00:00:00\n",
      "[[50 21]\n",
      " [ 2  5]] 2017-04-08 00:00:00\n",
      "[[53 18]\n",
      " [ 3  4]] 2017-04-14 00:00:00\n",
      "[[74  1]\n",
      " [ 6  1]] 2017-04-29 00:00:00\n",
      "[[72  1]\n",
      " [ 7  0]] 2017-05-14 00:00:00\n",
      "[[78  0]\n",
      " [ 6  1]] 2017-05-20 00:00:00\n",
      "[[67  1]\n",
      " [ 5  2]] 2017-07-09 00:00:00\n",
      "[[51 22]\n",
      " [ 3  4]] 2017-07-15 00:00:00\n",
      "[[50 22]\n",
      " [ 3  4]] 2017-08-05 00:00:00\n",
      "[[41 24]\n",
      " [ 3  4]] 2017-08-12 00:00:00\n",
      "[[49 20]\n",
      " [ 1  6]] 2017-09-23 00:00:00\n",
      "[[48 20]\n",
      " [ 1  6]] 2017-09-30 00:00:00\n",
      "[[60 19]\n",
      " [ 2  5]] 2017-10-01 00:00:00\n",
      "[[57 19]\n",
      " [ 3  4]] 2017-10-07 00:00:00\n",
      "[[54 21]\n",
      " [ 0  7]] 2017-10-29 00:00:00\n",
      "[[58 22]\n",
      " [ 3  4]] 2017-11-12 00:00:00\n",
      "[[54 17]\n",
      " [ 2  5]] 2017-12-09 00:00:00\n",
      "[[52 24]\n",
      " [ 0  7]] 2017-12-28 00:00:00\n",
      "[[49 23]\n",
      " [ 3  4]] 2017-12-29 00:00:00\n",
      "[[56 22]\n",
      " [ 2  5]] 2017-12-31 00:00:00\n",
      "[[57 19]\n",
      " [ 1  6]] 2018-03-10 00:00:00\n",
      "[[53 18]\n",
      " [ 1  6]] 2018-03-17 00:00:00\n",
      "[[52 22]\n",
      " [ 2  5]] 2018-03-24 00:00:00\n",
      "[[58 16]\n",
      " [ 1  6]] 2018-03-29 00:00:00\n",
      "[[50 22]\n",
      " [ 1  6]] 2018-03-30 00:00:00\n",
      "[[48 23]\n",
      " [ 1  6]] 2018-04-01 00:00:00\n",
      "[[47 21]\n",
      " [ 1  6]] 2018-04-21 00:00:00\n",
      "[[54 23]\n",
      " [ 2  5]] 2018-05-05 00:00:00\n",
      "[[49 21]\n",
      " [ 1  6]] 2018-06-02 00:00:00\n",
      "[[39 22]\n",
      " [ 3  4]] 2018-07-31 00:00:00\n",
      "[[48 21]\n",
      " [ 1  6]] 2018-08-23 00:00:00\n",
      "[[54 18]\n",
      " [ 1  6]] 2018-08-25 00:00:00\n",
      "[[49 25]\n",
      " [ 1  6]] 2018-10-20 00:00:00\n",
      "[[52 22]\n",
      " [ 0  7]] 2018-10-28 00:00:00\n",
      "[[53 25]\n",
      " [ 2  5]] 2018-11-24 00:00:00\n",
      "[[48 20]\n",
      " [ 0  7]] 2018-11-25 00:00:00\n",
      "[[50 20]\n",
      " [ 2  5]] 2018-12-15 00:00:00\n",
      "[[60 20]\n",
      " [ 2  5]] 2018-12-22 00:00:00\n",
      "[[59 22]\n",
      " [ 5  2]] 2018-12-25 00:00:00\n",
      "[[44 26]\n",
      " [ 1  6]] 2018-12-28 00:00:00\n",
      "[[53 21]\n",
      " [ 1  6]] 2018-12-29 00:00:00\n"
     ]
    }
   ],
   "source": [
    "cm_list = []\n",
    "d_list = validate.Datum.drop_duplicates().tolist()\n",
    "for date in d_list:\n",
    "    df_test1 = validate[validate.Datum == date].drop('Datum', axis = 1)\n",
    "    features_test = full_pipeline.fit_transform(df_test1)\n",
    "    label_test = df_test1[\"Y\"].copy()\n",
    "    predict_test = rf.predict_proba(features_test)\n",
    "    \n",
    "    y_pred_test = np.where( predict_test[:,1] > 0.0911,1,0)\n",
    "    print(confusion_matrix(label_test, y_pred_test),date)\n",
    "    # Stoppar in i lista\n",
    "    cm_list.append(confusion_matrix(label_test, y_pred_test)[1][1])\n",
    "    "
   ]
  },
  {
   "cell_type": "code",
   "execution_count": 61,
   "metadata": {},
   "outputs": [
    {
     "data": {
      "text/plain": [
       "5.02"
      ]
     },
     "execution_count": 61,
     "metadata": {},
     "output_type": "execute_result"
    }
   ],
   "source": [
    "sum_tot = 0\n",
    "for val in cm_list:\n",
    "    sum_tot = sum_tot + val\n",
    "\n",
    "avg = sum_tot / len(cm_list)\n",
    "avg"
   ]
  },
  {
   "cell_type": "code",
   "execution_count": 64,
   "metadata": {},
   "outputs": [],
   "source": [
    "cm_list = []\n",
    "d_list = validate.Datum.drop_duplicates().tolist()\n",
    "for date in d_list:\n",
    "    df_test1 = validate[validate.Datum == date].drop('Datum', axis = 1)\n",
    "    df_test1['Pred'] = np.where(df_test1.VNUM.isin([1,2,3,4]),1,0)\n",
    "    df_test1['Facit'] =  np.where((df_test1.Pred == 1) & (df_test1.Y == 1) ,1,0)\n",
    "    cm_list.append(df_test1.Facit.sum())"
   ]
  },
  {
   "cell_type": "code",
   "execution_count": 65,
   "metadata": {},
   "outputs": [
    {
     "data": {
      "text/plain": [
       "5.56"
      ]
     },
     "execution_count": 65,
     "metadata": {},
     "output_type": "execute_result"
    }
   ],
   "source": [
    "sum_tot = 0\n",
    "for val in cm_list:\n",
    "    sum_tot = sum_tot + val\n",
    "\n",
    "avg = sum_tot / len(cm_list)\n",
    "avg"
   ]
  },
  {
   "cell_type": "code",
   "execution_count": 122,
   "metadata": {},
   "outputs": [],
   "source": [
    "RandomForestClassifier?"
   ]
  },
  {
   "cell_type": "markdown",
   "metadata": {},
   "source": [
    "__Nedan försöker vi optimera modellen med Gridsearch samt använder sig av hela datasetet med Cross validation__"
   ]
  },
  {
   "cell_type": "code",
   "execution_count": 185,
   "metadata": {},
   "outputs": [],
   "source": [
    "param_grid = { \n",
    "    'n_estimators': [10, 20, 30],\n",
    "    'max_features': ['auto', 'sqrt', 'log2'],\n",
    "    'criterion': ['gini', 'entropy']\n",
    "}"
   ]
  },
  {
   "cell_type": "code",
   "execution_count": 186,
   "metadata": {},
   "outputs": [],
   "source": [
    "# Allt data\n",
    "# Alla förklaringsvaribler i en multidimensionell array där kategrisvaribler har gjorts om till\n",
    "# dummyvariabler\n",
    "features = full_pipeline.fit_transform(df1)\n",
    "## En array som håller det vi vill predikter\n",
    "labels = df1[\"Y\"].copy()"
   ]
  },
  {
   "cell_type": "code",
   "execution_count": 187,
   "metadata": {},
   "outputs": [],
   "source": [
    "rf_all = RandomForestClassifier()"
   ]
  },
  {
   "cell_type": "code",
   "execution_count": 188,
   "metadata": {},
   "outputs": [
    {
     "data": {
      "text/plain": [
       "GridSearchCV(cv=5, error_score='raise',\n",
       "       estimator=RandomForestClassifier(bootstrap=True, class_weight=None, criterion='gini',\n",
       "            max_depth=None, max_features='auto', max_leaf_nodes=None,\n",
       "            min_impurity_decrease=0.0, min_impurity_split=None,\n",
       "            min_samples_leaf=1, min_samples_split=2,\n",
       "            min_weight_fraction_leaf=0.0, n_estimators=10, n_jobs=1,\n",
       "            oob_score=False, random_state=None, verbose=0,\n",
       "            warm_start=False),\n",
       "       fit_params=None, iid=True, n_jobs=1,\n",
       "       param_grid={'n_estimators': [10, 20, 30], 'max_features': ['auto', 'sqrt', 'log2'], 'criterion': ['gini', 'entropy']},\n",
       "       pre_dispatch='2*n_jobs', refit=True, return_train_score=True,\n",
       "       scoring='roc_auc', verbose=0)"
      ]
     },
     "execution_count": 188,
     "metadata": {},
     "output_type": "execute_result"
    }
   ],
   "source": [
    "# train across 5 folds, that's a total of (12+6)*5=90 rounds of training \n",
    "grid_search = GridSearchCV(rf_all, param_grid, cv=5, scoring = 'roc_auc' , return_train_score=True)\n",
    "grid_search.fit(features, labels)"
   ]
  },
  {
   "cell_type": "code",
   "execution_count": 189,
   "metadata": {},
   "outputs": [
    {
     "data": {
      "text/plain": [
       "{'criterion': 'entropy', 'max_features': 'log2', 'n_estimators': 30}"
      ]
     },
     "execution_count": 189,
     "metadata": {},
     "output_type": "execute_result"
    }
   ],
   "source": [
    "grid_search.best_params_"
   ]
  },
  {
   "cell_type": "markdown",
   "metadata": {},
   "source": [
    "__Nu stoppar vi in denna uppsättning i modellen och utvärderar__"
   ]
  },
  {
   "cell_type": "code",
   "execution_count": 121,
   "metadata": {},
   "outputs": [],
   "source": [
    "RandomForestClassifier?"
   ]
  },
  {
   "cell_type": "code",
   "execution_count": 190,
   "metadata": {},
   "outputs": [],
   "source": [
    "rf_opt = RandomForestClassifier(n_estimators = 30, max_features = 'log2', criterion = 'entropy' )"
   ]
  },
  {
   "cell_type": "code",
   "execution_count": 191,
   "metadata": {},
   "outputs": [],
   "source": [
    "scores_opt = cross_val_score(rf_opt , features, labels , scoring = \"roc_auc\", cv = 5 ) "
   ]
  },
  {
   "cell_type": "code",
   "execution_count": 192,
   "metadata": {},
   "outputs": [
    {
     "data": {
      "text/plain": [
       "array([0.78518984, 0.75488525, 0.76261823, 0.78956607, 0.76315154])"
      ]
     },
     "execution_count": 192,
     "metadata": {},
     "output_type": "execute_result"
    }
   ],
   "source": [
    "scores_opt "
   ]
  },
  {
   "cell_type": "code",
   "execution_count": 193,
   "metadata": {},
   "outputs": [
    {
     "data": {
      "text/plain": [
       "0.7710821852684175"
      ]
     },
     "execution_count": 193,
     "metadata": {},
     "output_type": "execute_result"
    }
   ],
   "source": [
    "scores_opt.mean()"
   ]
  },
  {
   "cell_type": "code",
   "execution_count": 199,
   "metadata": {},
   "outputs": [
    {
     "data": {
      "text/plain": [
       "RandomForestClassifier(bootstrap=True, class_weight=None, criterion='entropy',\n",
       "            max_depth=None, max_features='log2', max_leaf_nodes=None,\n",
       "            min_impurity_decrease=0.0, min_impurity_split=None,\n",
       "            min_samples_leaf=1, min_samples_split=2,\n",
       "            min_weight_fraction_leaf=0.0, n_estimators=30, n_jobs=1,\n",
       "            oob_score=False, random_state=None, verbose=0,\n",
       "            warm_start=False)"
      ]
     },
     "execution_count": 199,
     "metadata": {},
     "output_type": "execute_result"
    }
   ],
   "source": [
    "rf_opt.fit(features,labels)"
   ]
  },
  {
   "cell_type": "code",
   "execution_count": 200,
   "metadata": {},
   "outputs": [
    {
     "data": {
      "text/plain": [
       "['Travmodel_v4.pkl']"
      ]
     },
     "execution_count": 200,
     "metadata": {},
     "output_type": "execute_result"
    }
   ],
   "source": [
    "from sklearn.externals import joblib\n",
    "\n",
    "# Pipelineobjekt\n",
    "joblib.dump(full_pipeline, 'Pipeline_v4.pkl')\n",
    "\n",
    "# Modellobjekt\n",
    "joblib.dump(rf_opt, 'Travmodel_v4.pkl')"
   ]
  },
  {
   "cell_type": "markdown",
   "metadata": {},
   "source": [
    "__Deafault inställningen__"
   ]
  },
  {
   "cell_type": "code",
   "execution_count": 194,
   "metadata": {},
   "outputs": [],
   "source": [
    "rf = RandomForestClassifier()"
   ]
  },
  {
   "cell_type": "code",
   "execution_count": 195,
   "metadata": {},
   "outputs": [],
   "source": [
    "scores = cross_val_score(rf, features, labels , scoring = \"roc_auc\", cv = 5 ) "
   ]
  },
  {
   "cell_type": "code",
   "execution_count": 196,
   "metadata": {},
   "outputs": [
    {
     "data": {
      "text/plain": [
       "array([0.78309218, 0.70202422, 0.73213615, 0.7577677 , 0.69805734])"
      ]
     },
     "execution_count": 196,
     "metadata": {},
     "output_type": "execute_result"
    }
   ],
   "source": [
    "scores"
   ]
  },
  {
   "cell_type": "code",
   "execution_count": 197,
   "metadata": {},
   "outputs": [
    {
     "data": {
      "text/plain": [
       "0.7346155161968818"
      ]
     },
     "execution_count": 197,
     "metadata": {},
     "output_type": "execute_result"
    }
   ],
   "source": [
    "scores.mean()"
   ]
  },
  {
   "cell_type": "code",
   "execution_count": null,
   "metadata": {},
   "outputs": [],
   "source": []
  }
 ],
 "metadata": {
  "kernelspec": {
   "display_name": "Python 3",
   "language": "python",
   "name": "python3"
  },
  "language_info": {
   "codemirror_mode": {
    "name": "ipython",
    "version": 3
   },
   "file_extension": ".py",
   "mimetype": "text/x-python",
   "name": "python",
   "nbconvert_exporter": "python",
   "pygments_lexer": "ipython3",
   "version": "3.7.0"
  }
 },
 "nbformat": 4,
 "nbformat_minor": 2
}
