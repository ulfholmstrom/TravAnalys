{
 "cells": [
  {
   "cell_type": "markdown",
   "metadata": {},
   "source": [
    "__Adderar nytt data för att uppdatera modellen. Nytt data från 2019 och framåt__\n"
   ]
  },
  {
   "cell_type": "markdown",
   "metadata": {},
   "source": [
    "__Tar fram en modell med logistisk regression. En för data innan 2019 och en för 2019 för att se om något förändrats i data. Det ser vi genom att titta på modelparametrar__"
   ]
  },
  {
   "cell_type": "code",
   "execution_count": 1,
   "metadata": {},
   "outputs": [],
   "source": [
    "# Common imports\n",
    "import numpy as np\n",
    "import os\n",
    "import pandas as pd\n",
    "\n",
    "# to make this notebook's output stable across runs\n",
    "np.random.seed(42)\n",
    "\n",
    "# To plot pretty figures\n",
    "%matplotlib inline\n",
    "import matplotlib\n",
    "import matplotlib.pyplot as plt\n",
    "plt.rcParams['axes.labelsize'] = 14\n",
    "plt.rcParams['xtick.labelsize'] = 12\n",
    "plt.rcParams['ytick.labelsize'] = 12"
   ]
  },
  {
   "cell_type": "code",
   "execution_count": 2,
   "metadata": {},
   "outputs": [],
   "source": [
    "from sklearn.model_selection import GridSearchCV "
   ]
  },
  {
   "cell_type": "code",
   "execution_count": 3,
   "metadata": {},
   "outputs": [
    {
     "name": "stderr",
     "output_type": "stream",
     "text": [
      "/anaconda3/lib/python3.7/site-packages/sklearn/ensemble/weight_boosting.py:29: DeprecationWarning: numpy.core.umath_tests is an internal NumPy module and should not be imported. It will be removed in a future NumPy release.\n",
      "  from numpy.core.umath_tests import inner1d\n"
     ]
    }
   ],
   "source": [
    "# Necessary Sklearn objects used in the analysis\n",
    "from sklearn.metrics import roc_curve, auc\n",
    "from sklearn.ensemble import RandomForestClassifier \n",
    "from sklearn.metrics import confusion_matrix\n",
    "from sklearn import metrics\n",
    "from sklearn import preprocessing\n",
    "\n",
    "from sklearn.pipeline import Pipeline\n",
    "from sklearn.preprocessing import StandardScaler\n",
    "from sklearn.preprocessing import Imputer\n",
    "from sklearn.base import BaseEstimator, TransformerMixin\n",
    "from sklearn.pipeline import FeatureUnion\n",
    "from sklearn.model_selection import cross_val_score"
   ]
  },
  {
   "cell_type": "code",
   "execution_count": 4,
   "metadata": {},
   "outputs": [],
   "source": [
    "# Where to save the figures\n",
    "PROJECT_ROOT_DIR = os.getcwd()\n",
    "IMAGES_PATH = os.path.join(PROJECT_ROOT_DIR)"
   ]
  },
  {
   "cell_type": "code",
   "execution_count": 5,
   "metadata": {},
   "outputs": [],
   "source": [
    "def save_fig(fig_id, tight_layout=True, fig_extension=\"png\", resolution=300):\n",
    "    path = os.path.join(IMAGES_PATH, fig_id + \".\" + fig_extension)\n",
    "    print(\"Saving figure\", fig_id)\n",
    "    if tight_layout:\n",
    "        plt.tight_layout()\n",
    "    plt.savefig(path, format=fig_extension, dpi=resolution)"
   ]
  },
  {
   "cell_type": "code",
   "execution_count": 6,
   "metadata": {},
   "outputs": [],
   "source": [
    "df0 = pd.read_excel('DataV75TillUffe_2019-02-01_2.xlsx')"
   ]
  },
  {
   "cell_type": "code",
   "execution_count": 7,
   "metadata": {},
   "outputs": [],
   "source": [
    "# Skapar en unik nyckel på lopp: Gör om Datum och lopp till en sträng\n",
    "\n",
    "df0['cdate'] = df0.Datum.astype('object')\n",
    "df0['cLopp'] = df0.Lopp.astype('object')"
   ]
  },
  {
   "cell_type": "code",
   "execution_count": 8,
   "metadata": {},
   "outputs": [],
   "source": [
    "df0['Key'] = df0['cdate'].astype(str) + df0['cLopp'].astype(str)"
   ]
  },
  {
   "cell_type": "markdown",
   "metadata": {},
   "source": [
    "__Skapar en målvariabel - vinnare__"
   ]
  },
  {
   "cell_type": "code",
   "execution_count": 9,
   "metadata": {},
   "outputs": [],
   "source": [
    "df0['Y'] = np.where(df0['Plac'].isin([1]), 1,0)"
   ]
  },
  {
   "cell_type": "markdown",
   "metadata": {},
   "source": [
    "__Plockar bort de variabler som inte ska med__"
   ]
  },
  {
   "cell_type": "code",
   "execution_count": 10,
   "metadata": {},
   "outputs": [],
   "source": [
    "# Alla analysvariabler\n",
    "df1 = df0.copy(deep = True).set_index(['Key'])\n"
   ]
  },
  {
   "cell_type": "markdown",
   "metadata": {},
   "source": [
    "__Läser in nytt data från leif - Första omgången nytt data__"
   ]
  },
  {
   "cell_type": "code",
   "execution_count": 11,
   "metadata": {},
   "outputs": [],
   "source": [
    "df0_1 = pd.read_excel('UppdateradData.xlsx')\n",
    "\n",
    "# Skapar en unik nyckel på lopp: Gör om Datum och lopp till en sträng\n",
    "df0_1['cdate'] = df0_1.Datum.astype('object')\n",
    "df0_1['cLopp'] = df0_1.Lopp.astype('object')\n",
    "df0_1['Key'] = df0_1['cdate'].astype(str) + df0_1['cLopp'].astype(str)\n",
    "df0_1['Y'] = np.where(df0_1['Plac'].isin([1]), 1,0)\n",
    "df1_1 = df0_1.copy(deep = True).set_index(['Key'])\n"
   ]
  },
  {
   "cell_type": "code",
   "execution_count": 12,
   "metadata": {},
   "outputs": [
    {
     "data": {
      "text/plain": [
       "1723"
      ]
     },
     "execution_count": 12,
     "metadata": {},
     "output_type": "execute_result"
    }
   ],
   "source": [
    "len(df1_1)"
   ]
  },
  {
   "cell_type": "markdown",
   "metadata": {},
   "source": [
    "__Läser in nytt data från leif - Andra omgången nytt data__"
   ]
  },
  {
   "cell_type": "code",
   "execution_count": 13,
   "metadata": {},
   "outputs": [],
   "source": [
    "df0_2 = pd.read_excel('DataV75TillUffeS20190622.xlsx')"
   ]
  },
  {
   "cell_type": "code",
   "execution_count": 14,
   "metadata": {},
   "outputs": [],
   "source": [
    "\n",
    "# Skapar en unik nyckel på lopp: Gör om Datum och lopp till en sträng\n",
    "df0_2['cdate'] = df0_2.Datum.astype('object')\n",
    "df0_2['cLopp'] = df0_2.Lopp.astype('object')\n",
    "df0_2['Key'] = df0_2['cdate'].astype(str) + df0_2['cLopp'].astype(str)\n",
    "df0_2['Y'] = np.where(df0_2['Plac'].isin([1]), 1,0)\n",
    "df1_2 = df0_2.copy(deep = True).set_index(['Key'])"
   ]
  },
  {
   "cell_type": "markdown",
   "metadata": {},
   "source": [
    "__Nu konkatinerar vi ihop dessa datamängder och uppdaterar modellen__"
   ]
  },
  {
   "cell_type": "code",
   "execution_count": 15,
   "metadata": {},
   "outputs": [
    {
     "name": "stderr",
     "output_type": "stream",
     "text": [
      "/anaconda3/lib/python3.7/site-packages/ipykernel_launcher.py:1: FutureWarning: Sorting because non-concatenation axis is not aligned. A future version\n",
      "of pandas will change to not sort by default.\n",
      "\n",
      "To accept the future behavior, pass 'sort=False'.\n",
      "\n",
      "To retain the current behavior and silence the warning, pass 'sort=True'.\n",
      "\n",
      "  \"\"\"Entry point for launching an IPython kernel.\n"
     ]
    }
   ],
   "source": [
    "df1 = pd.concat(([df0, df1_1, df1_2]), axis = 0)"
   ]
  },
  {
   "cell_type": "code",
   "execution_count": 16,
   "metadata": {},
   "outputs": [
    {
     "name": "stdout",
     "output_type": "stream",
     "text": [
      "<class 'pandas.core.frame.DataFrame'>\n",
      "Index: 20758 entries, 0 to 2019-06-16 00:00:007\n",
      "Data columns (total 42 columns):\n",
      "A_R            17992 non-null float64\n",
      "Arstid         20758 non-null int64\n",
      "Datum          20758 non-null datetime64[ns]\n",
      "Distans        20758 non-null int64\n",
      "E_N            20758 non-null float64\n",
      "E_P            20758 non-null float64\n",
      "E_P_Num        20758 non-null int64\n",
      "E_R            20758 non-null float64\n",
      "E_U            19717 non-null float64\n",
      "Ex_R           12743 non-null float64\n",
      "GRUPP          20758 non-null int64\n",
      "G_R            19007 non-null float64\n",
      "Hast           20758 non-null int64\n",
      "Key            17994 non-null object\n",
      "Lopp           20758 non-null int64\n",
      "P_R            18510 non-null float64\n",
      "Plac           20758 non-null int64\n",
      "R_R            12743 non-null float64\n",
      "SP_R           7330 non-null float64\n",
      "SVLP           20758 non-null float64\n",
      "SVLPB          20758 non-null float64\n",
      "S_R            15358 non-null float64\n",
      "Startsatt      20758 non-null int64\n",
      "TK_R           12511 non-null float64\n",
      "T_R            19081 non-null float64\n",
      "ToR            17965 non-null float64\n",
      "Ts_R           20758 non-null int64\n",
      "Utdelning      17994 non-null float64\n",
      "V75PROC        20758 non-null float64\n",
      "VLP            20758 non-null float64\n",
      "VLPB           20758 non-null float64\n",
      "VNUM           20758 non-null int64\n",
      "VPK_SUM        20758 non-null float64\n",
      "VPK_SUM_ORD    20758 non-null int64\n",
      "VPN_SUM        20758 non-null float64\n",
      "VPN_SUM_ORD    20758 non-null int64\n",
      "VSVLP          20758 non-null float64\n",
      "VSVLPB         20758 non-null float64\n",
      "V_ODDS         20758 non-null float64\n",
      "Y              20758 non-null int64\n",
      "cLopp          20758 non-null object\n",
      "cdate          20758 non-null object\n",
      "dtypes: datetime64[ns](1), float64(25), int64(13), object(3)\n",
      "memory usage: 6.8+ MB\n"
     ]
    }
   ],
   "source": [
    "df1.info()"
   ]
  },
  {
   "cell_type": "code",
   "execution_count": 17,
   "metadata": {},
   "outputs": [],
   "source": [
    "# Plockar bort alla vnum 1-3, de ska med i uttaget\n",
    "# Plockar bort hästara i VNUM (1,2,3) som inte ska vara med\n",
    "df1 = df1[~df1.VNUM.isin([1,2,3])]    "
   ]
  },
  {
   "cell_type": "code",
   "execution_count": 18,
   "metadata": {},
   "outputs": [],
   "source": [
    "df1['Key'] = df1['cdate'].astype(str) + df1['cLopp'].astype(str)"
   ]
  },
  {
   "cell_type": "code",
   "execution_count": 19,
   "metadata": {},
   "outputs": [
    {
     "name": "stdout",
     "output_type": "stream",
     "text": [
      "<class 'pandas.core.frame.DataFrame'>\n",
      "Index: 15382 entries, 0 to 2019-06-16 00:00:007\n",
      "Data columns (total 42 columns):\n",
      "A_R            13330 non-null float64\n",
      "Arstid         15382 non-null int64\n",
      "Datum          15382 non-null datetime64[ns]\n",
      "Distans        15382 non-null int64\n",
      "E_N            15382 non-null float64\n",
      "E_P            15382 non-null float64\n",
      "E_P_Num        15382 non-null int64\n",
      "E_R            15382 non-null float64\n",
      "E_U            14614 non-null float64\n",
      "Ex_R           9446 non-null float64\n",
      "GRUPP          15382 non-null int64\n",
      "G_R            14093 non-null float64\n",
      "Hast           15382 non-null int64\n",
      "Key            15382 non-null object\n",
      "Lopp           15382 non-null int64\n",
      "P_R            13722 non-null float64\n",
      "Plac           15382 non-null int64\n",
      "R_R            9446 non-null float64\n",
      "SP_R           5440 non-null float64\n",
      "SVLP           15382 non-null float64\n",
      "SVLPB          15382 non-null float64\n",
      "S_R            11389 non-null float64\n",
      "Startsatt      15382 non-null int64\n",
      "TK_R           9277 non-null float64\n",
      "T_R            14146 non-null float64\n",
      "ToR            13324 non-null float64\n",
      "Ts_R           15382 non-null int64\n",
      "Utdelning      13332 non-null float64\n",
      "V75PROC        15382 non-null float64\n",
      "VLP            15382 non-null float64\n",
      "VLPB           15382 non-null float64\n",
      "VNUM           15382 non-null int64\n",
      "VPK_SUM        15382 non-null float64\n",
      "VPK_SUM_ORD    15382 non-null int64\n",
      "VPN_SUM        15382 non-null float64\n",
      "VPN_SUM_ORD    15382 non-null int64\n",
      "VSVLP          15382 non-null float64\n",
      "VSVLPB         15382 non-null float64\n",
      "V_ODDS         15382 non-null float64\n",
      "Y              15382 non-null int64\n",
      "cLopp          15382 non-null object\n",
      "cdate          15382 non-null object\n",
      "dtypes: datetime64[ns](1), float64(25), int64(13), object(3)\n",
      "memory usage: 5.0+ MB\n"
     ]
    }
   ],
   "source": [
    "df1.info()"
   ]
  },
  {
   "cell_type": "markdown",
   "metadata": {},
   "source": [
    "__Plockar bort de variabler som inte ska med__"
   ]
  },
  {
   "cell_type": "code",
   "execution_count": 20,
   "metadata": {},
   "outputs": [],
   "source": [
    "# Alla analysvariabler\n",
    "df1 = df1.drop(['Utdelning','Plac','cdate','cLopp','TK_R','Arstid','Startsatt', 'VNUM', 'GRUPP', 'Distans',\n",
    "               'cLopp','cdate','V75PROC', 'V_ODDS', 'S_R', 'SP_R'], axis = 1).set_index('Key')"
   ]
  },
  {
   "cell_type": "code",
   "execution_count": 21,
   "metadata": {},
   "outputs": [
    {
     "name": "stdout",
     "output_type": "stream",
     "text": [
      "<class 'pandas.core.frame.DataFrame'>\n",
      "Index: 15382 entries, 2016-05-21 00:00:001 to 2019-06-16 00:00:007\n",
      "Data columns (total 27 columns):\n",
      "A_R            13330 non-null float64\n",
      "Datum          15382 non-null datetime64[ns]\n",
      "E_N            15382 non-null float64\n",
      "E_P            15382 non-null float64\n",
      "E_P_Num        15382 non-null int64\n",
      "E_R            15382 non-null float64\n",
      "E_U            14614 non-null float64\n",
      "Ex_R           9446 non-null float64\n",
      "G_R            14093 non-null float64\n",
      "Hast           15382 non-null int64\n",
      "Lopp           15382 non-null int64\n",
      "P_R            13722 non-null float64\n",
      "R_R            9446 non-null float64\n",
      "SVLP           15382 non-null float64\n",
      "SVLPB          15382 non-null float64\n",
      "T_R            14146 non-null float64\n",
      "ToR            13324 non-null float64\n",
      "Ts_R           15382 non-null int64\n",
      "VLP            15382 non-null float64\n",
      "VLPB           15382 non-null float64\n",
      "VPK_SUM        15382 non-null float64\n",
      "VPK_SUM_ORD    15382 non-null int64\n",
      "VPN_SUM        15382 non-null float64\n",
      "VPN_SUM_ORD    15382 non-null int64\n",
      "VSVLP          15382 non-null float64\n",
      "VSVLPB         15382 non-null float64\n",
      "Y              15382 non-null int64\n",
      "dtypes: datetime64[ns](1), float64(19), int64(7)\n",
      "memory usage: 3.3+ MB\n"
     ]
    }
   ],
   "source": [
    "df1.info()"
   ]
  },
  {
   "cell_type": "code",
   "execution_count": 22,
   "metadata": {},
   "outputs": [],
   "source": [
    "num_attribs = [] \n",
    "cat_attribs = [] \n",
    "\n",
    "for var, typ in zip(df1.columns[:-1], df1.dtypes[:-1]): \n",
    "    if typ == 'object': \n",
    "        cat_attribs.append(var) \n",
    "    elif (typ != 'datetime64[ns]')  & (var != 'Hast') & (var != 'Lopp'): \n",
    "        num_attribs.append(var)"
   ]
  },
  {
   "cell_type": "code",
   "execution_count": 23,
   "metadata": {},
   "outputs": [
    {
     "data": {
      "text/plain": [
       "[]"
      ]
     },
     "execution_count": 23,
     "metadata": {},
     "output_type": "execute_result"
    }
   ],
   "source": [
    "cat_attribs "
   ]
  },
  {
   "cell_type": "code",
   "execution_count": 24,
   "metadata": {},
   "outputs": [
    {
     "data": {
      "text/plain": [
       "['A_R',\n",
       " 'E_N',\n",
       " 'E_P',\n",
       " 'E_P_Num',\n",
       " 'E_R',\n",
       " 'E_U',\n",
       " 'Ex_R',\n",
       " 'G_R',\n",
       " 'P_R',\n",
       " 'R_R',\n",
       " 'SVLP',\n",
       " 'SVLPB',\n",
       " 'T_R',\n",
       " 'ToR',\n",
       " 'Ts_R',\n",
       " 'VLP',\n",
       " 'VLPB',\n",
       " 'VPK_SUM',\n",
       " 'VPK_SUM_ORD',\n",
       " 'VPN_SUM',\n",
       " 'VPN_SUM_ORD',\n",
       " 'VSVLP',\n",
       " 'VSVLPB']"
      ]
     },
     "execution_count": 24,
     "metadata": {},
     "output_type": "execute_result"
    }
   ],
   "source": [
    "num_attribs "
   ]
  },
  {
   "cell_type": "markdown",
   "metadata": {},
   "source": [
    "__Nu bygger vi upp en pipeline__"
   ]
  },
  {
   "cell_type": "code",
   "execution_count": 25,
   "metadata": {},
   "outputs": [],
   "source": [
    "# Create a class to select numerical or categorical columns \n",
    "# since Scikit-Learn doesn't handle DataFrames yet\n",
    "# Denna klass måste vi göra för att särskilja numeriska variabler mot character variabler\n",
    "class DataFrameSelector(BaseEstimator, TransformerMixin):\n",
    "    def __init__(self, attribute_names):\n",
    "        self.attribute_names = attribute_names\n",
    "    def fit(self, X, y=None):\n",
    "        return self\n",
    "    def transform(self, X):\n",
    "        return X[self.attribute_names].values"
   ]
  },
  {
   "cell_type": "code",
   "execution_count": 26,
   "metadata": {},
   "outputs": [],
   "source": [
    "# Egen klass för att sätta dummyvariabler\n",
    "\n",
    "class SetDummyVar(BaseEstimator, TransformerMixin):\n",
    "    def __init__(self, attribute_names):\n",
    "        self.attribute_names = attribute_names\n",
    "    def fit(self, X, y=None):\n",
    "        return self\n",
    "    def transform(self, X):\n",
    "        tempdf = pd.get_dummies(X[self.attribute_names], columns = self.attribute_names)\n",
    "        return tempdf.values"
   ]
  },
  {
   "cell_type": "code",
   "execution_count": 27,
   "metadata": {},
   "outputs": [],
   "source": [
    "# Pipeline för numeriska variabler\n",
    "num_pipeline = Pipeline([\n",
    "        ('selector', DataFrameSelector(num_attribs)),\n",
    "        ('imputer', Imputer(strategy=\"median\"))\n",
    "    ])\n",
    "\n",
    "cat_pipeline = Pipeline([\n",
    "        ('dummy_cat', SetDummyVar(cat_attribs)),\n",
    "    ])"
   ]
  },
  {
   "cell_type": "code",
   "execution_count": 28,
   "metadata": {},
   "outputs": [],
   "source": [
    "full_pipeline = FeatureUnion(transformer_list=[\n",
    "        (\"num_pipeline\", num_pipeline),\n",
    "    ])"
   ]
  },
  {
   "cell_type": "code",
   "execution_count": 29,
   "metadata": {},
   "outputs": [],
   "source": [
    "df2 = df1.copy(deep = True)    "
   ]
  },
  {
   "cell_type": "markdown",
   "metadata": {},
   "source": [
    "__Nu plockar vi ut 52 (20%) v75 omgångar för att använda dem som test och utvärdera modellen på__"
   ]
  },
  {
   "cell_type": "code",
   "execution_count": 30,
   "metadata": {},
   "outputs": [],
   "source": [
    "df_2019 = df2[df2.Datum >= '2019-01-01']"
   ]
  },
  {
   "cell_type": "code",
   "execution_count": 31,
   "metadata": {},
   "outputs": [],
   "source": [
    "# Efter 2018\n",
    "features_2019 = full_pipeline.fit_transform(df_2019)\n",
    "## En array som håller det vi vill predikter\n",
    "label_2019 = df_2019[\"Y\"].copy()"
   ]
  },
  {
   "cell_type": "code",
   "execution_count": 32,
   "metadata": {},
   "outputs": [],
   "source": [
    "from sklearn.linear_model import LogisticRegression"
   ]
  },
  {
   "cell_type": "code",
   "execution_count": 59,
   "metadata": {},
   "outputs": [],
   "source": [
    "log_clf = LogisticRegression(solver=\"liblinear\", random_state=42)"
   ]
  },
  {
   "cell_type": "code",
   "execution_count": 51,
   "metadata": {},
   "outputs": [],
   "source": [
    "# Utvärderar styrkan i modellen - sätter hyperparametrarna och cross fold fem\n",
    "scores_opt_spik = cross_val_score(log_clf, features_2019,label_2019, scoring = \"roc_auc\", cv = 5 ) "
   ]
  },
  {
   "cell_type": "code",
   "execution_count": 52,
   "metadata": {},
   "outputs": [
    {
     "data": {
      "text/plain": [
       "array([0.66453726, 0.57493857, 0.87714988, 0.62014742, 0.6044226 ])"
      ]
     },
     "execution_count": 52,
     "metadata": {},
     "output_type": "execute_result"
    }
   ],
   "source": [
    "scores_opt_spik"
   ]
  },
  {
   "cell_type": "code",
   "execution_count": 53,
   "metadata": {},
   "outputs": [
    {
     "data": {
      "text/plain": [
       "0.6682391482391482"
      ]
     },
     "execution_count": 53,
     "metadata": {},
     "output_type": "execute_result"
    }
   ],
   "source": [
    "scores_opt_spik.mean()"
   ]
  },
  {
   "cell_type": "code",
   "execution_count": 35,
   "metadata": {},
   "outputs": [
    {
     "data": {
      "text/plain": [
       "array([0.68058968, 0.57739558, 0.87223587, 0.61015561, 0.57805078])"
      ]
     },
     "execution_count": 35,
     "metadata": {},
     "output_type": "execute_result"
    }
   ],
   "source": [
    "scores_opt_spik"
   ]
  },
  {
   "cell_type": "code",
   "execution_count": 36,
   "metadata": {},
   "outputs": [
    {
     "data": {
      "text/plain": [
       "0.6636855036855037"
      ]
     },
     "execution_count": 36,
     "metadata": {},
     "output_type": "execute_result"
    }
   ],
   "source": [
    "scores_opt_spik.mean()"
   ]
  },
  {
   "cell_type": "markdown",
   "metadata": {},
   "source": [
    "## Nu gör vi samma övning för 2019"
   ]
  },
  {
   "cell_type": "code",
   "execution_count": 55,
   "metadata": {},
   "outputs": [],
   "source": [
    "model_2019 = log_clf.fit(features_2019,label_2019)"
   ]
  },
  {
   "cell_type": "code",
   "execution_count": 56,
   "metadata": {},
   "outputs": [],
   "source": [
    "log_clf.fit(features_2019,label_2019)\n",
    "predict19 = log_clf.predict_proba(features_2019)"
   ]
  },
  {
   "cell_type": "code",
   "execution_count": 57,
   "metadata": {},
   "outputs": [
    {
     "name": "stdout",
     "output_type": "stream",
     "text": [
      "0.7305159705159705\n"
     ]
    }
   ],
   "source": [
    "fpr, tpr, threshold = roc_curve(label_2019,predict19[:,1])\n",
    "roc_auc = auc(fpr,tpr)\n",
    "print(roc_auc)"
   ]
  },
  {
   "cell_type": "code",
   "execution_count": 58,
   "metadata": {},
   "outputs": [
    {
     "name": "stdout",
     "output_type": "stream",
     "text": [
      "A_R: 0.146: 1.16\n",
      "E_N: -0.042: 0.96\n",
      "E_P: -0.018: 0.98\n",
      "E_P_Num: -0.192: 0.82\n",
      "E_R: -0.175: 0.84\n",
      "E_U: -0.043: 0.96\n",
      "Ex_R: 0.373: 1.45\n",
      "G_R: -0.042: 0.96\n",
      "P_R: 0.289: 1.33\n",
      "R_R: 0.109: 1.11\n",
      "SVLP: 0.06: 1.06\n",
      "SVLPB: -0.089: 0.91\n",
      "T_R: 0.137: 1.15\n",
      "ToR: 0.047: 1.05\n",
      "Ts_R: -0.004: 1.0\n",
      "VLP: -0.129: 0.88\n",
      "VLPB: 0.022: 1.02\n",
      "VPK_SUM: 0.032: 1.03\n",
      "VPK_SUM_ORD: -0.027: 0.97\n",
      "VPN_SUM: 0.14: 1.15\n",
      "VPN_SUM_ORD: 0.013: 1.01\n",
      "VSVLP: -0.15: 0.86\n",
      "VSVLPB: 0.072: 1.08\n"
     ]
    }
   ],
   "source": [
    "c_list_19 = model_2019.coef_.tolist()\n",
    "\n",
    "import math\n",
    "\n",
    "for var,par in zip(num_attribs, c_list_19[0]):\n",
    "    OddsRatio = math.exp(float(par))\n",
    "    print(var +':', str(round(par,3)) + ':', round(OddsRatio,2))"
   ]
  },
  {
   "cell_type": "code",
   "execution_count": 41,
   "metadata": {},
   "outputs": [
    {
     "data": {
      "text/html": [
       "<div>\n",
       "<style scoped>\n",
       "    .dataframe tbody tr th:only-of-type {\n",
       "        vertical-align: middle;\n",
       "    }\n",
       "\n",
       "    .dataframe tbody tr th {\n",
       "        vertical-align: top;\n",
       "    }\n",
       "\n",
       "    .dataframe thead th {\n",
       "        text-align: right;\n",
       "    }\n",
       "</style>\n",
       "<table border=\"1\" class=\"dataframe\">\n",
       "  <thead>\n",
       "    <tr style=\"text-align: right;\">\n",
       "      <th></th>\n",
       "      <th>Rank</th>\n",
       "      <th>Parameter</th>\n",
       "      <th>Oddskvot</th>\n",
       "    </tr>\n",
       "  </thead>\n",
       "  <tbody>\n",
       "    <tr>\n",
       "      <th>0</th>\n",
       "      <td>A_R</td>\n",
       "      <td>0.162652</td>\n",
       "      <td>1.18</td>\n",
       "    </tr>\n",
       "    <tr>\n",
       "      <th>1</th>\n",
       "      <td>E_N</td>\n",
       "      <td>-0.041226</td>\n",
       "      <td>0.96</td>\n",
       "    </tr>\n",
       "    <tr>\n",
       "      <th>2</th>\n",
       "      <td>E_P</td>\n",
       "      <td>-0.126850</td>\n",
       "      <td>0.88</td>\n",
       "    </tr>\n",
       "    <tr>\n",
       "      <th>3</th>\n",
       "      <td>E_P_Num</td>\n",
       "      <td>-0.194722</td>\n",
       "      <td>0.82</td>\n",
       "    </tr>\n",
       "    <tr>\n",
       "      <th>4</th>\n",
       "      <td>E_R</td>\n",
       "      <td>-0.385579</td>\n",
       "      <td>0.68</td>\n",
       "    </tr>\n",
       "    <tr>\n",
       "      <th>5</th>\n",
       "      <td>E_U</td>\n",
       "      <td>-0.012159</td>\n",
       "      <td>0.99</td>\n",
       "    </tr>\n",
       "    <tr>\n",
       "      <th>6</th>\n",
       "      <td>Ex_R</td>\n",
       "      <td>0.415000</td>\n",
       "      <td>1.51</td>\n",
       "    </tr>\n",
       "    <tr>\n",
       "      <th>7</th>\n",
       "      <td>G_R</td>\n",
       "      <td>-0.052136</td>\n",
       "      <td>0.95</td>\n",
       "    </tr>\n",
       "    <tr>\n",
       "      <th>8</th>\n",
       "      <td>P_R</td>\n",
       "      <td>0.320040</td>\n",
       "      <td>1.38</td>\n",
       "    </tr>\n",
       "    <tr>\n",
       "      <th>9</th>\n",
       "      <td>R_R</td>\n",
       "      <td>0.118590</td>\n",
       "      <td>1.13</td>\n",
       "    </tr>\n",
       "    <tr>\n",
       "      <th>10</th>\n",
       "      <td>SVLP</td>\n",
       "      <td>0.098823</td>\n",
       "      <td>1.10</td>\n",
       "    </tr>\n",
       "    <tr>\n",
       "      <th>11</th>\n",
       "      <td>SVLPB</td>\n",
       "      <td>-0.157837</td>\n",
       "      <td>0.85</td>\n",
       "    </tr>\n",
       "    <tr>\n",
       "      <th>12</th>\n",
       "      <td>T_R</td>\n",
       "      <td>0.159141</td>\n",
       "      <td>1.17</td>\n",
       "    </tr>\n",
       "    <tr>\n",
       "      <th>13</th>\n",
       "      <td>ToR</td>\n",
       "      <td>0.046469</td>\n",
       "      <td>1.05</td>\n",
       "    </tr>\n",
       "    <tr>\n",
       "      <th>14</th>\n",
       "      <td>Ts_R</td>\n",
       "      <td>-0.025013</td>\n",
       "      <td>0.98</td>\n",
       "    </tr>\n",
       "    <tr>\n",
       "      <th>15</th>\n",
       "      <td>VLP</td>\n",
       "      <td>-0.119343</td>\n",
       "      <td>0.89</td>\n",
       "    </tr>\n",
       "    <tr>\n",
       "      <th>16</th>\n",
       "      <td>VLPB</td>\n",
       "      <td>0.027883</td>\n",
       "      <td>1.03</td>\n",
       "    </tr>\n",
       "    <tr>\n",
       "      <th>17</th>\n",
       "      <td>VPK_SUM</td>\n",
       "      <td>0.153836</td>\n",
       "      <td>1.17</td>\n",
       "    </tr>\n",
       "    <tr>\n",
       "      <th>18</th>\n",
       "      <td>VPK_SUM_ORD</td>\n",
       "      <td>-0.021882</td>\n",
       "      <td>0.98</td>\n",
       "    </tr>\n",
       "    <tr>\n",
       "      <th>19</th>\n",
       "      <td>VPN_SUM</td>\n",
       "      <td>0.752721</td>\n",
       "      <td>2.12</td>\n",
       "    </tr>\n",
       "    <tr>\n",
       "      <th>20</th>\n",
       "      <td>VPN_SUM_ORD</td>\n",
       "      <td>0.065985</td>\n",
       "      <td>1.07</td>\n",
       "    </tr>\n",
       "    <tr>\n",
       "      <th>21</th>\n",
       "      <td>VSVLP</td>\n",
       "      <td>-0.298061</td>\n",
       "      <td>0.74</td>\n",
       "    </tr>\n",
       "    <tr>\n",
       "      <th>22</th>\n",
       "      <td>VSVLPB</td>\n",
       "      <td>0.113591</td>\n",
       "      <td>1.12</td>\n",
       "    </tr>\n",
       "  </tbody>\n",
       "</table>\n",
       "</div>"
      ],
      "text/plain": [
       "           Rank  Parameter  Oddskvot\n",
       "0           A_R   0.162652      1.18\n",
       "1           E_N  -0.041226      0.96\n",
       "2           E_P  -0.126850      0.88\n",
       "3       E_P_Num  -0.194722      0.82\n",
       "4           E_R  -0.385579      0.68\n",
       "5           E_U  -0.012159      0.99\n",
       "6          Ex_R   0.415000      1.51\n",
       "7           G_R  -0.052136      0.95\n",
       "8           P_R   0.320040      1.38\n",
       "9           R_R   0.118590      1.13\n",
       "10         SVLP   0.098823      1.10\n",
       "11        SVLPB  -0.157837      0.85\n",
       "12          T_R   0.159141      1.17\n",
       "13          ToR   0.046469      1.05\n",
       "14         Ts_R  -0.025013      0.98\n",
       "15          VLP  -0.119343      0.89\n",
       "16         VLPB   0.027883      1.03\n",
       "17      VPK_SUM   0.153836      1.17\n",
       "18  VPK_SUM_ORD  -0.021882      0.98\n",
       "19      VPN_SUM   0.752721      2.12\n",
       "20  VPN_SUM_ORD   0.065985      1.07\n",
       "21        VSVLP  -0.298061      0.74\n",
       "22       VSVLPB   0.113591      1.12"
      ]
     },
     "execution_count": 41,
     "metadata": {},
     "output_type": "execute_result"
    }
   ],
   "source": [
    "rank = []\n",
    "parlist = []\n",
    "oddsr = []\n",
    "for var, par in zip(num_attribs, c_list_19[0]):\n",
    "    OddsRatio = math.exp(float(par))\n",
    "    rank.append(var)\n",
    "    parlist.append(par)\n",
    "    oddsr.append(round(OddsRatio,2)) \n",
    "    \n",
    "dictlist = {'Rank':rank, 'Parameter': parlist, 'Oddskvot': oddsr}\n",
    "# Konverterar till Dataframe\n",
    "df_val_19 = pd.DataFrame.from_dict(dictlist)\n",
    "df_val_19\n"
   ]
  },
  {
   "cell_type": "code",
   "execution_count": 42,
   "metadata": {},
   "outputs": [
    {
     "data": {
      "text/plain": [
       "['Travmodel_v8.pkl']"
      ]
     },
     "execution_count": 42,
     "metadata": {},
     "output_type": "execute_result"
    }
   ],
   "source": [
    "from sklearn.externals import joblib\n",
    "\n",
    "# Pipelineobjekt\n",
    "#joblib.dump(full_pipeline, 'Pipeline_v8.pkl')\n",
    "\n",
    "# Modellobjekt\n",
    "#joblib.dump(model_2019, 'Travmodel_v8.pkl')"
   ]
  },
  {
   "cell_type": "code",
   "execution_count": null,
   "metadata": {},
   "outputs": [],
   "source": []
  }
 ],
 "metadata": {
  "kernelspec": {
   "display_name": "Python 3",
   "language": "python",
   "name": "python3"
  },
  "language_info": {
   "codemirror_mode": {
    "name": "ipython",
    "version": 3
   },
   "file_extension": ".py",
   "mimetype": "text/x-python",
   "name": "python",
   "nbconvert_exporter": "python",
   "pygments_lexer": "ipython3",
   "version": "3.7.0"
  }
 },
 "nbformat": 4,
 "nbformat_minor": 2
}
