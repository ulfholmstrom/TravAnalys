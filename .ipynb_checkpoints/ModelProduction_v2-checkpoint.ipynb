{
 "cells": [
  {
   "cell_type": "markdown",
   "metadata": {},
   "source": [
    "__Vi bygger om logiken för att plocka ut 24 hästar__"
   ]
  },
  {
   "cell_type": "code",
   "execution_count": 1,
   "metadata": {},
   "outputs": [],
   "source": [
    "# Common imports\n",
    "import numpy as np\n",
    "import os\n",
    "import pandas as pd\n",
    "\n",
    "\n",
    "# to make this notebook's output stable across runs\n",
    "np.random.seed(42)\n",
    "\n",
    "# To plot pretty figures\n",
    "%matplotlib inline\n",
    "import matplotlib\n",
    "import matplotlib.pyplot as plt\n",
    "plt.rcParams['axes.labelsize'] = 14\n",
    "plt.rcParams['xtick.labelsize'] = 12\n",
    "plt.rcParams['ytick.labelsize'] = 12"
   ]
  },
  {
   "cell_type": "code",
   "execution_count": 2,
   "metadata": {},
   "outputs": [
    {
     "name": "stderr",
     "output_type": "stream",
     "text": [
      "/anaconda3/lib/python3.7/site-packages/sklearn/ensemble/weight_boosting.py:29: DeprecationWarning: numpy.core.umath_tests is an internal NumPy module and should not be imported. It will be removed in a future NumPy release.\n",
      "  from numpy.core.umath_tests import inner1d\n"
     ]
    }
   ],
   "source": [
    "# Necessary Sklearn objects used in the analysis\n",
    "from sklearn.metrics import roc_curve, auc\n",
    "from sklearn.ensemble import RandomForestClassifier \n",
    "from sklearn.metrics import confusion_matrix\n",
    "from sklearn import metrics\n",
    "from sklearn import preprocessing\n",
    "\n",
    "from sklearn.pipeline import Pipeline\n",
    "from sklearn.preprocessing import StandardScaler\n",
    "from sklearn.preprocessing import Imputer\n",
    "from sklearn.base import BaseEstimator, TransformerMixin\n",
    "from sklearn.pipeline import FeatureUnion"
   ]
  },
  {
   "cell_type": "code",
   "execution_count": 3,
   "metadata": {},
   "outputs": [],
   "source": [
    "from DataPipeline import DataFrameSelector\n",
    "from DataPipeline import SetDummyVar\n",
    "from sklearn.externals import joblib"
   ]
  },
  {
   "cell_type": "markdown",
   "metadata": {},
   "source": [
    "__Läser in filen som ska köras__"
   ]
  },
  {
   "cell_type": "code",
   "execution_count": 4,
   "metadata": {},
   "outputs": [],
   "source": [
    "df1 = pd.read_excel('RealDataV75TillUffeF20190309.xlsx')"
   ]
  },
  {
   "cell_type": "code",
   "execution_count": 5,
   "metadata": {},
   "outputs": [],
   "source": [
    "df1 = df1.sort_values(['Lopp','Hast'], ascending = ['True','False']).reset_index()"
   ]
  },
  {
   "cell_type": "code",
   "execution_count": 6,
   "metadata": {},
   "outputs": [],
   "source": [
    "# Importera model som ska användas\n",
    "rf = joblib.load('Travmodel_v2.pkl')\n"
   ]
  },
  {
   "cell_type": "code",
   "execution_count": 7,
   "metadata": {},
   "outputs": [],
   "source": [
    "# Import av datapipeline som ska användas\n",
    "full_pipeline = joblib.load('Pipeline_v2.pkl')"
   ]
  },
  {
   "cell_type": "markdown",
   "metadata": {},
   "source": [
    "__Definierar de variabler som ska användas i datasetet__"
   ]
  },
  {
   "cell_type": "code",
   "execution_count": 8,
   "metadata": {},
   "outputs": [],
   "source": [
    "# Kategorivariabel\n",
    "cat_attribs = ['GRUPP']\n",
    "# Numerisk variabel \n",
    "\n",
    "num_attribs = ['VLP',\n",
    " 'SVLP',\n",
    " 'VSVLP',\n",
    " 'VPN_SUM',\n",
    " 'VPN_SUM_ORD',\n",
    " 'VPK_SUM',\n",
    " 'VPK_SUM_ORD',\n",
    " 'VLPB',\n",
    " 'SVLPB',\n",
    " 'VSVLPB',\n",
    " 'E_P',\n",
    " 'E_P_Num',\n",
    " 'E_N',\n",
    " 'E_R',\n",
    " 'E_U',\n",
    " 'G_R',\n",
    " 'A_R',\n",
    " 'T_R',\n",
    " 'SP_R',\n",
    " 'ToR',\n",
    " 'P_R',\n",
    " 'Ex_R',\n",
    " 'R_R',\n",
    " 'Ts_R']"
   ]
  },
  {
   "cell_type": "markdown",
   "metadata": {},
   "source": [
    "__Kör modellen och plockar fram de 24 hästarna med högst score__"
   ]
  },
  {
   "cell_type": "code",
   "execution_count": 9,
   "metadata": {},
   "outputs": [],
   "source": [
    "\n",
    "df1['GRUPP'] = df1.GRUPP.astype('object')\n",
    "features = full_pipeline.fit_transform(df1)\n",
    "predict = rf.predict_proba(features)\n",
    "\n",
    "predict_cutoff = pd.DataFrame({'Prob0':predict[:,0],'Prob1':predict[:,1]}).sort_values('Prob1', ascending = False).iloc[24]['Prob1']\n",
    "\n",
    "\n",
    "y_pred = np.where( predict[:,1] > predict_cutoff,1,0)"
   ]
  },
  {
   "cell_type": "code",
   "execution_count": 10,
   "metadata": {},
   "outputs": [],
   "source": [
    "# Gör om scorad array till en lista - multidimensionell\n",
    "stack = predict.tolist()"
   ]
  },
  {
   "cell_type": "code",
   "execution_count": 11,
   "metadata": {},
   "outputs": [],
   "source": [
    "# Sedan plockar vi den scorade sannolikheten att vara vinnare - 1\n",
    "# Transformerar denna sannolikhet till en dataframe\n",
    "last = []\n",
    "for x in stack:\n",
    "    last.append(x[1])\n",
    "scored = {'Score':last}\n",
    "# Konverterar till Dataframe\n",
    "df_scored = pd.DataFrame.from_dict(scored)"
   ]
  },
  {
   "cell_type": "code",
   "execution_count": 12,
   "metadata": {},
   "outputs": [],
   "source": [
    "# Gör om till lista och stoppar in i ett dictionary\n",
    "pred = y_pred.tolist()\n",
    "prediction = {'Predict':pred}\n",
    "# Konverterar till Dataframe\n",
    "df_pred = pd.DataFrame.from_dict(prediction)"
   ]
  },
  {
   "cell_type": "code",
   "execution_count": 13,
   "metadata": {},
   "outputs": [],
   "source": [
    "df_predict1 = df1.merge(df_pred, right_index = True, left_index = True)\n",
    "df_predict2 = df_predict1.merge(df_scored,  right_index = True, left_index = True) "
   ]
  },
  {
   "cell_type": "code",
   "execution_count": 14,
   "metadata": {},
   "outputs": [
    {
     "data": {
      "text/html": [
       "<div>\n",
       "<style scoped>\n",
       "    .dataframe tbody tr th:only-of-type {\n",
       "        vertical-align: middle;\n",
       "    }\n",
       "\n",
       "    .dataframe tbody tr th {\n",
       "        vertical-align: top;\n",
       "    }\n",
       "\n",
       "    .dataframe thead th {\n",
       "        text-align: right;\n",
       "    }\n",
       "</style>\n",
       "<table border=\"1\" class=\"dataframe\">\n",
       "  <thead>\n",
       "    <tr style=\"text-align: right;\">\n",
       "      <th></th>\n",
       "      <th>Lopp</th>\n",
       "      <th>Hast</th>\n",
       "      <th>Score</th>\n",
       "    </tr>\n",
       "  </thead>\n",
       "  <tbody>\n",
       "    <tr>\n",
       "      <th>1</th>\n",
       "      <td>1</td>\n",
       "      <td>2</td>\n",
       "      <td>0.378066</td>\n",
       "    </tr>\n",
       "    <tr>\n",
       "      <th>8</th>\n",
       "      <td>1</td>\n",
       "      <td>9</td>\n",
       "      <td>0.219660</td>\n",
       "    </tr>\n",
       "    <tr>\n",
       "      <th>2</th>\n",
       "      <td>1</td>\n",
       "      <td>3</td>\n",
       "      <td>0.171713</td>\n",
       "    </tr>\n",
       "    <tr>\n",
       "      <th>23</th>\n",
       "      <td>2</td>\n",
       "      <td>13</td>\n",
       "      <td>0.258807</td>\n",
       "    </tr>\n",
       "    <tr>\n",
       "      <th>18</th>\n",
       "      <td>2</td>\n",
       "      <td>8</td>\n",
       "      <td>0.190070</td>\n",
       "    </tr>\n",
       "    <tr>\n",
       "      <th>20</th>\n",
       "      <td>2</td>\n",
       "      <td>10</td>\n",
       "      <td>0.126456</td>\n",
       "    </tr>\n",
       "    <tr>\n",
       "      <th>30</th>\n",
       "      <td>3</td>\n",
       "      <td>5</td>\n",
       "      <td>0.575681</td>\n",
       "    </tr>\n",
       "    <tr>\n",
       "      <th>34</th>\n",
       "      <td>3</td>\n",
       "      <td>9</td>\n",
       "      <td>0.194347</td>\n",
       "    </tr>\n",
       "    <tr>\n",
       "      <th>35</th>\n",
       "      <td>3</td>\n",
       "      <td>10</td>\n",
       "      <td>0.145349</td>\n",
       "    </tr>\n",
       "    <tr>\n",
       "      <th>38</th>\n",
       "      <td>4</td>\n",
       "      <td>3</td>\n",
       "      <td>0.203195</td>\n",
       "    </tr>\n",
       "    <tr>\n",
       "      <th>46</th>\n",
       "      <td>4</td>\n",
       "      <td>11</td>\n",
       "      <td>0.140406</td>\n",
       "    </tr>\n",
       "    <tr>\n",
       "      <th>36</th>\n",
       "      <td>4</td>\n",
       "      <td>1</td>\n",
       "      <td>0.135452</td>\n",
       "    </tr>\n",
       "    <tr>\n",
       "      <th>50</th>\n",
       "      <td>4</td>\n",
       "      <td>15</td>\n",
       "      <td>0.112834</td>\n",
       "    </tr>\n",
       "    <tr>\n",
       "      <th>55</th>\n",
       "      <td>5</td>\n",
       "      <td>5</td>\n",
       "      <td>0.253551</td>\n",
       "    </tr>\n",
       "    <tr>\n",
       "      <th>51</th>\n",
       "      <td>5</td>\n",
       "      <td>1</td>\n",
       "      <td>0.202722</td>\n",
       "    </tr>\n",
       "    <tr>\n",
       "      <th>60</th>\n",
       "      <td>5</td>\n",
       "      <td>10</td>\n",
       "      <td>0.150157</td>\n",
       "    </tr>\n",
       "    <tr>\n",
       "      <th>71</th>\n",
       "      <td>6</td>\n",
       "      <td>9</td>\n",
       "      <td>0.332157</td>\n",
       "    </tr>\n",
       "    <tr>\n",
       "      <th>70</th>\n",
       "      <td>6</td>\n",
       "      <td>8</td>\n",
       "      <td>0.181699</td>\n",
       "    </tr>\n",
       "    <tr>\n",
       "      <th>63</th>\n",
       "      <td>6</td>\n",
       "      <td>1</td>\n",
       "      <td>0.156092</td>\n",
       "    </tr>\n",
       "    <tr>\n",
       "      <th>64</th>\n",
       "      <td>6</td>\n",
       "      <td>2</td>\n",
       "      <td>0.108779</td>\n",
       "    </tr>\n",
       "    <tr>\n",
       "      <th>73</th>\n",
       "      <td>7</td>\n",
       "      <td>1</td>\n",
       "      <td>0.342030</td>\n",
       "    </tr>\n",
       "    <tr>\n",
       "      <th>78</th>\n",
       "      <td>7</td>\n",
       "      <td>6</td>\n",
       "      <td>0.151455</td>\n",
       "    </tr>\n",
       "    <tr>\n",
       "      <th>82</th>\n",
       "      <td>7</td>\n",
       "      <td>10</td>\n",
       "      <td>0.125200</td>\n",
       "    </tr>\n",
       "    <tr>\n",
       "      <th>74</th>\n",
       "      <td>7</td>\n",
       "      <td>2</td>\n",
       "      <td>0.120382</td>\n",
       "    </tr>\n",
       "  </tbody>\n",
       "</table>\n",
       "</div>"
      ],
      "text/plain": [
       "    Lopp  Hast     Score\n",
       "1      1     2  0.378066\n",
       "8      1     9  0.219660\n",
       "2      1     3  0.171713\n",
       "23     2    13  0.258807\n",
       "18     2     8  0.190070\n",
       "20     2    10  0.126456\n",
       "30     3     5  0.575681\n",
       "34     3     9  0.194347\n",
       "35     3    10  0.145349\n",
       "38     4     3  0.203195\n",
       "46     4    11  0.140406\n",
       "36     4     1  0.135452\n",
       "50     4    15  0.112834\n",
       "55     5     5  0.253551\n",
       "51     5     1  0.202722\n",
       "60     5    10  0.150157\n",
       "71     6     9  0.332157\n",
       "70     6     8  0.181699\n",
       "63     6     1  0.156092\n",
       "64     6     2  0.108779\n",
       "73     7     1  0.342030\n",
       "78     7     6  0.151455\n",
       "82     7    10  0.125200\n",
       "74     7     2  0.120382"
      ]
     },
     "execution_count": 14,
     "metadata": {},
     "output_type": "execute_result"
    }
   ],
   "source": [
    "df1_out = df_predict2[df_predict2.Predict == 1][['Lopp','Hast','Score']]. \\\n",
    "sort_values(['Lopp','Score'], ascending = [True,False])\n",
    "df1_out"
   ]
  },
  {
   "cell_type": "markdown",
   "metadata": {},
   "source": [
    "__Export till excel__"
   ]
  },
  {
   "cell_type": "code",
   "execution_count": 15,
   "metadata": {},
   "outputs": [],
   "source": [
    "df1_out.to_excel('Outtake20190309.xlsx', index = False)"
   ]
  },
  {
   "cell_type": "code",
   "execution_count": null,
   "metadata": {},
   "outputs": [],
   "source": []
  }
 ],
 "metadata": {
  "kernelspec": {
   "display_name": "Python 3",
   "language": "python",
   "name": "python3"
  },
  "language_info": {
   "codemirror_mode": {
    "name": "ipython",
    "version": 3
   },
   "file_extension": ".py",
   "mimetype": "text/x-python",
   "name": "python",
   "nbconvert_exporter": "python",
   "pygments_lexer": "ipython3",
   "version": "3.7.0"
  }
 },
 "nbformat": 4,
 "nbformat_minor": 2
}
