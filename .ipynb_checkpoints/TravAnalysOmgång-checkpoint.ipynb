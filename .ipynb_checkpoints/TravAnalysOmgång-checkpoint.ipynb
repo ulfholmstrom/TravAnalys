{
 "cells": [
  {
   "cell_type": "markdown",
   "metadata": {},
   "source": [
    "__Sorteringen ska visa svårighetsgraden på omgången. Ju högre svårighetsgrad desto mer hästar måste med. Vill skapa en score som sammanfattar loppet. Datat ligger på hästnivå, hästen springer i ett specifikt lopp__"
   ]
  },
  {
   "cell_type": "markdown",
   "metadata": {},
   "source": [
    "__Ta bort VNUM, ODDS samt V75procent__"
   ]
  },
  {
   "cell_type": "markdown",
   "metadata": {},
   "source": [
    "__Loppnivå - Vill rangordna alla hästar. Skala bort de hästar med minst sannolikhet att vinna__"
   ]
  },
  {
   "cell_type": "code",
   "execution_count": 1,
   "metadata": {},
   "outputs": [],
   "source": [
    "import pandas as pd\n",
    "import numpy as np\n",
    "from datetime import datetime\n",
    "\n",
    "from sklearn.preprocessing import OneHotEncoder\n",
    "from sklearn.linear_model import LogisticRegression\n",
    "from sklearn.compose import make_column_transformer\n",
    "from sklearn.pipeline import make_pipeline"
   ]
  },
  {
   "cell_type": "code",
   "execution_count": 2,
   "metadata": {},
   "outputs": [],
   "source": [
    "import matplotlib.pyplot as plt\n",
    "import seaborn as sns"
   ]
  },
  {
   "cell_type": "code",
   "execution_count": 3,
   "metadata": {},
   "outputs": [],
   "source": [
    "# Necessary Sklearn objects used in the analysis\n",
    "from sklearn.metrics import roc_curve, auc\n",
    "from sklearn.ensemble import RandomForestClassifier \n",
    "from sklearn.metrics import confusion_matrix\n",
    "from sklearn import metrics\n",
    "from sklearn import preprocessing\n",
    "\n",
    "from sklearn.preprocessing import StandardScaler\n",
    "from sklearn.preprocessing import Imputer\n"
   ]
  },
  {
   "cell_type": "code",
   "execution_count": 4,
   "metadata": {},
   "outputs": [],
   "source": [
    "df0 = pd.read_excel('AllData.xlsx')"
   ]
  },
  {
   "cell_type": "code",
   "execution_count": 5,
   "metadata": {},
   "outputs": [],
   "source": [
    "df0['y'] = np.where(df0.Plac == 1,1,0)"
   ]
  },
  {
   "cell_type": "code",
   "execution_count": 6,
   "metadata": {},
   "outputs": [],
   "source": [
    "df0['cdate'] = df0.Datum.astype('object')\n",
    "df0['clopp'] = df0.Lopp.astype('object')"
   ]
  },
  {
   "cell_type": "code",
   "execution_count": 7,
   "metadata": {},
   "outputs": [
    {
     "data": {
      "text/plain": [
       "24585"
      ]
     },
     "execution_count": 7,
     "metadata": {},
     "output_type": "execute_result"
    }
   ],
   "source": [
    "len(df0)"
   ]
  },
  {
   "cell_type": "code",
   "execution_count": 8,
   "metadata": {},
   "outputs": [],
   "source": [
    "allcols = ['Datum', 'Lopp','Arstid','Distans','Startsatt','GRUPP','VLP','SVLP','VSVLP','VPN_SUM','VPN_SUM','VPN_SUM_ORD','VPK_SUM',\n",
    "        'VPK_SUM_ORD','VLPB','SVLPB','VSVLPB','E_P','E_P_Num','E_N','E_R','E_U','G_R','A_R','T_R','SP_R','ToR',\n",
    "       'P_R','TK_R','Ex_R','R_R','Ts_R','y']"
   ]
  },
  {
   "cell_type": "code",
   "execution_count": 9,
   "metadata": {},
   "outputs": [],
   "source": [
    "df2 = df0.dropna()[allcols]"
   ]
  },
  {
   "cell_type": "code",
   "execution_count": 10,
   "metadata": {},
   "outputs": [
    {
     "name": "stdout",
     "output_type": "stream",
     "text": [
      "<class 'pandas.core.frame.DataFrame'>\n",
      "Int64Index: 10838 entries, 7799 to 24584\n",
      "Data columns (total 33 columns):\n",
      "Datum          10838 non-null datetime64[ns]\n",
      "Lopp           10838 non-null int64\n",
      "Arstid         10838 non-null int64\n",
      "Distans        10838 non-null int64\n",
      "Startsatt      10838 non-null int64\n",
      "GRUPP          10838 non-null int64\n",
      "VLP            10838 non-null float64\n",
      "SVLP           10838 non-null float64\n",
      "VSVLP          10838 non-null float64\n",
      "VPN_SUM        10838 non-null float64\n",
      "VPN_SUM        10838 non-null float64\n",
      "VPN_SUM_ORD    10838 non-null int64\n",
      "VPK_SUM        10838 non-null float64\n",
      "VPK_SUM_ORD    10838 non-null float64\n",
      "VLPB           10838 non-null float64\n",
      "SVLPB          10838 non-null float64\n",
      "VSVLPB         10838 non-null float64\n",
      "E_P            10838 non-null float64\n",
      "E_P_Num        10838 non-null int64\n",
      "E_N            10838 non-null float64\n",
      "E_R            10838 non-null float64\n",
      "E_U            10838 non-null float64\n",
      "G_R            10838 non-null float64\n",
      "A_R            10838 non-null float64\n",
      "T_R            10838 non-null float64\n",
      "SP_R           10838 non-null float64\n",
      "ToR            10838 non-null float64\n",
      "P_R            10838 non-null float64\n",
      "TK_R           10838 non-null float64\n",
      "Ex_R           10838 non-null float64\n",
      "R_R            10838 non-null float64\n",
      "Ts_R           10838 non-null int64\n",
      "y              10838 non-null int64\n",
      "dtypes: datetime64[ns](1), float64(23), int64(9)\n",
      "memory usage: 2.8 MB\n"
     ]
    }
   ],
   "source": [
    "df2.info()"
   ]
  },
  {
   "cell_type": "code",
   "execution_count": 62,
   "metadata": {},
   "outputs": [],
   "source": [
    "df2['Arsttid'] = df2.Arstid.astype('str')"
   ]
  },
  {
   "cell_type": "code",
   "execution_count": 63,
   "metadata": {},
   "outputs": [],
   "source": [
    "df2['Distans'] = df2.Distans.astype('str')"
   ]
  },
  {
   "cell_type": "code",
   "execution_count": 64,
   "metadata": {},
   "outputs": [],
   "source": [
    "df2['Startsatt'] = df2.Startsatt.astype('str')"
   ]
  },
  {
   "cell_type": "code",
   "execution_count": 65,
   "metadata": {},
   "outputs": [],
   "source": [
    "df2['GRUPP'] = df2.GRUPP.astype('str')"
   ]
  },
  {
   "cell_type": "code",
   "execution_count": 11,
   "metadata": {},
   "outputs": [],
   "source": [
    "omg_df = pd.DataFrame({'Datum': list(set(df2.Datum.values.tolist()))})"
   ]
  },
  {
   "cell_type": "code",
   "execution_count": 12,
   "metadata": {},
   "outputs": [],
   "source": [
    "# Next, Let's split the data into a training, validation, and testing.\n",
    "rand_split = pd.DataFrame({'rval':np.random.rand(len(omg_df)).tolist()})"
   ]
  },
  {
   "cell_type": "code",
   "execution_count": 13,
   "metadata": {},
   "outputs": [
    {
     "data": {
      "text/html": [
       "<div>\n",
       "<style scoped>\n",
       "    .dataframe tbody tr th:only-of-type {\n",
       "        vertical-align: middle;\n",
       "    }\n",
       "\n",
       "    .dataframe tbody tr th {\n",
       "        vertical-align: top;\n",
       "    }\n",
       "\n",
       "    .dataframe thead th {\n",
       "        text-align: right;\n",
       "    }\n",
       "</style>\n",
       "<table border=\"1\" class=\"dataframe\">\n",
       "  <thead>\n",
       "    <tr style=\"text-align: right;\">\n",
       "      <th></th>\n",
       "      <th>Datum</th>\n",
       "      <th>rval</th>\n",
       "    </tr>\n",
       "  </thead>\n",
       "  <tbody>\n",
       "    <tr>\n",
       "      <th>0</th>\n",
       "      <td>1502496000000000000</td>\n",
       "      <td>0.557029</td>\n",
       "    </tr>\n",
       "    <tr>\n",
       "      <th>1</th>\n",
       "      <td>1502582400000000000</td>\n",
       "      <td>0.743925</td>\n",
       "    </tr>\n",
       "    <tr>\n",
       "      <th>2</th>\n",
       "      <td>1503100800000000000</td>\n",
       "      <td>0.218751</td>\n",
       "    </tr>\n",
       "    <tr>\n",
       "      <th>3</th>\n",
       "      <td>1502841600000000000</td>\n",
       "      <td>0.880085</td>\n",
       "    </tr>\n",
       "    <tr>\n",
       "      <th>4</th>\n",
       "      <td>1503446400000000000</td>\n",
       "      <td>0.541086</td>\n",
       "    </tr>\n",
       "  </tbody>\n",
       "</table>\n",
       "</div>"
      ],
      "text/plain": [
       "                 Datum      rval\n",
       "0  1502496000000000000  0.557029\n",
       "1  1502582400000000000  0.743925\n",
       "2  1503100800000000000  0.218751\n",
       "3  1502841600000000000  0.880085\n",
       "4  1503446400000000000  0.541086"
      ]
     },
     "execution_count": 13,
     "metadata": {},
     "output_type": "execute_result"
    }
   ],
   "source": [
    "omg_df = pd.concat([omg_df,rand_split], axis = 1)\n",
    "omg_df.head()"
   ]
  },
  {
   "cell_type": "code",
   "execution_count": 14,
   "metadata": {},
   "outputs": [],
   "source": [
    "train_filter = (omg_df.rval <= 0.7)\n",
    "valid_filter = (omg_df.rval > 0.7) & (omg_df.rval <= 0.9)\n",
    "test_filter = (omg_df.rval > 0.9) "
   ]
  },
  {
   "cell_type": "code",
   "execution_count": 15,
   "metadata": {},
   "outputs": [],
   "source": [
    "# This dataset will be used to train the model.\n",
    "train = df2[df2.Datum.isin(omg_df[train_filter]['Datum'].values.tolist())].set_index(['Datum','Lopp'])\n",
    "\n",
    "# This dataset will be used to validate the model.\n",
    "validate = df2[df2.Datum.isin(omg_df[valid_filter]['Datum'].values.tolist())].set_index(['Datum','Lopp'])\n",
    "\n",
    "# This dataset will be used to test the model.\n",
    "\n",
    "test = df2[df2.Datum.isin(omg_df[test_filter]['Datum'].values.tolist())].set_index(['Datum','Lopp'])\n",
    "\n"
   ]
  },
  {
   "cell_type": "code",
   "execution_count": 16,
   "metadata": {},
   "outputs": [],
   "source": [
    "# Förklarande variabler\n",
    "cols = ['Arstid','Distans','Startsatt','GRUPP','VLP','SVLP','VSVLP','VPN_SUM','VPN_SUM','VPN_SUM_ORD','VPK_SUM',\n",
    "        'VPK_SUM_ORD','VLPB','SVLPB','VSVLPB','E_P','E_P_Num','E_N','E_R','E_U','G_R','A_R','T_R','SP_R','ToR',\n",
    "       'P_R','TK_R','Ex_R','R_R','Ts_R']"
   ]
  },
  {
   "cell_type": "code",
   "execution_count": 17,
   "metadata": {},
   "outputs": [],
   "source": [
    "y = train['y']"
   ]
  },
  {
   "cell_type": "code",
   "execution_count": 18,
   "metadata": {},
   "outputs": [],
   "source": [
    "X = train[cols]"
   ]
  },
  {
   "cell_type": "code",
   "execution_count": 19,
   "metadata": {},
   "outputs": [
    {
     "name": "stdout",
     "output_type": "stream",
     "text": [
      "<class 'pandas.core.frame.DataFrame'>\n",
      "MultiIndex: 7794 entries, (2017-08-12 00:00:00, 1) to (2019-12-28 00:00:00, 7)\n",
      "Data columns (total 32 columns):\n",
      "Arstid         7794 non-null int64\n",
      "Distans        7794 non-null int64\n",
      "Startsatt      7794 non-null int64\n",
      "GRUPP          7794 non-null int64\n",
      "VLP            7794 non-null float64\n",
      "SVLP           7794 non-null float64\n",
      "VSVLP          7794 non-null float64\n",
      "VPN_SUM        7794 non-null float64\n",
      "VPN_SUM        7794 non-null float64\n",
      "VPN_SUM        7794 non-null float64\n",
      "VPN_SUM        7794 non-null float64\n",
      "VPN_SUM_ORD    7794 non-null int64\n",
      "VPK_SUM        7794 non-null float64\n",
      "VPK_SUM_ORD    7794 non-null float64\n",
      "VLPB           7794 non-null float64\n",
      "SVLPB          7794 non-null float64\n",
      "VSVLPB         7794 non-null float64\n",
      "E_P            7794 non-null float64\n",
      "E_P_Num        7794 non-null int64\n",
      "E_N            7794 non-null float64\n",
      "E_R            7794 non-null float64\n",
      "E_U            7794 non-null float64\n",
      "G_R            7794 non-null float64\n",
      "A_R            7794 non-null float64\n",
      "T_R            7794 non-null float64\n",
      "SP_R           7794 non-null float64\n",
      "ToR            7794 non-null float64\n",
      "P_R            7794 non-null float64\n",
      "TK_R           7794 non-null float64\n",
      "Ex_R           7794 non-null float64\n",
      "R_R            7794 non-null float64\n",
      "Ts_R           7794 non-null int64\n",
      "dtypes: float64(25), int64(7)\n",
      "memory usage: 1.9 MB\n"
     ]
    }
   ],
   "source": [
    "X.info()"
   ]
  },
  {
   "cell_type": "code",
   "execution_count": 24,
   "metadata": {},
   "outputs": [
    {
     "data": {
      "text/plain": [
       "Datum       Lopp\n",
       "2017-08-13  1       2\n",
       "            7       3\n",
       "2017-08-26  2       1\n",
       "Name: Distans, dtype: object"
      ]
     },
     "execution_count": 24,
     "metadata": {},
     "output_type": "execute_result"
    }
   ],
   "source": [
    "X.Distans.drop_duplicates()"
   ]
  },
  {
   "cell_type": "code",
   "execution_count": 25,
   "metadata": {},
   "outputs": [
    {
     "data": {
      "text/plain": [
       "Datum       Lopp\n",
       "2017-08-13  1       2\n",
       "            2       1\n",
       "Name: Startsatt, dtype: object"
      ]
     },
     "execution_count": 25,
     "metadata": {},
     "output_type": "execute_result"
    }
   ],
   "source": [
    "X.Startsatt.drop_duplicates()"
   ]
  },
  {
   "cell_type": "code",
   "execution_count": 26,
   "metadata": {},
   "outputs": [
    {
     "data": {
      "text/plain": [
       "Datum       Lopp\n",
       "2017-08-13  1       2\n",
       "2017-09-03  1       3\n",
       "2017-12-02  1       4\n",
       "2018-03-03  1       1\n",
       "Name: Arstid, dtype: int64"
      ]
     },
     "execution_count": 26,
     "metadata": {},
     "output_type": "execute_result"
    }
   ],
   "source": [
    "X.Arstid.drop_duplicates()"
   ]
  },
  {
   "cell_type": "code",
   "execution_count": 27,
   "metadata": {},
   "outputs": [
    {
     "data": {
      "text/plain": [
       "Datum       Lopp\n",
       "2017-08-13  1       4\n",
       "            1       1\n",
       "            1       2\n",
       "            1       5\n",
       "            1       3\n",
       "Name: GRUPP, dtype: object"
      ]
     },
     "execution_count": 27,
     "metadata": {},
     "output_type": "execute_result"
    }
   ],
   "source": [
    "X.GRUPP.drop_duplicates()"
   ]
  },
  {
   "cell_type": "code",
   "execution_count": 28,
   "metadata": {},
   "outputs": [
    {
     "data": {
      "text/plain": [
       "count    7674.000000\n",
       "mean       13.403316\n",
       "std        11.178718\n",
       "min         1.690000\n",
       "25%         6.140000\n",
       "50%         9.340000\n",
       "75%        16.960000\n",
       "max       101.890000\n",
       "Name: VLP, dtype: float64"
      ]
     },
     "execution_count": 28,
     "metadata": {},
     "output_type": "execute_result"
    }
   ],
   "source": [
    "X.VLP.describe()"
   ]
  },
  {
   "cell_type": "code",
   "execution_count": 29,
   "metadata": {},
   "outputs": [
    {
     "data": {
      "text/plain": [
       "count    7674.000000\n",
       "mean       14.106333\n",
       "std        10.880614\n",
       "min         1.000000\n",
       "25%         5.000000\n",
       "50%        11.000000\n",
       "75%        22.000000\n",
       "max        51.000000\n",
       "Name: VPK_SUM_ORD, dtype: float64"
      ]
     },
     "execution_count": 29,
     "metadata": {},
     "output_type": "execute_result"
    }
   ],
   "source": [
    "X.VPK_SUM_ORD.describe()"
   ]
  },
  {
   "cell_type": "code",
   "execution_count": 30,
   "metadata": {},
   "outputs": [
    {
     "data": {
      "text/plain": [
       "count    7674.000000\n",
       "mean        0.317677\n",
       "std         0.349101\n",
       "min         0.000000\n",
       "25%         0.060000\n",
       "50%         0.190000\n",
       "75%         0.460000\n",
       "max         1.970000\n",
       "Name: VPK_SUM, dtype: float64"
      ]
     },
     "execution_count": 30,
     "metadata": {},
     "output_type": "execute_result"
    }
   ],
   "source": [
    "X.VPK_SUM.describe()"
   ]
  },
  {
   "cell_type": "code",
   "execution_count": 31,
   "metadata": {},
   "outputs": [
    {
     "data": {
      "text/plain": [
       "count    7674.000000\n",
       "mean        6.007859\n",
       "std         1.783902\n",
       "min         1.410000\n",
       "25%         4.740000\n",
       "50%         5.855000\n",
       "75%         7.170000\n",
       "max        11.470000\n",
       "Name: E_N, dtype: float64"
      ]
     },
     "execution_count": 31,
     "metadata": {},
     "output_type": "execute_result"
    }
   ],
   "source": [
    "X.E_N.describe()"
   ]
  },
  {
   "cell_type": "code",
   "execution_count": null,
   "metadata": {},
   "outputs": [],
   "source": []
  },
  {
   "cell_type": "markdown",
   "metadata": {},
   "source": [
    "### Nedan bygger vi en modell med Scikit learn"
   ]
  },
  {
   "cell_type": "code",
   "execution_count": 20,
   "metadata": {},
   "outputs": [],
   "source": [
    "from sklearn.preprocessing import OneHotEncoder\n",
    "from sklearn.linear_model import LogisticRegression\n",
    "from sklearn.compose import make_column_transformer\n",
    "from sklearn.pipeline import make_pipeline\n",
    "from sklearn.preprocessing import StandardScaler\n",
    "from sklearn.model_selection import cross_val_score"
   ]
  },
  {
   "cell_type": "code",
   "execution_count": 21,
   "metadata": {},
   "outputs": [],
   "source": [
    "# Skapar två listor. En med variabler som ska hantera one hot encoder, en för standardsiering"
   ]
  },
  {
   "cell_type": "code",
   "execution_count": 22,
   "metadata": {},
   "outputs": [],
   "source": [
    "ohe_cols = ['Arstid','Distans','Startsatt','GRUPP']"
   ]
  },
  {
   "cell_type": "code",
   "execution_count": 23,
   "metadata": {},
   "outputs": [],
   "source": [
    "std_cols = ['VLP','SVLP','VSVLP','VPN_SUM','VPN_SUM','VPN_SUM_ORD','VPK_SUM',\n",
    "        'VPK_SUM_ORD','VLPB','SVLPB','VSVLPB','E_P','E_P_Num','E_N','E_R','E_U','G_R','A_R','T_R','SP_R','ToR',\n",
    "       'P_R','TK_R','Ex_R','R_R','Ts_R']"
   ]
  },
  {
   "cell_type": "code",
   "execution_count": 24,
   "metadata": {},
   "outputs": [],
   "source": [
    "ohe = OneHotEncoder(categories='auto')"
   ]
  },
  {
   "cell_type": "code",
   "execution_count": 25,
   "metadata": {},
   "outputs": [],
   "source": [
    "std = StandardScaler()"
   ]
  },
  {
   "cell_type": "code",
   "execution_count": 26,
   "metadata": {},
   "outputs": [],
   "source": [
    "ct = make_column_transformer(\n",
    "    (ohe, ohe_cols),\n",
    "    (std, std_cols)\n",
    "    )\n",
    "logreg = LogisticRegression(solver='liblinear', random_state=1)"
   ]
  },
  {
   "cell_type": "code",
   "execution_count": 27,
   "metadata": {},
   "outputs": [],
   "source": [
    "pipe = make_pipeline(ct,logreg)"
   ]
  },
  {
   "cell_type": "code",
   "execution_count": 28,
   "metadata": {},
   "outputs": [
    {
     "data": {
      "text/plain": [
       "0.8026621951016356"
      ]
     },
     "execution_count": 28,
     "metadata": {},
     "output_type": "execute_result"
    }
   ],
   "source": [
    "cross_val_score(pipe,X,y, cv = 5, scoring = 'roc_auc').mean()"
   ]
  },
  {
   "cell_type": "code",
   "execution_count": 29,
   "metadata": {},
   "outputs": [
    {
     "data": {
      "text/plain": [
       "0.9149347593875085"
      ]
     },
     "execution_count": 29,
     "metadata": {},
     "output_type": "execute_result"
    }
   ],
   "source": [
    "cross_val_score(pipe,X,y, cv = 5, scoring = 'accuracy').mean()"
   ]
  },
  {
   "cell_type": "markdown",
   "metadata": {},
   "source": [
    "### Testar på undanlagt valideringsdata"
   ]
  },
  {
   "cell_type": "code",
   "execution_count": 30,
   "metadata": {},
   "outputs": [],
   "source": [
    "label = validate['y']"
   ]
  },
  {
   "cell_type": "code",
   "execution_count": 31,
   "metadata": {},
   "outputs": [],
   "source": [
    "X_valid = validate[cols]"
   ]
  },
  {
   "cell_type": "code",
   "execution_count": 32,
   "metadata": {},
   "outputs": [],
   "source": [
    "pipe.fit(X, y);"
   ]
  },
  {
   "cell_type": "code",
   "execution_count": 33,
   "metadata": {},
   "outputs": [],
   "source": [
    "predict = pipe.predict_proba(X_valid)"
   ]
  },
  {
   "cell_type": "code",
   "execution_count": 34,
   "metadata": {},
   "outputs": [
    {
     "data": {
      "text/plain": [
       "array([[0.95925496, 0.04074504],\n",
       "       [0.658337  , 0.341663  ],\n",
       "       [0.82315227, 0.17684773],\n",
       "       ...,\n",
       "       [0.98765501, 0.01234499],\n",
       "       [0.9869631 , 0.0130369 ],\n",
       "       [0.83603863, 0.16396137]])"
      ]
     },
     "execution_count": 34,
     "metadata": {},
     "output_type": "execute_result"
    }
   ],
   "source": [
    "predict"
   ]
  },
  {
   "cell_type": "code",
   "execution_count": 35,
   "metadata": {},
   "outputs": [
    {
     "name": "stdout",
     "output_type": "stream",
     "text": [
      "0.8120922444630488\n"
     ]
    }
   ],
   "source": [
    "fpr, tpr, threshold = roc_curve(label,predict[:,1])\n",
    "roc_auc = auc(fpr,tpr)\n",
    "print(roc_auc)"
   ]
  },
  {
   "cell_type": "code",
   "execution_count": 36,
   "metadata": {},
   "outputs": [
    {
     "data": {
      "image/png": "[encoded data removed]",
      "text/plain": [
       "<Figure size 432x288 with 1 Axes>"
      ]
     },
     "metadata": {
      "needs_background": "light"
     },
     "output_type": "display_data"
    }
   ],
   "source": [
    "plt.title('Receiver Operating Characteristic') \n",
    "plt.plot( fpr, tpr, 'b', label =' AUC = %0.3f' % roc_auc) \n",
    "plt.legend( loc ='lower right') \n",
    "plt.plot([ 0, 1], [0, 1], 'r--') \n",
    "plt.xlim([ 0.0, 1.0]) \n",
    "plt.ylim([ 0.0, 1.0]) \n",
    "plt.ylabel('True positive rate') \n",
    "plt.xlabel('False positive rate') \n",
    "plt.show()"
   ]
  },
  {
   "cell_type": "markdown",
   "metadata": {},
   "source": [
    "__Plockar ut sannolikheten för vinst och skapar en ny dataframe som håller y, score och omgång och lopp ==> lägger tillbaks mot validate__"
   ]
  },
  {
   "cell_type": "code",
   "execution_count": 37,
   "metadata": {},
   "outputs": [],
   "source": [
    "df_predict = pd.DataFrame({'Score': predict[:,1]})"
   ]
  },
  {
   "cell_type": "code",
   "execution_count": 38,
   "metadata": {},
   "outputs": [
    {
     "data": {
      "text/plain": [
       "(2052, 1)"
      ]
     },
     "execution_count": 38,
     "metadata": {},
     "output_type": "execute_result"
    }
   ],
   "source": [
    "df_predict.shape"
   ]
  },
  {
   "cell_type": "code",
   "execution_count": 39,
   "metadata": {},
   "outputs": [
    {
     "data": {
      "text/plain": [
       "(2052, 31)"
      ]
     },
     "execution_count": 39,
     "metadata": {},
     "output_type": "execute_result"
    }
   ],
   "source": [
    "validate.shape"
   ]
  },
  {
   "cell_type": "code",
   "execution_count": 40,
   "metadata": {},
   "outputs": [
    {
     "data": {
      "text/plain": [
       "pandas.core.frame.DataFrame"
      ]
     },
     "execution_count": 40,
     "metadata": {},
     "output_type": "execute_result"
    }
   ],
   "source": [
    "type(validate)"
   ]
  },
  {
   "cell_type": "code",
   "execution_count": 41,
   "metadata": {},
   "outputs": [],
   "source": [
    "df_analys = pd.concat([validate.reset_index(), df_predict], axis = 1)"
   ]
  },
  {
   "cell_type": "code",
   "execution_count": 42,
   "metadata": {},
   "outputs": [
    {
     "data": {
      "text/plain": [
       "25"
      ]
     },
     "execution_count": 42,
     "metadata": {},
     "output_type": "execute_result"
    }
   ],
   "source": [
    "df_analys.Datum.drop_duplicates().count()"
   ]
  },
  {
   "cell_type": "code",
   "execution_count": 43,
   "metadata": {},
   "outputs": [
    {
     "data": {
      "text/plain": [
       "175"
      ]
     },
     "execution_count": 43,
     "metadata": {},
     "output_type": "execute_result"
    }
   ],
   "source": [
    "df_analys.y.sum()"
   ]
  },
  {
   "cell_type": "code",
   "execution_count": 44,
   "metadata": {},
   "outputs": [
    {
     "data": {
      "text/plain": [
       "8.528265107212475"
      ]
     },
     "execution_count": 44,
     "metadata": {},
     "output_type": "execute_result"
    }
   ],
   "source": [
    "# Andelen vinnare som vi söker\n",
    "\n",
    "df_analys.y.sum()/len(df_analys) * 100"
   ]
  },
  {
   "cell_type": "code",
   "execution_count": 45,
   "metadata": {},
   "outputs": [
    {
     "data": {
      "text/plain": [
       "y\n",
       "0    0.073122\n",
       "1    0.210007\n",
       "Name: Score, dtype: float64"
      ]
     },
     "execution_count": 45,
     "metadata": {},
     "output_type": "execute_result"
    }
   ],
   "source": [
    "df_analys.groupby('y').Score.mean()"
   ]
  },
  {
   "cell_type": "code",
   "execution_count": 46,
   "metadata": {},
   "outputs": [
    {
     "data": {
      "text/plain": [
       "count    2052.000000\n",
       "mean        0.084796\n",
       "std         0.105866\n",
       "min         0.008319\n",
       "25%         0.016530\n",
       "50%         0.039690\n",
       "75%         0.112488\n",
       "max         0.584556\n",
       "Name: Score, dtype: float64"
      ]
     },
     "execution_count": 46,
     "metadata": {},
     "output_type": "execute_result"
    }
   ],
   "source": [
    "df_analys.Score.describe()"
   ]
  },
  {
   "cell_type": "code",
   "execution_count": null,
   "metadata": {},
   "outputs": [],
   "source": [
    "# För varje omgång beräkna hur många hästar med Score >= 0.119471 som vinner. Vill se en jämn fördelning "
   ]
  },
  {
   "cell_type": "code",
   "execution_count": null,
   "metadata": {},
   "outputs": [],
   "source": [
    "df_analys[df_analys.Score >=  0.112488].groupby('Datum').y.sum()"
   ]
  },
  {
   "cell_type": "code",
   "execution_count": 47,
   "metadata": {},
   "outputs": [
    {
     "data": {
      "text/plain": [
       "0.6971428571428572"
      ]
     },
     "execution_count": 47,
     "metadata": {},
     "output_type": "execute_result"
    }
   ],
   "source": [
    "df_analys[df_analys.Score >=   0.112488].y.sum()/df_analys.y.sum()"
   ]
  },
  {
   "cell_type": "markdown",
   "metadata": {},
   "source": [
    "__Sorterar fallande på score och plockar 10%, hur stor är andelen vinnare då?__"
   ]
  },
  {
   "cell_type": "code",
   "execution_count": 48,
   "metadata": {},
   "outputs": [],
   "source": [
    "df_analys_sorted = df_analys.sort_values('Score', ascending = False)"
   ]
  },
  {
   "cell_type": "code",
   "execution_count": 49,
   "metadata": {},
   "outputs": [
    {
     "data": {
      "text/plain": [
       "39.0"
      ]
     },
     "execution_count": 49,
     "metadata": {},
     "output_type": "execute_result"
    }
   ],
   "source": [
    "df_analys_sorted.iloc[:100,:].y.sum()/len(df_analys_sorted.iloc[:100,:]) * 100"
   ]
  },
  {
   "cell_type": "code",
   "execution_count": 50,
   "metadata": {},
   "outputs": [
    {
     "data": {
      "text/plain": [
       "4.573028571428572"
      ]
     },
     "execution_count": 50,
     "metadata": {},
     "output_type": "execute_result"
    }
   ],
   "source": [
    "# Gain - hur mycket bättre modellen är en slumpen i översta decilen\n",
    "\n",
    "(df_analys_sorted.iloc[:100,:].y.sum()/len(df_analys_sorted.iloc[:100,:]) * 100) / (df_analys.y.sum()/len(df_analys) * 100)"
   ]
  },
  {
   "cell_type": "markdown",
   "metadata": {},
   "source": [
    "__Nu vill vi för varje omgång idenfiera de lopp med högst sannolikhet att ha vinnarna i VNUM 1-3. Vi måste sammanfatta scoren för varje häst__"
   ]
  },
  {
   "cell_type": "code",
   "execution_count": 54,
   "metadata": {},
   "outputs": [
    {
     "data": {
      "text/plain": [
       "25"
      ]
     },
     "execution_count": 54,
     "metadata": {},
     "output_type": "execute_result"
    }
   ],
   "source": [
    "df_analys.Datum.drop_duplicates().count()"
   ]
  },
  {
   "cell_type": "code",
   "execution_count": 55,
   "metadata": {},
   "outputs": [],
   "source": [
    "datum_list = list(set(df_analys.Datum.tolist()))"
   ]
  },
  {
   "cell_type": "code",
   "execution_count": 65,
   "metadata": {},
   "outputs": [
    {
     "data": {
      "text/html": [
       "<div>\n",
       "<style scoped>\n",
       "    .dataframe tbody tr th:only-of-type {\n",
       "        vertical-align: middle;\n",
       "    }\n",
       "\n",
       "    .dataframe tbody tr th {\n",
       "        vertical-align: top;\n",
       "    }\n",
       "\n",
       "    .dataframe thead th {\n",
       "        text-align: right;\n",
       "    }\n",
       "</style>\n",
       "<table border=\"1\" class=\"dataframe\">\n",
       "  <thead>\n",
       "    <tr style=\"text-align: right;\">\n",
       "      <th></th>\n",
       "      <th>Datum</th>\n",
       "      <th>Lopp</th>\n",
       "      <th>Arstid</th>\n",
       "      <th>Distans</th>\n",
       "      <th>Startsatt</th>\n",
       "      <th>GRUPP</th>\n",
       "      <th>VLP</th>\n",
       "      <th>SVLP</th>\n",
       "      <th>VSVLP</th>\n",
       "      <th>VPN_SUM</th>\n",
       "      <th>...</th>\n",
       "      <th>T_R</th>\n",
       "      <th>SP_R</th>\n",
       "      <th>ToR</th>\n",
       "      <th>P_R</th>\n",
       "      <th>TK_R</th>\n",
       "      <th>Ex_R</th>\n",
       "      <th>R_R</th>\n",
       "      <th>Ts_R</th>\n",
       "      <th>y</th>\n",
       "      <th>Score</th>\n",
       "    </tr>\n",
       "  </thead>\n",
       "  <tbody>\n",
       "    <tr>\n",
       "      <th>90</th>\n",
       "      <td>2017-08-16</td>\n",
       "      <td>1</td>\n",
       "      <td>2</td>\n",
       "      <td>2</td>\n",
       "      <td>1</td>\n",
       "      <td>1</td>\n",
       "      <td>7.84</td>\n",
       "      <td>6.11</td>\n",
       "      <td>0.88</td>\n",
       "      <td>0.49</td>\n",
       "      <td>...</td>\n",
       "      <td>0.0</td>\n",
       "      <td>0.0</td>\n",
       "      <td>3.0</td>\n",
       "      <td>0.0</td>\n",
       "      <td>3.0</td>\n",
       "      <td>3.0</td>\n",
       "      <td>1.0</td>\n",
       "      <td>2</td>\n",
       "      <td>1</td>\n",
       "      <td>0.320994</td>\n",
       "    </tr>\n",
       "    <tr>\n",
       "      <th>91</th>\n",
       "      <td>2017-08-16</td>\n",
       "      <td>1</td>\n",
       "      <td>2</td>\n",
       "      <td>2</td>\n",
       "      <td>1</td>\n",
       "      <td>2</td>\n",
       "      <td>7.84</td>\n",
       "      <td>6.11</td>\n",
       "      <td>0.88</td>\n",
       "      <td>0.51</td>\n",
       "      <td>...</td>\n",
       "      <td>2.0</td>\n",
       "      <td>3.0</td>\n",
       "      <td>1.0</td>\n",
       "      <td>2.0</td>\n",
       "      <td>0.0</td>\n",
       "      <td>2.0</td>\n",
       "      <td>0.0</td>\n",
       "      <td>3</td>\n",
       "      <td>0</td>\n",
       "      <td>0.151147</td>\n",
       "    </tr>\n",
       "    <tr>\n",
       "      <th>93</th>\n",
       "      <td>2017-08-16</td>\n",
       "      <td>1</td>\n",
       "      <td>2</td>\n",
       "      <td>2</td>\n",
       "      <td>1</td>\n",
       "      <td>2</td>\n",
       "      <td>7.84</td>\n",
       "      <td>6.11</td>\n",
       "      <td>0.88</td>\n",
       "      <td>0.50</td>\n",
       "      <td>...</td>\n",
       "      <td>1.0</td>\n",
       "      <td>1.0</td>\n",
       "      <td>2.0</td>\n",
       "      <td>1.0</td>\n",
       "      <td>2.0</td>\n",
       "      <td>1.0</td>\n",
       "      <td>2.0</td>\n",
       "      <td>1</td>\n",
       "      <td>0</td>\n",
       "      <td>0.148672</td>\n",
       "    </tr>\n",
       "    <tr>\n",
       "      <th>97</th>\n",
       "      <td>2017-08-16</td>\n",
       "      <td>1</td>\n",
       "      <td>2</td>\n",
       "      <td>2</td>\n",
       "      <td>1</td>\n",
       "      <td>3</td>\n",
       "      <td>7.84</td>\n",
       "      <td>6.11</td>\n",
       "      <td>0.88</td>\n",
       "      <td>0.54</td>\n",
       "      <td>...</td>\n",
       "      <td>0.0</td>\n",
       "      <td>2.0</td>\n",
       "      <td>0.0</td>\n",
       "      <td>0.0</td>\n",
       "      <td>0.0</td>\n",
       "      <td>0.0</td>\n",
       "      <td>0.0</td>\n",
       "      <td>0</td>\n",
       "      <td>0</td>\n",
       "      <td>0.067435</td>\n",
       "    </tr>\n",
       "    <tr>\n",
       "      <th>95</th>\n",
       "      <td>2017-08-16</td>\n",
       "      <td>1</td>\n",
       "      <td>2</td>\n",
       "      <td>2</td>\n",
       "      <td>1</td>\n",
       "      <td>3</td>\n",
       "      <td>7.84</td>\n",
       "      <td>6.11</td>\n",
       "      <td>0.88</td>\n",
       "      <td>0.72</td>\n",
       "      <td>...</td>\n",
       "      <td>3.0</td>\n",
       "      <td>0.0</td>\n",
       "      <td>0.0</td>\n",
       "      <td>3.0</td>\n",
       "      <td>1.0</td>\n",
       "      <td>0.0</td>\n",
       "      <td>3.0</td>\n",
       "      <td>0</td>\n",
       "      <td>0</td>\n",
       "      <td>0.059797</td>\n",
       "    </tr>\n",
       "    <tr>\n",
       "      <th>92</th>\n",
       "      <td>2017-08-16</td>\n",
       "      <td>1</td>\n",
       "      <td>2</td>\n",
       "      <td>2</td>\n",
       "      <td>1</td>\n",
       "      <td>4</td>\n",
       "      <td>7.84</td>\n",
       "      <td>6.11</td>\n",
       "      <td>0.88</td>\n",
       "      <td>1.52</td>\n",
       "      <td>...</td>\n",
       "      <td>0.0</td>\n",
       "      <td>0.0</td>\n",
       "      <td>0.0</td>\n",
       "      <td>0.0</td>\n",
       "      <td>0.0</td>\n",
       "      <td>0.0</td>\n",
       "      <td>0.0</td>\n",
       "      <td>0</td>\n",
       "      <td>0</td>\n",
       "      <td>0.040838</td>\n",
       "    </tr>\n",
       "    <tr>\n",
       "      <th>94</th>\n",
       "      <td>2017-08-16</td>\n",
       "      <td>1</td>\n",
       "      <td>2</td>\n",
       "      <td>2</td>\n",
       "      <td>1</td>\n",
       "      <td>4</td>\n",
       "      <td>7.84</td>\n",
       "      <td>6.11</td>\n",
       "      <td>0.88</td>\n",
       "      <td>0.35</td>\n",
       "      <td>...</td>\n",
       "      <td>0.0</td>\n",
       "      <td>0.0</td>\n",
       "      <td>0.0</td>\n",
       "      <td>0.0</td>\n",
       "      <td>0.0</td>\n",
       "      <td>0.0</td>\n",
       "      <td>0.0</td>\n",
       "      <td>0</td>\n",
       "      <td>0</td>\n",
       "      <td>0.030265</td>\n",
       "    </tr>\n",
       "    <tr>\n",
       "      <th>96</th>\n",
       "      <td>2017-08-16</td>\n",
       "      <td>1</td>\n",
       "      <td>2</td>\n",
       "      <td>2</td>\n",
       "      <td>1</td>\n",
       "      <td>4</td>\n",
       "      <td>7.84</td>\n",
       "      <td>6.11</td>\n",
       "      <td>0.88</td>\n",
       "      <td>0.66</td>\n",
       "      <td>...</td>\n",
       "      <td>0.0</td>\n",
       "      <td>0.0</td>\n",
       "      <td>0.0</td>\n",
       "      <td>0.0</td>\n",
       "      <td>0.0</td>\n",
       "      <td>0.0</td>\n",
       "      <td>0.0</td>\n",
       "      <td>0</td>\n",
       "      <td>0</td>\n",
       "      <td>0.028898</td>\n",
       "    </tr>\n",
       "    <tr>\n",
       "      <th>98</th>\n",
       "      <td>2017-08-16</td>\n",
       "      <td>1</td>\n",
       "      <td>2</td>\n",
       "      <td>2</td>\n",
       "      <td>1</td>\n",
       "      <td>5</td>\n",
       "      <td>7.84</td>\n",
       "      <td>6.11</td>\n",
       "      <td>0.88</td>\n",
       "      <td>0.08</td>\n",
       "      <td>...</td>\n",
       "      <td>0.0</td>\n",
       "      <td>0.0</td>\n",
       "      <td>0.0</td>\n",
       "      <td>0.0</td>\n",
       "      <td>0.0</td>\n",
       "      <td>0.0</td>\n",
       "      <td>0.0</td>\n",
       "      <td>0</td>\n",
       "      <td>0</td>\n",
       "      <td>0.012038</td>\n",
       "    </tr>\n",
       "  </tbody>\n",
       "</table>\n",
       "<p>9 rows × 34 columns</p>\n",
       "</div>"
      ],
      "text/plain": [
       "        Datum  Lopp  Arstid  Distans  Startsatt  GRUPP   VLP  SVLP  VSVLP  \\\n",
       "90 2017-08-16     1       2        2          1      1  7.84  6.11   0.88   \n",
       "91 2017-08-16     1       2        2          1      2  7.84  6.11   0.88   \n",
       "93 2017-08-16     1       2        2          1      2  7.84  6.11   0.88   \n",
       "97 2017-08-16     1       2        2          1      3  7.84  6.11   0.88   \n",
       "95 2017-08-16     1       2        2          1      3  7.84  6.11   0.88   \n",
       "92 2017-08-16     1       2        2          1      4  7.84  6.11   0.88   \n",
       "94 2017-08-16     1       2        2          1      4  7.84  6.11   0.88   \n",
       "96 2017-08-16     1       2        2          1      4  7.84  6.11   0.88   \n",
       "98 2017-08-16     1       2        2          1      5  7.84  6.11   0.88   \n",
       "\n",
       "    VPN_SUM  ...  T_R  SP_R  ToR  P_R  TK_R  Ex_R  R_R  Ts_R  y     Score  \n",
       "90     0.49  ...  0.0   0.0  3.0  0.0   3.0   3.0  1.0     2  1  0.320994  \n",
       "91     0.51  ...  2.0   3.0  1.0  2.0   0.0   2.0  0.0     3  0  0.151147  \n",
       "93     0.50  ...  1.0   1.0  2.0  1.0   2.0   1.0  2.0     1  0  0.148672  \n",
       "97     0.54  ...  0.0   2.0  0.0  0.0   0.0   0.0  0.0     0  0  0.067435  \n",
       "95     0.72  ...  3.0   0.0  0.0  3.0   1.0   0.0  3.0     0  0  0.059797  \n",
       "92     1.52  ...  0.0   0.0  0.0  0.0   0.0   0.0  0.0     0  0  0.040838  \n",
       "94     0.35  ...  0.0   0.0  0.0  0.0   0.0   0.0  0.0     0  0  0.030265  \n",
       "96     0.66  ...  0.0   0.0  0.0  0.0   0.0   0.0  0.0     0  0  0.028898  \n",
       "98     0.08  ...  0.0   0.0  0.0  0.0   0.0   0.0  0.0     0  0  0.012038  \n",
       "\n",
       "[9 rows x 34 columns]"
      ]
     },
     "execution_count": 65,
     "metadata": {},
     "output_type": "execute_result"
    }
   ],
   "source": [
    "ldf"
   ]
  },
  {
   "cell_type": "code",
   "execution_count": 64,
   "metadata": {},
   "outputs": [],
   "source": [
    "for date in datum_list:\n",
    "    df = df_analys[df_analys.Datum == date]\n",
    "    lopp_list = []\n",
    "    for lopp in [1,2,3,4,5,6,7]:\n",
    "        ldf = df[df.Lopp == 1]\n",
    "        ldf = ldf.sort_values('Score', ascending = False)\n",
    "        \n",
    "    \n",
    "    "
   ]
  },
  {
   "cell_type": "code",
   "execution_count": 171,
   "metadata": {},
   "outputs": [
    {
     "name": "stderr",
     "output_type": "stream",
     "text": [
      "/home/ec2-user/anaconda3/envs/python3/lib/python3.6/site-packages/ipykernel/__main__.py:6: FutureWarning: Method .as_matrix will be removed in a future version. Use .values instead.\n"
     ]
    }
   ],
   "source": [
    "# Träningssdata\n",
    "# Alla förklaringsvaribler i en multidimensionell array där kategrisvaribler har gjorts om till\n",
    "# dummyvariabler\n",
    "train_X = full_pipeline.fit_transform(train)\n",
    "## En array som håller det vi vill predikter\n",
    "train_Y = (train[\"Y\"].copy()).as_matrix()"
   ]
  },
  {
   "cell_type": "code",
   "execution_count": 172,
   "metadata": {},
   "outputs": [
    {
     "name": "stderr",
     "output_type": "stream",
     "text": [
      "/home/ec2-user/anaconda3/envs/python3/lib/python3.6/site-packages/ipykernel/__main__.py:6: FutureWarning: Method .as_matrix will be removed in a future version. Use .values instead.\n"
     ]
    }
   ],
   "source": [
    "# Valideringsdata\n",
    "# Alla förklaringsvaribler i en multidimensionell array där kategrisvaribler har gjorts om till\n",
    "# dummyvariabler\n",
    "valid_X = full_pipeline.fit_transform(validate)\n",
    "## En array som håller det vi vill predikter\n",
    "valid_Y = (validate[\"Y\"].copy()).as_matrix()"
   ]
  },
  {
   "cell_type": "code",
   "execution_count": 173,
   "metadata": {},
   "outputs": [],
   "source": [
    "# Testdata\n",
    "# Alla förklaringsvaribler i en multidimensionell array där kategrisvaribler har gjorts om till\n",
    "# dummyvariabler\n",
    "test_X = full_pipeline.fit_transform(test)\n",
    "## En array som håller det vi vill predikter\n",
    "#valid_Y = (validate[\"Y\"].copy()).as_matrix()"
   ]
  },
  {
   "cell_type": "code",
   "execution_count": 174,
   "metadata": {},
   "outputs": [
    {
     "data": {
      "text/plain": [
       "(6782, 36)"
      ]
     },
     "execution_count": 174,
     "metadata": {},
     "output_type": "execute_result"
    }
   ],
   "source": [
    "train_X.shape"
   ]
  },
  {
   "cell_type": "code",
   "execution_count": 175,
   "metadata": {},
   "outputs": [
    {
     "data": {
      "text/plain": [
       "array([1, 0, 0, 0, 0, 0, 0, 1, 1, 0, 0, 0, 1, 0, 0, 0, 1, 0, 0, 0, 1, 0,\n",
       "       0, 0, 1, 0, 0, 0, 1, 0, 0, 0, 0, 0, 0, 1], dtype=uint8)"
      ]
     },
     "execution_count": 175,
     "metadata": {},
     "output_type": "execute_result"
    }
   ],
   "source": [
    "train_X[0]"
   ]
  },
  {
   "cell_type": "code",
   "execution_count": 176,
   "metadata": {},
   "outputs": [
    {
     "data": {
      "text/plain": [
       "(2217, 36)"
      ]
     },
     "execution_count": 176,
     "metadata": {},
     "output_type": "execute_result"
    }
   ],
   "source": [
    "valid_X.shape"
   ]
  },
  {
   "cell_type": "code",
   "execution_count": 177,
   "metadata": {},
   "outputs": [
    {
     "data": {
      "text/plain": [
       "(1001, 36)"
      ]
     },
     "execution_count": 177,
     "metadata": {},
     "output_type": "execute_result"
    }
   ],
   "source": [
    "test_X.shape"
   ]
  },
  {
   "cell_type": "code",
   "execution_count": 178,
   "metadata": {},
   "outputs": [
    {
     "data": {
      "text/plain": [
       "1001"
      ]
     },
     "execution_count": 178,
     "metadata": {},
     "output_type": "execute_result"
    }
   ],
   "source": [
    "len(test)"
   ]
  },
  {
   "cell_type": "code",
   "execution_count": 179,
   "metadata": {},
   "outputs": [
    {
     "data": {
      "text/html": [
       "<div>\n",
       "<style scoped>\n",
       "    .dataframe tbody tr th:only-of-type {\n",
       "        vertical-align: middle;\n",
       "    }\n",
       "\n",
       "    .dataframe tbody tr th {\n",
       "        vertical-align: top;\n",
       "    }\n",
       "\n",
       "    .dataframe thead th {\n",
       "        text-align: right;\n",
       "    }\n",
       "</style>\n",
       "<table border=\"1\" class=\"dataframe\">\n",
       "  <thead>\n",
       "    <tr style=\"text-align: right;\">\n",
       "      <th></th>\n",
       "      <th>0</th>\n",
       "      <th>1</th>\n",
       "      <th>2</th>\n",
       "      <th>3</th>\n",
       "      <th>4</th>\n",
       "      <th>5</th>\n",
       "      <th>6</th>\n",
       "      <th>7</th>\n",
       "      <th>8</th>\n",
       "      <th>9</th>\n",
       "      <th>...</th>\n",
       "      <th>26</th>\n",
       "      <th>27</th>\n",
       "      <th>28</th>\n",
       "      <th>29</th>\n",
       "      <th>30</th>\n",
       "      <th>31</th>\n",
       "      <th>32</th>\n",
       "      <th>33</th>\n",
       "      <th>34</th>\n",
       "      <th>35</th>\n",
       "    </tr>\n",
       "  </thead>\n",
       "  <tbody>\n",
       "    <tr>\n",
       "      <th>0</th>\n",
       "      <td>1</td>\n",
       "      <td>0</td>\n",
       "      <td>0</td>\n",
       "      <td>0</td>\n",
       "      <td>0</td>\n",
       "      <td>0</td>\n",
       "      <td>0</td>\n",
       "      <td>1</td>\n",
       "      <td>1</td>\n",
       "      <td>0</td>\n",
       "      <td>...</td>\n",
       "      <td>0</td>\n",
       "      <td>0</td>\n",
       "      <td>1</td>\n",
       "      <td>0</td>\n",
       "      <td>0</td>\n",
       "      <td>0</td>\n",
       "      <td>0</td>\n",
       "      <td>0</td>\n",
       "      <td>0</td>\n",
       "      <td>1</td>\n",
       "    </tr>\n",
       "    <tr>\n",
       "      <th>1</th>\n",
       "      <td>0</td>\n",
       "      <td>1</td>\n",
       "      <td>0</td>\n",
       "      <td>0</td>\n",
       "      <td>0</td>\n",
       "      <td>1</td>\n",
       "      <td>0</td>\n",
       "      <td>0</td>\n",
       "      <td>0</td>\n",
       "      <td>1</td>\n",
       "      <td>...</td>\n",
       "      <td>0</td>\n",
       "      <td>0</td>\n",
       "      <td>1</td>\n",
       "      <td>0</td>\n",
       "      <td>0</td>\n",
       "      <td>0</td>\n",
       "      <td>0</td>\n",
       "      <td>1</td>\n",
       "      <td>0</td>\n",
       "      <td>0</td>\n",
       "    </tr>\n",
       "    <tr>\n",
       "      <th>2</th>\n",
       "      <td>1</td>\n",
       "      <td>0</td>\n",
       "      <td>0</td>\n",
       "      <td>0</td>\n",
       "      <td>1</td>\n",
       "      <td>0</td>\n",
       "      <td>0</td>\n",
       "      <td>0</td>\n",
       "      <td>1</td>\n",
       "      <td>0</td>\n",
       "      <td>...</td>\n",
       "      <td>0</td>\n",
       "      <td>0</td>\n",
       "      <td>1</td>\n",
       "      <td>0</td>\n",
       "      <td>0</td>\n",
       "      <td>0</td>\n",
       "      <td>1</td>\n",
       "      <td>0</td>\n",
       "      <td>0</td>\n",
       "      <td>0</td>\n",
       "    </tr>\n",
       "    <tr>\n",
       "      <th>3</th>\n",
       "      <td>0</td>\n",
       "      <td>0</td>\n",
       "      <td>0</td>\n",
       "      <td>1</td>\n",
       "      <td>1</td>\n",
       "      <td>0</td>\n",
       "      <td>0</td>\n",
       "      <td>0</td>\n",
       "      <td>1</td>\n",
       "      <td>0</td>\n",
       "      <td>...</td>\n",
       "      <td>0</td>\n",
       "      <td>0</td>\n",
       "      <td>1</td>\n",
       "      <td>0</td>\n",
       "      <td>0</td>\n",
       "      <td>0</td>\n",
       "      <td>1</td>\n",
       "      <td>0</td>\n",
       "      <td>0</td>\n",
       "      <td>0</td>\n",
       "    </tr>\n",
       "    <tr>\n",
       "      <th>4</th>\n",
       "      <td>1</td>\n",
       "      <td>0</td>\n",
       "      <td>0</td>\n",
       "      <td>0</td>\n",
       "      <td>1</td>\n",
       "      <td>0</td>\n",
       "      <td>0</td>\n",
       "      <td>0</td>\n",
       "      <td>0</td>\n",
       "      <td>0</td>\n",
       "      <td>...</td>\n",
       "      <td>0</td>\n",
       "      <td>0</td>\n",
       "      <td>1</td>\n",
       "      <td>0</td>\n",
       "      <td>0</td>\n",
       "      <td>0</td>\n",
       "      <td>1</td>\n",
       "      <td>0</td>\n",
       "      <td>0</td>\n",
       "      <td>0</td>\n",
       "    </tr>\n",
       "  </tbody>\n",
       "</table>\n",
       "<p>5 rows × 36 columns</p>\n",
       "</div>"
      ],
      "text/plain": [
       "   0   1   2   3   4   5   6   7   8   9   ...  26  27  28  29  30  31  32  \\\n",
       "0   1   0   0   0   0   0   0   1   1   0  ...   0   0   1   0   0   0   0   \n",
       "1   0   1   0   0   0   1   0   0   0   1  ...   0   0   1   0   0   0   0   \n",
       "2   1   0   0   0   1   0   0   0   1   0  ...   0   0   1   0   0   0   1   \n",
       "3   0   0   0   1   1   0   0   0   1   0  ...   0   0   1   0   0   0   1   \n",
       "4   1   0   0   0   1   0   0   0   0   0  ...   0   0   1   0   0   0   1   \n",
       "\n",
       "   33  34  35  \n",
       "0   0   0   1  \n",
       "1   1   0   0  \n",
       "2   0   0   0  \n",
       "3   0   0   0  \n",
       "4   0   0   0  \n",
       "\n",
       "[5 rows x 36 columns]"
      ]
     },
     "execution_count": 179,
     "metadata": {},
     "output_type": "execute_result"
    }
   ],
   "source": [
    "pd.DataFrame(train_X.tolist()).head()"
   ]
  },
  {
   "cell_type": "code",
   "execution_count": 180,
   "metadata": {},
   "outputs": [],
   "source": [
    "# Simply moves the researchOutcome attribute to the first position before creating CSV files\n",
    "pd.concat([pd.DataFrame(train_Y.tolist()), pd.DataFrame(train_X.tolist())], axis=1).to_csv('train.csv', index=False, header=False)\n",
    "\n",
    "# Simply moves the researchOutcome attribute to the first position before creating CSV files\n",
    "pd.concat([pd.DataFrame(valid_Y.tolist()), pd.DataFrame(valid_X.tolist())], axis=1).to_csv('validation.csv', index=False, header=False)"
   ]
  },
  {
   "cell_type": "code",
   "execution_count": 181,
   "metadata": {},
   "outputs": [],
   "source": [
    "# Next we can take the files we just stored onto our Notebook instance and upload them to S3.\n",
    "boto3.Session().resource('s3').Bucket(bucket).Object('train/train.csv').upload_file('train.csv')\n",
    "boto3.Session().resource('s3').Bucket(bucket).Object('validation/validation.csv').upload_file('validation.csv')"
   ]
  },
  {
   "cell_type": "code",
   "execution_count": 182,
   "metadata": {},
   "outputs": [],
   "source": [
    "# Samma för testdata but no label \n",
    "pd.DataFrame(test_X.tolist()).to_csv('test.csv', index=False, header=False)\n",
    "             \n",
    "\n",
    "boto3.Session().resource('s3').Bucket(bucket).Object('test/test.csv').upload_file('test.csv')"
   ]
  },
  {
   "cell_type": "markdown",
   "metadata": {},
   "source": [
    "## Step 3: Creating and training our model (XGBoost)\n",
    "\n",
    "This is where the magic happens. We will get the ECR container hosted in ECR for the XGBoost algorithm. "
   ]
  },
  {
   "cell_type": "code",
   "execution_count": 183,
   "metadata": {},
   "outputs": [],
   "source": [
    "from sagemaker.amazon.amazon_estimator import get_image_uri\n",
    "container = get_image_uri(boto3.Session().region_name, 'xgboost', '0.90-1')"
   ]
  },
  {
   "cell_type": "code",
   "execution_count": 184,
   "metadata": {},
   "outputs": [],
   "source": [
    "s3_input_train = sagemaker.s3_input(s3_data='s3://{}/train'.format(bucket), content_type='csv')\n",
    "s3_input_validation = sagemaker.s3_input(s3_data='s3://{}/validation'.format(bucket), content_type='csv')"
   ]
  },
  {
   "cell_type": "code",
   "execution_count": 185,
   "metadata": {},
   "outputs": [
    {
     "data": {
      "text/plain": [
       "'uho-travanalys'"
      ]
     },
     "execution_count": 185,
     "metadata": {},
     "output_type": "execute_result"
    }
   ],
   "source": [
    "bucket"
   ]
  },
  {
   "cell_type": "markdown",
   "metadata": {},
   "source": [
    "Next we start building out our model by using the SageMaker Python SDK and passing in everything that is required to create a XGBoost model.\n",
    "\n",
    "First I like to always create a specific job name.\n",
    "\n",
    "Next, we'll need to specify training parameters.\n",
    "1. The `xgboost` algorithm container\n",
    "1. The IAM role to use\n",
    "1. Training instance type and count\n",
    "1. S3 location for output data/model artifact\n",
    "1. [XGBoost Hyperparameters](https://docs.aws.amazon.com/sagemaker/latest/dg/xgboost_hyperparameters.html)\n",
    "\n",
    "\n",
    "Finally, after everything is included and ready, then we can call the `.fit()` function which specifies the S3 location for training and validation data."
   ]
  },
  {
   "cell_type": "code",
   "execution_count": 186,
   "metadata": {},
   "outputs": [
    {
     "name": "stdout",
     "output_type": "stream",
     "text": [
      "Here is the job name uho-travanalys-xgboost-job-20200310183829\n",
      "2020-03-10 18:38:29 Starting - Starting the training job...\n",
      "2020-03-10 18:38:32 Starting - Launching requested ML instances......\n",
      "2020-03-10 18:39:59 Starting - Preparing the instances for training.........\n",
      "2020-03-10 18:41:28 Downloading - Downloading input data\n",
      "2020-03-10 18:41:28 Training - Training image download completed. Training in progress.\n",
      "2020-03-10 18:41:28 Uploading - Uploading generated training model.\u001b[34mINFO:sagemaker-containers:Imported framework sagemaker_xgboost_container.training\u001b[0m\n",
      "\u001b[34mINFO:sagemaker-containers:Failed to parse hyperparameter eval_metric value auc to Json.\u001b[0m\n",
      "\u001b[34mReturning the value itself\u001b[0m\n",
      "\u001b[34mINFO:sagemaker-containers:Failed to parse hyperparameter objective value binary:logistic to Json.\u001b[0m\n",
      "\u001b[34mReturning the value itself\u001b[0m\n",
      "\u001b[34mINFO:sagemaker-containers:No GPUs detected (normal if no gpus installed)\u001b[0m\n",
      "\u001b[34mINFO:sagemaker_xgboost_container.training:Running XGBoost Sagemaker in algorithm mode\u001b[0m\n",
      "\u001b[34mINFO:root:Determined delimiter of CSV input is ','\u001b[0m\n",
      "\u001b[34mINFO:root:Determined delimiter of CSV input is ','\u001b[0m\n",
      "\u001b[34mINFO:root:Determined delimiter of CSV input is ','\u001b[0m\n",
      "\u001b[34m[18:41:24] 6782x36 matrix with 244152 entries loaded from /opt/ml/input/data/train?format=csv&label_column=0&delimiter=,\u001b[0m\n",
      "\u001b[34mINFO:root:Determined delimiter of CSV input is ','\u001b[0m\n",
      "\u001b[34m[18:41:24] 2217x36 matrix with 79812 entries loaded from /opt/ml/input/data/validation?format=csv&label_column=0&delimiter=,\u001b[0m\n",
      "\u001b[34mINFO:root:Single node training.\u001b[0m\n",
      "\u001b[34mINFO:root:Train matrix has 6782 rows\u001b[0m\n",
      "\u001b[34mINFO:root:Validation matrix has 2217 rows\u001b[0m\n",
      "\u001b[34m[0]#011train-auc:0.663797#011validation-auc:0.704879\u001b[0m\n",
      "\u001b[34m[1]#011train-auc:0.762049#011validation-auc:0.764139\u001b[0m\n",
      "\u001b[34m[2]#011train-auc:0.79005#011validation-auc:0.797121\u001b[0m\n",
      "\u001b[34m[3]#011train-auc:0.797232#011validation-auc:0.798975\u001b[0m\n",
      "\u001b[34m[4]#011train-auc:0.797349#011validation-auc:0.799153\u001b[0m\n",
      "\u001b[34m[5]#011train-auc:0.797349#011validation-auc:0.799153\u001b[0m\n",
      "\u001b[34m[6]#011train-auc:0.797349#011validation-auc:0.799153\u001b[0m\n",
      "\u001b[34m[7]#011train-auc:0.797349#011validation-auc:0.799153\u001b[0m\n",
      "\u001b[34m[8]#011train-auc:0.797349#011validation-auc:0.799153\u001b[0m\n",
      "\u001b[34m[9]#011train-auc:0.797349#011validation-auc:0.799153\u001b[0m\n",
      "\u001b[34m[10]#011train-auc:0.797349#011validation-auc:0.799153\u001b[0m\n",
      "\u001b[34m[11]#011train-auc:0.797349#011validation-auc:0.799153\u001b[0m\n",
      "\u001b[34m[12]#011train-auc:0.797349#011validation-auc:0.799153\u001b[0m\n",
      "\u001b[34m[13]#011train-auc:0.806521#011validation-auc:0.80904\u001b[0m\n",
      "\u001b[34m[14]#011train-auc:0.806521#011validation-auc:0.80904\u001b[0m\n",
      "\u001b[34m[15]#011train-auc:0.806521#011validation-auc:0.80904\u001b[0m\n",
      "\u001b[34m[16]#011train-auc:0.806521#011validation-auc:0.80904\u001b[0m\n",
      "\u001b[34m[17]#011train-auc:0.806521#011validation-auc:0.80904\u001b[0m\n",
      "\u001b[34m[18]#011train-auc:0.806521#011validation-auc:0.80904\u001b[0m\n",
      "\u001b[34m[19]#011train-auc:0.806521#011validation-auc:0.80904\u001b[0m\n",
      "\n",
      "2020-03-10 18:41:35 Completed - Training job completed\n",
      "Training seconds: 31\n",
      "Billable seconds: 9\n",
      "Managed Spot Training savings: 71.0%\n"
     ]
    }
   ],
   "source": [
    "# Create a training job name\n",
    "job_name = 'uho-travanalys-xgboost-job-{}'.format(datetime.now().strftime(\"%Y%m%d%H%M%S\"))\n",
    "print('Here is the job name {}'.format(job_name))\n",
    "\n",
    "# Here is where the model artifact will be stored\n",
    "output_location = 's3://{}/output'.format(bucket)\n",
    "\n",
    "sess = sagemaker.Session()\n",
    "\n",
    "xgb = sagemaker.estimator.Estimator(container,\n",
    "                                    role, \n",
    "                                    train_instance_count=1, \n",
    "                                    train_instance_type='ml.m5.xlarge',\n",
    "                                    output_path=output_location,\n",
    "                                    sagemaker_session=sess,\n",
    "                                    train_use_spot_instances=True,        # Use spot instance\n",
    "                                    train_max_run=120,                    # Max training time\n",
    "                                    train_max_wait=3600)\n",
    "\n",
    "xgb.set_hyperparameters(objective='binary:logistic',\n",
    "                        num_round = 20,\n",
    "                        eval_metric = 'auc',\n",
    "                        subsample = 0.5,\n",
    "                        alpha = 500,\n",
    "                        min_child_weight = 10,\n",
    "                        eta = 0.7)\n",
    "\n",
    "data_channels = {\n",
    "    'train': s3_input_train,\n",
    "    'validation': s3_input_validation\n",
    "}\n",
    "xgb.fit(data_channels, job_name=job_name) "
   ]
  },
  {
   "cell_type": "code",
   "execution_count": null,
   "metadata": {},
   "outputs": [],
   "source": [
    "# Sedan utvärderar vi på undanlagt testdata\n",
    "\n",
    "batch_input = 's3://{}/test'.format(bucket) # The location of the test dataset\n",
    "batch_input"
   ]
  },
  {
   "cell_type": "code",
   "execution_count": 187,
   "metadata": {},
   "outputs": [
    {
     "data": {
      "text/plain": [
       "'s3://uho-travanalys/batch-inference'"
      ]
     },
     "execution_count": 187,
     "metadata": {},
     "output_type": "execute_result"
    }
   ],
   "source": [
    "batch_output = 's3://{}/batch-inference'.format(bucket) # The location to store the results of the batch transform job\n",
    "batch_output"
   ]
  },
  {
   "cell_type": "code",
   "execution_count": 188,
   "metadata": {},
   "outputs": [],
   "source": [
    "transformer = xgb.transformer(instance_count=1, instance_type='ml.m5.xlarge', output_path=batch_output)"
   ]
  },
  {
   "cell_type": "code",
   "execution_count": 189,
   "metadata": {},
   "outputs": [],
   "source": [
    "transformer.transform(data=batch_input, data_type='S3Prefix', content_type='text/csv', split_type='Line')"
   ]
  },
  {
   "cell_type": "code",
   "execution_count": 190,
   "metadata": {},
   "outputs": [
    {
     "name": "stdout",
     "output_type": "stream",
     "text": [
      ".................\u001b[34m[2020-03-10 19:02:12 +0000] [15] [INFO] Starting gunicorn 19.10.0\u001b[0m\n",
      "\u001b[34m[2020-03-10 19:02:12 +0000] [15] [INFO] Listening at: unix:/tmp/gunicorn.sock (15)\u001b[0m\n",
      "\u001b[34m[2020-03-10 19:02:12 +0000] [15] [INFO] Using worker: gevent\u001b[0m\n",
      "\u001b[34m[2020-03-10 19:02:12 +0000] [22] [INFO] Booting worker with pid: 22\u001b[0m\n",
      "\u001b[34m[2020-03-10 19:02:12 +0000] [26] [INFO] Booting worker with pid: 26\u001b[0m\n",
      "\u001b[34m[2020-03-10 19:02:13 +0000] [27] [INFO] Booting worker with pid: 27\u001b[0m\n",
      "\u001b[34m[2020-03-10 19:02:13 +0000] [28] [INFO] Booting worker with pid: 28\u001b[0m\n",
      "\n",
      "\u001b[34m[2020-03-10:19:02:31:INFO] No GPUs detected (normal if no gpus installed)\u001b[0m\n",
      "\u001b[34m169.254.255.130 - - [10/Mar/2020:19:02:31 +0000] \"GET /ping HTTP/1.1\" 200 0 \"-\" \"Go-http-client/1.1\"\u001b[0m\n",
      "\u001b[35m[2020-03-10:19:02:31:INFO] No GPUs detected (normal if no gpus installed)\u001b[0m\n",
      "\u001b[35m169.254.255.130 - - [10/Mar/2020:19:02:31 +0000] \"GET /ping HTTP/1.1\" 200 0 \"-\" \"Go-http-client/1.1\"\u001b[0m\n",
      "\u001b[34m[2020-03-10:19:02:31:INFO] No GPUs detected (normal if no gpus installed)\u001b[0m\n",
      "\u001b[34m169.254.255.130 - - [10/Mar/2020:19:02:31 +0000] \"GET /execution-parameters HTTP/1.1\" 200 84 \"-\" \"Go-http-client/1.1\"\u001b[0m\n",
      "\u001b[34m[2020-03-10:19:02:31:INFO] Determined delimiter of CSV input is ','\u001b[0m\n",
      "\u001b[34m169.254.255.130 - - [10/Mar/2020:19:02:31 +0000] \"POST /invocations HTTP/1.1\" 200 18865 \"-\" \"Go-http-client/1.1\"\u001b[0m\n",
      "\u001b[35m[2020-03-10:19:02:31:INFO] No GPUs detected (normal if no gpus installed)\u001b[0m\n",
      "\u001b[35m169.254.255.130 - - [10/Mar/2020:19:02:31 +0000] \"GET /execution-parameters HTTP/1.1\" 200 84 \"-\" \"Go-http-client/1.1\"\u001b[0m\n",
      "\u001b[35m[2020-03-10:19:02:31:INFO] Determined delimiter of CSV input is ','\u001b[0m\n",
      "\u001b[35m169.254.255.130 - - [10/Mar/2020:19:02:31 +0000] \"POST /invocations HTTP/1.1\" 200 18865 \"-\" \"Go-http-client/1.1\"\u001b[0m\n",
      "\u001b[32m2020-03-10T19:02:31.282:[sagemaker logs]: MaxConcurrentTransforms=4, MaxPayloadInMB=6, BatchStrategy=MULTI_RECORD\u001b[0m\n"
     ]
    }
   ],
   "source": [
    "transformer.wait()"
   ]
  },
  {
   "cell_type": "code",
   "execution_count": 191,
   "metadata": {},
   "outputs": [],
   "source": [
    "# Vi läser in den scorade filen\n",
    "\n",
    "role = get_execution_role()\n",
    "bucket = 'uho-travanalys'\n",
    "prefix = 'batch-inference'\n",
    "data_key = 'test.csv.out'\n",
    "data_location = 's3://{}/{}/{}'.format(bucket, prefix, data_key)\n",
    "\n",
    "df_inference = pd.read_csv(data_location, header = -1, names = ['Score'])"
   ]
  },
  {
   "cell_type": "code",
   "execution_count": 192,
   "metadata": {},
   "outputs": [
    {
     "data": {
      "text/html": [
       "<div>\n",
       "<style scoped>\n",
       "    .dataframe tbody tr th:only-of-type {\n",
       "        vertical-align: middle;\n",
       "    }\n",
       "\n",
       "    .dataframe tbody tr th {\n",
       "        vertical-align: top;\n",
       "    }\n",
       "\n",
       "    .dataframe thead th {\n",
       "        text-align: right;\n",
       "    }\n",
       "</style>\n",
       "<table border=\"1\" class=\"dataframe\">\n",
       "  <thead>\n",
       "    <tr style=\"text-align: right;\">\n",
       "      <th></th>\n",
       "      <th>Score</th>\n",
       "    </tr>\n",
       "  </thead>\n",
       "  <tbody>\n",
       "    <tr>\n",
       "      <th>0</th>\n",
       "      <td>0.300849</td>\n",
       "    </tr>\n",
       "    <tr>\n",
       "      <th>1</th>\n",
       "      <td>0.190482</td>\n",
       "    </tr>\n",
       "    <tr>\n",
       "      <th>2</th>\n",
       "      <td>0.190482</td>\n",
       "    </tr>\n",
       "    <tr>\n",
       "      <th>3</th>\n",
       "      <td>0.190482</td>\n",
       "    </tr>\n",
       "    <tr>\n",
       "      <th>4</th>\n",
       "      <td>0.190482</td>\n",
       "    </tr>\n",
       "  </tbody>\n",
       "</table>\n",
       "</div>"
      ],
      "text/plain": [
       "      Score\n",
       "0  0.300849\n",
       "1  0.190482\n",
       "2  0.190482\n",
       "3  0.190482\n",
       "4  0.190482"
      ]
     },
     "execution_count": 192,
     "metadata": {},
     "output_type": "execute_result"
    }
   ],
   "source": [
    "\n",
    "df_inference.head() \n"
   ]
  },
  {
   "cell_type": "code",
   "execution_count": 193,
   "metadata": {},
   "outputs": [
    {
     "data": {
      "text/plain": [
       "1001"
      ]
     },
     "execution_count": 193,
     "metadata": {},
     "output_type": "execute_result"
    }
   ],
   "source": [
    "len(df_inference)"
   ]
  },
  {
   "cell_type": "code",
   "execution_count": 194,
   "metadata": {},
   "outputs": [],
   "source": [
    "res_df = test[['Y','Lopp','Datum','VNUM','Plac']].reset_index().drop('Key', axis = 1)"
   ]
  },
  {
   "cell_type": "code",
   "execution_count": 195,
   "metadata": {},
   "outputs": [
    {
     "data": {
      "text/plain": [
       "1001"
      ]
     },
     "execution_count": 195,
     "metadata": {},
     "output_type": "execute_result"
    }
   ],
   "source": [
    "len(res_df)"
   ]
  },
  {
   "cell_type": "code",
   "execution_count": 196,
   "metadata": {},
   "outputs": [
    {
     "name": "stdout",
     "output_type": "stream",
     "text": [
      "<class 'pandas.core.frame.DataFrame'>\n",
      "RangeIndex: 1001 entries, 0 to 1000\n",
      "Data columns (total 5 columns):\n",
      "Y        1001 non-null int64\n",
      "Lopp     1001 non-null int64\n",
      "Datum    1001 non-null datetime64[ns]\n",
      "VNUM     1001 non-null int64\n",
      "Plac     1001 non-null int64\n",
      "dtypes: datetime64[ns](1), int64(4)\n",
      "memory usage: 39.2 KB\n"
     ]
    }
   ],
   "source": [
    "res_df.info()"
   ]
  },
  {
   "cell_type": "code",
   "execution_count": 197,
   "metadata": {},
   "outputs": [],
   "source": [
    "# Nu konkatinerar vi på det faktiska utfallet\n",
    "df_inference2 = pd.concat([res_df, df_inference], axis = 1)"
   ]
  },
  {
   "cell_type": "code",
   "execution_count": 198,
   "metadata": {},
   "outputs": [
    {
     "data": {
      "text/plain": [
       "Y\n",
       "0    0.200554\n",
       "1    0.307074\n",
       "Name: Score, dtype: float64"
      ]
     },
     "execution_count": 198,
     "metadata": {},
     "output_type": "execute_result"
    }
   ],
   "source": [
    "df_inference2.groupby('Y')['Score'].mean()"
   ]
  },
  {
   "cell_type": "code",
   "execution_count": 199,
   "metadata": {},
   "outputs": [],
   "source": [
    "# Sparar ned i Pickle format för att kunna återanvända\n",
    "\n",
    "df_inference2.to_pickle('df_inference2.pkl')\n"
   ]
  },
  {
   "cell_type": "code",
   "execution_count": 200,
   "metadata": {},
   "outputs": [],
   "source": [
    "df_inference2 = pd.read_pickle('df_inference2.pkl')"
   ]
  },
  {
   "cell_type": "code",
   "execution_count": 201,
   "metadata": {},
   "outputs": [
    {
     "name": "stdout",
     "output_type": "stream",
     "text": [
      "<class 'pandas.core.frame.DataFrame'>\n",
      "RangeIndex: 1001 entries, 0 to 1000\n",
      "Data columns (total 6 columns):\n",
      "Y        1001 non-null int64\n",
      "Lopp     1001 non-null int64\n",
      "Datum    1001 non-null datetime64[ns]\n",
      "VNUM     1001 non-null int64\n",
      "Plac     1001 non-null int64\n",
      "Score    1001 non-null float64\n",
      "dtypes: datetime64[ns](1), float64(1), int64(4)\n",
      "memory usage: 47.0 KB\n"
     ]
    }
   ],
   "source": [
    "df_inference2.info()"
   ]
  },
  {
   "cell_type": "code",
   "execution_count": 209,
   "metadata": {},
   "outputs": [
    {
     "data": {
      "text/plain": [
       "30"
      ]
     },
     "execution_count": 209,
     "metadata": {},
     "output_type": "execute_result"
    }
   ],
   "source": [
    "df_inference3.Datum.drop_duplicates().count()"
   ]
  },
  {
   "cell_type": "code",
   "execution_count": 207,
   "metadata": {},
   "outputs": [
    {
     "data": {
      "text/html": [
       "<div>\n",
       "<style scoped>\n",
       "    .dataframe tbody tr th:only-of-type {\n",
       "        vertical-align: middle;\n",
       "    }\n",
       "\n",
       "    .dataframe tbody tr th {\n",
       "        vertical-align: top;\n",
       "    }\n",
       "\n",
       "    .dataframe thead th {\n",
       "        text-align: right;\n",
       "    }\n",
       "</style>\n",
       "<table border=\"1\" class=\"dataframe\">\n",
       "  <thead>\n",
       "    <tr style=\"text-align: right;\">\n",
       "      <th></th>\n",
       "      <th>Y</th>\n",
       "      <th>Lopp</th>\n",
       "      <th>Datum</th>\n",
       "      <th>VNUM</th>\n",
       "      <th>Plac</th>\n",
       "      <th>Score</th>\n",
       "    </tr>\n",
       "  </thead>\n",
       "  <tbody>\n",
       "    <tr>\n",
       "      <th>0</th>\n",
       "      <td>1</td>\n",
       "      <td>1</td>\n",
       "      <td>2016-05-21</td>\n",
       "      <td>1</td>\n",
       "      <td>1</td>\n",
       "      <td>0.300849</td>\n",
       "    </tr>\n",
       "    <tr>\n",
       "      <th>1</th>\n",
       "      <td>0</td>\n",
       "      <td>1</td>\n",
       "      <td>2016-05-21</td>\n",
       "      <td>7</td>\n",
       "      <td>0</td>\n",
       "      <td>0.190482</td>\n",
       "    </tr>\n",
       "    <tr>\n",
       "      <th>2</th>\n",
       "      <td>0</td>\n",
       "      <td>1</td>\n",
       "      <td>2016-05-21</td>\n",
       "      <td>10</td>\n",
       "      <td>0</td>\n",
       "      <td>0.190482</td>\n",
       "    </tr>\n",
       "    <tr>\n",
       "      <th>3</th>\n",
       "      <td>0</td>\n",
       "      <td>1</td>\n",
       "      <td>2016-05-21</td>\n",
       "      <td>11</td>\n",
       "      <td>0</td>\n",
       "      <td>0.190482</td>\n",
       "    </tr>\n",
       "    <tr>\n",
       "      <th>4</th>\n",
       "      <td>0</td>\n",
       "      <td>1</td>\n",
       "      <td>2016-05-21</td>\n",
       "      <td>9</td>\n",
       "      <td>0</td>\n",
       "      <td>0.190482</td>\n",
       "    </tr>\n",
       "    <tr>\n",
       "      <th>5</th>\n",
       "      <td>0</td>\n",
       "      <td>1</td>\n",
       "      <td>2016-05-21</td>\n",
       "      <td>4</td>\n",
       "      <td>0</td>\n",
       "      <td>0.190482</td>\n",
       "    </tr>\n",
       "    <tr>\n",
       "      <th>6</th>\n",
       "      <td>0</td>\n",
       "      <td>1</td>\n",
       "      <td>2016-05-21</td>\n",
       "      <td>3</td>\n",
       "      <td>0</td>\n",
       "      <td>0.190482</td>\n",
       "    </tr>\n",
       "    <tr>\n",
       "      <th>7</th>\n",
       "      <td>0</td>\n",
       "      <td>1</td>\n",
       "      <td>2016-05-21</td>\n",
       "      <td>2</td>\n",
       "      <td>0</td>\n",
       "      <td>0.190482</td>\n",
       "    </tr>\n",
       "    <tr>\n",
       "      <th>8</th>\n",
       "      <td>0</td>\n",
       "      <td>1</td>\n",
       "      <td>2016-05-21</td>\n",
       "      <td>5</td>\n",
       "      <td>0</td>\n",
       "      <td>0.190482</td>\n",
       "    </tr>\n",
       "    <tr>\n",
       "      <th>9</th>\n",
       "      <td>0</td>\n",
       "      <td>1</td>\n",
       "      <td>2016-05-21</td>\n",
       "      <td>8</td>\n",
       "      <td>0</td>\n",
       "      <td>0.190482</td>\n",
       "    </tr>\n",
       "    <tr>\n",
       "      <th>10</th>\n",
       "      <td>0</td>\n",
       "      <td>1</td>\n",
       "      <td>2016-05-21</td>\n",
       "      <td>6</td>\n",
       "      <td>0</td>\n",
       "      <td>0.190482</td>\n",
       "    </tr>\n",
       "    <tr>\n",
       "      <th>12</th>\n",
       "      <td>0</td>\n",
       "      <td>2</td>\n",
       "      <td>2016-05-21</td>\n",
       "      <td>1</td>\n",
       "      <td>0</td>\n",
       "      <td>0.291979</td>\n",
       "    </tr>\n",
       "    <tr>\n",
       "      <th>22</th>\n",
       "      <td>0</td>\n",
       "      <td>2</td>\n",
       "      <td>2016-05-21</td>\n",
       "      <td>2</td>\n",
       "      <td>0</td>\n",
       "      <td>0.221643</td>\n",
       "    </tr>\n",
       "    <tr>\n",
       "      <th>11</th>\n",
       "      <td>1</td>\n",
       "      <td>2</td>\n",
       "      <td>2016-05-21</td>\n",
       "      <td>3</td>\n",
       "      <td>1</td>\n",
       "      <td>0.190482</td>\n",
       "    </tr>\n",
       "    <tr>\n",
       "      <th>13</th>\n",
       "      <td>0</td>\n",
       "      <td>2</td>\n",
       "      <td>2016-05-21</td>\n",
       "      <td>6</td>\n",
       "      <td>0</td>\n",
       "      <td>0.190482</td>\n",
       "    </tr>\n",
       "    <tr>\n",
       "      <th>14</th>\n",
       "      <td>0</td>\n",
       "      <td>2</td>\n",
       "      <td>2016-05-21</td>\n",
       "      <td>7</td>\n",
       "      <td>0</td>\n",
       "      <td>0.190482</td>\n",
       "    </tr>\n",
       "    <tr>\n",
       "      <th>15</th>\n",
       "      <td>0</td>\n",
       "      <td>2</td>\n",
       "      <td>2016-05-21</td>\n",
       "      <td>9</td>\n",
       "      <td>0</td>\n",
       "      <td>0.190482</td>\n",
       "    </tr>\n",
       "    <tr>\n",
       "      <th>16</th>\n",
       "      <td>0</td>\n",
       "      <td>2</td>\n",
       "      <td>2016-05-21</td>\n",
       "      <td>10</td>\n",
       "      <td>0</td>\n",
       "      <td>0.190482</td>\n",
       "    </tr>\n",
       "    <tr>\n",
       "      <th>17</th>\n",
       "      <td>0</td>\n",
       "      <td>2</td>\n",
       "      <td>2016-05-21</td>\n",
       "      <td>12</td>\n",
       "      <td>0</td>\n",
       "      <td>0.190482</td>\n",
       "    </tr>\n",
       "    <tr>\n",
       "      <th>18</th>\n",
       "      <td>0</td>\n",
       "      <td>2</td>\n",
       "      <td>2016-05-21</td>\n",
       "      <td>11</td>\n",
       "      <td>0</td>\n",
       "      <td>0.190482</td>\n",
       "    </tr>\n",
       "    <tr>\n",
       "      <th>19</th>\n",
       "      <td>0</td>\n",
       "      <td>2</td>\n",
       "      <td>2016-05-21</td>\n",
       "      <td>5</td>\n",
       "      <td>0</td>\n",
       "      <td>0.190482</td>\n",
       "    </tr>\n",
       "    <tr>\n",
       "      <th>20</th>\n",
       "      <td>0</td>\n",
       "      <td>2</td>\n",
       "      <td>2016-05-21</td>\n",
       "      <td>4</td>\n",
       "      <td>0</td>\n",
       "      <td>0.190482</td>\n",
       "    </tr>\n",
       "    <tr>\n",
       "      <th>21</th>\n",
       "      <td>0</td>\n",
       "      <td>2</td>\n",
       "      <td>2016-05-21</td>\n",
       "      <td>8</td>\n",
       "      <td>0</td>\n",
       "      <td>0.190482</td>\n",
       "    </tr>\n",
       "    <tr>\n",
       "      <th>25</th>\n",
       "      <td>0</td>\n",
       "      <td>3</td>\n",
       "      <td>2016-05-21</td>\n",
       "      <td>3</td>\n",
       "      <td>0</td>\n",
       "      <td>0.251612</td>\n",
       "    </tr>\n",
       "    <tr>\n",
       "      <th>30</th>\n",
       "      <td>0</td>\n",
       "      <td>3</td>\n",
       "      <td>2016-05-21</td>\n",
       "      <td>1</td>\n",
       "      <td>0</td>\n",
       "      <td>0.231114</td>\n",
       "    </tr>\n",
       "    <tr>\n",
       "      <th>29</th>\n",
       "      <td>0</td>\n",
       "      <td>3</td>\n",
       "      <td>2016-05-21</td>\n",
       "      <td>7</td>\n",
       "      <td>0</td>\n",
       "      <td>0.190779</td>\n",
       "    </tr>\n",
       "    <tr>\n",
       "      <th>23</th>\n",
       "      <td>0</td>\n",
       "      <td>3</td>\n",
       "      <td>2016-05-21</td>\n",
       "      <td>4</td>\n",
       "      <td>1</td>\n",
       "      <td>0.190482</td>\n",
       "    </tr>\n",
       "    <tr>\n",
       "      <th>24</th>\n",
       "      <td>0</td>\n",
       "      <td>3</td>\n",
       "      <td>2016-05-21</td>\n",
       "      <td>2</td>\n",
       "      <td>0</td>\n",
       "      <td>0.190482</td>\n",
       "    </tr>\n",
       "    <tr>\n",
       "      <th>26</th>\n",
       "      <td>0</td>\n",
       "      <td>3</td>\n",
       "      <td>2016-05-21</td>\n",
       "      <td>5</td>\n",
       "      <td>0</td>\n",
       "      <td>0.190482</td>\n",
       "    </tr>\n",
       "    <tr>\n",
       "      <th>27</th>\n",
       "      <td>0</td>\n",
       "      <td>3</td>\n",
       "      <td>2016-05-21</td>\n",
       "      <td>8</td>\n",
       "      <td>0</td>\n",
       "      <td>0.190482</td>\n",
       "    </tr>\n",
       "    <tr>\n",
       "      <th>...</th>\n",
       "      <td>...</td>\n",
       "      <td>...</td>\n",
       "      <td>...</td>\n",
       "      <td>...</td>\n",
       "      <td>...</td>\n",
       "      <td>...</td>\n",
       "    </tr>\n",
       "    <tr>\n",
       "      <th>70</th>\n",
       "      <td>1</td>\n",
       "      <td>2</td>\n",
       "      <td>2016-06-26</td>\n",
       "      <td>1</td>\n",
       "      <td>1</td>\n",
       "      <td>0.300849</td>\n",
       "    </tr>\n",
       "    <tr>\n",
       "      <th>71</th>\n",
       "      <td>0</td>\n",
       "      <td>2</td>\n",
       "      <td>2016-06-26</td>\n",
       "      <td>2</td>\n",
       "      <td>0</td>\n",
       "      <td>0.190482</td>\n",
       "    </tr>\n",
       "    <tr>\n",
       "      <th>72</th>\n",
       "      <td>0</td>\n",
       "      <td>2</td>\n",
       "      <td>2016-06-26</td>\n",
       "      <td>4</td>\n",
       "      <td>0</td>\n",
       "      <td>0.190482</td>\n",
       "    </tr>\n",
       "    <tr>\n",
       "      <th>73</th>\n",
       "      <td>0</td>\n",
       "      <td>2</td>\n",
       "      <td>2016-06-26</td>\n",
       "      <td>5</td>\n",
       "      <td>0</td>\n",
       "      <td>0.190482</td>\n",
       "    </tr>\n",
       "    <tr>\n",
       "      <th>74</th>\n",
       "      <td>0</td>\n",
       "      <td>2</td>\n",
       "      <td>2016-06-26</td>\n",
       "      <td>6</td>\n",
       "      <td>0</td>\n",
       "      <td>0.190482</td>\n",
       "    </tr>\n",
       "    <tr>\n",
       "      <th>75</th>\n",
       "      <td>0</td>\n",
       "      <td>2</td>\n",
       "      <td>2016-06-26</td>\n",
       "      <td>13</td>\n",
       "      <td>0</td>\n",
       "      <td>0.190482</td>\n",
       "    </tr>\n",
       "    <tr>\n",
       "      <th>76</th>\n",
       "      <td>0</td>\n",
       "      <td>2</td>\n",
       "      <td>2016-06-26</td>\n",
       "      <td>7</td>\n",
       "      <td>0</td>\n",
       "      <td>0.190482</td>\n",
       "    </tr>\n",
       "    <tr>\n",
       "      <th>77</th>\n",
       "      <td>0</td>\n",
       "      <td>2</td>\n",
       "      <td>2016-06-26</td>\n",
       "      <td>3</td>\n",
       "      <td>0</td>\n",
       "      <td>0.190482</td>\n",
       "    </tr>\n",
       "    <tr>\n",
       "      <th>78</th>\n",
       "      <td>0</td>\n",
       "      <td>2</td>\n",
       "      <td>2016-06-26</td>\n",
       "      <td>14</td>\n",
       "      <td>0</td>\n",
       "      <td>0.190482</td>\n",
       "    </tr>\n",
       "    <tr>\n",
       "      <th>79</th>\n",
       "      <td>0</td>\n",
       "      <td>2</td>\n",
       "      <td>2016-06-26</td>\n",
       "      <td>11</td>\n",
       "      <td>0</td>\n",
       "      <td>0.190482</td>\n",
       "    </tr>\n",
       "    <tr>\n",
       "      <th>80</th>\n",
       "      <td>0</td>\n",
       "      <td>2</td>\n",
       "      <td>2016-06-26</td>\n",
       "      <td>9</td>\n",
       "      <td>0</td>\n",
       "      <td>0.190482</td>\n",
       "    </tr>\n",
       "    <tr>\n",
       "      <th>81</th>\n",
       "      <td>0</td>\n",
       "      <td>2</td>\n",
       "      <td>2016-06-26</td>\n",
       "      <td>10</td>\n",
       "      <td>0</td>\n",
       "      <td>0.190482</td>\n",
       "    </tr>\n",
       "    <tr>\n",
       "      <th>82</th>\n",
       "      <td>0</td>\n",
       "      <td>2</td>\n",
       "      <td>2016-06-26</td>\n",
       "      <td>8</td>\n",
       "      <td>0</td>\n",
       "      <td>0.190482</td>\n",
       "    </tr>\n",
       "    <tr>\n",
       "      <th>83</th>\n",
       "      <td>0</td>\n",
       "      <td>2</td>\n",
       "      <td>2016-06-26</td>\n",
       "      <td>12</td>\n",
       "      <td>0</td>\n",
       "      <td>0.190482</td>\n",
       "    </tr>\n",
       "    <tr>\n",
       "      <th>92</th>\n",
       "      <td>0</td>\n",
       "      <td>5</td>\n",
       "      <td>2016-06-26</td>\n",
       "      <td>1</td>\n",
       "      <td>0</td>\n",
       "      <td>0.300849</td>\n",
       "    </tr>\n",
       "    <tr>\n",
       "      <th>89</th>\n",
       "      <td>0</td>\n",
       "      <td>5</td>\n",
       "      <td>2016-06-26</td>\n",
       "      <td>3</td>\n",
       "      <td>0</td>\n",
       "      <td>0.214392</td>\n",
       "    </tr>\n",
       "    <tr>\n",
       "      <th>84</th>\n",
       "      <td>1</td>\n",
       "      <td>5</td>\n",
       "      <td>2016-06-26</td>\n",
       "      <td>2</td>\n",
       "      <td>1</td>\n",
       "      <td>0.190482</td>\n",
       "    </tr>\n",
       "    <tr>\n",
       "      <th>85</th>\n",
       "      <td>0</td>\n",
       "      <td>5</td>\n",
       "      <td>2016-06-26</td>\n",
       "      <td>8</td>\n",
       "      <td>0</td>\n",
       "      <td>0.190482</td>\n",
       "    </tr>\n",
       "    <tr>\n",
       "      <th>86</th>\n",
       "      <td>0</td>\n",
       "      <td>5</td>\n",
       "      <td>2016-06-26</td>\n",
       "      <td>5</td>\n",
       "      <td>0</td>\n",
       "      <td>0.190482</td>\n",
       "    </tr>\n",
       "    <tr>\n",
       "      <th>87</th>\n",
       "      <td>0</td>\n",
       "      <td>5</td>\n",
       "      <td>2016-06-26</td>\n",
       "      <td>6</td>\n",
       "      <td>0</td>\n",
       "      <td>0.190482</td>\n",
       "    </tr>\n",
       "    <tr>\n",
       "      <th>88</th>\n",
       "      <td>0</td>\n",
       "      <td>5</td>\n",
       "      <td>2016-06-26</td>\n",
       "      <td>10</td>\n",
       "      <td>0</td>\n",
       "      <td>0.190482</td>\n",
       "    </tr>\n",
       "    <tr>\n",
       "      <th>90</th>\n",
       "      <td>0</td>\n",
       "      <td>5</td>\n",
       "      <td>2016-06-26</td>\n",
       "      <td>11</td>\n",
       "      <td>0</td>\n",
       "      <td>0.190482</td>\n",
       "    </tr>\n",
       "    <tr>\n",
       "      <th>91</th>\n",
       "      <td>0</td>\n",
       "      <td>5</td>\n",
       "      <td>2016-06-26</td>\n",
       "      <td>9</td>\n",
       "      <td>0</td>\n",
       "      <td>0.190482</td>\n",
       "    </tr>\n",
       "    <tr>\n",
       "      <th>93</th>\n",
       "      <td>0</td>\n",
       "      <td>5</td>\n",
       "      <td>2016-06-26</td>\n",
       "      <td>12</td>\n",
       "      <td>0</td>\n",
       "      <td>0.190482</td>\n",
       "    </tr>\n",
       "    <tr>\n",
       "      <th>94</th>\n",
       "      <td>0</td>\n",
       "      <td>5</td>\n",
       "      <td>2016-06-26</td>\n",
       "      <td>4</td>\n",
       "      <td>0</td>\n",
       "      <td>0.190482</td>\n",
       "    </tr>\n",
       "    <tr>\n",
       "      <th>95</th>\n",
       "      <td>0</td>\n",
       "      <td>5</td>\n",
       "      <td>2016-06-26</td>\n",
       "      <td>7</td>\n",
       "      <td>0</td>\n",
       "      <td>0.190482</td>\n",
       "    </tr>\n",
       "    <tr>\n",
       "      <th>99</th>\n",
       "      <td>0</td>\n",
       "      <td>1</td>\n",
       "      <td>2016-07-30</td>\n",
       "      <td>1</td>\n",
       "      <td>0</td>\n",
       "      <td>0.300849</td>\n",
       "    </tr>\n",
       "    <tr>\n",
       "      <th>96</th>\n",
       "      <td>0</td>\n",
       "      <td>1</td>\n",
       "      <td>2016-07-30</td>\n",
       "      <td>5</td>\n",
       "      <td>1</td>\n",
       "      <td>0.190482</td>\n",
       "    </tr>\n",
       "    <tr>\n",
       "      <th>97</th>\n",
       "      <td>0</td>\n",
       "      <td>1</td>\n",
       "      <td>2016-07-30</td>\n",
       "      <td>2</td>\n",
       "      <td>0</td>\n",
       "      <td>0.190482</td>\n",
       "    </tr>\n",
       "    <tr>\n",
       "      <th>98</th>\n",
       "      <td>0</td>\n",
       "      <td>1</td>\n",
       "      <td>2016-07-30</td>\n",
       "      <td>12</td>\n",
       "      <td>0</td>\n",
       "      <td>0.190482</td>\n",
       "    </tr>\n",
       "  </tbody>\n",
       "</table>\n",
       "<p>100 rows × 6 columns</p>\n",
       "</div>"
      ],
      "text/plain": [
       "    Y  Lopp      Datum  VNUM  Plac     Score\n",
       "0   1     1 2016-05-21     1     1  0.300849\n",
       "1   0     1 2016-05-21     7     0  0.190482\n",
       "2   0     1 2016-05-21    10     0  0.190482\n",
       "3   0     1 2016-05-21    11     0  0.190482\n",
       "4   0     1 2016-05-21     9     0  0.190482\n",
       "5   0     1 2016-05-21     4     0  0.190482\n",
       "6   0     1 2016-05-21     3     0  0.190482\n",
       "7   0     1 2016-05-21     2     0  0.190482\n",
       "8   0     1 2016-05-21     5     0  0.190482\n",
       "9   0     1 2016-05-21     8     0  0.190482\n",
       "10  0     1 2016-05-21     6     0  0.190482\n",
       "12  0     2 2016-05-21     1     0  0.291979\n",
       "22  0     2 2016-05-21     2     0  0.221643\n",
       "11  1     2 2016-05-21     3     1  0.190482\n",
       "13  0     2 2016-05-21     6     0  0.190482\n",
       "14  0     2 2016-05-21     7     0  0.190482\n",
       "15  0     2 2016-05-21     9     0  0.190482\n",
       "16  0     2 2016-05-21    10     0  0.190482\n",
       "17  0     2 2016-05-21    12     0  0.190482\n",
       "18  0     2 2016-05-21    11     0  0.190482\n",
       "19  0     2 2016-05-21     5     0  0.190482\n",
       "20  0     2 2016-05-21     4     0  0.190482\n",
       "21  0     2 2016-05-21     8     0  0.190482\n",
       "25  0     3 2016-05-21     3     0  0.251612\n",
       "30  0     3 2016-05-21     1     0  0.231114\n",
       "29  0     3 2016-05-21     7     0  0.190779\n",
       "23  0     3 2016-05-21     4     1  0.190482\n",
       "24  0     3 2016-05-21     2     0  0.190482\n",
       "26  0     3 2016-05-21     5     0  0.190482\n",
       "27  0     3 2016-05-21     8     0  0.190482\n",
       ".. ..   ...        ...   ...   ...       ...\n",
       "70  1     2 2016-06-26     1     1  0.300849\n",
       "71  0     2 2016-06-26     2     0  0.190482\n",
       "72  0     2 2016-06-26     4     0  0.190482\n",
       "73  0     2 2016-06-26     5     0  0.190482\n",
       "74  0     2 2016-06-26     6     0  0.190482\n",
       "75  0     2 2016-06-26    13     0  0.190482\n",
       "76  0     2 2016-06-26     7     0  0.190482\n",
       "77  0     2 2016-06-26     3     0  0.190482\n",
       "78  0     2 2016-06-26    14     0  0.190482\n",
       "79  0     2 2016-06-26    11     0  0.190482\n",
       "80  0     2 2016-06-26     9     0  0.190482\n",
       "81  0     2 2016-06-26    10     0  0.190482\n",
       "82  0     2 2016-06-26     8     0  0.190482\n",
       "83  0     2 2016-06-26    12     0  0.190482\n",
       "92  0     5 2016-06-26     1     0  0.300849\n",
       "89  0     5 2016-06-26     3     0  0.214392\n",
       "84  1     5 2016-06-26     2     1  0.190482\n",
       "85  0     5 2016-06-26     8     0  0.190482\n",
       "86  0     5 2016-06-26     5     0  0.190482\n",
       "87  0     5 2016-06-26     6     0  0.190482\n",
       "88  0     5 2016-06-26    10     0  0.190482\n",
       "90  0     5 2016-06-26    11     0  0.190482\n",
       "91  0     5 2016-06-26     9     0  0.190482\n",
       "93  0     5 2016-06-26    12     0  0.190482\n",
       "94  0     5 2016-06-26     4     0  0.190482\n",
       "95  0     5 2016-06-26     7     0  0.190482\n",
       "99  0     1 2016-07-30     1     0  0.300849\n",
       "96  0     1 2016-07-30     5     1  0.190482\n",
       "97  0     1 2016-07-30     2     0  0.190482\n",
       "98  0     1 2016-07-30    12     0  0.190482\n",
       "\n",
       "[100 rows x 6 columns]"
      ]
     },
     "execution_count": 207,
     "metadata": {},
     "output_type": "execute_result"
    }
   ],
   "source": [
    "df_inference3 = df_inference2.sort_values(['Datum','Lopp','Score'], ascending = [True,True,False])\n",
    "df_inference3.head(100)"
   ]
  },
  {
   "cell_type": "code",
   "execution_count": 208,
   "metadata": {},
   "outputs": [],
   "source": [
    "df_inference3.to_excel('E_NUM.xlsx')"
   ]
  },
  {
   "cell_type": "code",
   "execution_count": 203,
   "metadata": {},
   "outputs": [
    {
     "data": {
      "text/plain": [
       "count    1001.000000\n",
       "mean        0.208110\n",
       "std         0.060935\n",
       "min         0.190482\n",
       "25%         0.190482\n",
       "50%         0.190482\n",
       "75%         0.190482\n",
       "max         0.500000\n",
       "Name: Score, dtype: float64"
      ]
     },
     "execution_count": 203,
     "metadata": {},
     "output_type": "execute_result"
    }
   ],
   "source": [
    "df_inference2.Score.describe()"
   ]
  },
  {
   "cell_type": "code",
   "execution_count": 204,
   "metadata": {},
   "outputs": [],
   "source": [
    "# Predikterar med modellen med valideringsdata\n",
    "\n",
    "\n",
    "fpr, tpr, threshold = roc_curve(df_inference2.Y,df_inference2.Score)\n",
    "\n",
    "roc_auc = auc(fpr,tpr)"
   ]
  },
  {
   "cell_type": "code",
   "execution_count": 205,
   "metadata": {},
   "outputs": [
    {
     "data": {
      "image/png": "[encoded data removed]",
      "text/plain": [
       "<Figure size 432x288 with 1 Axes>"
      ]
     },
     "metadata": {},
     "output_type": "display_data"
    }
   ],
   "source": [
    "plt.title('Receiver Operating Characteristic') \n",
    "plt.plot( fpr, tpr, 'b', label =' AUC = %0.3f' % roc_auc) \n",
    "plt.legend( loc ='lower right') \n",
    "plt.plot([ 0, 1], [0, 1], 'r--') \n",
    "plt.xlim([ 0.0, 1.0]) \n",
    "plt.ylim([ 0.0, 1.0]) \n",
    "plt.ylabel('True positive rate') \n",
    "plt.xlabel('False positive rate') \n",
    "plt.show()"
   ]
  },
  {
   "cell_type": "code",
   "execution_count": 206,
   "metadata": {},
   "outputs": [
    {
     "data": {
      "text/plain": [
       "34"
      ]
     },
     "execution_count": 206,
     "metadata": {},
     "output_type": "execute_result"
    }
   ],
   "source": [
    "len(threshold)"
   ]
  },
  {
   "cell_type": "code",
   "execution_count": 67,
   "metadata": {},
   "outputs": [
    {
     "data": {
      "text/html": [
       "<div>\n",
       "<style scoped>\n",
       "    .dataframe tbody tr th:only-of-type {\n",
       "        vertical-align: middle;\n",
       "    }\n",
       "\n",
       "    .dataframe tbody tr th {\n",
       "        vertical-align: top;\n",
       "    }\n",
       "\n",
       "    .dataframe thead th {\n",
       "        text-align: right;\n",
       "    }\n",
       "</style>\n",
       "<table border=\"1\" class=\"dataframe\">\n",
       "  <thead>\n",
       "    <tr style=\"text-align: right;\">\n",
       "      <th></th>\n",
       "      <th>Threshold</th>\n",
       "      <th>TPR</th>\n",
       "      <th>FPR</th>\n",
       "    </tr>\n",
       "  </thead>\n",
       "  <tbody>\n",
       "    <tr>\n",
       "      <th>0</th>\n",
       "      <td>1.500000</td>\n",
       "      <td>0.000000</td>\n",
       "      <td>0.000000</td>\n",
       "    </tr>\n",
       "    <tr>\n",
       "      <th>1</th>\n",
       "      <td>0.500000</td>\n",
       "      <td>0.129771</td>\n",
       "      <td>0.008293</td>\n",
       "    </tr>\n",
       "    <tr>\n",
       "      <th>2</th>\n",
       "      <td>0.464979</td>\n",
       "      <td>0.175573</td>\n",
       "      <td>0.014634</td>\n",
       "    </tr>\n",
       "    <tr>\n",
       "      <th>3</th>\n",
       "      <td>0.415655</td>\n",
       "      <td>0.221374</td>\n",
       "      <td>0.020488</td>\n",
       "    </tr>\n",
       "    <tr>\n",
       "      <th>4</th>\n",
       "      <td>0.382028</td>\n",
       "      <td>0.274809</td>\n",
       "      <td>0.026829</td>\n",
       "    </tr>\n",
       "  </tbody>\n",
       "</table>\n",
       "</div>"
      ],
      "text/plain": [
       "   Threshold       TPR       FPR\n",
       "0   1.500000  0.000000  0.000000\n",
       "1   0.500000  0.129771  0.008293\n",
       "2   0.464979  0.175573  0.014634\n",
       "3   0.415655  0.221374  0.020488\n",
       "4   0.382028  0.274809  0.026829"
      ]
     },
     "execution_count": 67,
     "metadata": {},
     "output_type": "execute_result"
    }
   ],
   "source": [
    "roc_df = pd.DataFrame({'Threshold': threshold.tolist(),'TPR':tpr.tolist(), 'FPR':fpr.tolist()})\n",
    "roc_df.head()"
   ]
  },
  {
   "cell_type": "code",
   "execution_count": 32,
   "metadata": {},
   "outputs": [],
   "source": [
    "roc_df.to_excel('roc_df.xlsx', index = False)"
   ]
  },
  {
   "cell_type": "code",
   "execution_count": null,
   "metadata": {},
   "outputs": [],
   "source": [
    "# Vad är utvärderingskriteriet - Om de tre högst scorade hästarna i varje lopp håller en vinnare så är \n",
    "# modellen korrekt"
   ]
  },
  {
   "cell_type": "code",
   "execution_count": 65,
   "metadata": {},
   "outputs": [
    {
     "data": {
      "text/plain": [
       "31"
      ]
     },
     "execution_count": 65,
     "metadata": {},
     "output_type": "execute_result"
    }
   ],
   "source": [
    "df_inference2.Datum.drop_duplicates().count()"
   ]
  },
  {
   "cell_type": "code",
   "execution_count": 66,
   "metadata": {},
   "outputs": [
    {
     "data": {
      "text/plain": [
       "149"
      ]
     },
     "execution_count": 66,
     "metadata": {},
     "output_type": "execute_result"
    }
   ],
   "source": [
    "df_inference2.Y.sum()"
   ]
  },
  {
   "cell_type": "code",
   "execution_count": 67,
   "metadata": {},
   "outputs": [
    {
     "data": {
      "text/plain": [
       "Datum    217\n",
       "Lopp     217\n",
       "dtype: int64"
      ]
     },
     "execution_count": 67,
     "metadata": {},
     "output_type": "execute_result"
    }
   ],
   "source": [
    "df_inference2[['Datum','Lopp']].drop_duplicates().count()"
   ]
  },
  {
   "cell_type": "code",
   "execution_count": 68,
   "metadata": {},
   "outputs": [
    {
     "data": {
      "text/plain": [
       "2470"
      ]
     },
     "execution_count": 68,
     "metadata": {},
     "output_type": "execute_result"
    }
   ],
   "source": [
    "len(df_inference3)"
   ]
  },
  {
   "cell_type": "code",
   "execution_count": 69,
   "metadata": {},
   "outputs": [],
   "source": [
    "outtake = df_inference3[df_inference3.Score >= 0.100475]"
   ]
  },
  {
   "cell_type": "code",
   "execution_count": 70,
   "metadata": {},
   "outputs": [
    {
     "data": {
      "text/plain": [
       "635"
      ]
     },
     "execution_count": 70,
     "metadata": {},
     "output_type": "execute_result"
    }
   ],
   "source": [
    "len(outtake)"
   ]
  },
  {
   "cell_type": "code",
   "execution_count": 71,
   "metadata": {},
   "outputs": [
    {
     "data": {
      "text/html": [
       "<div>\n",
       "<style scoped>\n",
       "    .dataframe tbody tr th:only-of-type {\n",
       "        vertical-align: middle;\n",
       "    }\n",
       "\n",
       "    .dataframe tbody tr th {\n",
       "        vertical-align: top;\n",
       "    }\n",
       "\n",
       "    .dataframe thead th {\n",
       "        text-align: right;\n",
       "    }\n",
       "</style>\n",
       "<table border=\"1\" class=\"dataframe\">\n",
       "  <thead>\n",
       "    <tr style=\"text-align: right;\">\n",
       "      <th></th>\n",
       "      <th>Y</th>\n",
       "      <th>Lopp</th>\n",
       "      <th>Datum</th>\n",
       "      <th>VNUM</th>\n",
       "      <th>Plac</th>\n",
       "      <th>Score</th>\n",
       "    </tr>\n",
       "  </thead>\n",
       "  <tbody>\n",
       "    <tr>\n",
       "      <th>0</th>\n",
       "      <td>1</td>\n",
       "      <td>1</td>\n",
       "      <td>2016-05-29</td>\n",
       "      <td>1</td>\n",
       "      <td>1</td>\n",
       "      <td>0.242688</td>\n",
       "    </tr>\n",
       "    <tr>\n",
       "      <th>1</th>\n",
       "      <td>0</td>\n",
       "      <td>1</td>\n",
       "      <td>2016-05-29</td>\n",
       "      <td>4</td>\n",
       "      <td>0</td>\n",
       "      <td>0.116848</td>\n",
       "    </tr>\n",
       "    <tr>\n",
       "      <th>7</th>\n",
       "      <td>0</td>\n",
       "      <td>1</td>\n",
       "      <td>2016-05-29</td>\n",
       "      <td>2</td>\n",
       "      <td>0</td>\n",
       "      <td>0.108357</td>\n",
       "    </tr>\n",
       "    <tr>\n",
       "      <th>13</th>\n",
       "      <td>0</td>\n",
       "      <td>2</td>\n",
       "      <td>2016-05-29</td>\n",
       "      <td>2</td>\n",
       "      <td>0</td>\n",
       "      <td>0.181868</td>\n",
       "    </tr>\n",
       "    <tr>\n",
       "      <th>9</th>\n",
       "      <td>1</td>\n",
       "      <td>2</td>\n",
       "      <td>2016-05-29</td>\n",
       "      <td>3</td>\n",
       "      <td>1</td>\n",
       "      <td>0.132391</td>\n",
       "    </tr>\n",
       "  </tbody>\n",
       "</table>\n",
       "</div>"
      ],
      "text/plain": [
       "    Y  Lopp      Datum  VNUM  Plac     Score\n",
       "0   1     1 2016-05-29     1     1  0.242688\n",
       "1   0     1 2016-05-29     4     0  0.116848\n",
       "7   0     1 2016-05-29     2     0  0.108357\n",
       "13  0     2 2016-05-29     2     0  0.181868\n",
       "9   1     2 2016-05-29     3     1  0.132391"
      ]
     },
     "execution_count": 71,
     "metadata": {},
     "output_type": "execute_result"
    }
   ],
   "source": [
    "outtake.head()"
   ]
  },
  {
   "cell_type": "code",
   "execution_count": 33,
   "metadata": {},
   "outputs": [],
   "source": [
    "outtake.to_excel('outtake.xlsx', index = False)"
   ]
  },
  {
   "cell_type": "code",
   "execution_count": 72,
   "metadata": {},
   "outputs": [
    {
     "data": {
      "text/plain": [
       "0.8523489932885906"
      ]
     },
     "execution_count": 72,
     "metadata": {},
     "output_type": "execute_result"
    }
   ],
   "source": [
    "outtake.Y.sum()/ df_inference3.Y.sum()"
   ]
  },
  {
   "cell_type": "code",
   "execution_count": 73,
   "metadata": {},
   "outputs": [
    {
     "data": {
      "text/plain": [
       "0.5852534562211982"
      ]
     },
     "execution_count": 73,
     "metadata": {},
     "output_type": "execute_result"
    }
   ],
   "source": [
    "outtake.Y.sum()/ df_inference3.Plac.sum()"
   ]
  },
  {
   "cell_type": "code",
   "execution_count": 74,
   "metadata": {},
   "outputs": [],
   "source": [
    "outtake2 = df_inference3[df_inference3.Score >= 0.2]"
   ]
  },
  {
   "cell_type": "code",
   "execution_count": 75,
   "metadata": {},
   "outputs": [
    {
     "data": {
      "text/plain": [
       "0.4899328859060403"
      ]
     },
     "execution_count": 75,
     "metadata": {},
     "output_type": "execute_result"
    }
   ],
   "source": [
    "outtake2.Y.sum()/ df_inference3.Y.sum()"
   ]
  },
  {
   "cell_type": "code",
   "execution_count": 76,
   "metadata": {},
   "outputs": [
    {
     "data": {
      "text/plain": [
       "216"
      ]
     },
     "execution_count": 76,
     "metadata": {},
     "output_type": "execute_result"
    }
   ],
   "source": [
    "len(outtake2)"
   ]
  },
  {
   "cell_type": "code",
   "execution_count": 77,
   "metadata": {},
   "outputs": [
    {
     "data": {
      "text/plain": [
       "0.33640552995391704"
      ]
     },
     "execution_count": 77,
     "metadata": {},
     "output_type": "execute_result"
    }
   ],
   "source": [
    "outtake2.Y.sum()/ df_inference3.Plac.sum()"
   ]
  },
  {
   "cell_type": "code",
   "execution_count": 81,
   "metadata": {},
   "outputs": [],
   "source": [
    "df_inference3.to_excel('df_inference3.xlsx', index = False)"
   ]
  },
  {
   "cell_type": "markdown",
   "metadata": {},
   "source": [
    "__Plocka de tre första raderna på kombinationen Datum och lopp. Om vi har en 1 med i denna selektering så har modellen scorat rätt. Det finns 196 unika kombinationer__"
   ]
  },
  {
   "cell_type": "code",
   "execution_count": 78,
   "metadata": {},
   "outputs": [
    {
     "data": {
      "text/html": [
       "<div>\n",
       "<style scoped>\n",
       "    .dataframe tbody tr th:only-of-type {\n",
       "        vertical-align: middle;\n",
       "    }\n",
       "\n",
       "    .dataframe tbody tr th {\n",
       "        vertical-align: top;\n",
       "    }\n",
       "\n",
       "    .dataframe thead th {\n",
       "        text-align: right;\n",
       "    }\n",
       "</style>\n",
       "<table border=\"1\" class=\"dataframe\">\n",
       "  <thead>\n",
       "    <tr style=\"text-align: right;\">\n",
       "      <th></th>\n",
       "      <th>Y</th>\n",
       "      <th>Lopp</th>\n",
       "      <th>Datum</th>\n",
       "      <th>VNUM</th>\n",
       "      <th>Plac</th>\n",
       "      <th>Score</th>\n",
       "    </tr>\n",
       "  </thead>\n",
       "  <tbody>\n",
       "    <tr>\n",
       "      <th>0</th>\n",
       "      <td>1</td>\n",
       "      <td>1</td>\n",
       "      <td>2016-05-29</td>\n",
       "      <td>1</td>\n",
       "      <td>1</td>\n",
       "      <td>0.242688</td>\n",
       "    </tr>\n",
       "    <tr>\n",
       "      <th>1</th>\n",
       "      <td>0</td>\n",
       "      <td>1</td>\n",
       "      <td>2016-05-29</td>\n",
       "      <td>4</td>\n",
       "      <td>0</td>\n",
       "      <td>0.116848</td>\n",
       "    </tr>\n",
       "    <tr>\n",
       "      <th>7</th>\n",
       "      <td>0</td>\n",
       "      <td>1</td>\n",
       "      <td>2016-05-29</td>\n",
       "      <td>2</td>\n",
       "      <td>0</td>\n",
       "      <td>0.108357</td>\n",
       "    </tr>\n",
       "  </tbody>\n",
       "</table>\n",
       "</div>"
      ],
      "text/plain": [
       "   Y  Lopp      Datum  VNUM  Plac     Score\n",
       "0  1     1 2016-05-29     1     1  0.242688\n",
       "1  0     1 2016-05-29     4     0  0.116848\n",
       "7  0     1 2016-05-29     2     0  0.108357"
      ]
     },
     "execution_count": 78,
     "metadata": {},
     "output_type": "execute_result"
    }
   ],
   "source": [
    "df_inference3.iloc[:3,:]"
   ]
  },
  {
   "cell_type": "code",
   "execution_count": 79,
   "metadata": {},
   "outputs": [],
   "source": [
    "datum_list = df_inference3.Datum.astype('str').drop_duplicates().values.tolist()"
   ]
  },
  {
   "cell_type": "code",
   "execution_count": 94,
   "metadata": {},
   "outputs": [],
   "source": [
    "tot_list = []\n",
    "df_list = []\n",
    "for datum in datum_list:\n",
    "     df = df_inference3[df_inference3.Datum.astype('str') == datum]\n",
    "     for lopp in [1,2,3,4,5,6,7]:\n",
    "        df1 = df[df.Lopp == lopp].iloc[:3,:].reset_index()\n",
    "        ysum = df1.Y.sum()\n",
    "        if ysum == 1:\n",
    "            df2 = pd.concat([df1, pd.DataFrame({'Klass': [1,1,1]})], axis = 1)\n",
    "        else:\n",
    "            df2 = pd.concat([df1, pd.DataFrame({'Klass': [0,0,0]})], axis = 1)\n",
    "        \n",
    "        df_list.append(df2)\n",
    "        if lopp == 7:\n",
    "            top3 = pd.concat(df_list, axis = 0)\n",
    "    "
   ]
  },
  {
   "cell_type": "code",
   "execution_count": 95,
   "metadata": {},
   "outputs": [
    {
     "data": {
      "text/plain": [
       "651"
      ]
     },
     "execution_count": 95,
     "metadata": {},
     "output_type": "execute_result"
    }
   ],
   "source": [
    "len(top3)"
   ]
  },
  {
   "cell_type": "code",
   "execution_count": 86,
   "metadata": {},
   "outputs": [
    {
     "data": {
      "text/plain": [
       "Y\n",
       "0    0.174448\n",
       "1    0.237129\n",
       "Name: Score, dtype: float64"
      ]
     },
     "execution_count": 86,
     "metadata": {},
     "output_type": "execute_result"
    }
   ],
   "source": [
    "top3.groupby('Y')['Score'].mean()"
   ]
  },
  {
   "cell_type": "code",
   "execution_count": 109,
   "metadata": {},
   "outputs": [
    {
     "data": {
      "text/plain": [
       "Klass\n",
       "0    0.183195\n",
       "1    0.190028\n",
       "Name: Score, dtype: float64"
      ]
     },
     "execution_count": 109,
     "metadata": {},
     "output_type": "execute_result"
    }
   ],
   "source": [
    "top3.groupby('Klass')['Score'].mean()"
   ]
  },
  {
   "cell_type": "code",
   "execution_count": 110,
   "metadata": {},
   "outputs": [
    {
     "data": {
      "text/plain": [
       "Klass\n",
       "0    0.086602\n",
       "1    0.086602\n",
       "Name: Score, dtype: float64"
      ]
     },
     "execution_count": 110,
     "metadata": {},
     "output_type": "execute_result"
    }
   ],
   "source": [
    "top3.groupby('Klass')['Score'].min()"
   ]
  },
  {
   "cell_type": "code",
   "execution_count": 111,
   "metadata": {},
   "outputs": [
    {
     "data": {
      "text/plain": [
       "Klass\n",
       "0    0.5\n",
       "1    0.5\n",
       "Name: Score, dtype: float64"
      ]
     },
     "execution_count": 111,
     "metadata": {},
     "output_type": "execute_result"
    }
   ],
   "source": [
    "top3.groupby('Klass')['Score'].max()"
   ]
  },
  {
   "cell_type": "code",
   "execution_count": 112,
   "metadata": {},
   "outputs": [
    {
     "data": {
      "text/plain": [
       "Klass\n",
       "0    0.155135\n",
       "1    0.155927\n",
       "Name: Score, dtype: float64"
      ]
     },
     "execution_count": 112,
     "metadata": {},
     "output_type": "execute_result"
    }
   ],
   "source": [
    "top3.groupby('Klass')['Score'].median()"
   ]
  },
  {
   "cell_type": "code",
   "execution_count": 113,
   "metadata": {},
   "outputs": [
    {
     "data": {
      "text/plain": [
       "Klass\n",
       "0    0.008979\n",
       "1    0.011709\n",
       "Name: Score, dtype: float64"
      ]
     },
     "execution_count": 113,
     "metadata": {},
     "output_type": "execute_result"
    }
   ],
   "source": [
    "top3.groupby('Klass')['Score'].var()"
   ]
  },
  {
   "cell_type": "code",
   "execution_count": 122,
   "metadata": {},
   "outputs": [
    {
     "data": {
      "text/plain": [
       "1    135\n",
       "0     82\n",
       "Name: Klass, dtype: int64"
      ]
     },
     "execution_count": 122,
     "metadata": {},
     "output_type": "execute_result"
    }
   ],
   "source": [
    "facit = top3.groupby(['Datum','Lopp','Klass'])['Score'].mean().to_frame().reset_index()\n",
    "facit.Klass.value_counts()"
   ]
  },
  {
   "cell_type": "code",
   "execution_count": 127,
   "metadata": {},
   "outputs": [
    {
     "data": {
      "text/plain": [
       "217"
      ]
     },
     "execution_count": 127,
     "metadata": {},
     "output_type": "execute_result"
    }
   ],
   "source": [
    "135 + 82"
   ]
  },
  {
   "cell_type": "code",
   "execution_count": 126,
   "metadata": {},
   "outputs": [
    {
     "data": {
      "text/plain": [
       "83.0"
      ]
     },
     "execution_count": 126,
     "metadata": {},
     "output_type": "execute_result"
    }
   ],
   "source": [
    "135 / 135 + 82"
   ]
  },
  {
   "cell_type": "code",
   "execution_count": 124,
   "metadata": {},
   "outputs": [
    {
     "data": {
      "text/plain": [
       "31"
      ]
     },
     "execution_count": 124,
     "metadata": {},
     "output_type": "execute_result"
    }
   ],
   "source": [
    "facit.Datum.drop_duplicates().count()"
   ]
  },
  {
   "cell_type": "code",
   "execution_count": 123,
   "metadata": {},
   "outputs": [
    {
     "data": {
      "text/html": [
       "<div>\n",
       "<style scoped>\n",
       "    .dataframe tbody tr th:only-of-type {\n",
       "        vertical-align: middle;\n",
       "    }\n",
       "\n",
       "    .dataframe tbody tr th {\n",
       "        vertical-align: top;\n",
       "    }\n",
       "\n",
       "    .dataframe thead th {\n",
       "        text-align: right;\n",
       "    }\n",
       "</style>\n",
       "<table border=\"1\" class=\"dataframe\">\n",
       "  <thead>\n",
       "    <tr style=\"text-align: right;\">\n",
       "      <th></th>\n",
       "      <th>Datum</th>\n",
       "      <th>Lopp</th>\n",
       "      <th>Klass</th>\n",
       "      <th>Score</th>\n",
       "    </tr>\n",
       "  </thead>\n",
       "  <tbody>\n",
       "    <tr>\n",
       "      <th>4</th>\n",
       "      <td>2016-05-29</td>\n",
       "      <td>5</td>\n",
       "      <td>0</td>\n",
       "      <td>0.132413</td>\n",
       "    </tr>\n",
       "    <tr>\n",
       "      <th>3</th>\n",
       "      <td>2016-05-29</td>\n",
       "      <td>4</td>\n",
       "      <td>0</td>\n",
       "      <td>0.137332</td>\n",
       "    </tr>\n",
       "    <tr>\n",
       "      <th>1</th>\n",
       "      <td>2016-05-29</td>\n",
       "      <td>2</td>\n",
       "      <td>1</td>\n",
       "      <td>0.143773</td>\n",
       "    </tr>\n",
       "    <tr>\n",
       "      <th>2</th>\n",
       "      <td>2016-05-29</td>\n",
       "      <td>3</td>\n",
       "      <td>1</td>\n",
       "      <td>0.146436</td>\n",
       "    </tr>\n",
       "    <tr>\n",
       "      <th>6</th>\n",
       "      <td>2016-05-29</td>\n",
       "      <td>7</td>\n",
       "      <td>1</td>\n",
       "      <td>0.150137</td>\n",
       "    </tr>\n",
       "    <tr>\n",
       "      <th>5</th>\n",
       "      <td>2016-05-29</td>\n",
       "      <td>6</td>\n",
       "      <td>1</td>\n",
       "      <td>0.154155</td>\n",
       "    </tr>\n",
       "    <tr>\n",
       "      <th>0</th>\n",
       "      <td>2016-05-29</td>\n",
       "      <td>1</td>\n",
       "      <td>1</td>\n",
       "      <td>0.155964</td>\n",
       "    </tr>\n",
       "    <tr>\n",
       "      <th>8</th>\n",
       "      <td>2016-06-04</td>\n",
       "      <td>2</td>\n",
       "      <td>1</td>\n",
       "      <td>0.134810</td>\n",
       "    </tr>\n",
       "    <tr>\n",
       "      <th>11</th>\n",
       "      <td>2016-06-04</td>\n",
       "      <td>5</td>\n",
       "      <td>1</td>\n",
       "      <td>0.137332</td>\n",
       "    </tr>\n",
       "    <tr>\n",
       "      <th>12</th>\n",
       "      <td>2016-06-04</td>\n",
       "      <td>6</td>\n",
       "      <td>1</td>\n",
       "      <td>0.141040</td>\n",
       "    </tr>\n",
       "    <tr>\n",
       "      <th>7</th>\n",
       "      <td>2016-06-04</td>\n",
       "      <td>1</td>\n",
       "      <td>0</td>\n",
       "      <td>0.141992</td>\n",
       "    </tr>\n",
       "    <tr>\n",
       "      <th>9</th>\n",
       "      <td>2016-06-04</td>\n",
       "      <td>3</td>\n",
       "      <td>1</td>\n",
       "      <td>0.148861</td>\n",
       "    </tr>\n",
       "    <tr>\n",
       "      <th>13</th>\n",
       "      <td>2016-06-04</td>\n",
       "      <td>7</td>\n",
       "      <td>0</td>\n",
       "      <td>0.148861</td>\n",
       "    </tr>\n",
       "    <tr>\n",
       "      <th>10</th>\n",
       "      <td>2016-06-04</td>\n",
       "      <td>4</td>\n",
       "      <td>1</td>\n",
       "      <td>0.149432</td>\n",
       "    </tr>\n",
       "    <tr>\n",
       "      <th>20</th>\n",
       "      <td>2016-07-09</td>\n",
       "      <td>7</td>\n",
       "      <td>1</td>\n",
       "      <td>0.115304</td>\n",
       "    </tr>\n",
       "    <tr>\n",
       "      <th>17</th>\n",
       "      <td>2016-07-09</td>\n",
       "      <td>4</td>\n",
       "      <td>1</td>\n",
       "      <td>0.127972</td>\n",
       "    </tr>\n",
       "    <tr>\n",
       "      <th>19</th>\n",
       "      <td>2016-07-09</td>\n",
       "      <td>6</td>\n",
       "      <td>0</td>\n",
       "      <td>0.131675</td>\n",
       "    </tr>\n",
       "    <tr>\n",
       "      <th>18</th>\n",
       "      <td>2016-07-09</td>\n",
       "      <td>5</td>\n",
       "      <td>1</td>\n",
       "      <td>0.136179</td>\n",
       "    </tr>\n",
       "    <tr>\n",
       "      <th>14</th>\n",
       "      <td>2016-07-09</td>\n",
       "      <td>1</td>\n",
       "      <td>0</td>\n",
       "      <td>0.140179</td>\n",
       "    </tr>\n",
       "    <tr>\n",
       "      <th>15</th>\n",
       "      <td>2016-07-09</td>\n",
       "      <td>2</td>\n",
       "      <td>1</td>\n",
       "      <td>0.148924</td>\n",
       "    </tr>\n",
       "    <tr>\n",
       "      <th>16</th>\n",
       "      <td>2016-07-09</td>\n",
       "      <td>3</td>\n",
       "      <td>1</td>\n",
       "      <td>0.149447</td>\n",
       "    </tr>\n",
       "    <tr>\n",
       "      <th>22</th>\n",
       "      <td>2016-08-20</td>\n",
       "      <td>2</td>\n",
       "      <td>0</td>\n",
       "      <td>0.131675</td>\n",
       "    </tr>\n",
       "    <tr>\n",
       "      <th>25</th>\n",
       "      <td>2016-08-20</td>\n",
       "      <td>5</td>\n",
       "      <td>0</td>\n",
       "      <td>0.142162</td>\n",
       "    </tr>\n",
       "    <tr>\n",
       "      <th>23</th>\n",
       "      <td>2016-08-20</td>\n",
       "      <td>3</td>\n",
       "      <td>0</td>\n",
       "      <td>0.144135</td>\n",
       "    </tr>\n",
       "    <tr>\n",
       "      <th>21</th>\n",
       "      <td>2016-08-20</td>\n",
       "      <td>1</td>\n",
       "      <td>1</td>\n",
       "      <td>0.154444</td>\n",
       "    </tr>\n",
       "    <tr>\n",
       "      <th>27</th>\n",
       "      <td>2016-08-20</td>\n",
       "      <td>7</td>\n",
       "      <td>1</td>\n",
       "      <td>0.160865</td>\n",
       "    </tr>\n",
       "    <tr>\n",
       "      <th>26</th>\n",
       "      <td>2016-08-20</td>\n",
       "      <td>6</td>\n",
       "      <td>1</td>\n",
       "      <td>0.166819</td>\n",
       "    </tr>\n",
       "    <tr>\n",
       "      <th>24</th>\n",
       "      <td>2016-08-20</td>\n",
       "      <td>4</td>\n",
       "      <td>1</td>\n",
       "      <td>0.168854</td>\n",
       "    </tr>\n",
       "    <tr>\n",
       "      <th>28</th>\n",
       "      <td>2016-08-27</td>\n",
       "      <td>1</td>\n",
       "      <td>0</td>\n",
       "      <td>0.137122</td>\n",
       "    </tr>\n",
       "    <tr>\n",
       "      <th>29</th>\n",
       "      <td>2016-08-27</td>\n",
       "      <td>2</td>\n",
       "      <td>1</td>\n",
       "      <td>0.141413</td>\n",
       "    </tr>\n",
       "    <tr>\n",
       "      <th>...</th>\n",
       "      <td>...</td>\n",
       "      <td>...</td>\n",
       "      <td>...</td>\n",
       "      <td>...</td>\n",
       "    </tr>\n",
       "    <tr>\n",
       "      <th>182</th>\n",
       "      <td>2019-01-05</td>\n",
       "      <td>1</td>\n",
       "      <td>0</td>\n",
       "      <td>0.240494</td>\n",
       "    </tr>\n",
       "    <tr>\n",
       "      <th>184</th>\n",
       "      <td>2019-01-05</td>\n",
       "      <td>3</td>\n",
       "      <td>1</td>\n",
       "      <td>0.243226</td>\n",
       "    </tr>\n",
       "    <tr>\n",
       "      <th>191</th>\n",
       "      <td>2019-01-27</td>\n",
       "      <td>3</td>\n",
       "      <td>0</td>\n",
       "      <td>0.189798</td>\n",
       "    </tr>\n",
       "    <tr>\n",
       "      <th>195</th>\n",
       "      <td>2019-01-27</td>\n",
       "      <td>7</td>\n",
       "      <td>1</td>\n",
       "      <td>0.190424</td>\n",
       "    </tr>\n",
       "    <tr>\n",
       "      <th>190</th>\n",
       "      <td>2019-01-27</td>\n",
       "      <td>2</td>\n",
       "      <td>0</td>\n",
       "      <td>0.190741</td>\n",
       "    </tr>\n",
       "    <tr>\n",
       "      <th>189</th>\n",
       "      <td>2019-01-27</td>\n",
       "      <td>1</td>\n",
       "      <td>1</td>\n",
       "      <td>0.209212</td>\n",
       "    </tr>\n",
       "    <tr>\n",
       "      <th>193</th>\n",
       "      <td>2019-01-27</td>\n",
       "      <td>5</td>\n",
       "      <td>0</td>\n",
       "      <td>0.212085</td>\n",
       "    </tr>\n",
       "    <tr>\n",
       "      <th>192</th>\n",
       "      <td>2019-01-27</td>\n",
       "      <td>4</td>\n",
       "      <td>1</td>\n",
       "      <td>0.262564</td>\n",
       "    </tr>\n",
       "    <tr>\n",
       "      <th>194</th>\n",
       "      <td>2019-01-27</td>\n",
       "      <td>6</td>\n",
       "      <td>1</td>\n",
       "      <td>0.262564</td>\n",
       "    </tr>\n",
       "    <tr>\n",
       "      <th>198</th>\n",
       "      <td>2019-03-16</td>\n",
       "      <td>3</td>\n",
       "      <td>0</td>\n",
       "      <td>0.193903</td>\n",
       "    </tr>\n",
       "    <tr>\n",
       "      <th>199</th>\n",
       "      <td>2019-03-16</td>\n",
       "      <td>4</td>\n",
       "      <td>1</td>\n",
       "      <td>0.206327</td>\n",
       "    </tr>\n",
       "    <tr>\n",
       "      <th>197</th>\n",
       "      <td>2019-03-16</td>\n",
       "      <td>2</td>\n",
       "      <td>1</td>\n",
       "      <td>0.207498</td>\n",
       "    </tr>\n",
       "    <tr>\n",
       "      <th>202</th>\n",
       "      <td>2019-03-16</td>\n",
       "      <td>7</td>\n",
       "      <td>1</td>\n",
       "      <td>0.242174</td>\n",
       "    </tr>\n",
       "    <tr>\n",
       "      <th>201</th>\n",
       "      <td>2019-03-16</td>\n",
       "      <td>6</td>\n",
       "      <td>0</td>\n",
       "      <td>0.248566</td>\n",
       "    </tr>\n",
       "    <tr>\n",
       "      <th>196</th>\n",
       "      <td>2019-03-16</td>\n",
       "      <td>1</td>\n",
       "      <td>1</td>\n",
       "      <td>0.255216</td>\n",
       "    </tr>\n",
       "    <tr>\n",
       "      <th>200</th>\n",
       "      <td>2019-03-16</td>\n",
       "      <td>5</td>\n",
       "      <td>0</td>\n",
       "      <td>0.272710</td>\n",
       "    </tr>\n",
       "    <tr>\n",
       "      <th>207</th>\n",
       "      <td>2019-08-10</td>\n",
       "      <td>5</td>\n",
       "      <td>0</td>\n",
       "      <td>0.218400</td>\n",
       "    </tr>\n",
       "    <tr>\n",
       "      <th>205</th>\n",
       "      <td>2019-08-10</td>\n",
       "      <td>3</td>\n",
       "      <td>1</td>\n",
       "      <td>0.238753</td>\n",
       "    </tr>\n",
       "    <tr>\n",
       "      <th>204</th>\n",
       "      <td>2019-08-10</td>\n",
       "      <td>2</td>\n",
       "      <td>1</td>\n",
       "      <td>0.247673</td>\n",
       "    </tr>\n",
       "    <tr>\n",
       "      <th>208</th>\n",
       "      <td>2019-08-10</td>\n",
       "      <td>6</td>\n",
       "      <td>0</td>\n",
       "      <td>0.248520</td>\n",
       "    </tr>\n",
       "    <tr>\n",
       "      <th>209</th>\n",
       "      <td>2019-08-10</td>\n",
       "      <td>7</td>\n",
       "      <td>1</td>\n",
       "      <td>0.255216</td>\n",
       "    </tr>\n",
       "    <tr>\n",
       "      <th>203</th>\n",
       "      <td>2019-08-10</td>\n",
       "      <td>1</td>\n",
       "      <td>1</td>\n",
       "      <td>0.256333</td>\n",
       "    </tr>\n",
       "    <tr>\n",
       "      <th>206</th>\n",
       "      <td>2019-08-10</td>\n",
       "      <td>4</td>\n",
       "      <td>1</td>\n",
       "      <td>0.258232</td>\n",
       "    </tr>\n",
       "    <tr>\n",
       "      <th>214</th>\n",
       "      <td>2019-08-22</td>\n",
       "      <td>5</td>\n",
       "      <td>0</td>\n",
       "      <td>0.190816</td>\n",
       "    </tr>\n",
       "    <tr>\n",
       "      <th>210</th>\n",
       "      <td>2019-08-22</td>\n",
       "      <td>1</td>\n",
       "      <td>1</td>\n",
       "      <td>0.209444</td>\n",
       "    </tr>\n",
       "    <tr>\n",
       "      <th>216</th>\n",
       "      <td>2019-08-22</td>\n",
       "      <td>7</td>\n",
       "      <td>1</td>\n",
       "      <td>0.212650</td>\n",
       "    </tr>\n",
       "    <tr>\n",
       "      <th>212</th>\n",
       "      <td>2019-08-22</td>\n",
       "      <td>3</td>\n",
       "      <td>1</td>\n",
       "      <td>0.214373</td>\n",
       "    </tr>\n",
       "    <tr>\n",
       "      <th>211</th>\n",
       "      <td>2019-08-22</td>\n",
       "      <td>2</td>\n",
       "      <td>1</td>\n",
       "      <td>0.225288</td>\n",
       "    </tr>\n",
       "    <tr>\n",
       "      <th>213</th>\n",
       "      <td>2019-08-22</td>\n",
       "      <td>4</td>\n",
       "      <td>0</td>\n",
       "      <td>0.248955</td>\n",
       "    </tr>\n",
       "    <tr>\n",
       "      <th>215</th>\n",
       "      <td>2019-08-22</td>\n",
       "      <td>6</td>\n",
       "      <td>1</td>\n",
       "      <td>0.255129</td>\n",
       "    </tr>\n",
       "  </tbody>\n",
       "</table>\n",
       "<p>217 rows × 4 columns</p>\n",
       "</div>"
      ],
      "text/plain": [
       "         Datum  Lopp  Klass     Score\n",
       "4   2016-05-29     5      0  0.132413\n",
       "3   2016-05-29     4      0  0.137332\n",
       "1   2016-05-29     2      1  0.143773\n",
       "2   2016-05-29     3      1  0.146436\n",
       "6   2016-05-29     7      1  0.150137\n",
       "5   2016-05-29     6      1  0.154155\n",
       "0   2016-05-29     1      1  0.155964\n",
       "8   2016-06-04     2      1  0.134810\n",
       "11  2016-06-04     5      1  0.137332\n",
       "12  2016-06-04     6      1  0.141040\n",
       "7   2016-06-04     1      0  0.141992\n",
       "9   2016-06-04     3      1  0.148861\n",
       "13  2016-06-04     7      0  0.148861\n",
       "10  2016-06-04     4      1  0.149432\n",
       "20  2016-07-09     7      1  0.115304\n",
       "17  2016-07-09     4      1  0.127972\n",
       "19  2016-07-09     6      0  0.131675\n",
       "18  2016-07-09     5      1  0.136179\n",
       "14  2016-07-09     1      0  0.140179\n",
       "15  2016-07-09     2      1  0.148924\n",
       "16  2016-07-09     3      1  0.149447\n",
       "22  2016-08-20     2      0  0.131675\n",
       "25  2016-08-20     5      0  0.142162\n",
       "23  2016-08-20     3      0  0.144135\n",
       "21  2016-08-20     1      1  0.154444\n",
       "27  2016-08-20     7      1  0.160865\n",
       "26  2016-08-20     6      1  0.166819\n",
       "24  2016-08-20     4      1  0.168854\n",
       "28  2016-08-27     1      0  0.137122\n",
       "29  2016-08-27     2      1  0.141413\n",
       "..         ...   ...    ...       ...\n",
       "182 2019-01-05     1      0  0.240494\n",
       "184 2019-01-05     3      1  0.243226\n",
       "191 2019-01-27     3      0  0.189798\n",
       "195 2019-01-27     7      1  0.190424\n",
       "190 2019-01-27     2      0  0.190741\n",
       "189 2019-01-27     1      1  0.209212\n",
       "193 2019-01-27     5      0  0.212085\n",
       "192 2019-01-27     4      1  0.262564\n",
       "194 2019-01-27     6      1  0.262564\n",
       "198 2019-03-16     3      0  0.193903\n",
       "199 2019-03-16     4      1  0.206327\n",
       "197 2019-03-16     2      1  0.207498\n",
       "202 2019-03-16     7      1  0.242174\n",
       "201 2019-03-16     6      0  0.248566\n",
       "196 2019-03-16     1      1  0.255216\n",
       "200 2019-03-16     5      0  0.272710\n",
       "207 2019-08-10     5      0  0.218400\n",
       "205 2019-08-10     3      1  0.238753\n",
       "204 2019-08-10     2      1  0.247673\n",
       "208 2019-08-10     6      0  0.248520\n",
       "209 2019-08-10     7      1  0.255216\n",
       "203 2019-08-10     1      1  0.256333\n",
       "206 2019-08-10     4      1  0.258232\n",
       "214 2019-08-22     5      0  0.190816\n",
       "210 2019-08-22     1      1  0.209444\n",
       "216 2019-08-22     7      1  0.212650\n",
       "212 2019-08-22     3      1  0.214373\n",
       "211 2019-08-22     2      1  0.225288\n",
       "213 2019-08-22     4      0  0.248955\n",
       "215 2019-08-22     6      1  0.255129\n",
       "\n",
       "[217 rows x 4 columns]"
      ]
     },
     "execution_count": 123,
     "metadata": {},
     "output_type": "execute_result"
    }
   ],
   "source": [
    "facit.sort_values(['Datum','Score'])"
   ]
  },
  {
   "cell_type": "code",
   "execution_count": null,
   "metadata": {},
   "outputs": [],
   "source": []
  },
  {
   "cell_type": "code",
   "execution_count": 101,
   "metadata": {},
   "outputs": [],
   "source": [
    "# Lägger på klass på totaldatasetet, räknar sedan variansen över hela loppen\n",
    "\n",
    "df_inference4 = df_inference3.merge(facit[['Datum','Lopp','Klass']], on = ['Datum','Lopp'], how = 'inner')\n",
    "\n"
   ]
  },
  {
   "cell_type": "code",
   "execution_count": 46,
   "metadata": {},
   "outputs": [
    {
     "data": {
      "text/html": [
       "<div>\n",
       "<style scoped>\n",
       "    .dataframe tbody tr th:only-of-type {\n",
       "        vertical-align: middle;\n",
       "    }\n",
       "\n",
       "    .dataframe tbody tr th {\n",
       "        vertical-align: top;\n",
       "    }\n",
       "\n",
       "    .dataframe thead th {\n",
       "        text-align: right;\n",
       "    }\n",
       "</style>\n",
       "<table border=\"1\" class=\"dataframe\">\n",
       "  <thead>\n",
       "    <tr style=\"text-align: right;\">\n",
       "      <th></th>\n",
       "      <th>Score</th>\n",
       "    </tr>\n",
       "    <tr>\n",
       "      <th>Klass</th>\n",
       "      <th></th>\n",
       "    </tr>\n",
       "  </thead>\n",
       "  <tbody>\n",
       "    <tr>\n",
       "      <th>0</th>\n",
       "      <td>0.00622</td>\n",
       "    </tr>\n",
       "    <tr>\n",
       "      <th>1</th>\n",
       "      <td>0.00732</td>\n",
       "    </tr>\n",
       "  </tbody>\n",
       "</table>\n",
       "</div>"
      ],
      "text/plain": [
       "         Score\n",
       "Klass         \n",
       "0      0.00622\n",
       "1      0.00732"
      ]
     },
     "execution_count": 46,
     "metadata": {},
     "output_type": "execute_result"
    }
   ],
   "source": [
    "df_inference4.groupby(['Klass'])['Score'].var().to_frame()"
   ]
  },
  {
   "cell_type": "code",
   "execution_count": 48,
   "metadata": {},
   "outputs": [
    {
     "data": {
      "text/html": [
       "<div>\n",
       "<style scoped>\n",
       "    .dataframe tbody tr th:only-of-type {\n",
       "        vertical-align: middle;\n",
       "    }\n",
       "\n",
       "    .dataframe tbody tr th {\n",
       "        vertical-align: top;\n",
       "    }\n",
       "\n",
       "    .dataframe thead th {\n",
       "        text-align: right;\n",
       "    }\n",
       "</style>\n",
       "<table border=\"1\" class=\"dataframe\">\n",
       "  <thead>\n",
       "    <tr style=\"text-align: right;\">\n",
       "      <th></th>\n",
       "      <th>Score</th>\n",
       "    </tr>\n",
       "    <tr>\n",
       "      <th>Klass</th>\n",
       "      <th></th>\n",
       "    </tr>\n",
       "  </thead>\n",
       "  <tbody>\n",
       "    <tr>\n",
       "      <th>0</th>\n",
       "      <td>0.084743</td>\n",
       "    </tr>\n",
       "    <tr>\n",
       "      <th>1</th>\n",
       "      <td>0.084743</td>\n",
       "    </tr>\n",
       "  </tbody>\n",
       "</table>\n",
       "</div>"
      ],
      "text/plain": [
       "          Score\n",
       "Klass          \n",
       "0      0.084743\n",
       "1      0.084743"
      ]
     },
     "execution_count": 48,
     "metadata": {},
     "output_type": "execute_result"
    }
   ],
   "source": [
    "df_inference4.groupby(['Klass'])['Score'].median().to_frame()"
   ]
  },
  {
   "cell_type": "code",
   "execution_count": 63,
   "metadata": {},
   "outputs": [
    {
     "data": {
      "text/html": [
       "<div>\n",
       "<style scoped>\n",
       "    .dataframe tbody tr th:only-of-type {\n",
       "        vertical-align: middle;\n",
       "    }\n",
       "\n",
       "    .dataframe tbody tr th {\n",
       "        vertical-align: top;\n",
       "    }\n",
       "\n",
       "    .dataframe thead th {\n",
       "        text-align: right;\n",
       "    }\n",
       "</style>\n",
       "<table border=\"1\" class=\"dataframe\">\n",
       "  <thead>\n",
       "    <tr style=\"text-align: right;\">\n",
       "      <th></th>\n",
       "      <th>Datum</th>\n",
       "      <th>Lopp</th>\n",
       "      <th>Klass</th>\n",
       "      <th>Score</th>\n",
       "    </tr>\n",
       "  </thead>\n",
       "  <tbody>\n",
       "    <tr>\n",
       "      <th>2</th>\n",
       "      <td>2016-09-03</td>\n",
       "      <td>3</td>\n",
       "      <td>1</td>\n",
       "      <td>0.008681</td>\n",
       "    </tr>\n",
       "    <tr>\n",
       "      <th>0</th>\n",
       "      <td>2016-09-03</td>\n",
       "      <td>1</td>\n",
       "      <td>0</td>\n",
       "      <td>0.007878</td>\n",
       "    </tr>\n",
       "    <tr>\n",
       "      <th>6</th>\n",
       "      <td>2016-09-03</td>\n",
       "      <td>7</td>\n",
       "      <td>1</td>\n",
       "      <td>0.007820</td>\n",
       "    </tr>\n",
       "    <tr>\n",
       "      <th>3</th>\n",
       "      <td>2016-09-03</td>\n",
       "      <td>4</td>\n",
       "      <td>0</td>\n",
       "      <td>0.007721</td>\n",
       "    </tr>\n",
       "    <tr>\n",
       "      <th>4</th>\n",
       "      <td>2016-09-03</td>\n",
       "      <td>5</td>\n",
       "      <td>0</td>\n",
       "      <td>0.007272</td>\n",
       "    </tr>\n",
       "    <tr>\n",
       "      <th>1</th>\n",
       "      <td>2016-09-03</td>\n",
       "      <td>2</td>\n",
       "      <td>0</td>\n",
       "      <td>0.007243</td>\n",
       "    </tr>\n",
       "    <tr>\n",
       "      <th>5</th>\n",
       "      <td>2016-09-03</td>\n",
       "      <td>6</td>\n",
       "      <td>1</td>\n",
       "      <td>0.006600</td>\n",
       "    </tr>\n",
       "    <tr>\n",
       "      <th>9</th>\n",
       "      <td>2016-11-05</td>\n",
       "      <td>3</td>\n",
       "      <td>0</td>\n",
       "      <td>0.009013</td>\n",
       "    </tr>\n",
       "    <tr>\n",
       "      <th>11</th>\n",
       "      <td>2016-11-05</td>\n",
       "      <td>5</td>\n",
       "      <td>1</td>\n",
       "      <td>0.009001</td>\n",
       "    </tr>\n",
       "    <tr>\n",
       "      <th>13</th>\n",
       "      <td>2016-11-05</td>\n",
       "      <td>7</td>\n",
       "      <td>0</td>\n",
       "      <td>0.007898</td>\n",
       "    </tr>\n",
       "    <tr>\n",
       "      <th>7</th>\n",
       "      <td>2016-11-05</td>\n",
       "      <td>1</td>\n",
       "      <td>1</td>\n",
       "      <td>0.007881</td>\n",
       "    </tr>\n",
       "    <tr>\n",
       "      <th>12</th>\n",
       "      <td>2016-11-05</td>\n",
       "      <td>6</td>\n",
       "      <td>1</td>\n",
       "      <td>0.003364</td>\n",
       "    </tr>\n",
       "    <tr>\n",
       "      <th>8</th>\n",
       "      <td>2016-11-05</td>\n",
       "      <td>2</td>\n",
       "      <td>0</td>\n",
       "      <td>0.002746</td>\n",
       "    </tr>\n",
       "    <tr>\n",
       "      <th>10</th>\n",
       "      <td>2016-11-05</td>\n",
       "      <td>4</td>\n",
       "      <td>1</td>\n",
       "      <td>0.002661</td>\n",
       "    </tr>\n",
       "    <tr>\n",
       "      <th>15</th>\n",
       "      <td>2016-11-06</td>\n",
       "      <td>2</td>\n",
       "      <td>0</td>\n",
       "      <td>0.007914</td>\n",
       "    </tr>\n",
       "    <tr>\n",
       "      <th>20</th>\n",
       "      <td>2016-11-06</td>\n",
       "      <td>7</td>\n",
       "      <td>1</td>\n",
       "      <td>0.007272</td>\n",
       "    </tr>\n",
       "    <tr>\n",
       "      <th>16</th>\n",
       "      <td>2016-11-06</td>\n",
       "      <td>3</td>\n",
       "      <td>1</td>\n",
       "      <td>0.005836</td>\n",
       "    </tr>\n",
       "    <tr>\n",
       "      <th>14</th>\n",
       "      <td>2016-11-06</td>\n",
       "      <td>1</td>\n",
       "      <td>0</td>\n",
       "      <td>0.003059</td>\n",
       "    </tr>\n",
       "    <tr>\n",
       "      <th>17</th>\n",
       "      <td>2016-11-06</td>\n",
       "      <td>4</td>\n",
       "      <td>0</td>\n",
       "      <td>0.002953</td>\n",
       "    </tr>\n",
       "    <tr>\n",
       "      <th>19</th>\n",
       "      <td>2016-11-06</td>\n",
       "      <td>6</td>\n",
       "      <td>0</td>\n",
       "      <td>0.002650</td>\n",
       "    </tr>\n",
       "    <tr>\n",
       "      <th>18</th>\n",
       "      <td>2016-11-06</td>\n",
       "      <td>5</td>\n",
       "      <td>1</td>\n",
       "      <td>0.001680</td>\n",
       "    </tr>\n",
       "    <tr>\n",
       "      <th>25</th>\n",
       "      <td>2016-12-03</td>\n",
       "      <td>5</td>\n",
       "      <td>1</td>\n",
       "      <td>0.010827</td>\n",
       "    </tr>\n",
       "    <tr>\n",
       "      <th>24</th>\n",
       "      <td>2016-12-03</td>\n",
       "      <td>4</td>\n",
       "      <td>1</td>\n",
       "      <td>0.009013</td>\n",
       "    </tr>\n",
       "    <tr>\n",
       "      <th>23</th>\n",
       "      <td>2016-12-03</td>\n",
       "      <td>3</td>\n",
       "      <td>1</td>\n",
       "      <td>0.007878</td>\n",
       "    </tr>\n",
       "    <tr>\n",
       "      <th>26</th>\n",
       "      <td>2016-12-03</td>\n",
       "      <td>6</td>\n",
       "      <td>1</td>\n",
       "      <td>0.007272</td>\n",
       "    </tr>\n",
       "    <tr>\n",
       "      <th>27</th>\n",
       "      <td>2016-12-03</td>\n",
       "      <td>7</td>\n",
       "      <td>1</td>\n",
       "      <td>0.006655</td>\n",
       "    </tr>\n",
       "    <tr>\n",
       "      <th>22</th>\n",
       "      <td>2016-12-03</td>\n",
       "      <td>2</td>\n",
       "      <td>0</td>\n",
       "      <td>0.003872</td>\n",
       "    </tr>\n",
       "    <tr>\n",
       "      <th>21</th>\n",
       "      <td>2016-12-03</td>\n",
       "      <td>1</td>\n",
       "      <td>0</td>\n",
       "      <td>0.003020</td>\n",
       "    </tr>\n",
       "    <tr>\n",
       "      <th>28</th>\n",
       "      <td>2017-02-04</td>\n",
       "      <td>1</td>\n",
       "      <td>0</td>\n",
       "      <td>0.011981</td>\n",
       "    </tr>\n",
       "    <tr>\n",
       "      <th>32</th>\n",
       "      <td>2017-02-04</td>\n",
       "      <td>5</td>\n",
       "      <td>0</td>\n",
       "      <td>0.003184</td>\n",
       "    </tr>\n",
       "    <tr>\n",
       "      <th>...</th>\n",
       "      <td>...</td>\n",
       "      <td>...</td>\n",
       "      <td>...</td>\n",
       "      <td>...</td>\n",
       "    </tr>\n",
       "    <tr>\n",
       "      <th>158</th>\n",
       "      <td>2019-04-19</td>\n",
       "      <td>5</td>\n",
       "      <td>1</td>\n",
       "      <td>0.003526</td>\n",
       "    </tr>\n",
       "    <tr>\n",
       "      <th>156</th>\n",
       "      <td>2019-04-19</td>\n",
       "      <td>3</td>\n",
       "      <td>0</td>\n",
       "      <td>0.003474</td>\n",
       "    </tr>\n",
       "    <tr>\n",
       "      <th>167</th>\n",
       "      <td>2019-05-01</td>\n",
       "      <td>7</td>\n",
       "      <td>1</td>\n",
       "      <td>0.014210</td>\n",
       "    </tr>\n",
       "    <tr>\n",
       "      <th>161</th>\n",
       "      <td>2019-05-01</td>\n",
       "      <td>1</td>\n",
       "      <td>1</td>\n",
       "      <td>0.014199</td>\n",
       "    </tr>\n",
       "    <tr>\n",
       "      <th>165</th>\n",
       "      <td>2019-05-01</td>\n",
       "      <td>5</td>\n",
       "      <td>1</td>\n",
       "      <td>0.011399</td>\n",
       "    </tr>\n",
       "    <tr>\n",
       "      <th>163</th>\n",
       "      <td>2019-05-01</td>\n",
       "      <td>3</td>\n",
       "      <td>1</td>\n",
       "      <td>0.009922</td>\n",
       "    </tr>\n",
       "    <tr>\n",
       "      <th>166</th>\n",
       "      <td>2019-05-01</td>\n",
       "      <td>6</td>\n",
       "      <td>0</td>\n",
       "      <td>0.004122</td>\n",
       "    </tr>\n",
       "    <tr>\n",
       "      <th>164</th>\n",
       "      <td>2019-05-01</td>\n",
       "      <td>4</td>\n",
       "      <td>1</td>\n",
       "      <td>0.002873</td>\n",
       "    </tr>\n",
       "    <tr>\n",
       "      <th>162</th>\n",
       "      <td>2019-05-01</td>\n",
       "      <td>2</td>\n",
       "      <td>1</td>\n",
       "      <td>0.002569</td>\n",
       "    </tr>\n",
       "    <tr>\n",
       "      <th>170</th>\n",
       "      <td>2019-07-04</td>\n",
       "      <td>3</td>\n",
       "      <td>0</td>\n",
       "      <td>0.015769</td>\n",
       "    </tr>\n",
       "    <tr>\n",
       "      <th>169</th>\n",
       "      <td>2019-07-04</td>\n",
       "      <td>2</td>\n",
       "      <td>0</td>\n",
       "      <td>0.015755</td>\n",
       "    </tr>\n",
       "    <tr>\n",
       "      <th>174</th>\n",
       "      <td>2019-07-04</td>\n",
       "      <td>7</td>\n",
       "      <td>1</td>\n",
       "      <td>0.008048</td>\n",
       "    </tr>\n",
       "    <tr>\n",
       "      <th>168</th>\n",
       "      <td>2019-07-04</td>\n",
       "      <td>1</td>\n",
       "      <td>1</td>\n",
       "      <td>0.006331</td>\n",
       "    </tr>\n",
       "    <tr>\n",
       "      <th>171</th>\n",
       "      <td>2019-07-04</td>\n",
       "      <td>4</td>\n",
       "      <td>0</td>\n",
       "      <td>0.005848</td>\n",
       "    </tr>\n",
       "    <tr>\n",
       "      <th>172</th>\n",
       "      <td>2019-07-04</td>\n",
       "      <td>5</td>\n",
       "      <td>0</td>\n",
       "      <td>0.004213</td>\n",
       "    </tr>\n",
       "    <tr>\n",
       "      <th>173</th>\n",
       "      <td>2019-07-04</td>\n",
       "      <td>6</td>\n",
       "      <td>0</td>\n",
       "      <td>0.001873</td>\n",
       "    </tr>\n",
       "    <tr>\n",
       "      <th>178</th>\n",
       "      <td>2019-08-10</td>\n",
       "      <td>4</td>\n",
       "      <td>1</td>\n",
       "      <td>0.014210</td>\n",
       "    </tr>\n",
       "    <tr>\n",
       "      <th>175</th>\n",
       "      <td>2019-08-10</td>\n",
       "      <td>1</td>\n",
       "      <td>1</td>\n",
       "      <td>0.014180</td>\n",
       "    </tr>\n",
       "    <tr>\n",
       "      <th>181</th>\n",
       "      <td>2019-08-10</td>\n",
       "      <td>7</td>\n",
       "      <td>1</td>\n",
       "      <td>0.014180</td>\n",
       "    </tr>\n",
       "    <tr>\n",
       "      <th>177</th>\n",
       "      <td>2019-08-10</td>\n",
       "      <td>3</td>\n",
       "      <td>1</td>\n",
       "      <td>0.011890</td>\n",
       "    </tr>\n",
       "    <tr>\n",
       "      <th>176</th>\n",
       "      <td>2019-08-10</td>\n",
       "      <td>2</td>\n",
       "      <td>1</td>\n",
       "      <td>0.006293</td>\n",
       "    </tr>\n",
       "    <tr>\n",
       "      <th>180</th>\n",
       "      <td>2019-08-10</td>\n",
       "      <td>6</td>\n",
       "      <td>0</td>\n",
       "      <td>0.006206</td>\n",
       "    </tr>\n",
       "    <tr>\n",
       "      <th>179</th>\n",
       "      <td>2019-08-10</td>\n",
       "      <td>5</td>\n",
       "      <td>0</td>\n",
       "      <td>0.002296</td>\n",
       "    </tr>\n",
       "    <tr>\n",
       "      <th>182</th>\n",
       "      <td>2019-11-09</td>\n",
       "      <td>1</td>\n",
       "      <td>0</td>\n",
       "      <td>0.014180</td>\n",
       "    </tr>\n",
       "    <tr>\n",
       "      <th>187</th>\n",
       "      <td>2019-11-09</td>\n",
       "      <td>6</td>\n",
       "      <td>1</td>\n",
       "      <td>0.011399</td>\n",
       "    </tr>\n",
       "    <tr>\n",
       "      <th>185</th>\n",
       "      <td>2019-11-09</td>\n",
       "      <td>4</td>\n",
       "      <td>1</td>\n",
       "      <td>0.009517</td>\n",
       "    </tr>\n",
       "    <tr>\n",
       "      <th>184</th>\n",
       "      <td>2019-11-09</td>\n",
       "      <td>3</td>\n",
       "      <td>1</td>\n",
       "      <td>0.009005</td>\n",
       "    </tr>\n",
       "    <tr>\n",
       "      <th>183</th>\n",
       "      <td>2019-11-09</td>\n",
       "      <td>2</td>\n",
       "      <td>0</td>\n",
       "      <td>0.004159</td>\n",
       "    </tr>\n",
       "    <tr>\n",
       "      <th>188</th>\n",
       "      <td>2019-11-09</td>\n",
       "      <td>7</td>\n",
       "      <td>1</td>\n",
       "      <td>0.002632</td>\n",
       "    </tr>\n",
       "    <tr>\n",
       "      <th>186</th>\n",
       "      <td>2019-11-09</td>\n",
       "      <td>5</td>\n",
       "      <td>0</td>\n",
       "      <td>0.002078</td>\n",
       "    </tr>\n",
       "  </tbody>\n",
       "</table>\n",
       "<p>189 rows × 4 columns</p>\n",
       "</div>"
      ],
      "text/plain": [
       "         Datum  Lopp  Klass     Score\n",
       "2   2016-09-03     3      1  0.008681\n",
       "0   2016-09-03     1      0  0.007878\n",
       "6   2016-09-03     7      1  0.007820\n",
       "3   2016-09-03     4      0  0.007721\n",
       "4   2016-09-03     5      0  0.007272\n",
       "1   2016-09-03     2      0  0.007243\n",
       "5   2016-09-03     6      1  0.006600\n",
       "9   2016-11-05     3      0  0.009013\n",
       "11  2016-11-05     5      1  0.009001\n",
       "13  2016-11-05     7      0  0.007898\n",
       "7   2016-11-05     1      1  0.007881\n",
       "12  2016-11-05     6      1  0.003364\n",
       "8   2016-11-05     2      0  0.002746\n",
       "10  2016-11-05     4      1  0.002661\n",
       "15  2016-11-06     2      0  0.007914\n",
       "20  2016-11-06     7      1  0.007272\n",
       "16  2016-11-06     3      1  0.005836\n",
       "14  2016-11-06     1      0  0.003059\n",
       "17  2016-11-06     4      0  0.002953\n",
       "19  2016-11-06     6      0  0.002650\n",
       "18  2016-11-06     5      1  0.001680\n",
       "25  2016-12-03     5      1  0.010827\n",
       "24  2016-12-03     4      1  0.009013\n",
       "23  2016-12-03     3      1  0.007878\n",
       "26  2016-12-03     6      1  0.007272\n",
       "27  2016-12-03     7      1  0.006655\n",
       "22  2016-12-03     2      0  0.003872\n",
       "21  2016-12-03     1      0  0.003020\n",
       "28  2017-02-04     1      0  0.011981\n",
       "32  2017-02-04     5      0  0.003184\n",
       "..         ...   ...    ...       ...\n",
       "158 2019-04-19     5      1  0.003526\n",
       "156 2019-04-19     3      0  0.003474\n",
       "167 2019-05-01     7      1  0.014210\n",
       "161 2019-05-01     1      1  0.014199\n",
       "165 2019-05-01     5      1  0.011399\n",
       "163 2019-05-01     3      1  0.009922\n",
       "166 2019-05-01     6      0  0.004122\n",
       "164 2019-05-01     4      1  0.002873\n",
       "162 2019-05-01     2      1  0.002569\n",
       "170 2019-07-04     3      0  0.015769\n",
       "169 2019-07-04     2      0  0.015755\n",
       "174 2019-07-04     7      1  0.008048\n",
       "168 2019-07-04     1      1  0.006331\n",
       "171 2019-07-04     4      0  0.005848\n",
       "172 2019-07-04     5      0  0.004213\n",
       "173 2019-07-04     6      0  0.001873\n",
       "178 2019-08-10     4      1  0.014210\n",
       "175 2019-08-10     1      1  0.014180\n",
       "181 2019-08-10     7      1  0.014180\n",
       "177 2019-08-10     3      1  0.011890\n",
       "176 2019-08-10     2      1  0.006293\n",
       "180 2019-08-10     6      0  0.006206\n",
       "179 2019-08-10     5      0  0.002296\n",
       "182 2019-11-09     1      0  0.014180\n",
       "187 2019-11-09     6      1  0.011399\n",
       "185 2019-11-09     4      1  0.009517\n",
       "184 2019-11-09     3      1  0.009005\n",
       "183 2019-11-09     2      0  0.004159\n",
       "188 2019-11-09     7      1  0.002632\n",
       "186 2019-11-09     5      0  0.002078\n",
       "\n",
       "[189 rows x 4 columns]"
      ]
     },
     "execution_count": 63,
     "metadata": {},
     "output_type": "execute_result"
    }
   ],
   "source": [
    "to_leif = df_inference4.groupby(['Datum','Lopp','Klass'])['Score'].var().to_frame().reset_index().sort_values(['Datum','Score'], ascending = [True,False])\n",
    "to_leif"
   ]
  },
  {
   "cell_type": "code",
   "execution_count": 64,
   "metadata": {},
   "outputs": [],
   "source": [
    "to_leif.to_excel('analytics.xlsx', index = False)"
   ]
  },
  {
   "cell_type": "code",
   "execution_count": 65,
   "metadata": {},
   "outputs": [
    {
     "data": {
      "text/plain": [
       "27"
      ]
     },
     "execution_count": 65,
     "metadata": {},
     "output_type": "execute_result"
    }
   ],
   "source": [
    "to_leif.Datum.drop_duplicates().count()"
   ]
  },
  {
   "cell_type": "code",
   "execution_count": 23,
   "metadata": {},
   "outputs": [
    {
     "data": {
      "text/html": [
       "<div>\n",
       "<style scoped>\n",
       "    .dataframe tbody tr th:only-of-type {\n",
       "        vertical-align: middle;\n",
       "    }\n",
       "\n",
       "    .dataframe tbody tr th {\n",
       "        vertical-align: top;\n",
       "    }\n",
       "\n",
       "    .dataframe thead th {\n",
       "        text-align: right;\n",
       "    }\n",
       "</style>\n",
       "<table border=\"1\" class=\"dataframe\">\n",
       "  <thead>\n",
       "    <tr style=\"text-align: right;\">\n",
       "      <th></th>\n",
       "      <th>count</th>\n",
       "      <th>mean</th>\n",
       "      <th>std</th>\n",
       "      <th>min</th>\n",
       "      <th>25%</th>\n",
       "      <th>50%</th>\n",
       "      <th>75%</th>\n",
       "      <th>max</th>\n",
       "    </tr>\n",
       "    <tr>\n",
       "      <th>Klass</th>\n",
       "      <th></th>\n",
       "      <th></th>\n",
       "      <th></th>\n",
       "      <th></th>\n",
       "      <th></th>\n",
       "      <th></th>\n",
       "      <th></th>\n",
       "      <th></th>\n",
       "    </tr>\n",
       "  </thead>\n",
       "  <tbody>\n",
       "    <tr>\n",
       "      <th>0</th>\n",
       "      <td>213.0</td>\n",
       "      <td>0.198073</td>\n",
       "      <td>0.122937</td>\n",
       "      <td>0.084743</td>\n",
       "      <td>0.100866</td>\n",
       "      <td>0.147650</td>\n",
       "      <td>0.257109</td>\n",
       "      <td>0.5</td>\n",
       "    </tr>\n",
       "    <tr>\n",
       "      <th>1</th>\n",
       "      <td>354.0</td>\n",
       "      <td>0.201355</td>\n",
       "      <td>0.133566</td>\n",
       "      <td>0.084743</td>\n",
       "      <td>0.096279</td>\n",
       "      <td>0.136226</td>\n",
       "      <td>0.257109</td>\n",
       "      <td>0.5</td>\n",
       "    </tr>\n",
       "  </tbody>\n",
       "</table>\n",
       "</div>"
      ],
      "text/plain": [
       "       count      mean       std       min       25%       50%       75%  max\n",
       "Klass                                                                        \n",
       "0      213.0  0.198073  0.122937  0.084743  0.100866  0.147650  0.257109  0.5\n",
       "1      354.0  0.201355  0.133566  0.084743  0.096279  0.136226  0.257109  0.5"
      ]
     },
     "execution_count": 23,
     "metadata": {},
     "output_type": "execute_result"
    }
   ],
   "source": [
    "top3.groupby('Klass')['Score'].describe()"
   ]
  },
  {
   "cell_type": "markdown",
   "metadata": {},
   "source": [
    "__Scora omgången. Plocka ut de 3 högst scorade loppen. Beräkna variansen för varje lopp. Sortera varje lopp på variansen. De två med lägst varians tar vi 10 hästar__"
   ]
  },
  {
   "cell_type": "code",
   "execution_count": 25,
   "metadata": {},
   "outputs": [],
   "source": [
    "test_df = top3[top3.Datum == '2016-09-03']"
   ]
  },
  {
   "cell_type": "code",
   "execution_count": 26,
   "metadata": {},
   "outputs": [
    {
     "data": {
      "text/plain": [
       "21"
      ]
     },
     "execution_count": 26,
     "metadata": {},
     "output_type": "execute_result"
    }
   ],
   "source": [
    "len(test_df)"
   ]
  },
  {
   "cell_type": "code",
   "execution_count": 31,
   "metadata": {},
   "outputs": [
    {
     "data": {
      "text/html": [
       "<div>\n",
       "<style scoped>\n",
       "    .dataframe tbody tr th:only-of-type {\n",
       "        vertical-align: middle;\n",
       "    }\n",
       "\n",
       "    .dataframe tbody tr th {\n",
       "        vertical-align: top;\n",
       "    }\n",
       "\n",
       "    .dataframe thead th {\n",
       "        text-align: right;\n",
       "    }\n",
       "</style>\n",
       "<table border=\"1\" class=\"dataframe\">\n",
       "  <thead>\n",
       "    <tr style=\"text-align: right;\">\n",
       "      <th></th>\n",
       "      <th>Score</th>\n",
       "    </tr>\n",
       "    <tr>\n",
       "      <th>Lopp</th>\n",
       "      <th></th>\n",
       "    </tr>\n",
       "  </thead>\n",
       "  <tbody>\n",
       "    <tr>\n",
       "      <th>4</th>\n",
       "      <td>0.033519</td>\n",
       "    </tr>\n",
       "    <tr>\n",
       "      <th>2</th>\n",
       "      <td>0.032639</td>\n",
       "    </tr>\n",
       "    <tr>\n",
       "      <th>1</th>\n",
       "      <td>0.026788</td>\n",
       "    </tr>\n",
       "    <tr>\n",
       "      <th>7</th>\n",
       "      <td>0.026788</td>\n",
       "    </tr>\n",
       "    <tr>\n",
       "      <th>3</th>\n",
       "      <td>0.026014</td>\n",
       "    </tr>\n",
       "    <tr>\n",
       "      <th>5</th>\n",
       "      <td>0.026014</td>\n",
       "    </tr>\n",
       "    <tr>\n",
       "      <th>6</th>\n",
       "      <td>0.024129</td>\n",
       "    </tr>\n",
       "  </tbody>\n",
       "</table>\n",
       "</div>"
      ],
      "text/plain": [
       "         Score\n",
       "Lopp          \n",
       "4     0.033519\n",
       "2     0.032639\n",
       "1     0.026788\n",
       "7     0.026788\n",
       "3     0.026014\n",
       "5     0.026014\n",
       "6     0.024129"
      ]
     },
     "execution_count": 31,
     "metadata": {},
     "output_type": "execute_result"
    }
   ],
   "source": [
    "test_df.groupby('Lopp')['Score'].var().to_frame().sort_values('Score', ascending = False)"
   ]
  },
  {
   "cell_type": "code",
   "execution_count": 34,
   "metadata": {},
   "outputs": [
    {
     "data": {
      "text/html": [
       "<div>\n",
       "<style scoped>\n",
       "    .dataframe tbody tr th:only-of-type {\n",
       "        vertical-align: middle;\n",
       "    }\n",
       "\n",
       "    .dataframe tbody tr th {\n",
       "        vertical-align: top;\n",
       "    }\n",
       "\n",
       "    .dataframe thead th {\n",
       "        text-align: right;\n",
       "    }\n",
       "</style>\n",
       "<table border=\"1\" class=\"dataframe\">\n",
       "  <thead>\n",
       "    <tr style=\"text-align: right;\">\n",
       "      <th></th>\n",
       "      <th>Y</th>\n",
       "      <th>Lopp</th>\n",
       "      <th>Datum</th>\n",
       "      <th>VNUM</th>\n",
       "      <th>Plac</th>\n",
       "      <th>Score</th>\n",
       "    </tr>\n",
       "  </thead>\n",
       "  <tbody>\n",
       "    <tr>\n",
       "      <th>12</th>\n",
       "      <td>0</td>\n",
       "      <td>2</td>\n",
       "      <td>2016-09-03</td>\n",
       "      <td>1</td>\n",
       "      <td>0</td>\n",
       "      <td>0.415655</td>\n",
       "    </tr>\n",
       "    <tr>\n",
       "      <th>22</th>\n",
       "      <td>0</td>\n",
       "      <td>2</td>\n",
       "      <td>2016-09-03</td>\n",
       "      <td>2</td>\n",
       "      <td>0</td>\n",
       "      <td>0.114323</td>\n",
       "    </tr>\n",
       "    <tr>\n",
       "      <th>17</th>\n",
       "      <td>0</td>\n",
       "      <td>2</td>\n",
       "      <td>2016-09-03</td>\n",
       "      <td>3</td>\n",
       "      <td>0</td>\n",
       "      <td>0.092311</td>\n",
       "    </tr>\n",
       "    <tr>\n",
       "      <th>11</th>\n",
       "      <td>0</td>\n",
       "      <td>2</td>\n",
       "      <td>2016-09-03</td>\n",
       "      <td>6</td>\n",
       "      <td>1</td>\n",
       "      <td>0.084743</td>\n",
       "    </tr>\n",
       "    <tr>\n",
       "      <th>13</th>\n",
       "      <td>0</td>\n",
       "      <td>2</td>\n",
       "      <td>2016-09-03</td>\n",
       "      <td>4</td>\n",
       "      <td>0</td>\n",
       "      <td>0.084743</td>\n",
       "    </tr>\n",
       "    <tr>\n",
       "      <th>14</th>\n",
       "      <td>0</td>\n",
       "      <td>2</td>\n",
       "      <td>2016-09-03</td>\n",
       "      <td>5</td>\n",
       "      <td>0</td>\n",
       "      <td>0.084743</td>\n",
       "    </tr>\n",
       "    <tr>\n",
       "      <th>15</th>\n",
       "      <td>0</td>\n",
       "      <td>2</td>\n",
       "      <td>2016-09-03</td>\n",
       "      <td>9</td>\n",
       "      <td>0</td>\n",
       "      <td>0.084743</td>\n",
       "    </tr>\n",
       "    <tr>\n",
       "      <th>16</th>\n",
       "      <td>0</td>\n",
       "      <td>2</td>\n",
       "      <td>2016-09-03</td>\n",
       "      <td>11</td>\n",
       "      <td>0</td>\n",
       "      <td>0.084743</td>\n",
       "    </tr>\n",
       "    <tr>\n",
       "      <th>18</th>\n",
       "      <td>0</td>\n",
       "      <td>2</td>\n",
       "      <td>2016-09-03</td>\n",
       "      <td>13</td>\n",
       "      <td>0</td>\n",
       "      <td>0.084743</td>\n",
       "    </tr>\n",
       "    <tr>\n",
       "      <th>19</th>\n",
       "      <td>0</td>\n",
       "      <td>2</td>\n",
       "      <td>2016-09-03</td>\n",
       "      <td>14</td>\n",
       "      <td>0</td>\n",
       "      <td>0.084743</td>\n",
       "    </tr>\n",
       "    <tr>\n",
       "      <th>20</th>\n",
       "      <td>0</td>\n",
       "      <td>2</td>\n",
       "      <td>2016-09-03</td>\n",
       "      <td>12</td>\n",
       "      <td>0</td>\n",
       "      <td>0.084743</td>\n",
       "    </tr>\n",
       "    <tr>\n",
       "      <th>21</th>\n",
       "      <td>0</td>\n",
       "      <td>2</td>\n",
       "      <td>2016-09-03</td>\n",
       "      <td>8</td>\n",
       "      <td>0</td>\n",
       "      <td>0.084743</td>\n",
       "    </tr>\n",
       "    <tr>\n",
       "      <th>23</th>\n",
       "      <td>0</td>\n",
       "      <td>2</td>\n",
       "      <td>2016-09-03</td>\n",
       "      <td>7</td>\n",
       "      <td>0</td>\n",
       "      <td>0.084743</td>\n",
       "    </tr>\n",
       "    <tr>\n",
       "      <th>24</th>\n",
       "      <td>0</td>\n",
       "      <td>2</td>\n",
       "      <td>2016-09-03</td>\n",
       "      <td>10</td>\n",
       "      <td>0</td>\n",
       "      <td>0.084743</td>\n",
       "    </tr>\n",
       "    <tr>\n",
       "      <th>25</th>\n",
       "      <td>0</td>\n",
       "      <td>2</td>\n",
       "      <td>2016-09-03</td>\n",
       "      <td>15</td>\n",
       "      <td>0</td>\n",
       "      <td>0.084743</td>\n",
       "    </tr>\n",
       "    <tr>\n",
       "      <th>49</th>\n",
       "      <td>0</td>\n",
       "      <td>4</td>\n",
       "      <td>2016-09-03</td>\n",
       "      <td>1</td>\n",
       "      <td>0</td>\n",
       "      <td>0.415655</td>\n",
       "    </tr>\n",
       "    <tr>\n",
       "      <th>47</th>\n",
       "      <td>0</td>\n",
       "      <td>4</td>\n",
       "      <td>2016-09-03</td>\n",
       "      <td>4</td>\n",
       "      <td>0</td>\n",
       "      <td>0.100866</td>\n",
       "    </tr>\n",
       "    <tr>\n",
       "      <th>48</th>\n",
       "      <td>0</td>\n",
       "      <td>4</td>\n",
       "      <td>2016-09-03</td>\n",
       "      <td>2</td>\n",
       "      <td>0</td>\n",
       "      <td>0.096279</td>\n",
       "    </tr>\n",
       "    <tr>\n",
       "      <th>40</th>\n",
       "      <td>0</td>\n",
       "      <td>4</td>\n",
       "      <td>2016-09-03</td>\n",
       "      <td>3</td>\n",
       "      <td>0</td>\n",
       "      <td>0.092311</td>\n",
       "    </tr>\n",
       "    <tr>\n",
       "      <th>36</th>\n",
       "      <td>0</td>\n",
       "      <td>4</td>\n",
       "      <td>2016-09-03</td>\n",
       "      <td>6</td>\n",
       "      <td>1</td>\n",
       "      <td>0.084743</td>\n",
       "    </tr>\n",
       "    <tr>\n",
       "      <th>37</th>\n",
       "      <td>0</td>\n",
       "      <td>4</td>\n",
       "      <td>2016-09-03</td>\n",
       "      <td>9</td>\n",
       "      <td>0</td>\n",
       "      <td>0.084743</td>\n",
       "    </tr>\n",
       "    <tr>\n",
       "      <th>38</th>\n",
       "      <td>0</td>\n",
       "      <td>4</td>\n",
       "      <td>2016-09-03</td>\n",
       "      <td>7</td>\n",
       "      <td>0</td>\n",
       "      <td>0.084743</td>\n",
       "    </tr>\n",
       "    <tr>\n",
       "      <th>39</th>\n",
       "      <td>0</td>\n",
       "      <td>4</td>\n",
       "      <td>2016-09-03</td>\n",
       "      <td>11</td>\n",
       "      <td>0</td>\n",
       "      <td>0.084743</td>\n",
       "    </tr>\n",
       "    <tr>\n",
       "      <th>41</th>\n",
       "      <td>0</td>\n",
       "      <td>4</td>\n",
       "      <td>2016-09-03</td>\n",
       "      <td>12</td>\n",
       "      <td>0</td>\n",
       "      <td>0.084743</td>\n",
       "    </tr>\n",
       "    <tr>\n",
       "      <th>42</th>\n",
       "      <td>0</td>\n",
       "      <td>4</td>\n",
       "      <td>2016-09-03</td>\n",
       "      <td>13</td>\n",
       "      <td>0</td>\n",
       "      <td>0.084743</td>\n",
       "    </tr>\n",
       "    <tr>\n",
       "      <th>43</th>\n",
       "      <td>0</td>\n",
       "      <td>4</td>\n",
       "      <td>2016-09-03</td>\n",
       "      <td>8</td>\n",
       "      <td>0</td>\n",
       "      <td>0.084743</td>\n",
       "    </tr>\n",
       "    <tr>\n",
       "      <th>44</th>\n",
       "      <td>0</td>\n",
       "      <td>4</td>\n",
       "      <td>2016-09-03</td>\n",
       "      <td>14</td>\n",
       "      <td>0</td>\n",
       "      <td>0.084743</td>\n",
       "    </tr>\n",
       "    <tr>\n",
       "      <th>45</th>\n",
       "      <td>0</td>\n",
       "      <td>4</td>\n",
       "      <td>2016-09-03</td>\n",
       "      <td>5</td>\n",
       "      <td>0</td>\n",
       "      <td>0.084743</td>\n",
       "    </tr>\n",
       "    <tr>\n",
       "      <th>46</th>\n",
       "      <td>0</td>\n",
       "      <td>4</td>\n",
       "      <td>2016-09-03</td>\n",
       "      <td>10</td>\n",
       "      <td>0</td>\n",
       "      <td>0.084743</td>\n",
       "    </tr>\n",
       "  </tbody>\n",
       "</table>\n",
       "</div>"
      ],
      "text/plain": [
       "    Y  Lopp      Datum  VNUM  Plac     Score\n",
       "12  0     2 2016-09-03     1     0  0.415655\n",
       "22  0     2 2016-09-03     2     0  0.114323\n",
       "17  0     2 2016-09-03     3     0  0.092311\n",
       "11  0     2 2016-09-03     6     1  0.084743\n",
       "13  0     2 2016-09-03     4     0  0.084743\n",
       "14  0     2 2016-09-03     5     0  0.084743\n",
       "15  0     2 2016-09-03     9     0  0.084743\n",
       "16  0     2 2016-09-03    11     0  0.084743\n",
       "18  0     2 2016-09-03    13     0  0.084743\n",
       "19  0     2 2016-09-03    14     0  0.084743\n",
       "20  0     2 2016-09-03    12     0  0.084743\n",
       "21  0     2 2016-09-03     8     0  0.084743\n",
       "23  0     2 2016-09-03     7     0  0.084743\n",
       "24  0     2 2016-09-03    10     0  0.084743\n",
       "25  0     2 2016-09-03    15     0  0.084743\n",
       "49  0     4 2016-09-03     1     0  0.415655\n",
       "47  0     4 2016-09-03     4     0  0.100866\n",
       "48  0     4 2016-09-03     2     0  0.096279\n",
       "40  0     4 2016-09-03     3     0  0.092311\n",
       "36  0     4 2016-09-03     6     1  0.084743\n",
       "37  0     4 2016-09-03     9     0  0.084743\n",
       "38  0     4 2016-09-03     7     0  0.084743\n",
       "39  0     4 2016-09-03    11     0  0.084743\n",
       "41  0     4 2016-09-03    12     0  0.084743\n",
       "42  0     4 2016-09-03    13     0  0.084743\n",
       "43  0     4 2016-09-03     8     0  0.084743\n",
       "44  0     4 2016-09-03    14     0  0.084743\n",
       "45  0     4 2016-09-03     5     0  0.084743\n",
       "46  0     4 2016-09-03    10     0  0.084743"
      ]
     },
     "execution_count": 34,
     "metadata": {},
     "output_type": "execute_result"
    }
   ],
   "source": [
    "df_inference3[(df_inference3.Datum == '2016-09-03') & (df_inference3.Lopp.isin([4,2]))]"
   ]
  }
 ],
 "metadata": {
  "kernelspec": {
   "display_name": "Python 3",
   "language": "python",
   "name": "python3"
  },
  "language_info": {
   "codemirror_mode": {
    "name": "ipython",
    "version": 3
   },
   "file_extension": ".py",
   "mimetype": "text/x-python",
   "name": "python",
   "nbconvert_exporter": "python",
   "pygments_lexer": "ipython3",
   "version": "3.7.3"
  }
 },
 "nbformat": 4,
 "nbformat_minor": 2
}
